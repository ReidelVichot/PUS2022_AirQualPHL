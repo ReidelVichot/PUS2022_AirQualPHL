{
  "nbformat": 4,
  "nbformat_minor": 0,
  "metadata": {
    "colab": {
      "provenance": [],
      "mount_file_id": "https://github.com/ReidelVichot/PUS2022_Heat-TreesPHL/blob/main/MidTermCleaning.ipynb",
      "authorship_tag": "ABX9TyMLJzjgcxWZVH+mwiAF4Axu",
      "include_colab_link": true
    },
    "kernelspec": {
      "name": "python3",
      "display_name": "Python 3"
    },
    "language_info": {
      "name": "python"
    }
  },
  "cells": [
    {
      "cell_type": "markdown",
      "metadata": {
        "id": "view-in-github",
        "colab_type": "text"
      },
      "source": [
        "<a href=\"https://colab.research.google.com/github/ReidelVichot/PUS2022_Heat-TreesPHL/blob/main/MidTermCleaning_11-13.ipynb\" target=\"_parent\"><img src=\"https://colab.research.google.com/assets/colab-badge.svg\" alt=\"Open In Colab\"/></a>"
      ]
    },
    {
      "cell_type": "code",
      "execution_count": 1,
      "metadata": {
        "colab": {
          "base_uri": "https://localhost:8080/"
        },
        "id": "JeAXIvoTpq6w",
        "outputId": "dded7188-a2df-4d32-97ba-5c7a517dbc80"
      },
      "outputs": [
        {
          "output_type": "stream",
          "name": "stdout",
          "text": [
            "Looking in indexes: https://pypi.org/simple, https://us-python.pkg.dev/colab-wheels/public/simple/\n",
            "Collecting geopandas\n",
            "  Downloading geopandas-0.10.2-py2.py3-none-any.whl (1.0 MB)\n",
            "\u001b[K     |████████████████████████████████| 1.0 MB 9.2 MB/s \n",
            "\u001b[?25hCollecting pyproj>=2.2.0\n",
            "  Downloading pyproj-3.2.1-cp37-cp37m-manylinux2010_x86_64.whl (6.3 MB)\n",
            "\u001b[K     |████████████████████████████████| 6.3 MB 36.3 MB/s \n",
            "\u001b[?25hRequirement already satisfied: shapely>=1.6 in /usr/local/lib/python3.7/dist-packages (from geopandas) (1.8.5.post1)\n",
            "Collecting fiona>=1.8\n",
            "  Downloading Fiona-1.8.22-cp37-cp37m-manylinux2014_x86_64.whl (16.7 MB)\n",
            "\u001b[K     |████████████████████████████████| 16.7 MB 3.7 MB/s \n",
            "\u001b[?25hRequirement already satisfied: pandas>=0.25.0 in /usr/local/lib/python3.7/dist-packages (from geopandas) (1.3.5)\n",
            "Collecting cligj>=0.5\n",
            "  Downloading cligj-0.7.2-py3-none-any.whl (7.1 kB)\n",
            "Requirement already satisfied: certifi in /usr/local/lib/python3.7/dist-packages (from fiona>=1.8->geopandas) (2022.9.24)\n",
            "Requirement already satisfied: attrs>=17 in /usr/local/lib/python3.7/dist-packages (from fiona>=1.8->geopandas) (22.1.0)\n",
            "Requirement already satisfied: six>=1.7 in /usr/local/lib/python3.7/dist-packages (from fiona>=1.8->geopandas) (1.15.0)\n",
            "Collecting click-plugins>=1.0\n",
            "  Downloading click_plugins-1.1.1-py2.py3-none-any.whl (7.5 kB)\n",
            "Requirement already satisfied: click>=4.0 in /usr/local/lib/python3.7/dist-packages (from fiona>=1.8->geopandas) (7.1.2)\n",
            "Collecting munch\n",
            "  Downloading munch-2.5.0-py2.py3-none-any.whl (10 kB)\n",
            "Requirement already satisfied: setuptools in /usr/local/lib/python3.7/dist-packages (from fiona>=1.8->geopandas) (57.4.0)\n",
            "Requirement already satisfied: pytz>=2017.3 in /usr/local/lib/python3.7/dist-packages (from pandas>=0.25.0->geopandas) (2022.6)\n",
            "Requirement already satisfied: numpy>=1.17.3 in /usr/local/lib/python3.7/dist-packages (from pandas>=0.25.0->geopandas) (1.21.6)\n",
            "Requirement already satisfied: python-dateutil>=2.7.3 in /usr/local/lib/python3.7/dist-packages (from pandas>=0.25.0->geopandas) (2.8.2)\n",
            "Installing collected packages: munch, cligj, click-plugins, pyproj, fiona, geopandas\n",
            "Successfully installed click-plugins-1.1.1 cligj-0.7.2 fiona-1.8.22 geopandas-0.10.2 munch-2.5.0 pyproj-3.2.1\n"
          ]
        }
      ],
      "source": [
        "!pip install geopandas"
      ]
    },
    {
      "cell_type": "code",
      "source": [
        "import geopandas as gpd\n",
        "import pandas as pd\n",
        "import matplotlib.pyplot as plt\n",
        "\n",
        "from google.colab import drive\n",
        "drive.mount('/content/drive')"
      ],
      "metadata": {
        "id": "S__0PS6qpxo7",
        "outputId": "0045889c-8313-4400-c52c-bd1eac81c0e0",
        "colab": {
          "base_uri": "https://localhost:8080/"
        }
      },
      "execution_count": 2,
      "outputs": [
        {
          "output_type": "stream",
          "name": "stdout",
          "text": [
            "Drive already mounted at /content/drive; to attempt to forcibly remount, call drive.mount(\"/content/drive\", force_remount=True).\n"
          ]
        }
      ]
    },
    {
      "cell_type": "code",
      "source": [
        "#Importing the dataframes from the websites\n",
        "heat_original = gpd.GeoDataFrame.from_file(\"https://opendata.arcgis.com/api/v3/datasets/ee1f9ce6aa6f41f08fcdfa5101f203d7_0/downloads/data?format=shp&spatialRefId=4326&where=1%3D1\")\n",
        "trees_original = gpd.GeoDataFrame.from_file(\"https://opendata.arcgis.com/api/v3/datasets/30ef36e9e880468fa74e2d5b18da4cfb_0/downloads/data?format=shp&spatialRefId=4326\")\n",
        "\n"
      ],
      "metadata": {
        "id": "Mz_Tnuh0y1WL"
      },
      "execution_count": 3,
      "outputs": []
    },
    {
      "cell_type": "code",
      "source": [
        "#Checking the shapes of the geodataframes before cleaning them.\n",
        "print(trees_original.shape, heat_original.shape)"
      ],
      "metadata": {
        "colab": {
          "base_uri": "https://localhost:8080/"
        },
        "id": "SH0I4pLi2l4e",
        "outputId": "690caeaa-34c7-4858-c5fd-390d09d95f70"
      },
      "execution_count": 4,
      "outputs": [
        {
          "output_type": "stream",
          "name": "stdout",
          "text": [
            "(152453, 7) (384, 11)\n"
          ]
        }
      ]
    },
    {
      "cell_type": "code",
      "source": [
        "#Eliminating creating another dataframe with the columns of interest and without NAN values.\n",
        "heat = heat_original[[\"GEOID10\", \"HVI_SCORE\", \"geometry\"]].dropna().reset_index()\n",
        "heat.drop(columns=[\"index\"], inplace=True)\n",
        "trees = trees_original[[\"geometry\"]].dropna().reset_index()\n",
        "trees.drop(columns=[\"index\"], inplace=True)\n",
        "\n",
        "#Printing the shapes of the clean dataframes\n",
        "print(trees.shape, heat.shape)"
      ],
      "metadata": {
        "colab": {
          "base_uri": "https://localhost:8080/"
        },
        "id": "lvCdRYGEbHG6",
        "outputId": "ff4036b5-407d-420d-eeb6-0dd05738be27"
      },
      "execution_count": 5,
      "outputs": [
        {
          "output_type": "stream",
          "name": "stdout",
          "text": [
            "(152453, 1) (374, 3)\n"
          ]
        }
      ]
    },
    {
      "cell_type": "markdown",
      "source": [
        "the heat data had 10 rows with NAN that were eliminated"
      ],
      "metadata": {
        "id": "4wwO4TdX-eTv"
      }
    },
    {
      "cell_type": "code",
      "source": [
        "'''\n",
        "trees.drop(index=5, axis= 0, inplace= True)\n",
        "trees.reset_index(inplace=True)\n",
        "trees.drop(columns=[\"index\"], inplace=True)\n",
        "'''"
      ],
      "metadata": {
        "id": "tMwPtI9cbSRp",
        "outputId": "b18140ff-a7b2-4024-cafe-ef251e28b858",
        "colab": {
          "base_uri": "https://localhost:8080/",
          "height": 36
        }
      },
      "execution_count": 6,
      "outputs": [
        {
          "output_type": "execute_result",
          "data": {
            "text/plain": [
              "'\\ntrees.drop(index=5, axis= 0, inplace= True)\\ntrees.reset_index(inplace=True)\\ntrees.drop(columns=[\"index\"], inplace=True)\\n'"
            ],
            "application/vnd.google.colaboratory.intrinsic+json": {
              "type": "string"
            }
          },
          "metadata": {},
          "execution_count": 6
        }
      ]
    },
    {
      "cell_type": "code",
      "source": [
        "#len(trees) 152264"
      ],
      "metadata": {
        "id": "nJweLp3ajrL4"
      },
      "execution_count": 7,
      "outputs": []
    },
    {
      "cell_type": "code",
      "source": [
        "'''\n",
        "heat\n",
        "heat[\"trees\"] = \"\"\n",
        "\n",
        "for i in range(len(heat)):\n",
        "  ct_trees = 0\n",
        "  k=0\n",
        "  s = len(trees)\n",
        "  while k < s:\n",
        "    if heat[\"geometry\"].loc[i].contains(trees[\"geometry\"].loc[k]) == True:\n",
        "      ct_trees = ct_trees + 1\n",
        "      trees.drop(index=k, axis= 0, inplace= True)\n",
        "      trees.reset_index(inplace=True)\n",
        "      trees.drop(columns=[\"index\"], inplace=True)\n",
        "    k = k+1\n",
        "\n",
        "    heat[\"trees\"].loc[i] = ct_trees\n",
        "  print(heat[\"GEOID10\"].loc[i], \" was counted\");\n",
        "  \n",
        "\n",
        "'''\n"
      ],
      "metadata": {
        "colab": {
          "base_uri": "https://localhost:8080/",
          "height": 88
        },
        "id": "fGDXZV3Kq67w",
        "outputId": "fe6a5ab6-e899-4d49-8968-554a1af87622"
      },
      "execution_count": 8,
      "outputs": [
        {
          "output_type": "execute_result",
          "data": {
            "text/plain": [
              "'\\nheat\\nheat[\"trees\"] = \"\"\\n\\nfor i in range(len(heat)):\\n  ct_trees = 0\\n  k=0\\n  s = len(trees)\\n  while k < s:\\n    if heat[\"geometry\"].loc[i].contains(trees[\"geometry\"].loc[k]) == True:\\n      ct_trees = ct_trees + 1\\n      trees.drop(index=k, axis= 0, inplace= True)\\n      trees.reset_index(inplace=True)\\n      trees.drop(columns=[\"index\"], inplace=True)\\n    k = k+1\\n\\n    heat[\"trees\"].loc[i] = ct_trees\\n  print(heat[\"GEOID10\"].loc[i], \" was counted\");\\n  \\n\\n'"
            ],
            "application/vnd.google.colaboratory.intrinsic+json": {
              "type": "string"
            }
          },
          "metadata": {},
          "execution_count": 8
        }
      ]
    },
    {
      "cell_type": "code",
      "source": [
        "# For some reason that I do not know, the intersect is returning a series, \n",
        "#so I solved it by creating an array and rejecting the values of the array\n",
        "#that that have a lenght different than 1.  \n",
        "array = []\n",
        "for i in trees.index:\n",
        "  array.append(heat[heat.geometry.intersects(\n",
        "        trees.loc[i].geometry)][\"GEOID10\"])\n",
        "\n",
        "geoid = []\n",
        "for i in range(len(array)):\n",
        "  if len(array[i]) == 1:\n",
        "    geoid.append(array[i].values[0])\n",
        "  else:\n",
        "    geoid.append(\"\")\n",
        "\n",
        "trees[\"geoid\"] = geoid"
      ],
      "metadata": {
        "id": "bDLwMo-jsv6G"
      },
      "execution_count": 9,
      "outputs": []
    },
    {
      "cell_type": "code",
      "source": [
        "ct_trees = trees.groupby(\"geoid\").count()\n",
        "ct_trees.rename(columns={\"geometry\":\"num_trees\"}, inplace=True)"
      ],
      "metadata": {
        "id": "u3hBld8W7ZIH"
      },
      "execution_count": 14,
      "outputs": []
    },
    {
      "cell_type": "code",
      "source": [
        "heat = heat.merge(ct_trees, left_on=\"GEOID10\", right_on=\"geoid\")"
      ],
      "metadata": {
        "id": "wYhZGRQ17Y_H"
      },
      "execution_count": 15,
      "outputs": []
    },
    {
      "cell_type": "code",
      "source": [
        "# This file takes time to be created. I saved it on the google drive so it is easy to access.\n",
        "# Still it is imporant to merge it with the heat dataframe in order to run the analyses.\n",
        "# we can use this to merge both dataframes: heat = heat.merge(ct_trees, left_on=\"GEOID10\", right_on=\"geoid\")  \n",
        "ct_trees.to_csv(\"/content/drive/MyDrive/Colab Notebooks/PUS22/ct_trees.csv\")"
      ],
      "metadata": {
        "id": "rpQxz31ukp6V"
      },
      "execution_count": 21,
      "outputs": []
    }
  ]
}