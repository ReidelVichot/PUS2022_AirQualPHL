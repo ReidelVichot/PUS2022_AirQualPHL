{
  "nbformat": 4,
  "nbformat_minor": 0,
  "metadata": {
    "colab": {
      "provenance": [],
      "include_colab_link": true
    },
    "kernelspec": {
      "name": "python3",
      "display_name": "Python 3"
    },
    "language_info": {
      "name": "python"
    }
  },
  "cells": [
    {
      "cell_type": "markdown",
      "metadata": {
        "id": "view-in-github",
        "colab_type": "text"
      },
      "source": [
        "<a href=\"https://colab.research.google.com/github/ReidelVichot/PUS2022_Heat-TreesPHL/blob/main/Final_Models_Regressions_Correlation_RF.ipynb\" target=\"_parent\"><img src=\"https://colab.research.google.com/assets/colab-badge.svg\" alt=\"Open In Colab\"/></a>"
      ]
    },
    {
      "cell_type": "markdown",
      "source": [
        "## Influence of spatial distribution of trees on micro (local) heat vulnerability in Philadelphia and relationship on chronic diseases"
      ],
      "metadata": {
        "id": "-vEYsDzj2tra"
      }
    },
    {
      "cell_type": "markdown",
      "source": [
        "**Abstract**: This project was aimed at assessing the importance of urban tree distribution in addressing effects of a great phenomenon known as Urban Heat Island (UHI). UHI is a kind of heat accumulation phenomenon within urban areas due to urban construction and human activities. These affect most cities including the City of Philadelphia, PA. Therefore, distribution of UHI and how trees contribute to its cooling effect is vital to the well-being of the city residents since this have influence on chronic diseases of residents. This analysis used linear regression, Correlation and Random Forest machine learning techniques to understand the relationship between the spatial distributions of trees in the neighborhood and heating vulnerability. HVI Score and Number pf trees was also be used to predict health factors in Philadelphia such as diabetes and blood pressure."
      ],
      "metadata": {
        "id": "j2-o0m4O3Ayu"
      }
    },
    {
      "cell_type": "markdown",
      "source": [
        "**Data:** Was collected at the census tract level\n",
        "\n",
        "**1. Heat Vulnerability by Census Tract**  for 2017-2019 were obtained from **Open Data Philly** through the URL https://www.opendataphilly.org/dataset?q=Heat+Vulnerability+by+Census+Tract\n",
        "\n",
        "**2. Philadelphia Tree Inventory** for 2021 were obtained from **Open Data Philly** through the URL https://www.opendataphilly.org/dataset/philadelphia-tree-inventory \n",
        "\n",
        "**3. Health factor variables** were obtained from the CDC 500 Cities dataset: https://chronicdata.cdc.gov/500-Cities-Places/500-Cities-Local-Data-for-Better-Health-2019-relea/6vp6-wxuq\n",
        "\n",
        "\n",
        "> Blood_Pressure: Percentage of population with high blood pressure\n",
        "\n",
        "> Cancer: Percentage of the population with cancer\n",
        "\n",
        "> Heart_Disease: Percentage of the population with coronary heart disease\n",
        "\n",
        "> Pulmonary_Disease: Percentage of the population with chronic pulmonary diease\n",
        "\n",
        "> Diabetes: Percentage of the population with diabetes\n",
        "\n",
        "> Stroke: Percentage of the population experiencing strokes\n",
        "\n",
        "> Obesity: Percentage of the population with obesity\n",
        "\n",
        " \n",
        "\n",
        "**NOTE: Only the choosen chronic disease attributes**\n"
      ],
      "metadata": {
        "id": "hsUe9mRI46rm"
      }
    },
    {
      "cell_type": "markdown",
      "source": [
        "**Install and import packages**"
      ],
      "metadata": {
        "id": "R3sFcbDPBHbF"
      }
    },
    {
      "cell_type": "code",
      "source": [
        "!pip install geopandas"
      ],
      "metadata": {
        "id": "ThXtGHUc3Hl8",
        "outputId": "5f5eb244-5630-4141-e451-636dd0aaf3b3",
        "colab": {
          "base_uri": "https://localhost:8080/"
        }
      },
      "execution_count": 1,
      "outputs": [
        {
          "output_type": "stream",
          "name": "stdout",
          "text": [
            "Looking in indexes: https://pypi.org/simple, https://us-python.pkg.dev/colab-wheels/public/simple/\n",
            "Collecting geopandas\n",
            "  Downloading geopandas-0.12.1-py3-none-any.whl (1.1 MB)\n",
            "\u001b[K     |████████████████████████████████| 1.1 MB 7.8 MB/s \n",
            "\u001b[?25hCollecting fiona>=1.8\n",
            "  Downloading Fiona-1.8.22-cp38-cp38-manylinux_2_17_x86_64.manylinux2014_x86_64.whl (16.6 MB)\n",
            "\u001b[K     |████████████████████████████████| 16.6 MB 66.8 MB/s \n",
            "\u001b[?25hRequirement already satisfied: packaging in /usr/local/lib/python3.8/dist-packages (from geopandas) (21.3)\n",
            "Requirement already satisfied: pandas>=1.0.0 in /usr/local/lib/python3.8/dist-packages (from geopandas) (1.3.5)\n",
            "Requirement already satisfied: shapely>=1.7 in /usr/local/lib/python3.8/dist-packages (from geopandas) (1.8.5.post1)\n",
            "Collecting pyproj>=2.6.1.post1\n",
            "  Downloading pyproj-3.4.0-cp38-cp38-manylinux_2_17_x86_64.manylinux2014_x86_64.whl (7.8 MB)\n",
            "\u001b[K     |████████████████████████████████| 7.8 MB 46.0 MB/s \n",
            "\u001b[?25hRequirement already satisfied: six>=1.7 in /usr/local/lib/python3.8/dist-packages (from fiona>=1.8->geopandas) (1.15.0)\n",
            "Requirement already satisfied: certifi in /usr/local/lib/python3.8/dist-packages (from fiona>=1.8->geopandas) (2022.9.24)\n",
            "Requirement already satisfied: click>=4.0 in /usr/local/lib/python3.8/dist-packages (from fiona>=1.8->geopandas) (7.1.2)\n",
            "Requirement already satisfied: setuptools in /usr/local/lib/python3.8/dist-packages (from fiona>=1.8->geopandas) (57.4.0)\n",
            "Collecting click-plugins>=1.0\n",
            "  Downloading click_plugins-1.1.1-py2.py3-none-any.whl (7.5 kB)\n",
            "Collecting munch\n",
            "  Downloading munch-2.5.0-py2.py3-none-any.whl (10 kB)\n",
            "Collecting cligj>=0.5\n",
            "  Downloading cligj-0.7.2-py3-none-any.whl (7.1 kB)\n",
            "Requirement already satisfied: attrs>=17 in /usr/local/lib/python3.8/dist-packages (from fiona>=1.8->geopandas) (22.1.0)\n",
            "Requirement already satisfied: numpy>=1.17.3 in /usr/local/lib/python3.8/dist-packages (from pandas>=1.0.0->geopandas) (1.21.6)\n",
            "Requirement already satisfied: pytz>=2017.3 in /usr/local/lib/python3.8/dist-packages (from pandas>=1.0.0->geopandas) (2022.6)\n",
            "Requirement already satisfied: python-dateutil>=2.7.3 in /usr/local/lib/python3.8/dist-packages (from pandas>=1.0.0->geopandas) (2.8.2)\n",
            "Requirement already satisfied: pyparsing!=3.0.5,>=2.0.2 in /usr/local/lib/python3.8/dist-packages (from packaging->geopandas) (3.0.9)\n",
            "Installing collected packages: munch, cligj, click-plugins, pyproj, fiona, geopandas\n",
            "Successfully installed click-plugins-1.1.1 cligj-0.7.2 fiona-1.8.22 geopandas-0.12.1 munch-2.5.0 pyproj-3.4.0\n"
          ]
        }
      ]
    },
    {
      "cell_type": "code",
      "execution_count": 2,
      "metadata": {
        "id": "gfr_BidW2626",
        "outputId": "49a97926-b882-407d-ad55-a4c3f6f2c949",
        "colab": {
          "base_uri": "https://localhost:8080/"
        }
      },
      "outputs": [
        {
          "output_type": "stream",
          "name": "stdout",
          "text": [
            "Mounted at /content/drive\n"
          ]
        }
      ],
      "source": [
        "import geopandas as gpd\n",
        "import pandas as pd\n",
        "import matplotlib.pyplot as plt\n",
        "import numpy as np\n",
        "from sklearn.linear_model import LinearRegression\n",
        "import statsmodels.api as sm\n",
        "from scipy import stats\n",
        "\n",
        "#connecting to the google drive and getting the data\n",
        "from google.colab import drive\n",
        "drive.mount('/content/drive')\n",
        "\n",
        "#Files from the drive\n",
        "ct_tree_file = \"/content/drive/Shareddrives/PUS2022/Heat_Trees_project/ct_trees.csv\"\n",
        "heat_file = \"/content/drive/Shareddrives/PUS2022/Heat_Trees_project/heat.csv\"\n",
        "\n",
        "ct_tree = pd.read_csv(ct_tree_file)\n",
        "heat = pd.read_csv(heat_file)\n"
      ]
    },
    {
      "cell_type": "code",
      "source": [
        "from sklearn.model_selection import train_test_split\n",
        "from sklearn.ensemble import RandomForestRegressor"
      ],
      "metadata": {
        "id": "voSxha5cxSxm"
      },
      "execution_count": 3,
      "outputs": []
    },
    {
      "cell_type": "code",
      "source": [
        "fig, ax = plt.subplots(1,2, figsize=(10, 5))\n",
        "heat.plot(\"num_trees\", \"HVI_SCORE\", kind=\"scatter\",ax=ax[0])\n",
        "ax[0].set_xlabel(\"number of trees per census tract\")\n",
        "ax[0].set_ylabel(\"Heat Vulnerability Index\")\n",
        "heat.plot(\"ave_dbh\", \"HVI_SCORE\", kind=\"scatter\", ax=ax[1])\n",
        "ax[1].set_xlabel(\"average diameter of trees\")\n",
        "ax[1].set_ylabel(\"Heat Vulnerability Index\")\n",
        "ax[0].set_title('Trees per Census Tract')\n",
        "ax[1].set_title('Average Diameter of Trees per Census Tract')\n",
        "\n",
        "\n",
        "fig.show()"
      ],
      "metadata": {
        "colab": {
          "base_uri": "https://localhost:8080/",
          "height": 350
        },
        "id": "5509wxRnbase",
        "outputId": "521d0c4f-6621-479c-ef14-b2776c53c27b"
      },
      "execution_count": 4,
      "outputs": [
        {
          "output_type": "display_data",
          "data": {
            "text/plain": [
              "<Figure size 720x360 with 2 Axes>"
            ],
            "image/png": "[encoded data removed]"
          },
          "metadata": {
            "needs_background": "light"
          }
        }
      ]
    },
    {
      "cell_type": "markdown",
      "source": [
        "**Figure 1**"
      ],
      "metadata": {
        "id": "gdpjQOzXCErf"
      }
    },
    {
      "cell_type": "code",
      "source": [
        "heat.num_trees.hist()\n",
        "#there is an important outlier"
      ],
      "metadata": {
        "colab": {
          "base_uri": "https://localhost:8080/",
          "height": 282
        },
        "id": "JQQbw6LRVGqe",
        "outputId": "eb126242-e251-44be-963a-fd4ac0db83f3"
      },
      "execution_count": 5,
      "outputs": [
        {
          "output_type": "execute_result",
          "data": {
            "text/plain": [
              "<matplotlib.axes._subplots.AxesSubplot at 0x7f34349c1310>"
            ]
          },
          "metadata": {},
          "execution_count": 5
        },
        {
          "output_type": "display_data",
          "data": {
            "text/plain": [
              "<Figure size 432x288 with 1 Axes>"
            ],
            "image/png": "[encoded data removed]"
          },
          "metadata": {
            "needs_background": "light"
          }
        }
      ]
    },
    {
      "cell_type": "markdown",
      "source": [
        "**Figure 2**"
      ],
      "metadata": {
        "id": "D2cE_I0uCLzy"
      }
    },
    {
      "cell_type": "code",
      "source": [
        "#removing outliers\n",
        "heat = heat[heat['num_trees']<3000]"
      ],
      "metadata": {
        "id": "NDRglEjrY9y7"
      },
      "execution_count": 6,
      "outputs": []
    },
    {
      "cell_type": "code",
      "source": [
        "heat.num_trees.hist()\n"
      ],
      "metadata": {
        "colab": {
          "base_uri": "https://localhost:8080/",
          "height": 282
        },
        "id": "lONdf3n-ZOFH",
        "outputId": "913fb40b-f2d8-4974-e737-744940ecc962"
      },
      "execution_count": 7,
      "outputs": [
        {
          "output_type": "execute_result",
          "data": {
            "text/plain": [
              "<matplotlib.axes._subplots.AxesSubplot at 0x7f343446df70>"
            ]
          },
          "metadata": {},
          "execution_count": 7
        },
        {
          "output_type": "display_data",
          "data": {
            "text/plain": [
              "<Figure size 432x288 with 1 Axes>"
            ],
            "image/png": "[encoded data removed]"
          },
          "metadata": {
            "needs_background": "light"
          }
        }
      ]
    },
    {
      "cell_type": "markdown",
      "source": [
        "**Figure 3**"
      ],
      "metadata": {
        "id": "6E1o0XqyCOGV"
      }
    },
    {
      "cell_type": "code",
      "source": [
        "#calculating the log of the variables\n",
        "heat[\"log_num_trees\"] = np.log10(heat.num_trees)\n",
        "heat[\"log_ave_dbh\"] = np.log10(heat.ave_dbh);\n",
        "heat[\"dbh_trees\"] = heat[\"ave_dbh\"] * heat[\"num_trees\"]"
      ],
      "metadata": {
        "id": "x323NPHHDCXj",
        "colab": {
          "base_uri": "https://localhost:8080/"
        },
        "outputId": "a2255de7-d89a-4210-b9c7-af22e4441308"
      },
      "execution_count": 8,
      "outputs": [
        {
          "output_type": "stream",
          "name": "stderr",
          "text": [
            "<ipython-input-8-5f06d5c236c3>:2: SettingWithCopyWarning: \n",
            "A value is trying to be set on a copy of a slice from a DataFrame.\n",
            "Try using .loc[row_indexer,col_indexer] = value instead\n",
            "\n",
            "See the caveats in the documentation: https://pandas.pydata.org/pandas-docs/stable/user_guide/indexing.html#returning-a-view-versus-a-copy\n",
            "  heat[\"log_num_trees\"] = np.log10(heat.num_trees)\n",
            "<ipython-input-8-5f06d5c236c3>:3: SettingWithCopyWarning: \n",
            "A value is trying to be set on a copy of a slice from a DataFrame.\n",
            "Try using .loc[row_indexer,col_indexer] = value instead\n",
            "\n",
            "See the caveats in the documentation: https://pandas.pydata.org/pandas-docs/stable/user_guide/indexing.html#returning-a-view-versus-a-copy\n",
            "  heat[\"log_ave_dbh\"] = np.log10(heat.ave_dbh);\n",
            "<ipython-input-8-5f06d5c236c3>:4: SettingWithCopyWarning: \n",
            "A value is trying to be set on a copy of a slice from a DataFrame.\n",
            "Try using .loc[row_indexer,col_indexer] = value instead\n",
            "\n",
            "See the caveats in the documentation: https://pandas.pydata.org/pandas-docs/stable/user_guide/indexing.html#returning-a-view-versus-a-copy\n",
            "  heat[\"dbh_trees\"] = heat[\"ave_dbh\"] * heat[\"num_trees\"]\n"
          ]
        }
      ]
    },
    {
      "cell_type": "code",
      "source": [
        "fig, ax = plt.subplots(1,2, figsize=(10, 5))\n",
        "heat.plot(\"num_trees\", \"HVI_SCORE\", kind=\"scatter\",ax=ax[0])\n",
        "ax[0].set_xlabel(\"number of trees per census tract\")\n",
        "ax[0].set_ylabel(\"Heat Vulnerability Index\")\n",
        "heat.plot(\"ave_dbh\", \"HVI_SCORE\", kind=\"scatter\", ax=ax[1])\n",
        "ax[1].set_xlabel(\"average diameter of trees\")\n",
        "ax[1].set_ylabel(\"Heat Vulnerability Index\")\n",
        "ax[0].set_title('Trees per Census Tract')\n",
        "ax[1].set_title('Average Diameter of Trees per Census Tract')\n",
        "\n",
        "\n",
        "fig.show()"
      ],
      "metadata": {
        "colab": {
          "base_uri": "https://localhost:8080/",
          "height": 350
        },
        "id": "1uvZ-m8IheZK",
        "outputId": "b6baf892-2d4a-47a7-b39d-381dcd784d20"
      },
      "execution_count": 9,
      "outputs": [
        {
          "output_type": "display_data",
          "data": {
            "text/plain": [
              "<Figure size 720x360 with 2 Axes>"
            ],
            "image/png": "[encoded data removed]"
          },
          "metadata": {
            "needs_background": "light"
          }
        }
      ]
    },
    {
      "cell_type": "markdown",
      "source": [
        "**Figure 4**"
      ],
      "metadata": {
        "id": "V3L55I-JCQFV"
      }
    },
    {
      "cell_type": "code",
      "source": [
        "X = heat[['num_trees']].values\n",
        "y = heat[[\"HVI_SCORE\"]].values\n",
        "\n",
        "X2 = sm.add_constant(X)\n",
        "est = sm.OLS(y, X2)\n",
        "est2 = est.fit()\n",
        "print(est2.summary())"
      ],
      "metadata": {
        "colab": {
          "base_uri": "https://localhost:8080/"
        },
        "id": "hFo9yXqoio9M",
        "outputId": "44d6bb36-9f02-42ec-ec60-a7cc6a66dec8"
      },
      "execution_count": 10,
      "outputs": [
        {
          "output_type": "stream",
          "name": "stdout",
          "text": [
            "                            OLS Regression Results                            \n",
            "==============================================================================\n",
            "Dep. Variable:                      y   R-squared:                       0.137\n",
            "Model:                            OLS   Adj. R-squared:                  0.135\n",
            "Method:                 Least Squares   F-statistic:                     59.01\n",
            "Date:                Thu, 08 Dec 2022   Prob (F-statistic):           1.41e-13\n",
            "Time:                        19:39:03   Log-Likelihood:                -754.60\n",
            "No. Observations:                 373   AIC:                             1513.\n",
            "Df Residuals:                     371   BIC:                             1521.\n",
            "Df Model:                           1                                         \n",
            "Covariance Type:            nonrobust                                         \n",
            "==============================================================================\n",
            "                 coef    std err          t      P>|t|      [0.025      0.975]\n",
            "------------------------------------------------------------------------------\n",
            "const          1.0749      0.166      6.478      0.000       0.749       1.401\n",
            "x1            -0.0028      0.000     -7.682      0.000      -0.004      -0.002\n",
            "==============================================================================\n",
            "Omnibus:                        0.426   Durbin-Watson:                   1.242\n",
            "Prob(Omnibus):                  0.808   Jarque-Bera (JB):                0.551\n",
            "Skew:                           0.035   Prob(JB):                        0.759\n",
            "Kurtosis:                       2.825   Cond. No.                         784.\n",
            "==============================================================================\n",
            "\n",
            "Notes:\n",
            "[1] Standard Errors assume that the covariance matrix of the errors is correctly specified.\n"
          ]
        }
      ]
    },
    {
      "cell_type": "markdown",
      "source": [
        "Number of trees per zip code explains 13.7% of the variation of the "
      ],
      "metadata": {
        "id": "eigsCLu8iySd"
      }
    },
    {
      "cell_type": "code",
      "source": [
        "X = heat[['ave_dbh']].values\n",
        "y = heat[[\"HVI_SCORE\"]].values\n",
        "\n",
        "X2 = sm.add_constant(X)\n",
        "est = sm.OLS(y, X2)\n",
        "est2 = est.fit()\n",
        "print(est2.summary())\n",
        "\n",
        "#The average DBH does not explain the variations of HVI. "
      ],
      "metadata": {
        "colab": {
          "base_uri": "https://localhost:8080/"
        },
        "id": "6Dn2Hukuhyes",
        "outputId": "aeed954a-4d28-490f-9e64-e5f9571ba866"
      },
      "execution_count": 11,
      "outputs": [
        {
          "output_type": "stream",
          "name": "stdout",
          "text": [
            "                            OLS Regression Results                            \n",
            "==============================================================================\n",
            "Dep. Variable:                      y   R-squared:                       0.001\n",
            "Model:                            OLS   Adj. R-squared:                 -0.001\n",
            "Method:                 Least Squares   F-statistic:                    0.4919\n",
            "Date:                Thu, 08 Dec 2022   Prob (F-statistic):              0.484\n",
            "Time:                        19:39:06   Log-Likelihood:                -781.88\n",
            "No. Observations:                 373   AIC:                             1568.\n",
            "Df Residuals:                     371   BIC:                             1576.\n",
            "Df Model:                           1                                         \n",
            "Covariance Type:            nonrobust                                         \n",
            "==============================================================================\n",
            "                 coef    std err          t      P>|t|      [0.025      0.975]\n",
            "------------------------------------------------------------------------------\n",
            "const         -0.1814      0.318     -0.570      0.569      -0.807       0.444\n",
            "x1             0.0164      0.023      0.701      0.484      -0.029       0.062\n",
            "==============================================================================\n",
            "Omnibus:                        4.558   Durbin-Watson:                   1.176\n",
            "Prob(Omnibus):                  0.102   Jarque-Bera (JB):                3.156\n",
            "Skew:                          -0.038   Prob(JB):                        0.206\n",
            "Kurtosis:                       2.556   Cond. No.                         42.7\n",
            "==============================================================================\n",
            "\n",
            "Notes:\n",
            "[1] Standard Errors assume that the covariance matrix of the errors is correctly specified.\n"
          ]
        }
      ]
    },
    {
      "cell_type": "code",
      "source": [
        "X = heat[['dbh_trees']].values\n",
        "y = heat[[\"HVI_SCORE\"]].values\n",
        "\n",
        "X2 = sm.add_constant(X)\n",
        "est = sm.OLS(y, X2)\n",
        "est2 = est.fit()\n",
        "print(est2.summary())\n"
      ],
      "metadata": {
        "colab": {
          "base_uri": "https://localhost:8080/"
        },
        "id": "DiCvcjRzoCcs",
        "outputId": "fc038917-a655-44e2-e27e-4b02da78704c"
      },
      "execution_count": 12,
      "outputs": [
        {
          "output_type": "stream",
          "name": "stdout",
          "text": [
            "                            OLS Regression Results                            \n",
            "==============================================================================\n",
            "Dep. Variable:                      y   R-squared:                       0.097\n",
            "Model:                            OLS   Adj. R-squared:                  0.094\n",
            "Method:                 Least Squares   F-statistic:                     39.66\n",
            "Date:                Thu, 08 Dec 2022   Prob (F-statistic):           8.53e-10\n",
            "Time:                        19:39:09   Log-Likelihood:                -763.18\n",
            "No. Observations:                 373   AIC:                             1530.\n",
            "Df Residuals:                     371   BIC:                             1538.\n",
            "Df Model:                           1                                         \n",
            "Covariance Type:            nonrobust                                         \n",
            "==============================================================================\n",
            "                 coef    std err          t      P>|t|      [0.025      0.975]\n",
            "------------------------------------------------------------------------------\n",
            "const          0.8290      0.160      5.187      0.000       0.515       1.143\n",
            "x1            -0.0002   2.73e-05     -6.298      0.000      -0.000      -0.000\n",
            "==============================================================================\n",
            "Omnibus:                        2.858   Durbin-Watson:                   1.230\n",
            "Prob(Omnibus):                  0.240   Jarque-Bera (JB):                2.246\n",
            "Skew:                          -0.032   Prob(JB):                        0.325\n",
            "Kurtosis:                       2.625   Cond. No.                     9.62e+03\n",
            "==============================================================================\n",
            "\n",
            "Notes:\n",
            "[1] Standard Errors assume that the covariance matrix of the errors is correctly specified.\n",
            "[2] The condition number is large, 9.62e+03. This might indicate that there are\n",
            "strong multicollinearity or other numerical problems.\n"
          ]
        }
      ]
    },
    {
      "cell_type": "code",
      "source": [
        "X = heat[['ave_dbh',\"num_trees\",\"dbh_trees\"]].values\n",
        "y = heat[[\"HVI_SCORE\"]].values\n",
        "\n",
        "X2 = sm.add_constant(X)\n",
        "est = sm.OLS(y, X2)\n",
        "est2 = est.fit()\n",
        "print(est2.summary())\n"
      ],
      "metadata": {
        "colab": {
          "base_uri": "https://localhost:8080/"
        },
        "id": "hZJdyQ6KoOdT",
        "outputId": "52e7336a-d37a-4f8a-db03-240586f5cf27"
      },
      "execution_count": 13,
      "outputs": [
        {
          "output_type": "stream",
          "name": "stdout",
          "text": [
            "                            OLS Regression Results                            \n",
            "==============================================================================\n",
            "Dep. Variable:                      y   R-squared:                       0.137\n",
            "Model:                            OLS   Adj. R-squared:                  0.130\n",
            "Method:                 Least Squares   F-statistic:                     19.56\n",
            "Date:                Thu, 08 Dec 2022   Prob (F-statistic):           8.61e-12\n",
            "Time:                        19:39:11   Log-Likelihood:                -754.59\n",
            "No. Observations:                 373   AIC:                             1517.\n",
            "Df Residuals:                     369   BIC:                             1533.\n",
            "Df Model:                           3                                         \n",
            "Covariance Type:            nonrobust                                         \n",
            "==============================================================================\n",
            "                 coef    std err          t      P>|t|      [0.025      0.975]\n",
            "------------------------------------------------------------------------------\n",
            "const          1.0932      0.513      2.131      0.034       0.084       2.102\n",
            "x1            -0.0015      0.038     -0.039      0.969      -0.076       0.073\n",
            "x2            -0.0029      0.001     -2.604      0.010      -0.005      -0.001\n",
            "x3          4.431e-06   8.55e-05      0.052      0.959      -0.000       0.000\n",
            "==============================================================================\n",
            "Omnibus:                        0.425   Durbin-Watson:                   1.242\n",
            "Prob(Omnibus):                  0.809   Jarque-Bera (JB):                0.550\n",
            "Skew:                           0.034   Prob(JB):                        0.760\n",
            "Kurtosis:                       2.825   Cond. No.                     3.17e+04\n",
            "==============================================================================\n",
            "\n",
            "Notes:\n",
            "[1] Standard Errors assume that the covariance matrix of the errors is correctly specified.\n",
            "[2] The condition number is large, 3.17e+04. This might indicate that there are\n",
            "strong multicollinearity or other numerical problems.\n"
          ]
        }
      ]
    },
    {
      "cell_type": "code",
      "source": [
        "heat.ave_dbh.hist()"
      ],
      "metadata": {
        "colab": {
          "base_uri": "https://localhost:8080/",
          "height": 282
        },
        "id": "X-gFo_9sZwqt",
        "outputId": "50416d65-b95b-47e3-e5f5-ba037597a749"
      },
      "execution_count": 14,
      "outputs": [
        {
          "output_type": "execute_result",
          "data": {
            "text/plain": [
              "<matplotlib.axes._subplots.AxesSubplot at 0x7f343439bc40>"
            ]
          },
          "metadata": {},
          "execution_count": 14
        },
        {
          "output_type": "display_data",
          "data": {
            "text/plain": [
              "<Figure size 432x288 with 1 Axes>"
            ],
            "image/png": "[encoded data removed]"
          },
          "metadata": {
            "needs_background": "light"
          }
        }
      ]
    },
    {
      "cell_type": "markdown",
      "source": [
        "**Figure 5**"
      ],
      "metadata": {
        "id": "nFL8qs5bCS29"
      }
    },
    {
      "cell_type": "code",
      "source": [
        "X = heat[[\"num_trees\",'ave_dbh']].values\n",
        "y = heat[[\"HVI_SCORE\"]].values\n",
        "\n",
        "X2 = sm.add_constant(X)\n",
        "est = sm.OLS(y, X2)\n",
        "est2 = est.fit()\n",
        "print(est2.summary())\n",
        "\n",
        "#The model did not improve. It seems that number of trees is more important than the average"
      ],
      "metadata": {
        "colab": {
          "base_uri": "https://localhost:8080/"
        },
        "id": "gzBEwBSnj472",
        "outputId": "f4ab1242-0990-4f80-b03f-2122098e82a5"
      },
      "execution_count": 15,
      "outputs": [
        {
          "output_type": "stream",
          "name": "stdout",
          "text": [
            "                            OLS Regression Results                            \n",
            "==============================================================================\n",
            "Dep. Variable:                      y   R-squared:                       0.137\n",
            "Model:                            OLS   Adj. R-squared:                  0.133\n",
            "Method:                 Least Squares   F-statistic:                     29.42\n",
            "Date:                Thu, 08 Dec 2022   Prob (F-statistic):           1.38e-12\n",
            "Time:                        19:39:17   Log-Likelihood:                -754.60\n",
            "No. Observations:                 373   AIC:                             1515.\n",
            "Df Residuals:                     370   BIC:                             1527.\n",
            "Df Model:                           2                                         \n",
            "Covariance Type:            nonrobust                                         \n",
            "==============================================================================\n",
            "                 coef    std err          t      P>|t|      [0.025      0.975]\n",
            "------------------------------------------------------------------------------\n",
            "const          1.0733      0.339      3.170      0.002       0.408       1.739\n",
            "x1            -0.0028      0.000     -7.634      0.000      -0.004      -0.002\n",
            "x2             0.0001      0.022      0.006      0.996      -0.043       0.043\n",
            "==============================================================================\n",
            "Omnibus:                        0.426   Durbin-Watson:                   1.242\n",
            "Prob(Omnibus):                  0.808   Jarque-Bera (JB):                0.551\n",
            "Skew:                           0.035   Prob(JB):                        0.759\n",
            "Kurtosis:                       2.825   Cond. No.                     1.60e+03\n",
            "==============================================================================\n",
            "\n",
            "Notes:\n",
            "[1] Standard Errors assume that the covariance matrix of the errors is correctly specified.\n",
            "[2] The condition number is large, 1.6e+03. This might indicate that there are\n",
            "strong multicollinearity or other numerical problems.\n"
          ]
        }
      ]
    },
    {
      "cell_type": "code",
      "source": [
        "ax = heat.plot(\"log_num_trees\", \"HVI_SCORE\", kind=\"scatter\")\n",
        "ax.set_xlabel(\"num_trees\");"
      ],
      "metadata": {
        "id": "UluPW1vXEfna",
        "outputId": "73b2c1aa-6c35-4cdb-b06b-234f12db56aa",
        "colab": {
          "base_uri": "https://localhost:8080/",
          "height": 280
        }
      },
      "execution_count": 16,
      "outputs": [
        {
          "output_type": "display_data",
          "data": {
            "text/plain": [
              "<Figure size 432x288 with 1 Axes>"
            ],
            "image/png": "[encoded data removed]"
          },
          "metadata": {
            "needs_background": "light"
          }
        }
      ]
    },
    {
      "cell_type": "markdown",
      "source": [
        "**Figure 5**"
      ],
      "metadata": {
        "id": "9vZ2s0yKCUtV"
      }
    },
    {
      "cell_type": "code",
      "source": [
        "X = heat[[\"log_num_trees\"]].values\n",
        "y = heat[[\"HVI_SCORE\"]].values\n",
        "\n",
        "X2 = sm.add_constant(X)\n",
        "est = sm.OLS(y, X2)\n",
        "est2 = est.fit()\n",
        "print(est2.summary())\n"
      ],
      "metadata": {
        "colab": {
          "base_uri": "https://localhost:8080/"
        },
        "id": "s8arK4i8mJsc",
        "outputId": "43d82a45-1a0c-46ee-cb05-5897fccd36ec"
      },
      "execution_count": 17,
      "outputs": [
        {
          "output_type": "stream",
          "name": "stdout",
          "text": [
            "                            OLS Regression Results                            \n",
            "==============================================================================\n",
            "Dep. Variable:                      y   R-squared:                       0.108\n",
            "Model:                            OLS   Adj. R-squared:                  0.106\n",
            "Method:                 Least Squares   F-statistic:                     44.89\n",
            "Date:                Thu, 08 Dec 2022   Prob (F-statistic):           7.75e-11\n",
            "Time:                        19:39:24   Log-Likelihood:                -760.82\n",
            "No. Observations:                 373   AIC:                             1526.\n",
            "Df Residuals:                     371   BIC:                             1533.\n",
            "Df Model:                           1                                         \n",
            "Covariance Type:            nonrobust                                         \n",
            "==============================================================================\n",
            "                 coef    std err          t      P>|t|      [0.025      0.975]\n",
            "------------------------------------------------------------------------------\n",
            "const          5.1829      0.775      6.686      0.000       3.659       6.707\n",
            "x1            -2.0879      0.312     -6.700      0.000      -2.701      -1.475\n",
            "==============================================================================\n",
            "Omnibus:                        0.094   Durbin-Watson:                   1.259\n",
            "Prob(Omnibus):                  0.954   Jarque-Bera (JB):                0.186\n",
            "Skew:                          -0.026   Prob(JB):                        0.911\n",
            "Kurtosis:                       2.903   Cond. No.                         23.1\n",
            "==============================================================================\n",
            "\n",
            "Notes:\n",
            "[1] Standard Errors assume that the covariance matrix of the errors is correctly specified.\n"
          ]
        }
      ]
    },
    {
      "cell_type": "code",
      "source": [
        "heat.HVI_SCORE.hist()"
      ],
      "metadata": {
        "colab": {
          "base_uri": "https://localhost:8080/",
          "height": 282
        },
        "id": "v7EZDNyqbjIW",
        "outputId": "323d24a4-186d-4b94-f889-be44ae641640"
      },
      "execution_count": 18,
      "outputs": [
        {
          "output_type": "execute_result",
          "data": {
            "text/plain": [
              "<matplotlib.axes._subplots.AxesSubplot at 0x7f3434279850>"
            ]
          },
          "metadata": {},
          "execution_count": 18
        },
        {
          "output_type": "display_data",
          "data": {
            "text/plain": [
              "<Figure size 432x288 with 1 Axes>"
            ],
            "image/png": "[encoded data removed]"
          },
          "metadata": {
            "needs_background": "light"
          }
        }
      ]
    },
    {
      "cell_type": "markdown",
      "source": [
        "**Figure 7**"
      ],
      "metadata": {
        "id": "4eVSDXvdCWiE"
      }
    },
    {
      "cell_type": "code",
      "source": [
        "heat[\"dbh_trees\"] = heat[\"ave_dbh\"] * heat[\"num_trees\"]\n",
        "heat"
      ],
      "metadata": {
        "id": "nCBGqignFJzs",
        "outputId": "23cc82a2-9078-4c85-9658-33200385d2cb",
        "colab": {
          "base_uri": "https://localhost:8080/",
          "height": 528
        }
      },
      "execution_count": 19,
      "outputs": [
        {
          "output_type": "stream",
          "name": "stderr",
          "text": [
            "<ipython-input-19-0f52c17e29b8>:1: SettingWithCopyWarning: \n",
            "A value is trying to be set on a copy of a slice from a DataFrame.\n",
            "Try using .loc[row_indexer,col_indexer] = value instead\n",
            "\n",
            "See the caveats in the documentation: https://pandas.pydata.org/pandas-docs/stable/user_guide/indexing.html#returning-a-view-versus-a-copy\n",
            "  heat[\"dbh_trees\"] = heat[\"ave_dbh\"] * heat[\"num_trees\"]\n"
          ]
        },
        {
          "output_type": "execute_result",
          "data": {
            "text/plain": [
              "         GEOID10  HVI_SCORE  \\\n",
              "0    42101019000   0.935255   \n",
              "1    42101019100   2.963969   \n",
              "2    42101019200   2.676547   \n",
              "3    42101019700   3.156173   \n",
              "4    42101019800   2.885302   \n",
              "..           ...        ...   \n",
              "369  42101036203  -1.626316   \n",
              "370  42101035302  -0.934188   \n",
              "371  42101036201  -1.094011   \n",
              "372  42101036302  -1.194634   \n",
              "373  42101036900  -3.214504   \n",
              "\n",
              "                                              geometry  num_trees    ave_dbh  \\\n",
              "0    POLYGON ((-75.0949037530549 40.0104860796399, ...        192  14.661458   \n",
              "1    POLYGON ((-75.1071537566382 40.0167360797785, ...        430  19.905750   \n",
              "2    POLYGON ((-75.1075956511127 39.9996716549479, ...        320  10.568750   \n",
              "3    POLYGON ((-75.1358598309214 40.0119913037377, ...        195  14.174359   \n",
              "4    POLYGON ((-75.1367161109815 40.0080297688381, ...        188  14.486631   \n",
              "..                                                 ...        ...        ...   \n",
              "369  POLYGON ((-74.9648847150604 40.0772810971776, ...        291  13.536082   \n",
              "370  POLYGON ((-74.9875706652257 40.0758346996955, ...        168   1.476190   \n",
              "371  POLYGON ((-74.9849887222353 40.0745340963154, ...        161  15.776398   \n",
              "372  POLYGON ((-74.9798960441206 40.0938200532625, ...         76  17.210526   \n",
              "373  POLYGON ((-75.1894670636636 39.9452540077135, ...        694   6.449568   \n",
              "\n",
              "     log_num_trees  log_ave_dbh    dbh_trees  \n",
              "0         2.283301     1.166177  2815.000000  \n",
              "1         2.633468     1.298979  8559.472589  \n",
              "2         2.505150     1.024024  3382.000000  \n",
              "3         2.290035     1.151503  2764.000000  \n",
              "4         2.274158     1.160967  2723.486631  \n",
              "..             ...          ...          ...  \n",
              "369       2.463893     1.131493  3939.000000  \n",
              "370       2.225309     0.169142   248.000000  \n",
              "371       2.206826     1.198008  2540.000000  \n",
              "372       1.880814     1.235794  1308.000000  \n",
              "373       2.841359     0.809531  4476.000000  \n",
              "\n",
              "[373 rows x 8 columns]"
            ],
            "text/html": [
              "\n",
              "  <div id=\"df-01146f3a-bd38-4bd2-a501-d54fc0f00a90\">\n",
              "    <div class=\"colab-df-container\">\n",
              "      <div>\n",
              "<style scoped>\n",
              "    .dataframe tbody tr th:only-of-type {\n",
              "        vertical-align: middle;\n",
              "    }\n",
              "\n",
              "    .dataframe tbody tr th {\n",
              "        vertical-align: top;\n",
              "    }\n",
              "\n",
              "    .dataframe thead th {\n",
              "        text-align: right;\n",
              "    }\n",
              "</style>\n",
              "<table border=\"1\" class=\"dataframe\">\n",
              "  <thead>\n",
              "    <tr style=\"text-align: right;\">\n",
              "      <th></th>\n",
              "      <th>GEOID10</th>\n",
              "      <th>HVI_SCORE</th>\n",
              "      <th>geometry</th>\n",
              "      <th>num_trees</th>\n",
              "      <th>ave_dbh</th>\n",
              "      <th>log_num_trees</th>\n",
              "      <th>log_ave_dbh</th>\n",
              "      <th>dbh_trees</th>\n",
              "    </tr>\n",
              "  </thead>\n",
              "  <tbody>\n",
              "    <tr>\n",
              "      <th>0</th>\n",
              "      <td>42101019000</td>\n",
              "      <td>0.935255</td>\n",
              "      <td>POLYGON ((-75.0949037530549 40.0104860796399, ...</td>\n",
              "      <td>192</td>\n",
              "      <td>14.661458</td>\n",
              "      <td>2.283301</td>\n",
              "      <td>1.166177</td>\n",
              "      <td>2815.000000</td>\n",
              "    </tr>\n",
              "    <tr>\n",
              "      <th>1</th>\n",
              "      <td>42101019100</td>\n",
              "      <td>2.963969</td>\n",
              "      <td>POLYGON ((-75.1071537566382 40.0167360797785, ...</td>\n",
              "      <td>430</td>\n",
              "      <td>19.905750</td>\n",
              "      <td>2.633468</td>\n",
              "      <td>1.298979</td>\n",
              "      <td>8559.472589</td>\n",
              "    </tr>\n",
              "    <tr>\n",
              "      <th>2</th>\n",
              "      <td>42101019200</td>\n",
              "      <td>2.676547</td>\n",
              "      <td>POLYGON ((-75.1075956511127 39.9996716549479, ...</td>\n",
              "      <td>320</td>\n",
              "      <td>10.568750</td>\n",
              "      <td>2.505150</td>\n",
              "      <td>1.024024</td>\n",
              "      <td>3382.000000</td>\n",
              "    </tr>\n",
              "    <tr>\n",
              "      <th>3</th>\n",
              "      <td>42101019700</td>\n",
              "      <td>3.156173</td>\n",
              "      <td>POLYGON ((-75.1358598309214 40.0119913037377, ...</td>\n",
              "      <td>195</td>\n",
              "      <td>14.174359</td>\n",
              "      <td>2.290035</td>\n",
              "      <td>1.151503</td>\n",
              "      <td>2764.000000</td>\n",
              "    </tr>\n",
              "    <tr>\n",
              "      <th>4</th>\n",
              "      <td>42101019800</td>\n",
              "      <td>2.885302</td>\n",
              "      <td>POLYGON ((-75.1367161109815 40.0080297688381, ...</td>\n",
              "      <td>188</td>\n",
              "      <td>14.486631</td>\n",
              "      <td>2.274158</td>\n",
              "      <td>1.160967</td>\n",
              "      <td>2723.486631</td>\n",
              "    </tr>\n",
              "    <tr>\n",
              "      <th>...</th>\n",
              "      <td>...</td>\n",
              "      <td>...</td>\n",
              "      <td>...</td>\n",
              "      <td>...</td>\n",
              "      <td>...</td>\n",
              "      <td>...</td>\n",
              "      <td>...</td>\n",
              "      <td>...</td>\n",
              "    </tr>\n",
              "    <tr>\n",
              "      <th>369</th>\n",
              "      <td>42101036203</td>\n",
              "      <td>-1.626316</td>\n",
              "      <td>POLYGON ((-74.9648847150604 40.0772810971776, ...</td>\n",
              "      <td>291</td>\n",
              "      <td>13.536082</td>\n",
              "      <td>2.463893</td>\n",
              "      <td>1.131493</td>\n",
              "      <td>3939.000000</td>\n",
              "    </tr>\n",
              "    <tr>\n",
              "      <th>370</th>\n",
              "      <td>42101035302</td>\n",
              "      <td>-0.934188</td>\n",
              "      <td>POLYGON ((-74.9875706652257 40.0758346996955, ...</td>\n",
              "      <td>168</td>\n",
              "      <td>1.476190</td>\n",
              "      <td>2.225309</td>\n",
              "      <td>0.169142</td>\n",
              "      <td>248.000000</td>\n",
              "    </tr>\n",
              "    <tr>\n",
              "      <th>371</th>\n",
              "      <td>42101036201</td>\n",
              "      <td>-1.094011</td>\n",
              "      <td>POLYGON ((-74.9849887222353 40.0745340963154, ...</td>\n",
              "      <td>161</td>\n",
              "      <td>15.776398</td>\n",
              "      <td>2.206826</td>\n",
              "      <td>1.198008</td>\n",
              "      <td>2540.000000</td>\n",
              "    </tr>\n",
              "    <tr>\n",
              "      <th>372</th>\n",
              "      <td>42101036302</td>\n",
              "      <td>-1.194634</td>\n",
              "      <td>POLYGON ((-74.9798960441206 40.0938200532625, ...</td>\n",
              "      <td>76</td>\n",
              "      <td>17.210526</td>\n",
              "      <td>1.880814</td>\n",
              "      <td>1.235794</td>\n",
              "      <td>1308.000000</td>\n",
              "    </tr>\n",
              "    <tr>\n",
              "      <th>373</th>\n",
              "      <td>42101036900</td>\n",
              "      <td>-3.214504</td>\n",
              "      <td>POLYGON ((-75.1894670636636 39.9452540077135, ...</td>\n",
              "      <td>694</td>\n",
              "      <td>6.449568</td>\n",
              "      <td>2.841359</td>\n",
              "      <td>0.809531</td>\n",
              "      <td>4476.000000</td>\n",
              "    </tr>\n",
              "  </tbody>\n",
              "</table>\n",
              "<p>373 rows × 8 columns</p>\n",
              "</div>\n",
              "      <button class=\"colab-df-convert\" onclick=\"convertToInteractive('df-01146f3a-bd38-4bd2-a501-d54fc0f00a90')\"\n",
              "              title=\"Convert this dataframe to an interactive table.\"\n",
              "              style=\"display:none;\">\n",
              "        \n",
              "  <svg xmlns=\"http://www.w3.org/2000/svg\" height=\"24px\"viewBox=\"0 0 24 24\"\n",
              "       width=\"24px\">\n",
              "    <path d=\"M0 0h24v24H0V0z\" fill=\"none\"/>\n",
              "    <path d=\"M18.56 5.44l.94 2.06.94-2.06 2.06-.94-2.06-.94-.94-2.06-.94 2.06-2.06.94zm-11 1L8.5 8.5l.94-2.06 2.06-.94-2.06-.94L8.5 2.5l-.94 2.06-2.06.94zm10 10l.94 2.06.94-2.06 2.06-.94-2.06-.94-.94-2.06-.94 2.06-2.06.94z\"/><path d=\"M17.41 7.96l-1.37-1.37c-.4-.4-.92-.59-1.43-.59-.52 0-1.04.2-1.43.59L10.3 9.45l-7.72 7.72c-.78.78-.78 2.05 0 2.83L4 21.41c.39.39.9.59 1.41.59.51 0 1.02-.2 1.41-.59l7.78-7.78 2.81-2.81c.8-.78.8-2.07 0-2.86zM5.41 20L4 18.59l7.72-7.72 1.47 1.35L5.41 20z\"/>\n",
              "  </svg>\n",
              "      </button>\n",
              "      \n",
              "  <style>\n",
              "    .colab-df-container {\n",
              "      display:flex;\n",
              "      flex-wrap:wrap;\n",
              "      gap: 12px;\n",
              "    }\n",
              "\n",
              "    .colab-df-convert {\n",
              "      background-color: #E8F0FE;\n",
              "      border: none;\n",
              "      border-radius: 50%;\n",
              "      cursor: pointer;\n",
              "      display: none;\n",
              "      fill: #1967D2;\n",
              "      height: 32px;\n",
              "      padding: 0 0 0 0;\n",
              "      width: 32px;\n",
              "    }\n",
              "\n",
              "    .colab-df-convert:hover {\n",
              "      background-color: #E2EBFA;\n",
              "      box-shadow: 0px 1px 2px rgba(60, 64, 67, 0.3), 0px 1px 3px 1px rgba(60, 64, 67, 0.15);\n",
              "      fill: #174EA6;\n",
              "    }\n",
              "\n",
              "    [theme=dark] .colab-df-convert {\n",
              "      background-color: #3B4455;\n",
              "      fill: #D2E3FC;\n",
              "    }\n",
              "\n",
              "    [theme=dark] .colab-df-convert:hover {\n",
              "      background-color: #434B5C;\n",
              "      box-shadow: 0px 1px 3px 1px rgba(0, 0, 0, 0.15);\n",
              "      filter: drop-shadow(0px 1px 2px rgba(0, 0, 0, 0.3));\n",
              "      fill: #FFFFFF;\n",
              "    }\n",
              "  </style>\n",
              "\n",
              "      <script>\n",
              "        const buttonEl =\n",
              "          document.querySelector('#df-01146f3a-bd38-4bd2-a501-d54fc0f00a90 button.colab-df-convert');\n",
              "        buttonEl.style.display =\n",
              "          google.colab.kernel.accessAllowed ? 'block' : 'none';\n",
              "\n",
              "        async function convertToInteractive(key) {\n",
              "          const element = document.querySelector('#df-01146f3a-bd38-4bd2-a501-d54fc0f00a90');\n",
              "          const dataTable =\n",
              "            await google.colab.kernel.invokeFunction('convertToInteractive',\n",
              "                                                     [key], {});\n",
              "          if (!dataTable) return;\n",
              "\n",
              "          const docLinkHtml = 'Like what you see? Visit the ' +\n",
              "            '<a target=\"_blank\" href=https://colab.research.google.com/notebooks/data_table.ipynb>data table notebook</a>'\n",
              "            + ' to learn more about interactive tables.';\n",
              "          element.innerHTML = '';\n",
              "          dataTable['output_type'] = 'display_data';\n",
              "          await google.colab.output.renderOutput(dataTable, element);\n",
              "          const docLink = document.createElement('div');\n",
              "          docLink.innerHTML = docLinkHtml;\n",
              "          element.appendChild(docLink);\n",
              "        }\n",
              "      </script>\n",
              "    </div>\n",
              "  </div>\n",
              "  "
            ]
          },
          "metadata": {},
          "execution_count": 19
        }
      ]
    },
    {
      "cell_type": "code",
      "source": [
        "ax = heat.plot(\"dbh_trees\", \"HVI_SCORE\", kind=\"scatter\")\n",
        "ax.set_xlabel(\"dbh_trees\");"
      ],
      "metadata": {
        "id": "nyAKx_0HFrV0",
        "outputId": "832387c7-e302-47a8-d239-0b23c1af775d",
        "colab": {
          "base_uri": "https://localhost:8080/",
          "height": 280
        }
      },
      "execution_count": 20,
      "outputs": [
        {
          "output_type": "display_data",
          "data": {
            "text/plain": [
              "<Figure size 432x288 with 1 Axes>"
            ],
            "image/png": "[encoded data removed]"
          },
          "metadata": {
            "needs_background": "light"
          }
        }
      ]
    },
    {
      "cell_type": "markdown",
      "source": [
        "**Figure 8**"
      ],
      "metadata": {
        "id": "adbyPfkzCY3d"
      }
    },
    {
      "cell_type": "code",
      "source": [
        "heat[\"log_dbh_trees\"] = np.log10(heat.dbh_trees)\n",
        "ax = heat.plot(\"log_dbh_trees\", \"HVI_SCORE\", kind=\"scatter\")\n",
        "ax.set_xlabel(\"dbh_trees (log scale)\");"
      ],
      "metadata": {
        "id": "lxVoz4WRF5BV",
        "outputId": "642cc33c-5020-4042-cfa1-e56f4bf93754",
        "colab": {
          "base_uri": "https://localhost:8080/",
          "height": 384
        }
      },
      "execution_count": 21,
      "outputs": [
        {
          "output_type": "stream",
          "name": "stderr",
          "text": [
            "<ipython-input-21-c7b0eb1b7dbc>:1: SettingWithCopyWarning: \n",
            "A value is trying to be set on a copy of a slice from a DataFrame.\n",
            "Try using .loc[row_indexer,col_indexer] = value instead\n",
            "\n",
            "See the caveats in the documentation: https://pandas.pydata.org/pandas-docs/stable/user_guide/indexing.html#returning-a-view-versus-a-copy\n",
            "  heat[\"log_dbh_trees\"] = np.log10(heat.dbh_trees)\n"
          ]
        },
        {
          "output_type": "display_data",
          "data": {
            "text/plain": [
              "<Figure size 432x288 with 1 Axes>"
            ],
            "image/png": "[encoded data removed]"
          },
          "metadata": {
            "needs_background": "light"
          }
        }
      ]
    },
    {
      "cell_type": "markdown",
      "source": [
        "**Figure 9**"
      ],
      "metadata": {
        "id": "wkLj1XZ3CbLN"
      }
    },
    {
      "cell_type": "code",
      "source": [
        "import seaborn as sns\n",
        "sns.regplot(heat['num_trees'], heat['HVI_SCORE']);"
      ],
      "metadata": {
        "id": "Q07ZDDO_GmZI",
        "outputId": "6fabab59-3270-4290-dd74-a71e39869ada",
        "colab": {
          "base_uri": "https://localhost:8080/",
          "height": 335
        }
      },
      "execution_count": 22,
      "outputs": [
        {
          "output_type": "stream",
          "name": "stderr",
          "text": [
            "/usr/local/lib/python3.8/dist-packages/seaborn/_decorators.py:36: FutureWarning: Pass the following variables as keyword args: x, y. From version 0.12, the only valid positional argument will be `data`, and passing other arguments without an explicit keyword will result in an error or misinterpretation.\n",
            "  warnings.warn(\n"
          ]
        },
        {
          "output_type": "display_data",
          "data": {
            "text/plain": [
              "<Figure size 432x288 with 1 Axes>"
            ],
            "image/png": "[encoded data removed]"
          },
          "metadata": {
            "needs_background": "light"
          }
        }
      ]
    },
    {
      "cell_type": "markdown",
      "source": [
        "**Figure 10**"
      ],
      "metadata": {
        "id": "luIxn-7dCdzs"
      }
    },
    {
      "cell_type": "code",
      "source": [
        "import seaborn as sns\n",
        "new = heat[heat['dbh_trees']<20000]\n",
        "\n",
        "sns.regplot(new[\"dbh_trees\"], new['HVI_SCORE']);"
      ],
      "metadata": {
        "id": "DL9LwqMRO1In",
        "outputId": "f1183d36-14de-43e0-db57-7349711d1450",
        "colab": {
          "base_uri": "https://localhost:8080/",
          "height": 335
        }
      },
      "execution_count": 23,
      "outputs": [
        {
          "output_type": "stream",
          "name": "stderr",
          "text": [
            "/usr/local/lib/python3.8/dist-packages/seaborn/_decorators.py:36: FutureWarning: Pass the following variables as keyword args: x, y. From version 0.12, the only valid positional argument will be `data`, and passing other arguments without an explicit keyword will result in an error or misinterpretation.\n",
            "  warnings.warn(\n"
          ]
        },
        {
          "output_type": "display_data",
          "data": {
            "text/plain": [
              "<Figure size 432x288 with 1 Axes>"
            ],
            "image/png": "[encoded data removed]"
          },
          "metadata": {
            "needs_background": "light"
          }
        }
      ]
    },
    {
      "cell_type": "markdown",
      "source": [
        "**Figure 11**"
      ],
      "metadata": {
        "id": "YUz0zEQtCfcn"
      }
    },
    {
      "cell_type": "code",
      "source": [
        "new.num_trees.hist()"
      ],
      "metadata": {
        "colab": {
          "base_uri": "https://localhost:8080/",
          "height": 282
        },
        "id": "XNaNVgHmVxSQ",
        "outputId": "8b2bfcfe-c1fe-4e6b-8deb-b46c94dd3777"
      },
      "execution_count": 24,
      "outputs": [
        {
          "output_type": "execute_result",
          "data": {
            "text/plain": [
              "<matplotlib.axes._subplots.AxesSubplot at 0x7f343412c550>"
            ]
          },
          "metadata": {},
          "execution_count": 24
        },
        {
          "output_type": "display_data",
          "data": {
            "text/plain": [
              "<Figure size 432x288 with 1 Axes>"
            ],
            "image/png": "[encoded data removed]"
          },
          "metadata": {
            "needs_background": "light"
          }
        }
      ]
    },
    {
      "cell_type": "markdown",
      "source": [
        "**Figure 12**"
      ],
      "metadata": {
        "id": "SX_bJ7BCCg6E"
      }
    },
    {
      "cell_type": "code",
      "source": [
        "\n",
        "#Regression 1 \n",
        "#Dependent Variable: HVI_SCORE\n",
        "#Independent Variables: ave_dbh , num_trees\n",
        "import numpy as np\n",
        "from sklearn.linear_model import LinearRegression\n",
        "\n",
        "X = heat[['ave_dbh', 'num_trees']].values\n",
        "y = heat[[\"HVI_SCORE\"]].values\n",
        "\n",
        "reg = LinearRegression().fit(X,y)\n",
        "print(\"R-squared: {0:.4f}\".format(reg.score(X,y)))\n",
        "print(\"Coeficient 1: {0:.4f}\".format(reg.coef_[0][0]))\n",
        "print(\"Coeficient 2: {0:.4f}\".format(reg.coef_[0][1]))\n",
        "print(\"Intercept: {0:.4f}\".format(reg.intercept_[0]))\n"
      ],
      "metadata": {
        "colab": {
          "base_uri": "https://localhost:8080/"
        },
        "id": "kWtHQ94qGAAS",
        "outputId": "ba85f42b-bec9-4a12-826d-766a325e9127"
      },
      "execution_count": 25,
      "outputs": [
        {
          "output_type": "stream",
          "name": "stdout",
          "text": [
            "R-squared: 0.1372\n",
            "Coeficient 1: 0.0001\n",
            "Coeficient 2: -0.0028\n",
            "Intercept: 1.0733\n"
          ]
        }
      ]
    },
    {
      "cell_type": "code",
      "source": [
        "import pandas as pd\n",
        "import numpy as np\n",
        "from sklearn.linear_model import LinearRegression\n",
        "import statsmodels.api as sm\n",
        "from scipy import stats\n",
        "\n",
        "X = heat[['ave_dbh', 'num_trees']].values\n",
        "y = heat[[\"HVI_SCORE\"]].values\n",
        "\n",
        "X2 = sm.add_constant(X)\n",
        "est = sm.OLS(y, X2)\n",
        "est2 = est.fit()\n",
        "print(est2.summary())"
      ],
      "metadata": {
        "colab": {
          "base_uri": "https://localhost:8080/"
        },
        "id": "XriW74ueHRkh",
        "outputId": "73e752e6-aff0-416a-d156-19c21a407306"
      },
      "execution_count": 26,
      "outputs": [
        {
          "output_type": "stream",
          "name": "stdout",
          "text": [
            "                            OLS Regression Results                            \n",
            "==============================================================================\n",
            "Dep. Variable:                      y   R-squared:                       0.137\n",
            "Model:                            OLS   Adj. R-squared:                  0.133\n",
            "Method:                 Least Squares   F-statistic:                     29.42\n",
            "Date:                Thu, 08 Dec 2022   Prob (F-statistic):           1.38e-12\n",
            "Time:                        19:39:49   Log-Likelihood:                -754.60\n",
            "No. Observations:                 373   AIC:                             1515.\n",
            "Df Residuals:                     370   BIC:                             1527.\n",
            "Df Model:                           2                                         \n",
            "Covariance Type:            nonrobust                                         \n",
            "==============================================================================\n",
            "                 coef    std err          t      P>|t|      [0.025      0.975]\n",
            "------------------------------------------------------------------------------\n",
            "const          1.0733      0.339      3.170      0.002       0.408       1.739\n",
            "x1             0.0001      0.022      0.006      0.996      -0.043       0.043\n",
            "x2            -0.0028      0.000     -7.634      0.000      -0.004      -0.002\n",
            "==============================================================================\n",
            "Omnibus:                        0.426   Durbin-Watson:                   1.242\n",
            "Prob(Omnibus):                  0.808   Jarque-Bera (JB):                0.551\n",
            "Skew:                           0.035   Prob(JB):                        0.759\n",
            "Kurtosis:                       2.825   Cond. No.                     1.60e+03\n",
            "==============================================================================\n",
            "\n",
            "Notes:\n",
            "[1] Standard Errors assume that the covariance matrix of the errors is correctly specified.\n",
            "[2] The condition number is large, 1.6e+03. This might indicate that there are\n",
            "strong multicollinearity or other numerical problems.\n"
          ]
        }
      ]
    },
    {
      "cell_type": "code",
      "source": [
        "X = heat[['dbh_trees']].values\n",
        "y = heat[[\"HVI_SCORE\"]].values\n",
        "\n",
        "X2 = sm.add_constant(X)\n",
        "est = sm.OLS(y, X2)\n",
        "est2 = est.fit()\n",
        "print(est2.summary())"
      ],
      "metadata": {
        "colab": {
          "base_uri": "https://localhost:8080/"
        },
        "id": "cPmzjutLRfhY",
        "outputId": "305714b4-1dea-43ee-d575-48c1316d252e"
      },
      "execution_count": 27,
      "outputs": [
        {
          "output_type": "stream",
          "name": "stdout",
          "text": [
            "                            OLS Regression Results                            \n",
            "==============================================================================\n",
            "Dep. Variable:                      y   R-squared:                       0.097\n",
            "Model:                            OLS   Adj. R-squared:                  0.094\n",
            "Method:                 Least Squares   F-statistic:                     39.66\n",
            "Date:                Thu, 08 Dec 2022   Prob (F-statistic):           8.53e-10\n",
            "Time:                        19:39:52   Log-Likelihood:                -763.18\n",
            "No. Observations:                 373   AIC:                             1530.\n",
            "Df Residuals:                     371   BIC:                             1538.\n",
            "Df Model:                           1                                         \n",
            "Covariance Type:            nonrobust                                         \n",
            "==============================================================================\n",
            "                 coef    std err          t      P>|t|      [0.025      0.975]\n",
            "------------------------------------------------------------------------------\n",
            "const          0.8290      0.160      5.187      0.000       0.515       1.143\n",
            "x1            -0.0002   2.73e-05     -6.298      0.000      -0.000      -0.000\n",
            "==============================================================================\n",
            "Omnibus:                        2.858   Durbin-Watson:                   1.230\n",
            "Prob(Omnibus):                  0.240   Jarque-Bera (JB):                2.246\n",
            "Skew:                          -0.032   Prob(JB):                        0.325\n",
            "Kurtosis:                       2.625   Cond. No.                     9.62e+03\n",
            "==============================================================================\n",
            "\n",
            "Notes:\n",
            "[1] Standard Errors assume that the covariance matrix of the errors is correctly specified.\n",
            "[2] The condition number is large, 9.62e+03. This might indicate that there are\n",
            "strong multicollinearity or other numerical problems.\n"
          ]
        }
      ]
    },
    {
      "cell_type": "code",
      "source": [
        "X = heat[['log_dbh_trees', 'HVI_SCORE']].values\n",
        "y = heat[[\"HVI_SCORE\"]].values\n",
        "#heat['HVI_SCORE'].values"
      ],
      "metadata": {
        "id": "jehXVhXCFgZm"
      },
      "execution_count": 28,
      "outputs": []
    },
    {
      "cell_type": "markdown",
      "source": [
        "**Correlation Model prediction of HVI Score and Number of trees with Health variables (Diseases)**"
      ],
      "metadata": {
        "id": "Vs1fYl6psrNA"
      }
    },
    {
      "cell_type": "code",
      "source": [
        "health = pd.read_csv('/content/drive/Shareddrives/PUS2022/PUS project/philly_health_data.csv')\n",
        "health.describe()"
      ],
      "metadata": {
        "colab": {
          "base_uri": "https://localhost:8080/",
          "height": 394
        },
        "id": "vUEzfWX_QITL",
        "outputId": "e712d5f9-395a-40c7-a7b6-2050ecb5816e"
      },
      "execution_count": 29,
      "outputs": [
        {
          "output_type": "execute_result",
          "data": {
            "text/plain": [
              "       PlaceFIPS     TractFIPS  Population2010  ACCESS2_CrudePrev  \\\n",
              "count      376.0  3.760000e+02      376.000000         376.000000   \n",
              "mean   4260000.0  4.210103e+10     4058.377660          13.434309   \n",
              "std          0.0  9.958006e+04     1625.805143           5.792134   \n",
              "min    4260000.0  4.210100e+10       74.000000           4.100000   \n",
              "25%    4260000.0  4.210101e+10     2889.250000           9.175000   \n",
              "50%    4260000.0  4.210102e+10     3944.500000          12.700000   \n",
              "75%    4260000.0  4.210103e+10     5129.000000          16.200000   \n",
              "max    4260000.0  4.210199e+10     8322.000000          35.300000   \n",
              "\n",
              "       ARTHRITIS_CrudePrev  BINGE_CrudePrev  BPHIGH_CrudePrev  \\\n",
              "count           376.000000       376.000000        376.000000   \n",
              "mean             25.765160        20.179521         34.295479   \n",
              "std               6.111099         4.587412          9.248421   \n",
              "min               6.500000         8.500000         10.800000   \n",
              "25%              22.950000        16.500000         28.800000   \n",
              "50%              26.250000        19.300000         33.300000   \n",
              "75%              29.750000        23.400000         42.350000   \n",
              "max              50.900000        33.600000         56.400000   \n",
              "\n",
              "       BPMED_CrudePrev  CANCER_CrudePrev  CASTHMA_CrudePrev  ...  \\\n",
              "count       376.000000        376.000000         376.000000  ...   \n",
              "mean         74.481383          5.809043          11.589096  ...   \n",
              "std           7.225807          1.830824           1.809077  ...   \n",
              "min          33.500000          1.100000           8.200000  ...   \n",
              "25%          71.900000          4.700000          10.100000  ...   \n",
              "50%          75.300000          5.600000          11.400000  ...   \n",
              "75%          79.425000          6.600000          13.100000  ...   \n",
              "max          89.600000         18.700000          16.300000  ...   \n",
              "\n",
              "       KIDNEY_CrudePrev  LPA_CrudePrev  MAMMOUSE_CrudePrev  MHLTH_CrudePrev  \\\n",
              "count        376.000000     376.000000          376.000000       376.000000   \n",
              "mean           3.420479      29.305319           80.857447        16.168617   \n",
              "std            1.075289       8.057968            2.665253         3.726829   \n",
              "min            1.000000      12.800000           72.900000         8.200000   \n",
              "25%            2.700000      23.450000           78.200000        13.400000   \n",
              "50%            3.300000      29.150000           81.300000        16.000000   \n",
              "75%            4.200000      35.625000           83.300000        19.000000   \n",
              "max            7.100000      46.200000           86.000000        25.800000   \n",
              "\n",
              "       OBESITY_CrudePrev  PAPTEST_CrudePrev  PHLTH_CrudePrev  SLEEP_CrudePrev  \\\n",
              "count         376.000000         376.000000       376.000000       376.000000   \n",
              "mean           33.205585          81.397606        14.893085        42.241489   \n",
              "std             8.095460           2.848432         4.398158         5.865477   \n",
              "min            17.400000          65.100000         5.000000        28.800000   \n",
              "25%            26.200000          79.700000        11.875000        37.000000   \n",
              "50%            32.950000          81.600000        14.600000        42.850000   \n",
              "75%            40.600000          83.500000        18.200000        47.200000   \n",
              "max            48.800000          86.000000        24.800000        52.600000   \n",
              "\n",
              "       STROKE_CrudePrev  TEETHLOST_CrudePrev  \n",
              "count        376.000000           375.000000  \n",
              "mean           4.093883            19.860800  \n",
              "std            1.734325             8.798686  \n",
              "min            0.700000             3.800000  \n",
              "25%            2.900000            12.600000  \n",
              "50%            3.800000            19.000000  \n",
              "75%            5.200000            26.600000  \n",
              "max           10.300000            42.400000  \n",
              "\n",
              "[8 rows x 31 columns]"
            ],
            "text/html": [
              "\n",
              "  <div id=\"df-bb905963-8553-46a8-9b22-ff5eac2c08e5\">\n",
              "    <div class=\"colab-df-container\">\n",
              "      <div>\n",
              "<style scoped>\n",
              "    .dataframe tbody tr th:only-of-type {\n",
              "        vertical-align: middle;\n",
              "    }\n",
              "\n",
              "    .dataframe tbody tr th {\n",
              "        vertical-align: top;\n",
              "    }\n",
              "\n",
              "    .dataframe thead th {\n",
              "        text-align: right;\n",
              "    }\n",
              "</style>\n",
              "<table border=\"1\" class=\"dataframe\">\n",
              "  <thead>\n",
              "    <tr style=\"text-align: right;\">\n",
              "      <th></th>\n",
              "      <th>PlaceFIPS</th>\n",
              "      <th>TractFIPS</th>\n",
              "      <th>Population2010</th>\n",
              "      <th>ACCESS2_CrudePrev</th>\n",
              "      <th>ARTHRITIS_CrudePrev</th>\n",
              "      <th>BINGE_CrudePrev</th>\n",
              "      <th>BPHIGH_CrudePrev</th>\n",
              "      <th>BPMED_CrudePrev</th>\n",
              "      <th>CANCER_CrudePrev</th>\n",
              "      <th>CASTHMA_CrudePrev</th>\n",
              "      <th>...</th>\n",
              "      <th>KIDNEY_CrudePrev</th>\n",
              "      <th>LPA_CrudePrev</th>\n",
              "      <th>MAMMOUSE_CrudePrev</th>\n",
              "      <th>MHLTH_CrudePrev</th>\n",
              "      <th>OBESITY_CrudePrev</th>\n",
              "      <th>PAPTEST_CrudePrev</th>\n",
              "      <th>PHLTH_CrudePrev</th>\n",
              "      <th>SLEEP_CrudePrev</th>\n",
              "      <th>STROKE_CrudePrev</th>\n",
              "      <th>TEETHLOST_CrudePrev</th>\n",
              "    </tr>\n",
              "  </thead>\n",
              "  <tbody>\n",
              "    <tr>\n",
              "      <th>count</th>\n",
              "      <td>376.0</td>\n",
              "      <td>3.760000e+02</td>\n",
              "      <td>376.000000</td>\n",
              "      <td>376.000000</td>\n",
              "      <td>376.000000</td>\n",
              "      <td>376.000000</td>\n",
              "      <td>376.000000</td>\n",
              "      <td>376.000000</td>\n",
              "      <td>376.000000</td>\n",
              "      <td>376.000000</td>\n",
              "      <td>...</td>\n",
              "      <td>376.000000</td>\n",
              "      <td>376.000000</td>\n",
              "      <td>376.000000</td>\n",
              "      <td>376.000000</td>\n",
              "      <td>376.000000</td>\n",
              "      <td>376.000000</td>\n",
              "      <td>376.000000</td>\n",
              "      <td>376.000000</td>\n",
              "      <td>376.000000</td>\n",
              "      <td>375.000000</td>\n",
              "    </tr>\n",
              "    <tr>\n",
              "      <th>mean</th>\n",
              "      <td>4260000.0</td>\n",
              "      <td>4.210103e+10</td>\n",
              "      <td>4058.377660</td>\n",
              "      <td>13.434309</td>\n",
              "      <td>25.765160</td>\n",
              "      <td>20.179521</td>\n",
              "      <td>34.295479</td>\n",
              "      <td>74.481383</td>\n",
              "      <td>5.809043</td>\n",
              "      <td>11.589096</td>\n",
              "      <td>...</td>\n",
              "      <td>3.420479</td>\n",
              "      <td>29.305319</td>\n",
              "      <td>80.857447</td>\n",
              "      <td>16.168617</td>\n",
              "      <td>33.205585</td>\n",
              "      <td>81.397606</td>\n",
              "      <td>14.893085</td>\n",
              "      <td>42.241489</td>\n",
              "      <td>4.093883</td>\n",
              "      <td>19.860800</td>\n",
              "    </tr>\n",
              "    <tr>\n",
              "      <th>std</th>\n",
              "      <td>0.0</td>\n",
              "      <td>9.958006e+04</td>\n",
              "      <td>1625.805143</td>\n",
              "      <td>5.792134</td>\n",
              "      <td>6.111099</td>\n",
              "      <td>4.587412</td>\n",
              "      <td>9.248421</td>\n",
              "      <td>7.225807</td>\n",
              "      <td>1.830824</td>\n",
              "      <td>1.809077</td>\n",
              "      <td>...</td>\n",
              "      <td>1.075289</td>\n",
              "      <td>8.057968</td>\n",
              "      <td>2.665253</td>\n",
              "      <td>3.726829</td>\n",
              "      <td>8.095460</td>\n",
              "      <td>2.848432</td>\n",
              "      <td>4.398158</td>\n",
              "      <td>5.865477</td>\n",
              "      <td>1.734325</td>\n",
              "      <td>8.798686</td>\n",
              "    </tr>\n",
              "    <tr>\n",
              "      <th>min</th>\n",
              "      <td>4260000.0</td>\n",
              "      <td>4.210100e+10</td>\n",
              "      <td>74.000000</td>\n",
              "      <td>4.100000</td>\n",
              "      <td>6.500000</td>\n",
              "      <td>8.500000</td>\n",
              "      <td>10.800000</td>\n",
              "      <td>33.500000</td>\n",
              "      <td>1.100000</td>\n",
              "      <td>8.200000</td>\n",
              "      <td>...</td>\n",
              "      <td>1.000000</td>\n",
              "      <td>12.800000</td>\n",
              "      <td>72.900000</td>\n",
              "      <td>8.200000</td>\n",
              "      <td>17.400000</td>\n",
              "      <td>65.100000</td>\n",
              "      <td>5.000000</td>\n",
              "      <td>28.800000</td>\n",
              "      <td>0.700000</td>\n",
              "      <td>3.800000</td>\n",
              "    </tr>\n",
              "    <tr>\n",
              "      <th>25%</th>\n",
              "      <td>4260000.0</td>\n",
              "      <td>4.210101e+10</td>\n",
              "      <td>2889.250000</td>\n",
              "      <td>9.175000</td>\n",
              "      <td>22.950000</td>\n",
              "      <td>16.500000</td>\n",
              "      <td>28.800000</td>\n",
              "      <td>71.900000</td>\n",
              "      <td>4.700000</td>\n",
              "      <td>10.100000</td>\n",
              "      <td>...</td>\n",
              "      <td>2.700000</td>\n",
              "      <td>23.450000</td>\n",
              "      <td>78.200000</td>\n",
              "      <td>13.400000</td>\n",
              "      <td>26.200000</td>\n",
              "      <td>79.700000</td>\n",
              "      <td>11.875000</td>\n",
              "      <td>37.000000</td>\n",
              "      <td>2.900000</td>\n",
              "      <td>12.600000</td>\n",
              "    </tr>\n",
              "    <tr>\n",
              "      <th>50%</th>\n",
              "      <td>4260000.0</td>\n",
              "      <td>4.210102e+10</td>\n",
              "      <td>3944.500000</td>\n",
              "      <td>12.700000</td>\n",
              "      <td>26.250000</td>\n",
              "      <td>19.300000</td>\n",
              "      <td>33.300000</td>\n",
              "      <td>75.300000</td>\n",
              "      <td>5.600000</td>\n",
              "      <td>11.400000</td>\n",
              "      <td>...</td>\n",
              "      <td>3.300000</td>\n",
              "      <td>29.150000</td>\n",
              "      <td>81.300000</td>\n",
              "      <td>16.000000</td>\n",
              "      <td>32.950000</td>\n",
              "      <td>81.600000</td>\n",
              "      <td>14.600000</td>\n",
              "      <td>42.850000</td>\n",
              "      <td>3.800000</td>\n",
              "      <td>19.000000</td>\n",
              "    </tr>\n",
              "    <tr>\n",
              "      <th>75%</th>\n",
              "      <td>4260000.0</td>\n",
              "      <td>4.210103e+10</td>\n",
              "      <td>5129.000000</td>\n",
              "      <td>16.200000</td>\n",
              "      <td>29.750000</td>\n",
              "      <td>23.400000</td>\n",
              "      <td>42.350000</td>\n",
              "      <td>79.425000</td>\n",
              "      <td>6.600000</td>\n",
              "      <td>13.100000</td>\n",
              "      <td>...</td>\n",
              "      <td>4.200000</td>\n",
              "      <td>35.625000</td>\n",
              "      <td>83.300000</td>\n",
              "      <td>19.000000</td>\n",
              "      <td>40.600000</td>\n",
              "      <td>83.500000</td>\n",
              "      <td>18.200000</td>\n",
              "      <td>47.200000</td>\n",
              "      <td>5.200000</td>\n",
              "      <td>26.600000</td>\n",
              "    </tr>\n",
              "    <tr>\n",
              "      <th>max</th>\n",
              "      <td>4260000.0</td>\n",
              "      <td>4.210199e+10</td>\n",
              "      <td>8322.000000</td>\n",
              "      <td>35.300000</td>\n",
              "      <td>50.900000</td>\n",
              "      <td>33.600000</td>\n",
              "      <td>56.400000</td>\n",
              "      <td>89.600000</td>\n",
              "      <td>18.700000</td>\n",
              "      <td>16.300000</td>\n",
              "      <td>...</td>\n",
              "      <td>7.100000</td>\n",
              "      <td>46.200000</td>\n",
              "      <td>86.000000</td>\n",
              "      <td>25.800000</td>\n",
              "      <td>48.800000</td>\n",
              "      <td>86.000000</td>\n",
              "      <td>24.800000</td>\n",
              "      <td>52.600000</td>\n",
              "      <td>10.300000</td>\n",
              "      <td>42.400000</td>\n",
              "    </tr>\n",
              "  </tbody>\n",
              "</table>\n",
              "<p>8 rows × 31 columns</p>\n",
              "</div>\n",
              "      <button class=\"colab-df-convert\" onclick=\"convertToInteractive('df-bb905963-8553-46a8-9b22-ff5eac2c08e5')\"\n",
              "              title=\"Convert this dataframe to an interactive table.\"\n",
              "              style=\"display:none;\">\n",
              "        \n",
              "  <svg xmlns=\"http://www.w3.org/2000/svg\" height=\"24px\"viewBox=\"0 0 24 24\"\n",
              "       width=\"24px\">\n",
              "    <path d=\"M0 0h24v24H0V0z\" fill=\"none\"/>\n",
              "    <path d=\"M18.56 5.44l.94 2.06.94-2.06 2.06-.94-2.06-.94-.94-2.06-.94 2.06-2.06.94zm-11 1L8.5 8.5l.94-2.06 2.06-.94-2.06-.94L8.5 2.5l-.94 2.06-2.06.94zm10 10l.94 2.06.94-2.06 2.06-.94-2.06-.94-.94-2.06-.94 2.06-2.06.94z\"/><path d=\"M17.41 7.96l-1.37-1.37c-.4-.4-.92-.59-1.43-.59-.52 0-1.04.2-1.43.59L10.3 9.45l-7.72 7.72c-.78.78-.78 2.05 0 2.83L4 21.41c.39.39.9.59 1.41.59.51 0 1.02-.2 1.41-.59l7.78-7.78 2.81-2.81c.8-.78.8-2.07 0-2.86zM5.41 20L4 18.59l7.72-7.72 1.47 1.35L5.41 20z\"/>\n",
              "  </svg>\n",
              "      </button>\n",
              "      \n",
              "  <style>\n",
              "    .colab-df-container {\n",
              "      display:flex;\n",
              "      flex-wrap:wrap;\n",
              "      gap: 12px;\n",
              "    }\n",
              "\n",
              "    .colab-df-convert {\n",
              "      background-color: #E8F0FE;\n",
              "      border: none;\n",
              "      border-radius: 50%;\n",
              "      cursor: pointer;\n",
              "      display: none;\n",
              "      fill: #1967D2;\n",
              "      height: 32px;\n",
              "      padding: 0 0 0 0;\n",
              "      width: 32px;\n",
              "    }\n",
              "\n",
              "    .colab-df-convert:hover {\n",
              "      background-color: #E2EBFA;\n",
              "      box-shadow: 0px 1px 2px rgba(60, 64, 67, 0.3), 0px 1px 3px 1px rgba(60, 64, 67, 0.15);\n",
              "      fill: #174EA6;\n",
              "    }\n",
              "\n",
              "    [theme=dark] .colab-df-convert {\n",
              "      background-color: #3B4455;\n",
              "      fill: #D2E3FC;\n",
              "    }\n",
              "\n",
              "    [theme=dark] .colab-df-convert:hover {\n",
              "      background-color: #434B5C;\n",
              "      box-shadow: 0px 1px 3px 1px rgba(0, 0, 0, 0.15);\n",
              "      filter: drop-shadow(0px 1px 2px rgba(0, 0, 0, 0.3));\n",
              "      fill: #FFFFFF;\n",
              "    }\n",
              "  </style>\n",
              "\n",
              "      <script>\n",
              "        const buttonEl =\n",
              "          document.querySelector('#df-bb905963-8553-46a8-9b22-ff5eac2c08e5 button.colab-df-convert');\n",
              "        buttonEl.style.display =\n",
              "          google.colab.kernel.accessAllowed ? 'block' : 'none';\n",
              "\n",
              "        async function convertToInteractive(key) {\n",
              "          const element = document.querySelector('#df-bb905963-8553-46a8-9b22-ff5eac2c08e5');\n",
              "          const dataTable =\n",
              "            await google.colab.kernel.invokeFunction('convertToInteractive',\n",
              "                                                     [key], {});\n",
              "          if (!dataTable) return;\n",
              "\n",
              "          const docLinkHtml = 'Like what you see? Visit the ' +\n",
              "            '<a target=\"_blank\" href=https://colab.research.google.com/notebooks/data_table.ipynb>data table notebook</a>'\n",
              "            + ' to learn more about interactive tables.';\n",
              "          element.innerHTML = '';\n",
              "          dataTable['output_type'] = 'display_data';\n",
              "          await google.colab.output.renderOutput(dataTable, element);\n",
              "          const docLink = document.createElement('div');\n",
              "          docLink.innerHTML = docLinkHtml;\n",
              "          element.appendChild(docLink);\n",
              "        }\n",
              "      </script>\n",
              "    </div>\n",
              "  </div>\n",
              "  "
            ]
          },
          "metadata": {},
          "execution_count": 29
        }
      ]
    },
    {
      "cell_type": "code",
      "source": [
        "#Loading a combined data of HVI Score, Number of Trees and Health Diseases. The data was joined using ArcGIS using spatial join of TractID\n",
        "combined_data = pd.read_csv('/content/drive/Shareddrives/PUS2022/Heat_Trees_project/combined.csv')\n",
        "combined_data.head()"
      ],
      "metadata": {
        "id": "9STVYwhusf1J",
        "outputId": "044196e6-7a98-4cf7-f6e4-8e7330ef956e",
        "colab": {
          "base_uri": "https://localhost:8080/",
          "height": 560
        }
      },
      "execution_count": 34,
      "outputs": [
        {
          "output_type": "execute_result",
          "data": {
            "text/plain": [
              "  StateAbbr     PlaceName  PlaceFIPS    TractFIPS        Place_TractID  \\\n",
              "0        PA  Philadelphia    4260000  42101000100  4260000-42101000100   \n",
              "1        PA  Philadelphia    4260000  42101000200  4260000-42101000200   \n",
              "2        PA  Philadelphia    4260000  42101000300  4260000-42101000300   \n",
              "3        PA  Philadelphia    4260000  42101000401  4260000-42101000401   \n",
              "4        PA  Philadelphia    4260000  42101000402  4260000-42101000402   \n",
              "\n",
              "   Population2010  ACCESS2_CrudePrev ACCESS2_Crude95CI  ARTHRITIS_CrudePrev  \\\n",
              "0            3478                5.4      ( 4.3,  7.5)                 13.0   \n",
              "1            2937               14.8      (11.8, 18.0)                 18.2   \n",
              "2            3169                6.2      ( 5.0,  7.8)                 18.2   \n",
              "3            2125                7.7      ( 5.8, 10.1)                 19.6   \n",
              "4            3142                5.8      ( 4.7,  7.2)                 29.0   \n",
              "\n",
              "  ARTHRITIS_Crude95CI  ...  SLEEP_Crude95CI STROKE_CrudePrev  \\\n",
              "0        (12.3, 13.9)  ...     (31.6, 35.5)              1.1   \n",
              "1        (17.3, 19.2)  ...     (40.7, 44.1)              3.3   \n",
              "2        (17.4, 19.0)  ...     (32.3, 35.2)              1.9   \n",
              "3        (18.9, 20.5)  ...     (34.2, 37.3)              2.5   \n",
              "4        (27.5, 30.8)  ...     (28.7, 31.6)              3.1   \n",
              "\n",
              "   STROKE_Crude95CI TEETHLOST_CrudePrev  TEETHLOST_Crude95CI  \\\n",
              "0      ( 1.0,  1.2)                 5.5         ( 3.6,  8.6)   \n",
              "1      ( 2.9,  3.7)                14.5         ( 7.4, 22.6)   \n",
              "2      ( 1.7,  2.2)                 6.8         ( 4.3, 10.8)   \n",
              "3      ( 2.3,  2.8)                 9.2         ( 6.0, 13.1)   \n",
              "4      ( 2.6,  3.7)                 6.4         ( 3.8, 11.2)   \n",
              "\n",
              "                        Geolocation  HVI_SCORE  \\\n",
              "0  (39.95238276040, -75.1466628627)  -3.477334   \n",
              "1  (39.95539990180, -75.1569774999)   1.652408   \n",
              "2  (39.95710584440, -75.1709368581)  -1.576464   \n",
              "3  (39.95413660830, -75.1765601839)  -1.554901   \n",
              "4  (39.95329732390, -75.1686952355)   0.232113   \n",
              "\n",
              "                                            geometry  num_trees   ave_dbh  \n",
              "0  POLYGON ((-75.1414721327397 39.9517072267047, ...     1060.0  9.975472  \n",
              "1  POLYGON ((-75.162377698504 39.9576545523082, -...      252.0  9.106000  \n",
              "2  POLYGON ((-75.1782048283904 39.9598134132842, ...     1086.0  8.928177  \n",
              "3  POLYGON ((-75.1729917788024 39.9546437050483, ...      253.0  6.106719  \n",
              "4  POLYGON ((-75.1633313650233 39.9533392100125, ...      393.0  5.877303  \n",
              "\n",
              "[5 rows x 67 columns]"
            ],
            "text/html": [
              "\n",
              "  <div id=\"df-a02998b0-625e-474d-b732-4a9fc5898f8e\">\n",
              "    <div class=\"colab-df-container\">\n",
              "      <div>\n",
              "<style scoped>\n",
              "    .dataframe tbody tr th:only-of-type {\n",
              "        vertical-align: middle;\n",
              "    }\n",
              "\n",
              "    .dataframe tbody tr th {\n",
              "        vertical-align: top;\n",
              "    }\n",
              "\n",
              "    .dataframe thead th {\n",
              "        text-align: right;\n",
              "    }\n",
              "</style>\n",
              "<table border=\"1\" class=\"dataframe\">\n",
              "  <thead>\n",
              "    <tr style=\"text-align: right;\">\n",
              "      <th></th>\n",
              "      <th>StateAbbr</th>\n",
              "      <th>PlaceName</th>\n",
              "      <th>PlaceFIPS</th>\n",
              "      <th>TractFIPS</th>\n",
              "      <th>Place_TractID</th>\n",
              "      <th>Population2010</th>\n",
              "      <th>ACCESS2_CrudePrev</th>\n",
              "      <th>ACCESS2_Crude95CI</th>\n",
              "      <th>ARTHRITIS_CrudePrev</th>\n",
              "      <th>ARTHRITIS_Crude95CI</th>\n",
              "      <th>...</th>\n",
              "      <th>SLEEP_Crude95CI</th>\n",
              "      <th>STROKE_CrudePrev</th>\n",
              "      <th>STROKE_Crude95CI</th>\n",
              "      <th>TEETHLOST_CrudePrev</th>\n",
              "      <th>TEETHLOST_Crude95CI</th>\n",
              "      <th>Geolocation</th>\n",
              "      <th>HVI_SCORE</th>\n",
              "      <th>geometry</th>\n",
              "      <th>num_trees</th>\n",
              "      <th>ave_dbh</th>\n",
              "    </tr>\n",
              "  </thead>\n",
              "  <tbody>\n",
              "    <tr>\n",
              "      <th>0</th>\n",
              "      <td>PA</td>\n",
              "      <td>Philadelphia</td>\n",
              "      <td>4260000</td>\n",
              "      <td>42101000100</td>\n",
              "      <td>4260000-42101000100</td>\n",
              "      <td>3478</td>\n",
              "      <td>5.4</td>\n",
              "      <td>( 4.3,  7.5)</td>\n",
              "      <td>13.0</td>\n",
              "      <td>(12.3, 13.9)</td>\n",
              "      <td>...</td>\n",
              "      <td>(31.6, 35.5)</td>\n",
              "      <td>1.1</td>\n",
              "      <td>( 1.0,  1.2)</td>\n",
              "      <td>5.5</td>\n",
              "      <td>( 3.6,  8.6)</td>\n",
              "      <td>(39.95238276040, -75.1466628627)</td>\n",
              "      <td>-3.477334</td>\n",
              "      <td>POLYGON ((-75.1414721327397 39.9517072267047, ...</td>\n",
              "      <td>1060.0</td>\n",
              "      <td>9.975472</td>\n",
              "    </tr>\n",
              "    <tr>\n",
              "      <th>1</th>\n",
              "      <td>PA</td>\n",
              "      <td>Philadelphia</td>\n",
              "      <td>4260000</td>\n",
              "      <td>42101000200</td>\n",
              "      <td>4260000-42101000200</td>\n",
              "      <td>2937</td>\n",
              "      <td>14.8</td>\n",
              "      <td>(11.8, 18.0)</td>\n",
              "      <td>18.2</td>\n",
              "      <td>(17.3, 19.2)</td>\n",
              "      <td>...</td>\n",
              "      <td>(40.7, 44.1)</td>\n",
              "      <td>3.3</td>\n",
              "      <td>( 2.9,  3.7)</td>\n",
              "      <td>14.5</td>\n",
              "      <td>( 7.4, 22.6)</td>\n",
              "      <td>(39.95539990180, -75.1569774999)</td>\n",
              "      <td>1.652408</td>\n",
              "      <td>POLYGON ((-75.162377698504 39.9576545523082, -...</td>\n",
              "      <td>252.0</td>\n",
              "      <td>9.106000</td>\n",
              "    </tr>\n",
              "    <tr>\n",
              "      <th>2</th>\n",
              "      <td>PA</td>\n",
              "      <td>Philadelphia</td>\n",
              "      <td>4260000</td>\n",
              "      <td>42101000300</td>\n",
              "      <td>4260000-42101000300</td>\n",
              "      <td>3169</td>\n",
              "      <td>6.2</td>\n",
              "      <td>( 5.0,  7.8)</td>\n",
              "      <td>18.2</td>\n",
              "      <td>(17.4, 19.0)</td>\n",
              "      <td>...</td>\n",
              "      <td>(32.3, 35.2)</td>\n",
              "      <td>1.9</td>\n",
              "      <td>( 1.7,  2.2)</td>\n",
              "      <td>6.8</td>\n",
              "      <td>( 4.3, 10.8)</td>\n",
              "      <td>(39.95710584440, -75.1709368581)</td>\n",
              "      <td>-1.576464</td>\n",
              "      <td>POLYGON ((-75.1782048283904 39.9598134132842, ...</td>\n",
              "      <td>1086.0</td>\n",
              "      <td>8.928177</td>\n",
              "    </tr>\n",
              "    <tr>\n",
              "      <th>3</th>\n",
              "      <td>PA</td>\n",
              "      <td>Philadelphia</td>\n",
              "      <td>4260000</td>\n",
              "      <td>42101000401</td>\n",
              "      <td>4260000-42101000401</td>\n",
              "      <td>2125</td>\n",
              "      <td>7.7</td>\n",
              "      <td>( 5.8, 10.1)</td>\n",
              "      <td>19.6</td>\n",
              "      <td>(18.9, 20.5)</td>\n",
              "      <td>...</td>\n",
              "      <td>(34.2, 37.3)</td>\n",
              "      <td>2.5</td>\n",
              "      <td>( 2.3,  2.8)</td>\n",
              "      <td>9.2</td>\n",
              "      <td>( 6.0, 13.1)</td>\n",
              "      <td>(39.95413660830, -75.1765601839)</td>\n",
              "      <td>-1.554901</td>\n",
              "      <td>POLYGON ((-75.1729917788024 39.9546437050483, ...</td>\n",
              "      <td>253.0</td>\n",
              "      <td>6.106719</td>\n",
              "    </tr>\n",
              "    <tr>\n",
              "      <th>4</th>\n",
              "      <td>PA</td>\n",
              "      <td>Philadelphia</td>\n",
              "      <td>4260000</td>\n",
              "      <td>42101000402</td>\n",
              "      <td>4260000-42101000402</td>\n",
              "      <td>3142</td>\n",
              "      <td>5.8</td>\n",
              "      <td>( 4.7,  7.2)</td>\n",
              "      <td>29.0</td>\n",
              "      <td>(27.5, 30.8)</td>\n",
              "      <td>...</td>\n",
              "      <td>(28.7, 31.6)</td>\n",
              "      <td>3.1</td>\n",
              "      <td>( 2.6,  3.7)</td>\n",
              "      <td>6.4</td>\n",
              "      <td>( 3.8, 11.2)</td>\n",
              "      <td>(39.95329732390, -75.1686952355)</td>\n",
              "      <td>0.232113</td>\n",
              "      <td>POLYGON ((-75.1633313650233 39.9533392100125, ...</td>\n",
              "      <td>393.0</td>\n",
              "      <td>5.877303</td>\n",
              "    </tr>\n",
              "  </tbody>\n",
              "</table>\n",
              "<p>5 rows × 67 columns</p>\n",
              "</div>\n",
              "      <button class=\"colab-df-convert\" onclick=\"convertToInteractive('df-a02998b0-625e-474d-b732-4a9fc5898f8e')\"\n",
              "              title=\"Convert this dataframe to an interactive table.\"\n",
              "              style=\"display:none;\">\n",
              "        \n",
              "  <svg xmlns=\"http://www.w3.org/2000/svg\" height=\"24px\"viewBox=\"0 0 24 24\"\n",
              "       width=\"24px\">\n",
              "    <path d=\"M0 0h24v24H0V0z\" fill=\"none\"/>\n",
              "    <path d=\"M18.56 5.44l.94 2.06.94-2.06 2.06-.94-2.06-.94-.94-2.06-.94 2.06-2.06.94zm-11 1L8.5 8.5l.94-2.06 2.06-.94-2.06-.94L8.5 2.5l-.94 2.06-2.06.94zm10 10l.94 2.06.94-2.06 2.06-.94-2.06-.94-.94-2.06-.94 2.06-2.06.94z\"/><path d=\"M17.41 7.96l-1.37-1.37c-.4-.4-.92-.59-1.43-.59-.52 0-1.04.2-1.43.59L10.3 9.45l-7.72 7.72c-.78.78-.78 2.05 0 2.83L4 21.41c.39.39.9.59 1.41.59.51 0 1.02-.2 1.41-.59l7.78-7.78 2.81-2.81c.8-.78.8-2.07 0-2.86zM5.41 20L4 18.59l7.72-7.72 1.47 1.35L5.41 20z\"/>\n",
              "  </svg>\n",
              "      </button>\n",
              "      \n",
              "  <style>\n",
              "    .colab-df-container {\n",
              "      display:flex;\n",
              "      flex-wrap:wrap;\n",
              "      gap: 12px;\n",
              "    }\n",
              "\n",
              "    .colab-df-convert {\n",
              "      background-color: #E8F0FE;\n",
              "      border: none;\n",
              "      border-radius: 50%;\n",
              "      cursor: pointer;\n",
              "      display: none;\n",
              "      fill: #1967D2;\n",
              "      height: 32px;\n",
              "      padding: 0 0 0 0;\n",
              "      width: 32px;\n",
              "    }\n",
              "\n",
              "    .colab-df-convert:hover {\n",
              "      background-color: #E2EBFA;\n",
              "      box-shadow: 0px 1px 2px rgba(60, 64, 67, 0.3), 0px 1px 3px 1px rgba(60, 64, 67, 0.15);\n",
              "      fill: #174EA6;\n",
              "    }\n",
              "\n",
              "    [theme=dark] .colab-df-convert {\n",
              "      background-color: #3B4455;\n",
              "      fill: #D2E3FC;\n",
              "    }\n",
              "\n",
              "    [theme=dark] .colab-df-convert:hover {\n",
              "      background-color: #434B5C;\n",
              "      box-shadow: 0px 1px 3px 1px rgba(0, 0, 0, 0.15);\n",
              "      filter: drop-shadow(0px 1px 2px rgba(0, 0, 0, 0.3));\n",
              "      fill: #FFFFFF;\n",
              "    }\n",
              "  </style>\n",
              "\n",
              "      <script>\n",
              "        const buttonEl =\n",
              "          document.querySelector('#df-a02998b0-625e-474d-b732-4a9fc5898f8e button.colab-df-convert');\n",
              "        buttonEl.style.display =\n",
              "          google.colab.kernel.accessAllowed ? 'block' : 'none';\n",
              "\n",
              "        async function convertToInteractive(key) {\n",
              "          const element = document.querySelector('#df-a02998b0-625e-474d-b732-4a9fc5898f8e');\n",
              "          const dataTable =\n",
              "            await google.colab.kernel.invokeFunction('convertToInteractive',\n",
              "                                                     [key], {});\n",
              "          if (!dataTable) return;\n",
              "\n",
              "          const docLinkHtml = 'Like what you see? Visit the ' +\n",
              "            '<a target=\"_blank\" href=https://colab.research.google.com/notebooks/data_table.ipynb>data table notebook</a>'\n",
              "            + ' to learn more about interactive tables.';\n",
              "          element.innerHTML = '';\n",
              "          dataTable['output_type'] = 'display_data';\n",
              "          await google.colab.output.renderOutput(dataTable, element);\n",
              "          const docLink = document.createElement('div');\n",
              "          docLink.innerHTML = docLinkHtml;\n",
              "          element.appendChild(docLink);\n",
              "        }\n",
              "      </script>\n",
              "    </div>\n",
              "  </div>\n",
              "  "
            ]
          },
          "metadata": {},
          "execution_count": 34
        }
      ]
    },
    {
      "cell_type": "code",
      "source": [
        "#Checking variables in the combined dataset\n",
        "combined_data.info()"
      ],
      "metadata": {
        "id": "vUnkH4LNtdXx",
        "outputId": "3163cb45-83f1-4e93-c377-40abe6a732a2",
        "colab": {
          "base_uri": "https://localhost:8080/"
        }
      },
      "execution_count": 35,
      "outputs": [
        {
          "output_type": "stream",
          "name": "stdout",
          "text": [
            "<class 'pandas.core.frame.DataFrame'>\n",
            "RangeIndex: 376 entries, 0 to 375\n",
            "Data columns (total 67 columns):\n",
            " #   Column                  Non-Null Count  Dtype  \n",
            "---  ------                  --------------  -----  \n",
            " 0   StateAbbr               376 non-null    object \n",
            " 1   PlaceName               376 non-null    object \n",
            " 2   PlaceFIPS               376 non-null    int64  \n",
            " 3   TractFIPS               376 non-null    int64  \n",
            " 4   Place_TractID           376 non-null    object \n",
            " 5   Population2010          376 non-null    int64  \n",
            " 6   ACCESS2_CrudePrev       376 non-null    float64\n",
            " 7   ACCESS2_Crude95CI       376 non-null    object \n",
            " 8   ARTHRITIS_CrudePrev     376 non-null    float64\n",
            " 9   ARTHRITIS_Crude95CI     376 non-null    object \n",
            " 10  BINGE_CrudePrev         376 non-null    float64\n",
            " 11  BINGE_Crude95CI         376 non-null    object \n",
            " 12  BPHIGH_CrudePrev        376 non-null    float64\n",
            " 13  BPHIGH_Crude95CI        376 non-null    object \n",
            " 14  BPMED_CrudePrev         376 non-null    float64\n",
            " 15  BPMED_Crude95CI         376 non-null    object \n",
            " 16  CANCER_CrudePrev        376 non-null    float64\n",
            " 17  CANCER_Crude95CI        376 non-null    object \n",
            " 18  CASTHMA_CrudePrev       376 non-null    float64\n",
            " 19  CASTHMA_Crude95CI       376 non-null    object \n",
            " 20  CHD_CrudePrev           376 non-null    float64\n",
            " 21  CHD_Crude95CI           376 non-null    object \n",
            " 22  CHECKUP_CrudePrev       376 non-null    float64\n",
            " 23  CHECKUP_Crude95CI       376 non-null    object \n",
            " 24  CHOLSCREEN_CrudePrev    376 non-null    float64\n",
            " 25  CHOLSCREEN_Crude95CI    376 non-null    object \n",
            " 26  COLON_SCREEN_CrudePrev  376 non-null    float64\n",
            " 27  COLON_SCREEN_Crude95CI  376 non-null    object \n",
            " 28  COPD_CrudePrev          376 non-null    float64\n",
            " 29  COPD_Crude95CI          376 non-null    object \n",
            " 30  COREM_CrudePrev         375 non-null    float64\n",
            " 31  COREM_Crude95CI         375 non-null    object \n",
            " 32  COREW_CrudePrev         375 non-null    float64\n",
            " 33  COREW_Crude95CI         375 non-null    object \n",
            " 34  CSMOKING_CrudePrev      376 non-null    float64\n",
            " 35  CSMOKING_Crude95CI      376 non-null    object \n",
            " 36  DENTAL_CrudePrev        376 non-null    float64\n",
            " 37  DENTAL_Crude95CI        376 non-null    object \n",
            " 38  DIABETES_CrudePrev      376 non-null    float64\n",
            " 39  DIABETES_Crude95CI      376 non-null    object \n",
            " 40  HIGHCHOL_CrudePrev      376 non-null    float64\n",
            " 41  HIGHCHOL_Crude95CI      376 non-null    object \n",
            " 42  KIDNEY_CrudePrev        376 non-null    float64\n",
            " 43  KIDNEY_Crude95CI        376 non-null    object \n",
            " 44  LPA_CrudePrev           376 non-null    float64\n",
            " 45  LPA_Crude95CI           376 non-null    object \n",
            " 46  MAMMOUSE_CrudePrev      376 non-null    float64\n",
            " 47  MAMMOUSE_Crude95CI      376 non-null    object \n",
            " 48  MHLTH_CrudePrev         376 non-null    float64\n",
            " 49  MHLTH_Crude95CI         376 non-null    object \n",
            " 50  OBESITY_CrudePrev       376 non-null    float64\n",
            " 51  OBESITY_Crude95CI       376 non-null    object \n",
            " 52  PAPTEST_CrudePrev       376 non-null    float64\n",
            " 53  PAPTEST_Crude95CI       376 non-null    object \n",
            " 54  PHLTH_CrudePrev         376 non-null    float64\n",
            " 55  PHLTH_Crude95CI         376 non-null    object \n",
            " 56  SLEEP_CrudePrev         376 non-null    float64\n",
            " 57  SLEEP_Crude95CI         376 non-null    object \n",
            " 58  STROKE_CrudePrev        376 non-null    float64\n",
            " 59  STROKE_Crude95CI        376 non-null    object \n",
            " 60  TEETHLOST_CrudePrev     375 non-null    float64\n",
            " 61  TEETHLOST_Crude95CI     375 non-null    object \n",
            " 62  Geolocation             376 non-null    object \n",
            " 63  HVI_SCORE               374 non-null    float64\n",
            " 64  geometry                374 non-null    object \n",
            " 65  num_trees               374 non-null    float64\n",
            " 66  ave_dbh                 374 non-null    float64\n",
            "dtypes: float64(31), int64(3), object(33)\n",
            "memory usage: 196.9+ KB\n"
          ]
        }
      ]
    },
    {
      "cell_type": "code",
      "source": [
        "combined_data.describe()"
      ],
      "metadata": {
        "id": "KXlvg9Yg03On",
        "outputId": "2e3a0202-e331-4b75-cce8-415823efa311",
        "colab": {
          "base_uri": "https://localhost:8080/",
          "height": 394
        }
      },
      "execution_count": 36,
      "outputs": [
        {
          "output_type": "execute_result",
          "data": {
            "text/plain": [
              "       PlaceFIPS     TractFIPS  Population2010  ACCESS2_CrudePrev  \\\n",
              "count      376.0  3.760000e+02      376.000000         376.000000   \n",
              "mean   4260000.0  4.210103e+10     4058.377660          13.434309   \n",
              "std          0.0  9.958006e+04     1625.805143           5.792134   \n",
              "min    4260000.0  4.210100e+10       74.000000           4.100000   \n",
              "25%    4260000.0  4.210101e+10     2889.250000           9.175000   \n",
              "50%    4260000.0  4.210102e+10     3944.500000          12.700000   \n",
              "75%    4260000.0  4.210103e+10     5129.000000          16.200000   \n",
              "max    4260000.0  4.210199e+10     8322.000000          35.300000   \n",
              "\n",
              "       ARTHRITIS_CrudePrev  BINGE_CrudePrev  BPHIGH_CrudePrev  \\\n",
              "count           376.000000       376.000000        376.000000   \n",
              "mean             25.765160        20.179521         34.295479   \n",
              "std               6.111099         4.587412          9.248421   \n",
              "min               6.500000         8.500000         10.800000   \n",
              "25%              22.950000        16.500000         28.800000   \n",
              "50%              26.250000        19.300000         33.300000   \n",
              "75%              29.750000        23.400000         42.350000   \n",
              "max              50.900000        33.600000         56.400000   \n",
              "\n",
              "       BPMED_CrudePrev  CANCER_CrudePrev  CASTHMA_CrudePrev  ...  \\\n",
              "count       376.000000        376.000000         376.000000  ...   \n",
              "mean         74.481383          5.809043          11.589096  ...   \n",
              "std           7.225807          1.830824           1.809077  ...   \n",
              "min          33.500000          1.100000           8.200000  ...   \n",
              "25%          71.900000          4.700000          10.100000  ...   \n",
              "50%          75.300000          5.600000          11.400000  ...   \n",
              "75%          79.425000          6.600000          13.100000  ...   \n",
              "max          89.600000         18.700000          16.300000  ...   \n",
              "\n",
              "       MHLTH_CrudePrev  OBESITY_CrudePrev  PAPTEST_CrudePrev  PHLTH_CrudePrev  \\\n",
              "count       376.000000         376.000000         376.000000       376.000000   \n",
              "mean         16.168617          33.205585          81.397606        14.893085   \n",
              "std           3.726829           8.095460           2.848432         4.398158   \n",
              "min           8.200000          17.400000          65.100000         5.000000   \n",
              "25%          13.400000          26.200000          79.700000        11.875000   \n",
              "50%          16.000000          32.950000          81.600000        14.600000   \n",
              "75%          19.000000          40.600000          83.500000        18.200000   \n",
              "max          25.800000          48.800000          86.000000        24.800000   \n",
              "\n",
              "       SLEEP_CrudePrev  STROKE_CrudePrev  TEETHLOST_CrudePrev   HVI_SCORE  \\\n",
              "count       376.000000        376.000000           375.000000  374.000000   \n",
              "mean         42.241489          4.093883            19.860800    0.013235   \n",
              "std           5.865477          1.734325             8.798686    1.995821   \n",
              "min          28.800000          0.700000             3.800000   -6.188905   \n",
              "25%          37.000000          2.900000            12.600000   -1.365208   \n",
              "50%          42.850000          3.800000            19.000000    0.121218   \n",
              "75%          47.200000          5.200000            26.600000    1.415511   \n",
              "max          52.600000         10.300000            42.400000    5.062507   \n",
              "\n",
              "         num_trees     ave_dbh  \n",
              "count   374.000000  374.000000  \n",
              "mean    388.957219   12.928795  \n",
              "std     478.637155    4.388298  \n",
              "min       5.000000    1.476190  \n",
              "25%     190.250000    9.611777  \n",
              "50%     297.000000   12.735011  \n",
              "75%     463.000000   16.330889  \n",
              "max    8177.000000   23.890026  \n",
              "\n",
              "[8 rows x 34 columns]"
            ],
            "text/html": [
              "\n",
              "  <div id=\"df-05a9d35d-3e66-4ec4-aaba-e6dc1bdacc18\">\n",
              "    <div class=\"colab-df-container\">\n",
              "      <div>\n",
              "<style scoped>\n",
              "    .dataframe tbody tr th:only-of-type {\n",
              "        vertical-align: middle;\n",
              "    }\n",
              "\n",
              "    .dataframe tbody tr th {\n",
              "        vertical-align: top;\n",
              "    }\n",
              "\n",
              "    .dataframe thead th {\n",
              "        text-align: right;\n",
              "    }\n",
              "</style>\n",
              "<table border=\"1\" class=\"dataframe\">\n",
              "  <thead>\n",
              "    <tr style=\"text-align: right;\">\n",
              "      <th></th>\n",
              "      <th>PlaceFIPS</th>\n",
              "      <th>TractFIPS</th>\n",
              "      <th>Population2010</th>\n",
              "      <th>ACCESS2_CrudePrev</th>\n",
              "      <th>ARTHRITIS_CrudePrev</th>\n",
              "      <th>BINGE_CrudePrev</th>\n",
              "      <th>BPHIGH_CrudePrev</th>\n",
              "      <th>BPMED_CrudePrev</th>\n",
              "      <th>CANCER_CrudePrev</th>\n",
              "      <th>CASTHMA_CrudePrev</th>\n",
              "      <th>...</th>\n",
              "      <th>MHLTH_CrudePrev</th>\n",
              "      <th>OBESITY_CrudePrev</th>\n",
              "      <th>PAPTEST_CrudePrev</th>\n",
              "      <th>PHLTH_CrudePrev</th>\n",
              "      <th>SLEEP_CrudePrev</th>\n",
              "      <th>STROKE_CrudePrev</th>\n",
              "      <th>TEETHLOST_CrudePrev</th>\n",
              "      <th>HVI_SCORE</th>\n",
              "      <th>num_trees</th>\n",
              "      <th>ave_dbh</th>\n",
              "    </tr>\n",
              "  </thead>\n",
              "  <tbody>\n",
              "    <tr>\n",
              "      <th>count</th>\n",
              "      <td>376.0</td>\n",
              "      <td>3.760000e+02</td>\n",
              "      <td>376.000000</td>\n",
              "      <td>376.000000</td>\n",
              "      <td>376.000000</td>\n",
              "      <td>376.000000</td>\n",
              "      <td>376.000000</td>\n",
              "      <td>376.000000</td>\n",
              "      <td>376.000000</td>\n",
              "      <td>376.000000</td>\n",
              "      <td>...</td>\n",
              "      <td>376.000000</td>\n",
              "      <td>376.000000</td>\n",
              "      <td>376.000000</td>\n",
              "      <td>376.000000</td>\n",
              "      <td>376.000000</td>\n",
              "      <td>376.000000</td>\n",
              "      <td>375.000000</td>\n",
              "      <td>374.000000</td>\n",
              "      <td>374.000000</td>\n",
              "      <td>374.000000</td>\n",
              "    </tr>\n",
              "    <tr>\n",
              "      <th>mean</th>\n",
              "      <td>4260000.0</td>\n",
              "      <td>4.210103e+10</td>\n",
              "      <td>4058.377660</td>\n",
              "      <td>13.434309</td>\n",
              "      <td>25.765160</td>\n",
              "      <td>20.179521</td>\n",
              "      <td>34.295479</td>\n",
              "      <td>74.481383</td>\n",
              "      <td>5.809043</td>\n",
              "      <td>11.589096</td>\n",
              "      <td>...</td>\n",
              "      <td>16.168617</td>\n",
              "      <td>33.205585</td>\n",
              "      <td>81.397606</td>\n",
              "      <td>14.893085</td>\n",
              "      <td>42.241489</td>\n",
              "      <td>4.093883</td>\n",
              "      <td>19.860800</td>\n",
              "      <td>0.013235</td>\n",
              "      <td>388.957219</td>\n",
              "      <td>12.928795</td>\n",
              "    </tr>\n",
              "    <tr>\n",
              "      <th>std</th>\n",
              "      <td>0.0</td>\n",
              "      <td>9.958006e+04</td>\n",
              "      <td>1625.805143</td>\n",
              "      <td>5.792134</td>\n",
              "      <td>6.111099</td>\n",
              "      <td>4.587412</td>\n",
              "      <td>9.248421</td>\n",
              "      <td>7.225807</td>\n",
              "      <td>1.830824</td>\n",
              "      <td>1.809077</td>\n",
              "      <td>...</td>\n",
              "      <td>3.726829</td>\n",
              "      <td>8.095460</td>\n",
              "      <td>2.848432</td>\n",
              "      <td>4.398158</td>\n",
              "      <td>5.865477</td>\n",
              "      <td>1.734325</td>\n",
              "      <td>8.798686</td>\n",
              "      <td>1.995821</td>\n",
              "      <td>478.637155</td>\n",
              "      <td>4.388298</td>\n",
              "    </tr>\n",
              "    <tr>\n",
              "      <th>min</th>\n",
              "      <td>4260000.0</td>\n",
              "      <td>4.210100e+10</td>\n",
              "      <td>74.000000</td>\n",
              "      <td>4.100000</td>\n",
              "      <td>6.500000</td>\n",
              "      <td>8.500000</td>\n",
              "      <td>10.800000</td>\n",
              "      <td>33.500000</td>\n",
              "      <td>1.100000</td>\n",
              "      <td>8.200000</td>\n",
              "      <td>...</td>\n",
              "      <td>8.200000</td>\n",
              "      <td>17.400000</td>\n",
              "      <td>65.100000</td>\n",
              "      <td>5.000000</td>\n",
              "      <td>28.800000</td>\n",
              "      <td>0.700000</td>\n",
              "      <td>3.800000</td>\n",
              "      <td>-6.188905</td>\n",
              "      <td>5.000000</td>\n",
              "      <td>1.476190</td>\n",
              "    </tr>\n",
              "    <tr>\n",
              "      <th>25%</th>\n",
              "      <td>4260000.0</td>\n",
              "      <td>4.210101e+10</td>\n",
              "      <td>2889.250000</td>\n",
              "      <td>9.175000</td>\n",
              "      <td>22.950000</td>\n",
              "      <td>16.500000</td>\n",
              "      <td>28.800000</td>\n",
              "      <td>71.900000</td>\n",
              "      <td>4.700000</td>\n",
              "      <td>10.100000</td>\n",
              "      <td>...</td>\n",
              "      <td>13.400000</td>\n",
              "      <td>26.200000</td>\n",
              "      <td>79.700000</td>\n",
              "      <td>11.875000</td>\n",
              "      <td>37.000000</td>\n",
              "      <td>2.900000</td>\n",
              "      <td>12.600000</td>\n",
              "      <td>-1.365208</td>\n",
              "      <td>190.250000</td>\n",
              "      <td>9.611777</td>\n",
              "    </tr>\n",
              "    <tr>\n",
              "      <th>50%</th>\n",
              "      <td>4260000.0</td>\n",
              "      <td>4.210102e+10</td>\n",
              "      <td>3944.500000</td>\n",
              "      <td>12.700000</td>\n",
              "      <td>26.250000</td>\n",
              "      <td>19.300000</td>\n",
              "      <td>33.300000</td>\n",
              "      <td>75.300000</td>\n",
              "      <td>5.600000</td>\n",
              "      <td>11.400000</td>\n",
              "      <td>...</td>\n",
              "      <td>16.000000</td>\n",
              "      <td>32.950000</td>\n",
              "      <td>81.600000</td>\n",
              "      <td>14.600000</td>\n",
              "      <td>42.850000</td>\n",
              "      <td>3.800000</td>\n",
              "      <td>19.000000</td>\n",
              "      <td>0.121218</td>\n",
              "      <td>297.000000</td>\n",
              "      <td>12.735011</td>\n",
              "    </tr>\n",
              "    <tr>\n",
              "      <th>75%</th>\n",
              "      <td>4260000.0</td>\n",
              "      <td>4.210103e+10</td>\n",
              "      <td>5129.000000</td>\n",
              "      <td>16.200000</td>\n",
              "      <td>29.750000</td>\n",
              "      <td>23.400000</td>\n",
              "      <td>42.350000</td>\n",
              "      <td>79.425000</td>\n",
              "      <td>6.600000</td>\n",
              "      <td>13.100000</td>\n",
              "      <td>...</td>\n",
              "      <td>19.000000</td>\n",
              "      <td>40.600000</td>\n",
              "      <td>83.500000</td>\n",
              "      <td>18.200000</td>\n",
              "      <td>47.200000</td>\n",
              "      <td>5.200000</td>\n",
              "      <td>26.600000</td>\n",
              "      <td>1.415511</td>\n",
              "      <td>463.000000</td>\n",
              "      <td>16.330889</td>\n",
              "    </tr>\n",
              "    <tr>\n",
              "      <th>max</th>\n",
              "      <td>4260000.0</td>\n",
              "      <td>4.210199e+10</td>\n",
              "      <td>8322.000000</td>\n",
              "      <td>35.300000</td>\n",
              "      <td>50.900000</td>\n",
              "      <td>33.600000</td>\n",
              "      <td>56.400000</td>\n",
              "      <td>89.600000</td>\n",
              "      <td>18.700000</td>\n",
              "      <td>16.300000</td>\n",
              "      <td>...</td>\n",
              "      <td>25.800000</td>\n",
              "      <td>48.800000</td>\n",
              "      <td>86.000000</td>\n",
              "      <td>24.800000</td>\n",
              "      <td>52.600000</td>\n",
              "      <td>10.300000</td>\n",
              "      <td>42.400000</td>\n",
              "      <td>5.062507</td>\n",
              "      <td>8177.000000</td>\n",
              "      <td>23.890026</td>\n",
              "    </tr>\n",
              "  </tbody>\n",
              "</table>\n",
              "<p>8 rows × 34 columns</p>\n",
              "</div>\n",
              "      <button class=\"colab-df-convert\" onclick=\"convertToInteractive('df-05a9d35d-3e66-4ec4-aaba-e6dc1bdacc18')\"\n",
              "              title=\"Convert this dataframe to an interactive table.\"\n",
              "              style=\"display:none;\">\n",
              "        \n",
              "  <svg xmlns=\"http://www.w3.org/2000/svg\" height=\"24px\"viewBox=\"0 0 24 24\"\n",
              "       width=\"24px\">\n",
              "    <path d=\"M0 0h24v24H0V0z\" fill=\"none\"/>\n",
              "    <path d=\"M18.56 5.44l.94 2.06.94-2.06 2.06-.94-2.06-.94-.94-2.06-.94 2.06-2.06.94zm-11 1L8.5 8.5l.94-2.06 2.06-.94-2.06-.94L8.5 2.5l-.94 2.06-2.06.94zm10 10l.94 2.06.94-2.06 2.06-.94-2.06-.94-.94-2.06-.94 2.06-2.06.94z\"/><path d=\"M17.41 7.96l-1.37-1.37c-.4-.4-.92-.59-1.43-.59-.52 0-1.04.2-1.43.59L10.3 9.45l-7.72 7.72c-.78.78-.78 2.05 0 2.83L4 21.41c.39.39.9.59 1.41.59.51 0 1.02-.2 1.41-.59l7.78-7.78 2.81-2.81c.8-.78.8-2.07 0-2.86zM5.41 20L4 18.59l7.72-7.72 1.47 1.35L5.41 20z\"/>\n",
              "  </svg>\n",
              "      </button>\n",
              "      \n",
              "  <style>\n",
              "    .colab-df-container {\n",
              "      display:flex;\n",
              "      flex-wrap:wrap;\n",
              "      gap: 12px;\n",
              "    }\n",
              "\n",
              "    .colab-df-convert {\n",
              "      background-color: #E8F0FE;\n",
              "      border: none;\n",
              "      border-radius: 50%;\n",
              "      cursor: pointer;\n",
              "      display: none;\n",
              "      fill: #1967D2;\n",
              "      height: 32px;\n",
              "      padding: 0 0 0 0;\n",
              "      width: 32px;\n",
              "    }\n",
              "\n",
              "    .colab-df-convert:hover {\n",
              "      background-color: #E2EBFA;\n",
              "      box-shadow: 0px 1px 2px rgba(60, 64, 67, 0.3), 0px 1px 3px 1px rgba(60, 64, 67, 0.15);\n",
              "      fill: #174EA6;\n",
              "    }\n",
              "\n",
              "    [theme=dark] .colab-df-convert {\n",
              "      background-color: #3B4455;\n",
              "      fill: #D2E3FC;\n",
              "    }\n",
              "\n",
              "    [theme=dark] .colab-df-convert:hover {\n",
              "      background-color: #434B5C;\n",
              "      box-shadow: 0px 1px 3px 1px rgba(0, 0, 0, 0.15);\n",
              "      filter: drop-shadow(0px 1px 2px rgba(0, 0, 0, 0.3));\n",
              "      fill: #FFFFFF;\n",
              "    }\n",
              "  </style>\n",
              "\n",
              "      <script>\n",
              "        const buttonEl =\n",
              "          document.querySelector('#df-05a9d35d-3e66-4ec4-aaba-e6dc1bdacc18 button.colab-df-convert');\n",
              "        buttonEl.style.display =\n",
              "          google.colab.kernel.accessAllowed ? 'block' : 'none';\n",
              "\n",
              "        async function convertToInteractive(key) {\n",
              "          const element = document.querySelector('#df-05a9d35d-3e66-4ec4-aaba-e6dc1bdacc18');\n",
              "          const dataTable =\n",
              "            await google.colab.kernel.invokeFunction('convertToInteractive',\n",
              "                                                     [key], {});\n",
              "          if (!dataTable) return;\n",
              "\n",
              "          const docLinkHtml = 'Like what you see? Visit the ' +\n",
              "            '<a target=\"_blank\" href=https://colab.research.google.com/notebooks/data_table.ipynb>data table notebook</a>'\n",
              "            + ' to learn more about interactive tables.';\n",
              "          element.innerHTML = '';\n",
              "          dataTable['output_type'] = 'display_data';\n",
              "          await google.colab.output.renderOutput(dataTable, element);\n",
              "          const docLink = document.createElement('div');\n",
              "          docLink.innerHTML = docLinkHtml;\n",
              "          element.appendChild(docLink);\n",
              "        }\n",
              "      </script>\n",
              "    </div>\n",
              "  </div>\n",
              "  "
            ]
          },
          "metadata": {},
          "execution_count": 36
        }
      ]
    },
    {
      "cell_type": "code",
      "source": [
        "#Clipping the variables that will be used in the modelling based on the influence in the modelling\n",
        "combined_1 = combined_data[['Population2010', 'BPHIGH_CrudePrev', 'CANCER_CrudePrev', 'CASTHMA_CrudePrev', 'DIABETES_CrudePrev', 'OBESITY_CrudePrev', 'HVI_SCORE', 'num_trees', 'geometry']]\n",
        "combined_1.head()"
      ],
      "metadata": {
        "id": "Jc_vTUaktihP",
        "outputId": "d592228f-8df5-45f2-d13d-8273ce42a13c",
        "colab": {
          "base_uri": "https://localhost:8080/",
          "height": 530
        }
      },
      "execution_count": 50,
      "outputs": [
        {
          "output_type": "execute_result",
          "data": {
            "text/plain": [
              "   Population2010  BPHIGH_CrudePrev  CANCER_CrudePrev  CASTHMA_CrudePrev  \\\n",
              "0            3478              15.6               3.8                8.8   \n",
              "1            2937              28.8               3.6                8.6   \n",
              "2            3169              21.8               5.7                9.0   \n",
              "3            2125              26.3               5.7                8.9   \n",
              "4            3142              31.6              10.7                8.4   \n",
              "\n",
              "   DIABETES_CrudePrev  OBESITY_CrudePrev  HVI_SCORE  num_trees  \\\n",
              "0                 3.8               20.7  -3.477334     1060.0   \n",
              "1                13.4               23.4   1.652408      252.0   \n",
              "2                 6.1               21.4  -1.576464     1086.0   \n",
              "3                 9.2               21.6  -1.554901      253.0   \n",
              "4                 9.0               19.7   0.232113      393.0   \n",
              "\n",
              "                                            geometry  \n",
              "0  POLYGON ((-75.1414721327397 39.9517072267047, ...  \n",
              "1  POLYGON ((-75.162377698504 39.9576545523082, -...  \n",
              "2  POLYGON ((-75.1782048283904 39.9598134132842, ...  \n",
              "3  POLYGON ((-75.1729917788024 39.9546437050483, ...  \n",
              "4  POLYGON ((-75.1633313650233 39.9533392100125, ...  "
            ],
            "text/html": [
              "\n",
              "  <div id=\"df-fc6fd5a8-940e-4a54-9504-a87fe57ab221\">\n",
              "    <div class=\"colab-df-container\">\n",
              "      <div>\n",
              "<style scoped>\n",
              "    .dataframe tbody tr th:only-of-type {\n",
              "        vertical-align: middle;\n",
              "    }\n",
              "\n",
              "    .dataframe tbody tr th {\n",
              "        vertical-align: top;\n",
              "    }\n",
              "\n",
              "    .dataframe thead th {\n",
              "        text-align: right;\n",
              "    }\n",
              "</style>\n",
              "<table border=\"1\" class=\"dataframe\">\n",
              "  <thead>\n",
              "    <tr style=\"text-align: right;\">\n",
              "      <th></th>\n",
              "      <th>Population2010</th>\n",
              "      <th>BPHIGH_CrudePrev</th>\n",
              "      <th>CANCER_CrudePrev</th>\n",
              "      <th>CASTHMA_CrudePrev</th>\n",
              "      <th>DIABETES_CrudePrev</th>\n",
              "      <th>OBESITY_CrudePrev</th>\n",
              "      <th>HVI_SCORE</th>\n",
              "      <th>num_trees</th>\n",
              "      <th>geometry</th>\n",
              "    </tr>\n",
              "  </thead>\n",
              "  <tbody>\n",
              "    <tr>\n",
              "      <th>0</th>\n",
              "      <td>3478</td>\n",
              "      <td>15.6</td>\n",
              "      <td>3.8</td>\n",
              "      <td>8.8</td>\n",
              "      <td>3.8</td>\n",
              "      <td>20.7</td>\n",
              "      <td>-3.477334</td>\n",
              "      <td>1060.0</td>\n",
              "      <td>POLYGON ((-75.1414721327397 39.9517072267047, ...</td>\n",
              "    </tr>\n",
              "    <tr>\n",
              "      <th>1</th>\n",
              "      <td>2937</td>\n",
              "      <td>28.8</td>\n",
              "      <td>3.6</td>\n",
              "      <td>8.6</td>\n",
              "      <td>13.4</td>\n",
              "      <td>23.4</td>\n",
              "      <td>1.652408</td>\n",
              "      <td>252.0</td>\n",
              "      <td>POLYGON ((-75.162377698504 39.9576545523082, -...</td>\n",
              "    </tr>\n",
              "    <tr>\n",
              "      <th>2</th>\n",
              "      <td>3169</td>\n",
              "      <td>21.8</td>\n",
              "      <td>5.7</td>\n",
              "      <td>9.0</td>\n",
              "      <td>6.1</td>\n",
              "      <td>21.4</td>\n",
              "      <td>-1.576464</td>\n",
              "      <td>1086.0</td>\n",
              "      <td>POLYGON ((-75.1782048283904 39.9598134132842, ...</td>\n",
              "    </tr>\n",
              "    <tr>\n",
              "      <th>3</th>\n",
              "      <td>2125</td>\n",
              "      <td>26.3</td>\n",
              "      <td>5.7</td>\n",
              "      <td>8.9</td>\n",
              "      <td>9.2</td>\n",
              "      <td>21.6</td>\n",
              "      <td>-1.554901</td>\n",
              "      <td>253.0</td>\n",
              "      <td>POLYGON ((-75.1729917788024 39.9546437050483, ...</td>\n",
              "    </tr>\n",
              "    <tr>\n",
              "      <th>4</th>\n",
              "      <td>3142</td>\n",
              "      <td>31.6</td>\n",
              "      <td>10.7</td>\n",
              "      <td>8.4</td>\n",
              "      <td>9.0</td>\n",
              "      <td>19.7</td>\n",
              "      <td>0.232113</td>\n",
              "      <td>393.0</td>\n",
              "      <td>POLYGON ((-75.1633313650233 39.9533392100125, ...</td>\n",
              "    </tr>\n",
              "  </tbody>\n",
              "</table>\n",
              "</div>\n",
              "      <button class=\"colab-df-convert\" onclick=\"convertToInteractive('df-fc6fd5a8-940e-4a54-9504-a87fe57ab221')\"\n",
              "              title=\"Convert this dataframe to an interactive table.\"\n",
              "              style=\"display:none;\">\n",
              "        \n",
              "  <svg xmlns=\"http://www.w3.org/2000/svg\" height=\"24px\"viewBox=\"0 0 24 24\"\n",
              "       width=\"24px\">\n",
              "    <path d=\"M0 0h24v24H0V0z\" fill=\"none\"/>\n",
              "    <path d=\"M18.56 5.44l.94 2.06.94-2.06 2.06-.94-2.06-.94-.94-2.06-.94 2.06-2.06.94zm-11 1L8.5 8.5l.94-2.06 2.06-.94-2.06-.94L8.5 2.5l-.94 2.06-2.06.94zm10 10l.94 2.06.94-2.06 2.06-.94-2.06-.94-.94-2.06-.94 2.06-2.06.94z\"/><path d=\"M17.41 7.96l-1.37-1.37c-.4-.4-.92-.59-1.43-.59-.52 0-1.04.2-1.43.59L10.3 9.45l-7.72 7.72c-.78.78-.78 2.05 0 2.83L4 21.41c.39.39.9.59 1.41.59.51 0 1.02-.2 1.41-.59l7.78-7.78 2.81-2.81c.8-.78.8-2.07 0-2.86zM5.41 20L4 18.59l7.72-7.72 1.47 1.35L5.41 20z\"/>\n",
              "  </svg>\n",
              "      </button>\n",
              "      \n",
              "  <style>\n",
              "    .colab-df-container {\n",
              "      display:flex;\n",
              "      flex-wrap:wrap;\n",
              "      gap: 12px;\n",
              "    }\n",
              "\n",
              "    .colab-df-convert {\n",
              "      background-color: #E8F0FE;\n",
              "      border: none;\n",
              "      border-radius: 50%;\n",
              "      cursor: pointer;\n",
              "      display: none;\n",
              "      fill: #1967D2;\n",
              "      height: 32px;\n",
              "      padding: 0 0 0 0;\n",
              "      width: 32px;\n",
              "    }\n",
              "\n",
              "    .colab-df-convert:hover {\n",
              "      background-color: #E2EBFA;\n",
              "      box-shadow: 0px 1px 2px rgba(60, 64, 67, 0.3), 0px 1px 3px 1px rgba(60, 64, 67, 0.15);\n",
              "      fill: #174EA6;\n",
              "    }\n",
              "\n",
              "    [theme=dark] .colab-df-convert {\n",
              "      background-color: #3B4455;\n",
              "      fill: #D2E3FC;\n",
              "    }\n",
              "\n",
              "    [theme=dark] .colab-df-convert:hover {\n",
              "      background-color: #434B5C;\n",
              "      box-shadow: 0px 1px 3px 1px rgba(0, 0, 0, 0.15);\n",
              "      filter: drop-shadow(0px 1px 2px rgba(0, 0, 0, 0.3));\n",
              "      fill: #FFFFFF;\n",
              "    }\n",
              "  </style>\n",
              "\n",
              "      <script>\n",
              "        const buttonEl =\n",
              "          document.querySelector('#df-fc6fd5a8-940e-4a54-9504-a87fe57ab221 button.colab-df-convert');\n",
              "        buttonEl.style.display =\n",
              "          google.colab.kernel.accessAllowed ? 'block' : 'none';\n",
              "\n",
              "        async function convertToInteractive(key) {\n",
              "          const element = document.querySelector('#df-fc6fd5a8-940e-4a54-9504-a87fe57ab221');\n",
              "          const dataTable =\n",
              "            await google.colab.kernel.invokeFunction('convertToInteractive',\n",
              "                                                     [key], {});\n",
              "          if (!dataTable) return;\n",
              "\n",
              "          const docLinkHtml = 'Like what you see? Visit the ' +\n",
              "            '<a target=\"_blank\" href=https://colab.research.google.com/notebooks/data_table.ipynb>data table notebook</a>'\n",
              "            + ' to learn more about interactive tables.';\n",
              "          element.innerHTML = '';\n",
              "          dataTable['output_type'] = 'display_data';\n",
              "          await google.colab.output.renderOutput(dataTable, element);\n",
              "          const docLink = document.createElement('div');\n",
              "          docLink.innerHTML = docLinkHtml;\n",
              "          element.appendChild(docLink);\n",
              "        }\n",
              "      </script>\n",
              "    </div>\n",
              "  </div>\n",
              "  "
            ]
          },
          "metadata": {},
          "execution_count": 50
        }
      ]
    },
    {
      "cell_type": "markdown",
      "source": [
        "**Correlation Model prediction**"
      ],
      "metadata": {
        "id": "dtaDAzok1JHf"
      }
    },
    {
      "cell_type": "code",
      "source": [
        "#Running the correction model\n",
        "plt.imshow(combined_1.corr())\n",
        "plt.xticks(range(len(combined_1.corr())), combined_1.corr().columns, rotation='vertical')\n",
        "plt.yticks(range(len(combined_1.corr())), combined_1.corr().columns)\n",
        "plt.title(\"Correlation of Health Factors (Chronic diseases) with HVI Score and Number of trees\", fontsize = 14, pad=20)\n",
        "plt.colorbar();"
      ],
      "metadata": {
        "id": "AdCDZvM6upEY",
        "outputId": "e25d377c-f028-480f-ff8f-e95f7dd8d070",
        "colab": {
          "base_uri": "https://localhost:8080/",
          "height": 392
        }
      },
      "execution_count": 51,
      "outputs": [
        {
          "output_type": "display_data",
          "data": {
            "text/plain": [
              "<Figure size 432x288 with 2 Axes>"
            ],
            "image/png": "[encoded data removed]"
          },
          "metadata": {
            "needs_background": "light"
          }
        }
      ]
    },
    {
      "cell_type": "markdown",
      "source": [
        "**Figure 13:** Correlation between different health variables, HVI Score and Number of trees. There are two things from this analysis. Firstly, we learn that HVI Scores are associated with low Number of trees. This means that the less the trees in the census tract the high the heating effect. Secondly, we notice that High Blood  Pressure is also associated with low Number of trees. This indicates that in areas where the trees are feel, there is high occurence of High Blood Pressure."
      ],
      "metadata": {
        "id": "ocmCssqXvRC_"
      }
    },
    {
      "cell_type": "markdown",
      "source": [
        "**Random Forest Modelling: HVI Score prediction with health variables with number of trees**"
      ],
      "metadata": {
        "id": "SscGV82nwv9_"
      }
    },
    {
      "cell_type": "code",
      "source": [
        "x = combined_data[['Population2010', 'BPHIGH_CrudePrev', 'CANCER_CrudePrev', 'CASTHMA_CrudePrev', 'DIABETES_CrudePrev', 'OBESITY_CrudePrev', 'num_trees']]\n",
        "y = combined_data[['HVI_SCORE']]\n",
        "\n",
        "X_train, X_test, y_train, y_test = train_test_split(\n",
        "    x, y, test_size=0.3, random_state=1)\n"
      ],
      "metadata": {
        "id": "MY5emqvXwxAX"
      },
      "execution_count": 52,
      "outputs": []
    },
    {
      "cell_type": "code",
      "source": [
        "#Running the RF Model\n",
        "rf = RandomForestRegressor(max_depth=8, random_state=1, n_estimators=500, max_leaf_nodes = 30, min_samples_leaf = 50)\n",
        "rf.fit(X_train, y_train,)"
      ],
      "metadata": {
        "id": "fUiS2lXJxG_f",
        "outputId": "789c893c-1b39-4172-d740-810420df4e63",
        "colab": {
          "base_uri": "https://localhost:8080/"
        }
      },
      "execution_count": 53,
      "outputs": [
        {
          "output_type": "stream",
          "name": "stderr",
          "text": [
            "<ipython-input-53-cd82ce3972cb>:3: DataConversionWarning: A column-vector y was passed when a 1d array was expected. Please change the shape of y to (n_samples,), for example using ravel().\n",
            "  rf.fit(X_train, y_train,)\n"
          ]
        },
        {
          "output_type": "execute_result",
          "data": {
            "text/plain": [
              "RandomForestRegressor(max_depth=8, max_leaf_nodes=30, min_samples_leaf=50,\n",
              "                      n_estimators=500, random_state=1)"
            ]
          },
          "metadata": {},
          "execution_count": 53
        }
      ]
    },
    {
      "cell_type": "code",
      "source": [
        "#Creating feature names\n",
        "names = list(x.columns.values.tolist())\n",
        "\n",
        "feature_names = np.array(names)\n",
        "\n",
        "feature_names"
      ],
      "metadata": {
        "id": "ZnYOHm9PxeLv",
        "outputId": "f14ae8e8-78a4-4957-b953-218021788c9f",
        "colab": {
          "base_uri": "https://localhost:8080/"
        }
      },
      "execution_count": 54,
      "outputs": [
        {
          "output_type": "execute_result",
          "data": {
            "text/plain": [
              "array(['Population2010', 'BPHIGH_CrudePrev', 'CANCER_CrudePrev',\n",
              "       'CASTHMA_CrudePrev', 'DIABETES_CrudePrev', 'OBESITY_CrudePrev',\n",
              "       'num_trees'], dtype='<U18')"
            ]
          },
          "metadata": {},
          "execution_count": 54
        }
      ]
    },
    {
      "cell_type": "code",
      "source": [
        "#Running a RF feature importance\n",
        "sorted_idx = rf.feature_importances_.argsort()\n",
        "plt.barh(feature_names[sorted_idx], rf.feature_importances_[sorted_idx])\n",
        "plt.xlabel(\"Random Forest Feature Importance\")"
      ],
      "metadata": {
        "id": "EpwCS6Q3xfU3",
        "outputId": "8e3806fc-42f0-4b81-dd3b-b845638b1c98",
        "colab": {
          "base_uri": "https://localhost:8080/",
          "height": 296
        }
      },
      "execution_count": 55,
      "outputs": [
        {
          "output_type": "execute_result",
          "data": {
            "text/plain": [
              "Text(0.5, 0, 'Random Forest Feature Importance')"
            ]
          },
          "metadata": {},
          "execution_count": 55
        },
        {
          "output_type": "display_data",
          "data": {
            "text/plain": [
              "<Figure size 432x288 with 1 Axes>"
            ],
            "image/png": "[encoded data removed]"
          },
          "metadata": {
            "needs_background": "light"
          }
        }
      ]
    },
    {
      "cell_type": "markdown",
      "source": [
        "**Figure 14** Importance on the prediction of HVI Score for each input variable (Diseases), with the inclusion of Number of trees. Based on our model analysis, Diabetes, Number of trees and High Blood Pressure are the variables that have highly influence on HVI Score. And population with a lower influnce on the HVI Score in the census tracts. These results indicate that the less the number of trees the more heating effect is experienced in the areas. And the more HVI Score is, the high the disease such as Diabetes and High Blood Pressure. These results are similar with the correlation analysis done above. "
      ],
      "metadata": {
        "id": "pp4nuKLhx4sg"
      }
    },
    {
      "cell_type": "markdown",
      "source": [
        "**End of Modelling and Analysis** \n",
        "\n",
        "**Data Science is Fun**"
      ],
      "metadata": {
        "id": "80H5ELwr1pNO"
      }
    }
  ]
}