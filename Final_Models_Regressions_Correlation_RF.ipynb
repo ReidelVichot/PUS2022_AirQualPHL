{
  "nbformat": 4,
  "nbformat_minor": 0,
  "metadata": {
    "colab": {
      "provenance": [],
      "include_colab_link": true
    },
    "kernelspec": {
      "name": "python3",
      "display_name": "Python 3"
    },
    "language_info": {
      "name": "python"
    }
  },
  "cells": [
    {
      "cell_type": "markdown",
      "metadata": {
        "id": "view-in-github",
        "colab_type": "text"
      },
      "source": [
        "<a href=\"https://colab.research.google.com/github/ReidelVichot/PUS2022_Heat-TreesPHL/blob/main/Final_Models_Regressions_Correlation_RF.ipynb\" target=\"_parent\"><img src=\"https://colab.research.google.com/assets/colab-badge.svg\" alt=\"Open In Colab\"/></a>"
      ]
    },
    {
      "cell_type": "markdown",
      "source": [
        "## Influence of spatial distribution of trees on micro (local) heat vulnerability in Philadelphia and relationship on chronic diseases"
      ],
      "metadata": {
        "id": "-vEYsDzj2tra"
      }
    },
    {
      "cell_type": "markdown",
      "source": [
        "**Abstract**: This project was aimed at assessing the importance of urban tree distribution in addressing effects of a great phenomenon known as Urban Heat Island (UHI). UHI is a kind of heat accumulation phenomenon within urban areas due to urban construction and human activities. These affect most cities including the City of Philadelphia, PA. Therefore, distribution of UHI and how trees contribute to its cooling effect is vital to the well-being of the city residents since this have influence on chronic diseases of residents. This analysis used linear regression, Correlation and Random Forest machine learning techniques to understand the relationship between the spatial distributions of trees in the neighborhood and heating vulnerability. HVI Score and Number pf trees was also be used to predict health factors in Philadelphia such as diabetes and blood pressure."
      ],
      "metadata": {
        "id": "j2-o0m4O3Ayu"
      }
    },
    {
      "cell_type": "markdown",
      "source": [
        "**Data:** Was collected at the census tract level\n",
        "\n",
        "**1. Heat Vulnerability by Census Tract**  for 2017-2019 were obtained from **Open Data Philly** through the URL https://www.opendataphilly.org/dataset?q=Heat+Vulnerability+by+Census+Tract\n",
        "\n",
        "**2. Philadelphia Tree Inventory** for 2021 were obtained from **Open Data Philly** through the URL https://www.opendataphilly.org/dataset/philadelphia-tree-inventory \n",
        "\n",
        "**3. Health factor variables** were obtained from the CDC 500 Cities dataset: https://chronicdata.cdc.gov/500-Cities-Places/500-Cities-Local-Data-for-Better-Health-2019-relea/6vp6-wxuq\n",
        "\n",
        "\n",
        "> Blood_Pressure: Percentage of population with high blood pressure\n",
        "\n",
        "> Cancer: Percentage of the population with cancer\n",
        "\n",
        "> Heart_Disease: Percentage of the population with coronary heart disease\n",
        "\n",
        "> Pulmonary_Disease: Percentage of the population with chronic pulmonary diease\n",
        "\n",
        "> Diabetes: Percentage of the population with diabetes\n",
        "\n",
        "> Stroke: Percentage of the population experiencing strokes\n",
        "\n",
        "> Obesity: Percentage of the population with obesity\n",
        "\n",
        " \n",
        "\n",
        "**NOTE: Only the choosen chronic disease attributes**\n"
      ],
      "metadata": {
        "id": "hsUe9mRI46rm"
      }
    },
    {
      "cell_type": "markdown",
      "source": [
        "**Install and import packages**"
      ],
      "metadata": {
        "id": "R3sFcbDPBHbF"
      }
    },
    {
      "cell_type": "code",
      "source": [
        "!pip install geopandas"
      ],
      "metadata": {
        "id": "ThXtGHUc3Hl8",
        "outputId": "fea5539a-ee31-4e4d-dc1a-dcee8378a6fc",
        "colab": {
          "base_uri": "https://localhost:8080/"
        }
      },
      "execution_count": null,
      "outputs": [
        {
          "output_type": "stream",
          "name": "stdout",
          "text": [
            "Looking in indexes: https://pypi.org/simple, https://us-python.pkg.dev/colab-wheels/public/simple/\n",
            "Requirement already satisfied: geopandas in /usr/local/lib/python3.8/dist-packages (0.12.1)\n",
            "Requirement already satisfied: fiona>=1.8 in /usr/local/lib/python3.8/dist-packages (from geopandas) (1.8.22)\n",
            "Requirement already satisfied: pyproj>=2.6.1.post1 in /usr/local/lib/python3.8/dist-packages (from geopandas) (3.4.0)\n",
            "Requirement already satisfied: shapely>=1.7 in /usr/local/lib/python3.8/dist-packages (from geopandas) (1.8.5.post1)\n",
            "Requirement already satisfied: packaging in /usr/local/lib/python3.8/dist-packages (from geopandas) (21.3)\n",
            "Requirement already satisfied: pandas>=1.0.0 in /usr/local/lib/python3.8/dist-packages (from geopandas) (1.3.5)\n",
            "Requirement already satisfied: setuptools in /usr/local/lib/python3.8/dist-packages (from fiona>=1.8->geopandas) (57.4.0)\n",
            "Requirement already satisfied: cligj>=0.5 in /usr/local/lib/python3.8/dist-packages (from fiona>=1.8->geopandas) (0.7.2)\n",
            "Requirement already satisfied: click-plugins>=1.0 in /usr/local/lib/python3.8/dist-packages (from fiona>=1.8->geopandas) (1.1.1)\n",
            "Requirement already satisfied: click>=4.0 in /usr/local/lib/python3.8/dist-packages (from fiona>=1.8->geopandas) (7.1.2)\n",
            "Requirement already satisfied: certifi in /usr/local/lib/python3.8/dist-packages (from fiona>=1.8->geopandas) (2022.9.24)\n",
            "Requirement already satisfied: attrs>=17 in /usr/local/lib/python3.8/dist-packages (from fiona>=1.8->geopandas) (22.1.0)\n",
            "Requirement already satisfied: six>=1.7 in /usr/local/lib/python3.8/dist-packages (from fiona>=1.8->geopandas) (1.15.0)\n",
            "Requirement already satisfied: munch in /usr/local/lib/python3.8/dist-packages (from fiona>=1.8->geopandas) (2.5.0)\n",
            "Requirement already satisfied: pytz>=2017.3 in /usr/local/lib/python3.8/dist-packages (from pandas>=1.0.0->geopandas) (2022.6)\n",
            "Requirement already satisfied: numpy>=1.17.3 in /usr/local/lib/python3.8/dist-packages (from pandas>=1.0.0->geopandas) (1.21.6)\n",
            "Requirement already satisfied: python-dateutil>=2.7.3 in /usr/local/lib/python3.8/dist-packages (from pandas>=1.0.0->geopandas) (2.8.2)\n",
            "Requirement already satisfied: pyparsing!=3.0.5,>=2.0.2 in /usr/local/lib/python3.8/dist-packages (from packaging->geopandas) (3.0.9)\n"
          ]
        }
      ]
    },
    {
      "cell_type": "code",
      "execution_count": null,
      "metadata": {
        "id": "gfr_BidW2626",
        "outputId": "6ecfda01-f294-46fa-e449-d10b21a0110b",
        "colab": {
          "base_uri": "https://localhost:8080/"
        }
      },
      "outputs": [
        {
          "output_type": "stream",
          "name": "stdout",
          "text": [
            "Drive already mounted at /content/drive; to attempt to forcibly remount, call drive.mount(\"/content/drive\", force_remount=True).\n"
          ]
        }
      ],
      "source": [
        "import geopandas as gpd\n",
        "import pandas as pd\n",
        "import matplotlib.pyplot as plt\n",
        "import numpy as np\n",
        "from sklearn.linear_model import LinearRegression\n",
        "import statsmodels.api as sm\n",
        "from scipy import stats\n",
        "\n",
        "#connecting to the google drive and getting the data\n",
        "from google.colab import drive\n",
        "drive.mount('/content/drive')\n",
        "\n",
        "#Files from the drive\n",
        "ct_tree_file = \"/content/drive/Shareddrives/PUS2022/Heat_Trees_project/ct_trees.csv\"\n",
        "heat_file = \"/content/drive/Shareddrives/PUS2022/Heat_Trees_project/heat.csv\"\n",
        "\n",
        "ct_tree = pd.read_csv(ct_tree_file)\n",
        "heat = pd.read_csv(heat_file)\n"
      ]
    },
    {
      "cell_type": "code",
      "source": [
        "from sklearn.model_selection import train_test_split\n",
        "from sklearn.ensemble import RandomForestRegressor"
      ],
      "metadata": {
        "id": "voSxha5cxSxm"
      },
      "execution_count": null,
      "outputs": []
    },
    {
      "cell_type": "code",
      "source": [
        "fig, ax = plt.subplots(1,2, figsize=(10, 5))\n",
        "heat.plot(\"num_trees\", \"HVI_SCORE\", kind=\"scatter\",ax=ax[0])\n",
        "ax[0].set_xlabel(\"number of trees per census tract\")\n",
        "ax[0].set_ylabel(\"Heat Vulnerability Index\")\n",
        "heat.plot(\"ave_dbh\", \"HVI_SCORE\", kind=\"scatter\", ax=ax[1])\n",
        "ax[1].set_xlabel(\"average diameter of trees\")\n",
        "ax[1].set_ylabel(\"Heat Vulnerability Index\")\n",
        "ax[0].set_title('Trees per Census Tract')\n",
        "ax[1].set_title('Average Diameter of Trees per Census Tract')\n",
        "\n",
        "\n",
        "fig.show()"
      ],
      "metadata": {
        "colab": {
          "base_uri": "https://localhost:8080/",
          "height": 350
        },
        "id": "5509wxRnbase",
        "outputId": "9ea6b6f4-cc71-46c6-d707-b5785eaf9d90"
      },
      "execution_count": null,
      "outputs": [
        {
          "output_type": "display_data",
          "data": {
            "text/plain": [
              "<Figure size 720x360 with 2 Axes>"
            ],
            "image/png": "[encoded data removed]"
          },
          "metadata": {
            "needs_background": "light"
          }
        }
      ]
    },
    {
      "cell_type": "markdown",
      "source": [
        "**Figure 1** The scatter plot for number of trees per census tract seems to be dominated by outliers. It will be necessary to eliminate some outliers to continue with the analysis. The scatter plot of the average diameter of trees per census tract has also som outliers, but it does not seem to be any relationship between the average diamater of the trees and heat vulnerability.  "
      ],
      "metadata": {
        "id": "gdpjQOzXCErf"
      }
    },
    {
      "cell_type": "code",
      "source": [
        "heat.num_trees.hist()\n",
        "#there is an important outlier"
      ],
      "metadata": {
        "colab": {
          "base_uri": "https://localhost:8080/",
          "height": 283
        },
        "id": "JQQbw6LRVGqe",
        "outputId": "57dfeadc-967f-4e94-b375-0d5f60a87754"
      },
      "execution_count": null,
      "outputs": [
        {
          "output_type": "execute_result",
          "data": {
            "text/plain": [
              "<matplotlib.axes._subplots.AxesSubplot at 0x7f3f5f680460>"
            ]
          },
          "metadata": {},
          "execution_count": 110
        },
        {
          "output_type": "display_data",
          "data": {
            "text/plain": [
              "<Figure size 432x288 with 1 Axes>"
            ],
            "image/png": "[encoded data removed]"
          },
          "metadata": {
            "needs_background": "light"
          }
        }
      ]
    },
    {
      "cell_type": "markdown",
      "source": [
        "**Figure 2** This figure demostrates the need for removing outliers."
      ],
      "metadata": {
        "id": "D2cE_I0uCLzy"
      }
    },
    {
      "cell_type": "code",
      "source": [
        "#removing outliers\n",
        "heat = heat[heat['num_trees']<3000]"
      ],
      "metadata": {
        "id": "NDRglEjrY9y7"
      },
      "execution_count": null,
      "outputs": []
    },
    {
      "cell_type": "code",
      "source": [
        "heat.num_trees.hist()\n"
      ],
      "metadata": {
        "colab": {
          "base_uri": "https://localhost:8080/",
          "height": 283
        },
        "id": "lONdf3n-ZOFH",
        "outputId": "444c814b-8dd3-47fa-f958-a059552529a3"
      },
      "execution_count": null,
      "outputs": [
        {
          "output_type": "execute_result",
          "data": {
            "text/plain": [
              "<matplotlib.axes._subplots.AxesSubplot at 0x7f3f5fa53cd0>"
            ]
          },
          "metadata": {},
          "execution_count": 112
        },
        {
          "output_type": "display_data",
          "data": {
            "text/plain": [
              "<Figure size 432x288 with 1 Axes>"
            ],
            "image/png": "[encoded data removed]"
          },
          "metadata": {
            "needs_background": "light"
          }
        }
      ]
    },
    {
      "cell_type": "markdown",
      "source": [
        "**Figure 3** Once that the oulier is removed, the histogram looks like a very skewed gaussian distribution. Most of the information seems to be to the lower side of the graph, meaning that most census tracts have less than 500 trees."
      ],
      "metadata": {
        "id": "6E1o0XqyCOGV"
      }
    },
    {
      "cell_type": "code",
      "source": [
        "#calculating the log of the variables\n",
        "heat[\"log_num_trees\"] = np.log10(heat.num_trees)\n",
        "heat[\"log_ave_dbh\"] = np.log10(heat.ave_dbh);\n",
        "heat[\"dbh_trees\"] = heat[\"ave_dbh\"] * heat[\"num_trees\"]"
      ],
      "metadata": {
        "id": "x323NPHHDCXj",
        "colab": {
          "base_uri": "https://localhost:8080/"
        },
        "outputId": "02af5eb3-5075-4d8c-fe05-31d313a421ab"
      },
      "execution_count": null,
      "outputs": [
        {
          "output_type": "stream",
          "name": "stderr",
          "text": [
            "<ipython-input-113-5f06d5c236c3>:2: SettingWithCopyWarning: \n",
            "A value is trying to be set on a copy of a slice from a DataFrame.\n",
            "Try using .loc[row_indexer,col_indexer] = value instead\n",
            "\n",
            "See the caveats in the documentation: https://pandas.pydata.org/pandas-docs/stable/user_guide/indexing.html#returning-a-view-versus-a-copy\n",
            "  heat[\"log_num_trees\"] = np.log10(heat.num_trees)\n",
            "<ipython-input-113-5f06d5c236c3>:3: SettingWithCopyWarning: \n",
            "A value is trying to be set on a copy of a slice from a DataFrame.\n",
            "Try using .loc[row_indexer,col_indexer] = value instead\n",
            "\n",
            "See the caveats in the documentation: https://pandas.pydata.org/pandas-docs/stable/user_guide/indexing.html#returning-a-view-versus-a-copy\n",
            "  heat[\"log_ave_dbh\"] = np.log10(heat.ave_dbh);\n",
            "<ipython-input-113-5f06d5c236c3>:4: SettingWithCopyWarning: \n",
            "A value is trying to be set on a copy of a slice from a DataFrame.\n",
            "Try using .loc[row_indexer,col_indexer] = value instead\n",
            "\n",
            "See the caveats in the documentation: https://pandas.pydata.org/pandas-docs/stable/user_guide/indexing.html#returning-a-view-versus-a-copy\n",
            "  heat[\"dbh_trees\"] = heat[\"ave_dbh\"] * heat[\"num_trees\"]\n"
          ]
        }
      ]
    },
    {
      "cell_type": "code",
      "source": [
        "fig, ax = plt.subplots(1,2, figsize=(10, 5))\n",
        "heat.plot(\"num_trees\", \"HVI_SCORE\", kind=\"scatter\",ax=ax[0])\n",
        "ax[0].set_xlabel(\"number of trees per census tract\")\n",
        "ax[0].set_ylabel(\"Heat Vulnerability Index\")\n",
        "heat.plot(\"ave_dbh\", \"HVI_SCORE\", kind=\"scatter\", ax=ax[1])\n",
        "ax[1].set_xlabel(\"average diameter of trees\")\n",
        "ax[1].set_ylabel(\"Heat Vulnerability Index\")\n",
        "ax[0].set_title('Trees per Census Tract')\n",
        "ax[1].set_title('Average Diameter of Trees per Census Tract')\n",
        "\n",
        "\n",
        "fig.show()"
      ],
      "metadata": {
        "colab": {
          "base_uri": "https://localhost:8080/",
          "height": 350
        },
        "id": "1uvZ-m8IheZK",
        "outputId": "77392446-eaa8-42cd-a43b-3d20a2002c49"
      },
      "execution_count": null,
      "outputs": [
        {
          "output_type": "display_data",
          "data": {
            "text/plain": [
              "<Figure size 720x360 with 2 Axes>"
            ],
            "image/png": "[encoded data removed]"
          },
          "metadata": {
            "needs_background": "light"
          }
        }
      ]
    },
    {
      "cell_type": "markdown",
      "source": [
        "**Figure 4** After removing the main outlier, the graph to the left seems to have more of a downward trend, but the graph to the right does not seem to change much.  "
      ],
      "metadata": {
        "id": "V3L55I-JCQFV"
      }
    },
    {
      "cell_type": "code",
      "source": [
        "X = heat[['num_trees']].values\n",
        "y = heat[[\"HVI_SCORE\"]].values\n",
        "\n",
        "est = sm.OLS(y, sm.add_constant(X)).fit()\n",
        "\n",
        "print(est.summary())"
      ],
      "metadata": {
        "colab": {
          "base_uri": "https://localhost:8080/"
        },
        "id": "hFo9yXqoio9M",
        "outputId": "eb68f6d3-6896-49af-8cdf-df91d6eb85eb"
      },
      "execution_count": null,
      "outputs": [
        {
          "output_type": "stream",
          "name": "stdout",
          "text": [
            "                            OLS Regression Results                            \n",
            "==============================================================================\n",
            "Dep. Variable:                      y   R-squared:                       0.137\n",
            "Model:                            OLS   Adj. R-squared:                  0.135\n",
            "Method:                 Least Squares   F-statistic:                     59.01\n",
            "Date:                Sat, 10 Dec 2022   Prob (F-statistic):           1.41e-13\n",
            "Time:                        18:55:17   Log-Likelihood:                -754.60\n",
            "No. Observations:                 373   AIC:                             1513.\n",
            "Df Residuals:                     371   BIC:                             1521.\n",
            "Df Model:                           1                                         \n",
            "Covariance Type:            nonrobust                                         \n",
            "==============================================================================\n",
            "                 coef    std err          t      P>|t|      [0.025      0.975]\n",
            "------------------------------------------------------------------------------\n",
            "const          1.0749      0.166      6.478      0.000       0.749       1.401\n",
            "x1            -0.0028      0.000     -7.682      0.000      -0.004      -0.002\n",
            "==============================================================================\n",
            "Omnibus:                        0.426   Durbin-Watson:                   1.242\n",
            "Prob(Omnibus):                  0.808   Jarque-Bera (JB):                0.551\n",
            "Skew:                           0.035   Prob(JB):                        0.759\n",
            "Kurtosis:                       2.825   Cond. No.                         784.\n",
            "==============================================================================\n",
            "\n",
            "Notes:\n",
            "[1] Standard Errors assume that the covariance matrix of the errors is correctly specified.\n"
          ]
        }
      ]
    },
    {
      "cell_type": "markdown",
      "source": [
        "Number of trees per zip code explains 13.7% of the variation of the "
      ],
      "metadata": {
        "id": "eigsCLu8iySd"
      }
    },
    {
      "cell_type": "code",
      "source": [
        "#sm.graphics.influence_plot(res);\n",
        "#Try this. \n",
        "\n",
        "\n",
        "fig, ax = plt.subplots(figsize=(5, 5))\n",
        "heat.plot(\"num_trees\", \"HVI_SCORE\", kind=\"scatter\",ax=ax)\n",
        "ax.set_xlabel(\"number of trees per census tract\")\n",
        "ax.set_ylabel(\"Heat Vulnerability Index\")\n",
        "plt.plot(X, est.predict(exog=sm.add_constant(X)), \"-\")\n"
      ],
      "metadata": {
        "colab": {
          "base_uri": "https://localhost:8080/",
          "height": 352
        },
        "id": "8ohtlKArF1MU",
        "outputId": "02d289e9-0216-443c-813f-87aa32c7f4d2"
      },
      "execution_count": null,
      "outputs": [
        {
          "output_type": "execute_result",
          "data": {
            "text/plain": [
              "[<matplotlib.lines.Line2D at 0x7f3f5f5f9460>]"
            ]
          },
          "metadata": {},
          "execution_count": 116
        },
        {
          "output_type": "display_data",
          "data": {
            "text/plain": [
              "<Figure size 360x360 with 1 Axes>"
            ],
            "image/png": "[encoded data removed]"
          },
          "metadata": {
            "needs_background": "light"
          }
        }
      ]
    },
    {
      "cell_type": "markdown",
      "source": [
        "**Figure 5** This graphic shows the Heat Vulnerability Index (HVI) versus the number of trees per census tract and the regression line of the model that connects the variables. The regression line seems to be very influenced by the census tracts that have a high number of trees. Census tracts that have a high number of trees seem to have low HVI scores, and that seems to be what the line is representing.  "
      ],
      "metadata": {
        "id": "37-gnfiNt3Um"
      }
    },
    {
      "cell_type": "code",
      "source": [
        "sm.graphics.influence_plot(est);"
      ],
      "metadata": {
        "colab": {
          "base_uri": "https://localhost:8080/",
          "height": 302
        },
        "id": "rrA7cNmrJ520",
        "outputId": "3963c1c2-aead-49c7-e52d-23bd23f37731"
      },
      "execution_count": null,
      "outputs": [
        {
          "output_type": "display_data",
          "data": {
            "text/plain": [
              "<Figure size 432x288 with 1 Axes>"
            ],
            "image/png": "[encoded data removed]"
          },
          "metadata": {
            "needs_background": "light"
          }
        }
      ]
    },
    {
      "cell_type": "markdown",
      "source": [
        "**Figure 5** This figure is an influence plot that gives a representation of what are the points that seem to have a disproportional influence over the regression line. The point labeled 328 correspond to an oulier census tract that has 1877 trees. "
      ],
      "metadata": {
        "id": "bXXCwT6RvZ31"
      }
    },
    {
      "cell_type": "code",
      "source": [
        "X[328]"
      ],
      "metadata": {
        "colab": {
          "base_uri": "https://localhost:8080/"
        },
        "id": "LuQ4eHxIKU8i",
        "outputId": "0d200341-685c-4ff6-f6a5-34ac64456901"
      },
      "execution_count": null,
      "outputs": [
        {
          "output_type": "execute_result",
          "data": {
            "text/plain": [
              "array([1877])"
            ]
          },
          "metadata": {},
          "execution_count": 118
        }
      ]
    },
    {
      "cell_type": "code",
      "source": [
        "X_no = heat[heat['num_trees']<1700][\"num_trees\"].values\n",
        "y_no = heat[heat['num_trees']<1700][[\"HVI_SCORE\"]].values\n",
        "\n",
        "X2_no = sm.add_constant(X_no)\n",
        "est_no = sm.OLS(y_no, X2_no).fit()\n",
        "print(est_no.summary())"
      ],
      "metadata": {
        "colab": {
          "base_uri": "https://localhost:8080/"
        },
        "outputId": "b7ca9fa4-1ffe-4239-e441-e6b2ba22a065",
        "id": "tFao7fuOKudY"
      },
      "execution_count": null,
      "outputs": [
        {
          "output_type": "stream",
          "name": "stdout",
          "text": [
            "                            OLS Regression Results                            \n",
            "==============================================================================\n",
            "Dep. Variable:                      y   R-squared:                       0.145\n",
            "Model:                            OLS   Adj. R-squared:                  0.143\n",
            "Method:                 Least Squares   F-statistic:                     62.68\n",
            "Date:                Sat, 10 Dec 2022   Prob (F-statistic):           2.86e-14\n",
            "Time:                        18:55:18   Log-Likelihood:                -751.29\n",
            "No. Observations:                 372   AIC:                             1507.\n",
            "Df Residuals:                     370   BIC:                             1514.\n",
            "Df Model:                           1                                         \n",
            "Covariance Type:            nonrobust                                         \n",
            "==============================================================================\n",
            "                 coef    std err          t      P>|t|      [0.025      0.975]\n",
            "------------------------------------------------------------------------------\n",
            "const          1.1470      0.170      6.759      0.000       0.813       1.481\n",
            "x1            -0.0031      0.000     -7.917      0.000      -0.004      -0.002\n",
            "==============================================================================\n",
            "Omnibus:                        0.250   Durbin-Watson:                   1.265\n",
            "Prob(Omnibus):                  0.882   Jarque-Bera (JB):                0.367\n",
            "Skew:                           0.039   Prob(JB):                        0.832\n",
            "Kurtosis:                       2.867   Cond. No.                         786.\n",
            "==============================================================================\n",
            "\n",
            "Notes:\n",
            "[1] Standard Errors assume that the covariance matrix of the errors is correctly specified.\n"
          ]
        }
      ]
    },
    {
      "cell_type": "markdown",
      "source": [
        "Regression notes: The model seems to improve (for an R-squared of 13.7% to an R-squared of 14.5%) by removing outliers. "
      ],
      "metadata": {
        "id": "_cG3EWGTwSvK"
      }
    },
    {
      "cell_type": "code",
      "source": [
        "fig, ax = plt.subplots(figsize=(6, 6))\n",
        "heat.plot(\"num_trees\", \"HVI_SCORE\", kind=\"scatter\",ax=ax, legend= True)\n",
        "ax.set_xlabel(\"number of trees per census tract\")\n",
        "ax.set_ylabel(\"Heat Vulnerability Index\")\n",
        "plt.plot(X, est.predict(exog=sm.add_constant(X)), \"-\", c=\"b\", label=\"with outliers\")\n",
        "plt.plot(X, est_no.predict(exog=sm.add_constant(X)), \"-\", c=\"r\", label=\"without outliers\")\n",
        "ax.legend()\n",
        "ax.set_title(\"Comparison of Regression Lines\")"
      ],
      "metadata": {
        "colab": {
          "base_uri": "https://localhost:8080/",
          "height": 422
        },
        "id": "tiZfDjpLLjY3",
        "outputId": "8ec8473c-f49d-4f02-e777-8ed2c29bd0b5"
      },
      "execution_count": null,
      "outputs": [
        {
          "output_type": "execute_result",
          "data": {
            "text/plain": [
              "Text(0.5, 1.0, 'Comparison of Regression Lines')"
            ]
          },
          "metadata": {},
          "execution_count": 120
        },
        {
          "output_type": "display_data",
          "data": {
            "text/plain": [
              "<Figure size 432x432 with 1 Axes>"
            ],
            "image/png": "[encoded data removed]"
          },
          "metadata": {
            "needs_background": "light"
          }
        }
      ]
    },
    {
      "cell_type": "markdown",
      "source": [
        "**Figure 6** After removing some outliers, the regression line suggests that there is association between high number of trees and HVI scores below cero. In other words, census tracts that have a high number of trees are more likely to have a low HVI score.  "
      ],
      "metadata": {
        "id": "69HehkzDKtno"
      }
    },
    {
      "cell_type": "code",
      "source": [
        "sm.graphics.influence_plot(est_no);"
      ],
      "metadata": {
        "colab": {
          "base_uri": "https://localhost:8080/",
          "height": 311
        },
        "id": "ipByE3AqL6nq",
        "outputId": "a660c2ef-c455-4ea5-eb2a-5bf1d7d7d1a6"
      },
      "execution_count": null,
      "outputs": [
        {
          "output_type": "display_data",
          "data": {
            "text/plain": [
              "<Figure size 432x288 with 1 Axes>"
            ],
            "image/png": "[encoded data removed]"
          },
          "metadata": {
            "needs_background": "light"
          }
        }
      ]
    },
    {
      "cell_type": "code",
      "source": [
        "X_no_2 = heat[(heat['num_trees']<1250) * (heat[\"HVI_SCORE\"] < 0)][\"num_trees\"].values\n",
        "y_no_2 = heat[(heat['num_trees']<1250) * (heat[\"HVI_SCORE\"] < 0)][\"HVI_SCORE\"].values\n",
        "\n",
        "\n",
        "est_no_2 = sm.OLS(y_no_2, sm.add_constant(X_no_2)).fit()\n",
        "print(est_no_2.summary())"
      ],
      "metadata": {
        "colab": {
          "base_uri": "https://localhost:8080/"
        },
        "id": "Sk7T3ereNKza",
        "outputId": "5cbd1650-a1f8-48fc-b5aa-48f3fb216679"
      },
      "execution_count": null,
      "outputs": [
        {
          "output_type": "stream",
          "name": "stdout",
          "text": [
            "                            OLS Regression Results                            \n",
            "==============================================================================\n",
            "Dep. Variable:                      y   R-squared:                       0.108\n",
            "Model:                            OLS   Adj. R-squared:                  0.102\n",
            "Method:                 Least Squares   F-statistic:                     20.48\n",
            "Date:                Sat, 10 Dec 2022   Prob (F-statistic):           1.13e-05\n",
            "Time:                        18:55:19   Log-Likelihood:                -262.04\n",
            "No. Observations:                 172   AIC:                             528.1\n",
            "Df Residuals:                     170   BIC:                             534.4\n",
            "Df Model:                           1                                         \n",
            "Covariance Type:            nonrobust                                         \n",
            "==============================================================================\n",
            "                 coef    std err          t      P>|t|      [0.025      0.975]\n",
            "------------------------------------------------------------------------------\n",
            "const         -0.9864      0.167     -5.905      0.000      -1.316      -0.657\n",
            "x1            -0.0015      0.000     -4.526      0.000      -0.002      -0.001\n",
            "==============================================================================\n",
            "Omnibus:                        9.264   Durbin-Watson:                   1.367\n",
            "Prob(Omnibus):                  0.010   Jarque-Bera (JB):                9.891\n",
            "Skew:                          -0.581   Prob(JB):                      0.00712\n",
            "Kurtosis:                       2.822   Cond. No.                         966.\n",
            "==============================================================================\n",
            "\n",
            "Notes:\n",
            "[1] Standard Errors assume that the covariance matrix of the errors is correctly specified.\n"
          ]
        }
      ]
    },
    {
      "cell_type": "code",
      "source": [
        "fig, ax = plt.subplots(figsize=(5, 5))\n",
        "heat.plot(\"num_trees\", \"HVI_SCORE\", kind=\"scatter\",ax=ax)\n",
        "ax.set_xlabel(\"number of trees per census tract\")\n",
        "ax.set_ylabel(\"Heat Vulnerability Index\")\n",
        "plt.plot(X, est_no_2.predict(exog=sm.add_constant(X)), \"-\")"
      ],
      "metadata": {
        "colab": {
          "base_uri": "https://localhost:8080/",
          "height": 352
        },
        "id": "ONVntNxwOfyR",
        "outputId": "f82bd23e-3711-4457-986e-d6b7f6d30de4"
      },
      "execution_count": null,
      "outputs": [
        {
          "output_type": "execute_result",
          "data": {
            "text/plain": [
              "[<matplotlib.lines.Line2D at 0x7f3f5f49d700>]"
            ]
          },
          "metadata": {},
          "execution_count": 123
        },
        {
          "output_type": "display_data",
          "data": {
            "text/plain": [
              "<Figure size 360x360 with 1 Axes>"
            ],
            "image/png": "[encoded data removed]"
          },
          "metadata": {
            "needs_background": "light"
          }
        }
      ]
    },
    {
      "cell_type": "code",
      "source": [
        "sm.graphics.influence_plot(est_no_2);"
      ],
      "metadata": {
        "colab": {
          "base_uri": "https://localhost:8080/",
          "height": 319
        },
        "id": "3sK2zYR_Ovcc",
        "outputId": "7eb58a77-7c2d-4afa-afbd-d9eb5bec1df0"
      },
      "execution_count": null,
      "outputs": [
        {
          "output_type": "display_data",
          "data": {
            "text/plain": [
              "<Figure size 432x288 with 1 Axes>"
            ],
            "image/png": "[encoded data removed]"
          },
          "metadata": {
            "needs_background": "light"
          }
        }
      ]
    },
    {
      "cell_type": "code",
      "source": [
        "X = heat[['ave_dbh']].values\n",
        "y = heat[[\"HVI_SCORE\"]].values\n",
        "\n",
        "X2 = sm.add_constant(X)\n",
        "est = sm.OLS(y, X2)\n",
        "est2 = est.fit()\n",
        "print(est2.summary())\n",
        "\n",
        "#The average DBH does not explain the variations of HVI. "
      ],
      "metadata": {
        "colab": {
          "base_uri": "https://localhost:8080/"
        },
        "id": "6Dn2Hukuhyes",
        "outputId": "42f37686-4b96-47de-d6d4-0ae5224e4723"
      },
      "execution_count": null,
      "outputs": [
        {
          "output_type": "stream",
          "name": "stdout",
          "text": [
            "                            OLS Regression Results                            \n",
            "==============================================================================\n",
            "Dep. Variable:                      y   R-squared:                       0.001\n",
            "Model:                            OLS   Adj. R-squared:                 -0.002\n",
            "Method:                 Least Squares   F-statistic:                    0.3847\n",
            "Date:                Sat, 10 Dec 2022   Prob (F-statistic):              0.535\n",
            "Time:                        18:55:20   Log-Likelihood:                -781.93\n",
            "No. Observations:                 373   AIC:                             1568.\n",
            "Df Residuals:                     371   BIC:                             1576.\n",
            "Df Model:                           1                                         \n",
            "Covariance Type:            nonrobust                                         \n",
            "==============================================================================\n",
            "                 coef    std err          t      P>|t|      [0.025      0.975]\n",
            "------------------------------------------------------------------------------\n",
            "const         -0.1494      0.307     -0.487      0.626      -0.752       0.453\n",
            "x1             0.0137      0.022      0.620      0.535      -0.030       0.057\n",
            "==============================================================================\n",
            "Omnibus:                        4.696   Durbin-Watson:                   1.175\n",
            "Prob(Omnibus):                  0.096   Jarque-Bera (JB):                3.227\n",
            "Skew:                          -0.040   Prob(JB):                        0.199\n",
            "Kurtosis:                       2.551   Cond. No.                         41.7\n",
            "==============================================================================\n",
            "\n",
            "Notes:\n",
            "[1] Standard Errors assume that the covariance matrix of the errors is correctly specified.\n"
          ]
        }
      ]
    },
    {
      "cell_type": "code",
      "source": [
        "X = heat[['dbh_trees']].values\n",
        "y = heat[[\"HVI_SCORE\"]].values\n",
        "\n",
        "X2 = sm.add_constant(X)\n",
        "est = sm.OLS(y, X2)\n",
        "est2 = est.fit()\n",
        "print(est2.summary())\n"
      ],
      "metadata": {
        "colab": {
          "base_uri": "https://localhost:8080/"
        },
        "id": "DiCvcjRzoCcs",
        "outputId": "63afc2c1-9858-465d-f454-4596df18eb6f"
      },
      "execution_count": null,
      "outputs": [
        {
          "output_type": "stream",
          "name": "stdout",
          "text": [
            "                            OLS Regression Results                            \n",
            "==============================================================================\n",
            "Dep. Variable:                      y   R-squared:                       0.096\n",
            "Model:                            OLS   Adj. R-squared:                  0.094\n",
            "Method:                 Least Squares   F-statistic:                     39.52\n",
            "Date:                Sat, 10 Dec 2022   Prob (F-statistic):           9.14e-10\n",
            "Time:                        18:55:20   Log-Likelihood:                -763.25\n",
            "No. Observations:                 373   AIC:                             1530.\n",
            "Df Residuals:                     371   BIC:                             1538.\n",
            "Df Model:                           1                                         \n",
            "Covariance Type:            nonrobust                                         \n",
            "==============================================================================\n",
            "                 coef    std err          t      P>|t|      [0.025      0.975]\n",
            "------------------------------------------------------------------------------\n",
            "const          0.8273      0.160      5.176      0.000       0.513       1.142\n",
            "x1            -0.0002   2.72e-05     -6.286      0.000      -0.000      -0.000\n",
            "==============================================================================\n",
            "Omnibus:                        2.939   Durbin-Watson:                   1.234\n",
            "Prob(Omnibus):                  0.230   Jarque-Bera (JB):                2.295\n",
            "Skew:                          -0.034   Prob(JB):                        0.317\n",
            "Kurtosis:                       2.622   Cond. No.                     9.67e+03\n",
            "==============================================================================\n",
            "\n",
            "Notes:\n",
            "[1] Standard Errors assume that the covariance matrix of the errors is correctly specified.\n",
            "[2] The condition number is large, 9.67e+03. This might indicate that there are\n",
            "strong multicollinearity or other numerical problems.\n"
          ]
        }
      ]
    },
    {
      "cell_type": "code",
      "source": [
        "X = heat[['ave_dbh',\"num_trees\",\"dbh_trees\"]].values\n",
        "y = heat[[\"HVI_SCORE\"]].values\n",
        "\n",
        "X2 = sm.add_constant(X)\n",
        "est = sm.OLS(y, X2)\n",
        "est2 = est.fit()\n",
        "print(est2.summary())\n"
      ],
      "metadata": {
        "colab": {
          "base_uri": "https://localhost:8080/"
        },
        "id": "hZJdyQ6KoOdT",
        "outputId": "00187a56-8c4e-42d0-9b17-0ea07804a52a"
      },
      "execution_count": null,
      "outputs": [
        {
          "output_type": "stream",
          "name": "stdout",
          "text": [
            "                            OLS Regression Results                            \n",
            "==============================================================================\n",
            "Dep. Variable:                      y   R-squared:                       0.137\n",
            "Model:                            OLS   Adj. R-squared:                  0.130\n",
            "Method:                 Least Squares   F-statistic:                     19.60\n",
            "Date:                Sat, 10 Dec 2022   Prob (F-statistic):           8.18e-12\n",
            "Time:                        18:55:20   Log-Likelihood:                -754.54\n",
            "No. Observations:                 373   AIC:                             1517.\n",
            "Df Residuals:                     369   BIC:                             1533.\n",
            "Df Model:                           3                                         \n",
            "Covariance Type:            nonrobust                                         \n",
            "==============================================================================\n",
            "                 coef    std err          t      P>|t|      [0.025      0.975]\n",
            "------------------------------------------------------------------------------\n",
            "const          1.2226      0.482      2.535      0.012       0.274       2.171\n",
            "x1            -0.0113      0.035     -0.326      0.744      -0.079       0.057\n",
            "x2            -0.0031      0.001     -2.910      0.004      -0.005      -0.001\n",
            "x3          2.111e-05   8.11e-05      0.260      0.795      -0.000       0.000\n",
            "==============================================================================\n",
            "Omnibus:                        0.425   Durbin-Watson:                   1.243\n",
            "Prob(Omnibus):                  0.809   Jarque-Bera (JB):                0.549\n",
            "Skew:                           0.026   Prob(JB):                        0.760\n",
            "Kurtosis:                       2.819   Cond. No.                     2.99e+04\n",
            "==============================================================================\n",
            "\n",
            "Notes:\n",
            "[1] Standard Errors assume that the covariance matrix of the errors is correctly specified.\n",
            "[2] The condition number is large, 2.99e+04. This might indicate that there are\n",
            "strong multicollinearity or other numerical problems.\n"
          ]
        }
      ]
    },
    {
      "cell_type": "code",
      "source": [
        "heat.ave_dbh.hist()"
      ],
      "metadata": {
        "colab": {
          "base_uri": "https://localhost:8080/",
          "height": 283
        },
        "id": "X-gFo_9sZwqt",
        "outputId": "0f3e989f-0cd9-411b-dc7b-e4555229a951"
      },
      "execution_count": null,
      "outputs": [
        {
          "output_type": "execute_result",
          "data": {
            "text/plain": [
              "<matplotlib.axes._subplots.AxesSubplot at 0x7f3f5f48abb0>"
            ]
          },
          "metadata": {},
          "execution_count": 128
        },
        {
          "output_type": "display_data",
          "data": {
            "text/plain": [
              "<Figure size 432x288 with 1 Axes>"
            ],
            "image/png": "[encoded data removed]"
          },
          "metadata": {
            "needs_background": "light"
          }
        }
      ]
    },
    {
      "cell_type": "markdown",
      "source": [
        "**Correlation Model prediction of HVI Score and Number of trees with Health variables (Diseases)**"
      ],
      "metadata": {
        "id": "Vs1fYl6psrNA"
      }
    },
    {
      "cell_type": "code",
      "source": [
        "health = pd.read_csv('/content/drive/Shareddrives/PUS2022/PUS project/philly_health_data.csv')\n",
        "health.describe()"
      ],
      "metadata": {
        "colab": {
          "base_uri": "https://localhost:8080/",
          "height": 393
        },
        "id": "vUEzfWX_QITL",
        "outputId": "63e7e375-a32e-4890-bb0f-1a4ad8d14270"
      },
      "execution_count": null,
      "outputs": [
        {
          "output_type": "execute_result",
          "data": {
            "text/plain": [
              "       PlaceFIPS     TractFIPS  Population2010  ACCESS2_CrudePrev  \\\n",
              "count      376.0  3.760000e+02      376.000000         376.000000   \n",
              "mean   4260000.0  4.210103e+10     4058.377660          13.434309   \n",
              "std          0.0  9.958006e+04     1625.805143           5.792134   \n",
              "min    4260000.0  4.210100e+10       74.000000           4.100000   \n",
              "25%    4260000.0  4.210101e+10     2889.250000           9.175000   \n",
              "50%    4260000.0  4.210102e+10     3944.500000          12.700000   \n",
              "75%    4260000.0  4.210103e+10     5129.000000          16.200000   \n",
              "max    4260000.0  4.210199e+10     8322.000000          35.300000   \n",
              "\n",
              "       ARTHRITIS_CrudePrev  BINGE_CrudePrev  BPHIGH_CrudePrev  \\\n",
              "count           376.000000       376.000000        376.000000   \n",
              "mean             25.765160        20.179521         34.295479   \n",
              "std               6.111099         4.587412          9.248421   \n",
              "min               6.500000         8.500000         10.800000   \n",
              "25%              22.950000        16.500000         28.800000   \n",
              "50%              26.250000        19.300000         33.300000   \n",
              "75%              29.750000        23.400000         42.350000   \n",
              "max              50.900000        33.600000         56.400000   \n",
              "\n",
              "       BPMED_CrudePrev  CANCER_CrudePrev  CASTHMA_CrudePrev  ...  \\\n",
              "count       376.000000        376.000000         376.000000  ...   \n",
              "mean         74.481383          5.809043          11.589096  ...   \n",
              "std           7.225807          1.830824           1.809077  ...   \n",
              "min          33.500000          1.100000           8.200000  ...   \n",
              "25%          71.900000          4.700000          10.100000  ...   \n",
              "50%          75.300000          5.600000          11.400000  ...   \n",
              "75%          79.425000          6.600000          13.100000  ...   \n",
              "max          89.600000         18.700000          16.300000  ...   \n",
              "\n",
              "       KIDNEY_CrudePrev  LPA_CrudePrev  MAMMOUSE_CrudePrev  MHLTH_CrudePrev  \\\n",
              "count        376.000000     376.000000          376.000000       376.000000   \n",
              "mean           3.420479      29.305319           80.857447        16.168617   \n",
              "std            1.075289       8.057968            2.665253         3.726829   \n",
              "min            1.000000      12.800000           72.900000         8.200000   \n",
              "25%            2.700000      23.450000           78.200000        13.400000   \n",
              "50%            3.300000      29.150000           81.300000        16.000000   \n",
              "75%            4.200000      35.625000           83.300000        19.000000   \n",
              "max            7.100000      46.200000           86.000000        25.800000   \n",
              "\n",
              "       OBESITY_CrudePrev  PAPTEST_CrudePrev  PHLTH_CrudePrev  SLEEP_CrudePrev  \\\n",
              "count         376.000000         376.000000       376.000000       376.000000   \n",
              "mean           33.205585          81.397606        14.893085        42.241489   \n",
              "std             8.095460           2.848432         4.398158         5.865477   \n",
              "min            17.400000          65.100000         5.000000        28.800000   \n",
              "25%            26.200000          79.700000        11.875000        37.000000   \n",
              "50%            32.950000          81.600000        14.600000        42.850000   \n",
              "75%            40.600000          83.500000        18.200000        47.200000   \n",
              "max            48.800000          86.000000        24.800000        52.600000   \n",
              "\n",
              "       STROKE_CrudePrev  TEETHLOST_CrudePrev  \n",
              "count        376.000000           375.000000  \n",
              "mean           4.093883            19.860800  \n",
              "std            1.734325             8.798686  \n",
              "min            0.700000             3.800000  \n",
              "25%            2.900000            12.600000  \n",
              "50%            3.800000            19.000000  \n",
              "75%            5.200000            26.600000  \n",
              "max           10.300000            42.400000  \n",
              "\n",
              "[8 rows x 31 columns]"
            ],
            "text/html": [
              "\n",
              "  <div id=\"df-0b822cfb-693c-4a28-920d-30a796fd8607\">\n",
              "    <div class=\"colab-df-container\">\n",
              "      <div>\n",
              "<style scoped>\n",
              "    .dataframe tbody tr th:only-of-type {\n",
              "        vertical-align: middle;\n",
              "    }\n",
              "\n",
              "    .dataframe tbody tr th {\n",
              "        vertical-align: top;\n",
              "    }\n",
              "\n",
              "    .dataframe thead th {\n",
              "        text-align: right;\n",
              "    }\n",
              "</style>\n",
              "<table border=\"1\" class=\"dataframe\">\n",
              "  <thead>\n",
              "    <tr style=\"text-align: right;\">\n",
              "      <th></th>\n",
              "      <th>PlaceFIPS</th>\n",
              "      <th>TractFIPS</th>\n",
              "      <th>Population2010</th>\n",
              "      <th>ACCESS2_CrudePrev</th>\n",
              "      <th>ARTHRITIS_CrudePrev</th>\n",
              "      <th>BINGE_CrudePrev</th>\n",
              "      <th>BPHIGH_CrudePrev</th>\n",
              "      <th>BPMED_CrudePrev</th>\n",
              "      <th>CANCER_CrudePrev</th>\n",
              "      <th>CASTHMA_CrudePrev</th>\n",
              "      <th>...</th>\n",
              "      <th>KIDNEY_CrudePrev</th>\n",
              "      <th>LPA_CrudePrev</th>\n",
              "      <th>MAMMOUSE_CrudePrev</th>\n",
              "      <th>MHLTH_CrudePrev</th>\n",
              "      <th>OBESITY_CrudePrev</th>\n",
              "      <th>PAPTEST_CrudePrev</th>\n",
              "      <th>PHLTH_CrudePrev</th>\n",
              "      <th>SLEEP_CrudePrev</th>\n",
              "      <th>STROKE_CrudePrev</th>\n",
              "      <th>TEETHLOST_CrudePrev</th>\n",
              "    </tr>\n",
              "  </thead>\n",
              "  <tbody>\n",
              "    <tr>\n",
              "      <th>count</th>\n",
              "      <td>376.0</td>\n",
              "      <td>3.760000e+02</td>\n",
              "      <td>376.000000</td>\n",
              "      <td>376.000000</td>\n",
              "      <td>376.000000</td>\n",
              "      <td>376.000000</td>\n",
              "      <td>376.000000</td>\n",
              "      <td>376.000000</td>\n",
              "      <td>376.000000</td>\n",
              "      <td>376.000000</td>\n",
              "      <td>...</td>\n",
              "      <td>376.000000</td>\n",
              "      <td>376.000000</td>\n",
              "      <td>376.000000</td>\n",
              "      <td>376.000000</td>\n",
              "      <td>376.000000</td>\n",
              "      <td>376.000000</td>\n",
              "      <td>376.000000</td>\n",
              "      <td>376.000000</td>\n",
              "      <td>376.000000</td>\n",
              "      <td>375.000000</td>\n",
              "    </tr>\n",
              "    <tr>\n",
              "      <th>mean</th>\n",
              "      <td>4260000.0</td>\n",
              "      <td>4.210103e+10</td>\n",
              "      <td>4058.377660</td>\n",
              "      <td>13.434309</td>\n",
              "      <td>25.765160</td>\n",
              "      <td>20.179521</td>\n",
              "      <td>34.295479</td>\n",
              "      <td>74.481383</td>\n",
              "      <td>5.809043</td>\n",
              "      <td>11.589096</td>\n",
              "      <td>...</td>\n",
              "      <td>3.420479</td>\n",
              "      <td>29.305319</td>\n",
              "      <td>80.857447</td>\n",
              "      <td>16.168617</td>\n",
              "      <td>33.205585</td>\n",
              "      <td>81.397606</td>\n",
              "      <td>14.893085</td>\n",
              "      <td>42.241489</td>\n",
              "      <td>4.093883</td>\n",
              "      <td>19.860800</td>\n",
              "    </tr>\n",
              "    <tr>\n",
              "      <th>std</th>\n",
              "      <td>0.0</td>\n",
              "      <td>9.958006e+04</td>\n",
              "      <td>1625.805143</td>\n",
              "      <td>5.792134</td>\n",
              "      <td>6.111099</td>\n",
              "      <td>4.587412</td>\n",
              "      <td>9.248421</td>\n",
              "      <td>7.225807</td>\n",
              "      <td>1.830824</td>\n",
              "      <td>1.809077</td>\n",
              "      <td>...</td>\n",
              "      <td>1.075289</td>\n",
              "      <td>8.057968</td>\n",
              "      <td>2.665253</td>\n",
              "      <td>3.726829</td>\n",
              "      <td>8.095460</td>\n",
              "      <td>2.848432</td>\n",
              "      <td>4.398158</td>\n",
              "      <td>5.865477</td>\n",
              "      <td>1.734325</td>\n",
              "      <td>8.798686</td>\n",
              "    </tr>\n",
              "    <tr>\n",
              "      <th>min</th>\n",
              "      <td>4260000.0</td>\n",
              "      <td>4.210100e+10</td>\n",
              "      <td>74.000000</td>\n",
              "      <td>4.100000</td>\n",
              "      <td>6.500000</td>\n",
              "      <td>8.500000</td>\n",
              "      <td>10.800000</td>\n",
              "      <td>33.500000</td>\n",
              "      <td>1.100000</td>\n",
              "      <td>8.200000</td>\n",
              "      <td>...</td>\n",
              "      <td>1.000000</td>\n",
              "      <td>12.800000</td>\n",
              "      <td>72.900000</td>\n",
              "      <td>8.200000</td>\n",
              "      <td>17.400000</td>\n",
              "      <td>65.100000</td>\n",
              "      <td>5.000000</td>\n",
              "      <td>28.800000</td>\n",
              "      <td>0.700000</td>\n",
              "      <td>3.800000</td>\n",
              "    </tr>\n",
              "    <tr>\n",
              "      <th>25%</th>\n",
              "      <td>4260000.0</td>\n",
              "      <td>4.210101e+10</td>\n",
              "      <td>2889.250000</td>\n",
              "      <td>9.175000</td>\n",
              "      <td>22.950000</td>\n",
              "      <td>16.500000</td>\n",
              "      <td>28.800000</td>\n",
              "      <td>71.900000</td>\n",
              "      <td>4.700000</td>\n",
              "      <td>10.100000</td>\n",
              "      <td>...</td>\n",
              "      <td>2.700000</td>\n",
              "      <td>23.450000</td>\n",
              "      <td>78.200000</td>\n",
              "      <td>13.400000</td>\n",
              "      <td>26.200000</td>\n",
              "      <td>79.700000</td>\n",
              "      <td>11.875000</td>\n",
              "      <td>37.000000</td>\n",
              "      <td>2.900000</td>\n",
              "      <td>12.600000</td>\n",
              "    </tr>\n",
              "    <tr>\n",
              "      <th>50%</th>\n",
              "      <td>4260000.0</td>\n",
              "      <td>4.210102e+10</td>\n",
              "      <td>3944.500000</td>\n",
              "      <td>12.700000</td>\n",
              "      <td>26.250000</td>\n",
              "      <td>19.300000</td>\n",
              "      <td>33.300000</td>\n",
              "      <td>75.300000</td>\n",
              "      <td>5.600000</td>\n",
              "      <td>11.400000</td>\n",
              "      <td>...</td>\n",
              "      <td>3.300000</td>\n",
              "      <td>29.150000</td>\n",
              "      <td>81.300000</td>\n",
              "      <td>16.000000</td>\n",
              "      <td>32.950000</td>\n",
              "      <td>81.600000</td>\n",
              "      <td>14.600000</td>\n",
              "      <td>42.850000</td>\n",
              "      <td>3.800000</td>\n",
              "      <td>19.000000</td>\n",
              "    </tr>\n",
              "    <tr>\n",
              "      <th>75%</th>\n",
              "      <td>4260000.0</td>\n",
              "      <td>4.210103e+10</td>\n",
              "      <td>5129.000000</td>\n",
              "      <td>16.200000</td>\n",
              "      <td>29.750000</td>\n",
              "      <td>23.400000</td>\n",
              "      <td>42.350000</td>\n",
              "      <td>79.425000</td>\n",
              "      <td>6.600000</td>\n",
              "      <td>13.100000</td>\n",
              "      <td>...</td>\n",
              "      <td>4.200000</td>\n",
              "      <td>35.625000</td>\n",
              "      <td>83.300000</td>\n",
              "      <td>19.000000</td>\n",
              "      <td>40.600000</td>\n",
              "      <td>83.500000</td>\n",
              "      <td>18.200000</td>\n",
              "      <td>47.200000</td>\n",
              "      <td>5.200000</td>\n",
              "      <td>26.600000</td>\n",
              "    </tr>\n",
              "    <tr>\n",
              "      <th>max</th>\n",
              "      <td>4260000.0</td>\n",
              "      <td>4.210199e+10</td>\n",
              "      <td>8322.000000</td>\n",
              "      <td>35.300000</td>\n",
              "      <td>50.900000</td>\n",
              "      <td>33.600000</td>\n",
              "      <td>56.400000</td>\n",
              "      <td>89.600000</td>\n",
              "      <td>18.700000</td>\n",
              "      <td>16.300000</td>\n",
              "      <td>...</td>\n",
              "      <td>7.100000</td>\n",
              "      <td>46.200000</td>\n",
              "      <td>86.000000</td>\n",
              "      <td>25.800000</td>\n",
              "      <td>48.800000</td>\n",
              "      <td>86.000000</td>\n",
              "      <td>24.800000</td>\n",
              "      <td>52.600000</td>\n",
              "      <td>10.300000</td>\n",
              "      <td>42.400000</td>\n",
              "    </tr>\n",
              "  </tbody>\n",
              "</table>\n",
              "<p>8 rows × 31 columns</p>\n",
              "</div>\n",
              "      <button class=\"colab-df-convert\" onclick=\"convertToInteractive('df-0b822cfb-693c-4a28-920d-30a796fd8607')\"\n",
              "              title=\"Convert this dataframe to an interactive table.\"\n",
              "              style=\"display:none;\">\n",
              "        \n",
              "  <svg xmlns=\"http://www.w3.org/2000/svg\" height=\"24px\"viewBox=\"0 0 24 24\"\n",
              "       width=\"24px\">\n",
              "    <path d=\"M0 0h24v24H0V0z\" fill=\"none\"/>\n",
              "    <path d=\"M18.56 5.44l.94 2.06.94-2.06 2.06-.94-2.06-.94-.94-2.06-.94 2.06-2.06.94zm-11 1L8.5 8.5l.94-2.06 2.06-.94-2.06-.94L8.5 2.5l-.94 2.06-2.06.94zm10 10l.94 2.06.94-2.06 2.06-.94-2.06-.94-.94-2.06-.94 2.06-2.06.94z\"/><path d=\"M17.41 7.96l-1.37-1.37c-.4-.4-.92-.59-1.43-.59-.52 0-1.04.2-1.43.59L10.3 9.45l-7.72 7.72c-.78.78-.78 2.05 0 2.83L4 21.41c.39.39.9.59 1.41.59.51 0 1.02-.2 1.41-.59l7.78-7.78 2.81-2.81c.8-.78.8-2.07 0-2.86zM5.41 20L4 18.59l7.72-7.72 1.47 1.35L5.41 20z\"/>\n",
              "  </svg>\n",
              "      </button>\n",
              "      \n",
              "  <style>\n",
              "    .colab-df-container {\n",
              "      display:flex;\n",
              "      flex-wrap:wrap;\n",
              "      gap: 12px;\n",
              "    }\n",
              "\n",
              "    .colab-df-convert {\n",
              "      background-color: #E8F0FE;\n",
              "      border: none;\n",
              "      border-radius: 50%;\n",
              "      cursor: pointer;\n",
              "      display: none;\n",
              "      fill: #1967D2;\n",
              "      height: 32px;\n",
              "      padding: 0 0 0 0;\n",
              "      width: 32px;\n",
              "    }\n",
              "\n",
              "    .colab-df-convert:hover {\n",
              "      background-color: #E2EBFA;\n",
              "      box-shadow: 0px 1px 2px rgba(60, 64, 67, 0.3), 0px 1px 3px 1px rgba(60, 64, 67, 0.15);\n",
              "      fill: #174EA6;\n",
              "    }\n",
              "\n",
              "    [theme=dark] .colab-df-convert {\n",
              "      background-color: #3B4455;\n",
              "      fill: #D2E3FC;\n",
              "    }\n",
              "\n",
              "    [theme=dark] .colab-df-convert:hover {\n",
              "      background-color: #434B5C;\n",
              "      box-shadow: 0px 1px 3px 1px rgba(0, 0, 0, 0.15);\n",
              "      filter: drop-shadow(0px 1px 2px rgba(0, 0, 0, 0.3));\n",
              "      fill: #FFFFFF;\n",
              "    }\n",
              "  </style>\n",
              "\n",
              "      <script>\n",
              "        const buttonEl =\n",
              "          document.querySelector('#df-0b822cfb-693c-4a28-920d-30a796fd8607 button.colab-df-convert');\n",
              "        buttonEl.style.display =\n",
              "          google.colab.kernel.accessAllowed ? 'block' : 'none';\n",
              "\n",
              "        async function convertToInteractive(key) {\n",
              "          const element = document.querySelector('#df-0b822cfb-693c-4a28-920d-30a796fd8607');\n",
              "          const dataTable =\n",
              "            await google.colab.kernel.invokeFunction('convertToInteractive',\n",
              "                                                     [key], {});\n",
              "          if (!dataTable) return;\n",
              "\n",
              "          const docLinkHtml = 'Like what you see? Visit the ' +\n",
              "            '<a target=\"_blank\" href=https://colab.research.google.com/notebooks/data_table.ipynb>data table notebook</a>'\n",
              "            + ' to learn more about interactive tables.';\n",
              "          element.innerHTML = '';\n",
              "          dataTable['output_type'] = 'display_data';\n",
              "          await google.colab.output.renderOutput(dataTable, element);\n",
              "          const docLink = document.createElement('div');\n",
              "          docLink.innerHTML = docLinkHtml;\n",
              "          element.appendChild(docLink);\n",
              "        }\n",
              "      </script>\n",
              "    </div>\n",
              "  </div>\n",
              "  "
            ]
          },
          "metadata": {},
          "execution_count": 129
        }
      ]
    },
    {
      "cell_type": "code",
      "source": [
        "#Loading a combined data of HVI Score, Number of Trees and Health Diseases. The data was joined using ArcGIS using spatial join of TractID\n",
        "combined_data = pd.read_csv('/content/drive/Shareddrives/PUS2022/Heat_Trees_project/combined.csv')\n",
        "combined_data.head()"
      ],
      "metadata": {
        "id": "9STVYwhusf1J",
        "outputId": "8fc5a98c-e03e-423a-96ce-dc03610d63a1",
        "colab": {
          "base_uri": "https://localhost:8080/",
          "height": 560
        }
      },
      "execution_count": null,
      "outputs": [
        {
          "output_type": "execute_result",
          "data": {
            "text/plain": [
              "  StateAbbr     PlaceName  PlaceFIPS    TractFIPS        Place_TractID  \\\n",
              "0        PA  Philadelphia    4260000  42101000100  4260000-42101000100   \n",
              "1        PA  Philadelphia    4260000  42101000200  4260000-42101000200   \n",
              "2        PA  Philadelphia    4260000  42101000300  4260000-42101000300   \n",
              "3        PA  Philadelphia    4260000  42101000401  4260000-42101000401   \n",
              "4        PA  Philadelphia    4260000  42101000402  4260000-42101000402   \n",
              "\n",
              "   Population2010  ACCESS2_CrudePrev ACCESS2_Crude95CI  ARTHRITIS_CrudePrev  \\\n",
              "0            3478                5.4      ( 4.3,  7.5)                 13.0   \n",
              "1            2937               14.8      (11.8, 18.0)                 18.2   \n",
              "2            3169                6.2      ( 5.0,  7.8)                 18.2   \n",
              "3            2125                7.7      ( 5.8, 10.1)                 19.6   \n",
              "4            3142                5.8      ( 4.7,  7.2)                 29.0   \n",
              "\n",
              "  ARTHRITIS_Crude95CI  ...  SLEEP_Crude95CI STROKE_CrudePrev  \\\n",
              "0        (12.3, 13.9)  ...     (31.6, 35.5)              1.1   \n",
              "1        (17.3, 19.2)  ...     (40.7, 44.1)              3.3   \n",
              "2        (17.4, 19.0)  ...     (32.3, 35.2)              1.9   \n",
              "3        (18.9, 20.5)  ...     (34.2, 37.3)              2.5   \n",
              "4        (27.5, 30.8)  ...     (28.7, 31.6)              3.1   \n",
              "\n",
              "   STROKE_Crude95CI TEETHLOST_CrudePrev  TEETHLOST_Crude95CI  \\\n",
              "0      ( 1.0,  1.2)                 5.5         ( 3.6,  8.6)   \n",
              "1      ( 2.9,  3.7)                14.5         ( 7.4, 22.6)   \n",
              "2      ( 1.7,  2.2)                 6.8         ( 4.3, 10.8)   \n",
              "3      ( 2.3,  2.8)                 9.2         ( 6.0, 13.1)   \n",
              "4      ( 2.6,  3.7)                 6.4         ( 3.8, 11.2)   \n",
              "\n",
              "                        Geolocation  HVI_SCORE  \\\n",
              "0  (39.95238276040, -75.1466628627)  -3.477334   \n",
              "1  (39.95539990180, -75.1569774999)   1.652408   \n",
              "2  (39.95710584440, -75.1709368581)  -1.576464   \n",
              "3  (39.95413660830, -75.1765601839)  -1.554901   \n",
              "4  (39.95329732390, -75.1686952355)   0.232113   \n",
              "\n",
              "                                            geometry  num_trees   ave_dbh  \n",
              "0  POLYGON ((-75.1414721327397 39.9517072267047, ...     1060.0  9.975472  \n",
              "1  POLYGON ((-75.162377698504 39.9576545523082, -...      252.0  9.106000  \n",
              "2  POLYGON ((-75.1782048283904 39.9598134132842, ...     1086.0  8.928177  \n",
              "3  POLYGON ((-75.1729917788024 39.9546437050483, ...      253.0  6.106719  \n",
              "4  POLYGON ((-75.1633313650233 39.9533392100125, ...      393.0  5.877303  \n",
              "\n",
              "[5 rows x 67 columns]"
            ],
            "text/html": [
              "\n",
              "  <div id=\"df-9752b491-7394-4fb8-8c5d-0149336c7c5e\">\n",
              "    <div class=\"colab-df-container\">\n",
              "      <div>\n",
              "<style scoped>\n",
              "    .dataframe tbody tr th:only-of-type {\n",
              "        vertical-align: middle;\n",
              "    }\n",
              "\n",
              "    .dataframe tbody tr th {\n",
              "        vertical-align: top;\n",
              "    }\n",
              "\n",
              "    .dataframe thead th {\n",
              "        text-align: right;\n",
              "    }\n",
              "</style>\n",
              "<table border=\"1\" class=\"dataframe\">\n",
              "  <thead>\n",
              "    <tr style=\"text-align: right;\">\n",
              "      <th></th>\n",
              "      <th>StateAbbr</th>\n",
              "      <th>PlaceName</th>\n",
              "      <th>PlaceFIPS</th>\n",
              "      <th>TractFIPS</th>\n",
              "      <th>Place_TractID</th>\n",
              "      <th>Population2010</th>\n",
              "      <th>ACCESS2_CrudePrev</th>\n",
              "      <th>ACCESS2_Crude95CI</th>\n",
              "      <th>ARTHRITIS_CrudePrev</th>\n",
              "      <th>ARTHRITIS_Crude95CI</th>\n",
              "      <th>...</th>\n",
              "      <th>SLEEP_Crude95CI</th>\n",
              "      <th>STROKE_CrudePrev</th>\n",
              "      <th>STROKE_Crude95CI</th>\n",
              "      <th>TEETHLOST_CrudePrev</th>\n",
              "      <th>TEETHLOST_Crude95CI</th>\n",
              "      <th>Geolocation</th>\n",
              "      <th>HVI_SCORE</th>\n",
              "      <th>geometry</th>\n",
              "      <th>num_trees</th>\n",
              "      <th>ave_dbh</th>\n",
              "    </tr>\n",
              "  </thead>\n",
              "  <tbody>\n",
              "    <tr>\n",
              "      <th>0</th>\n",
              "      <td>PA</td>\n",
              "      <td>Philadelphia</td>\n",
              "      <td>4260000</td>\n",
              "      <td>42101000100</td>\n",
              "      <td>4260000-42101000100</td>\n",
              "      <td>3478</td>\n",
              "      <td>5.4</td>\n",
              "      <td>( 4.3,  7.5)</td>\n",
              "      <td>13.0</td>\n",
              "      <td>(12.3, 13.9)</td>\n",
              "      <td>...</td>\n",
              "      <td>(31.6, 35.5)</td>\n",
              "      <td>1.1</td>\n",
              "      <td>( 1.0,  1.2)</td>\n",
              "      <td>5.5</td>\n",
              "      <td>( 3.6,  8.6)</td>\n",
              "      <td>(39.95238276040, -75.1466628627)</td>\n",
              "      <td>-3.477334</td>\n",
              "      <td>POLYGON ((-75.1414721327397 39.9517072267047, ...</td>\n",
              "      <td>1060.0</td>\n",
              "      <td>9.975472</td>\n",
              "    </tr>\n",
              "    <tr>\n",
              "      <th>1</th>\n",
              "      <td>PA</td>\n",
              "      <td>Philadelphia</td>\n",
              "      <td>4260000</td>\n",
              "      <td>42101000200</td>\n",
              "      <td>4260000-42101000200</td>\n",
              "      <td>2937</td>\n",
              "      <td>14.8</td>\n",
              "      <td>(11.8, 18.0)</td>\n",
              "      <td>18.2</td>\n",
              "      <td>(17.3, 19.2)</td>\n",
              "      <td>...</td>\n",
              "      <td>(40.7, 44.1)</td>\n",
              "      <td>3.3</td>\n",
              "      <td>( 2.9,  3.7)</td>\n",
              "      <td>14.5</td>\n",
              "      <td>( 7.4, 22.6)</td>\n",
              "      <td>(39.95539990180, -75.1569774999)</td>\n",
              "      <td>1.652408</td>\n",
              "      <td>POLYGON ((-75.162377698504 39.9576545523082, -...</td>\n",
              "      <td>252.0</td>\n",
              "      <td>9.106000</td>\n",
              "    </tr>\n",
              "    <tr>\n",
              "      <th>2</th>\n",
              "      <td>PA</td>\n",
              "      <td>Philadelphia</td>\n",
              "      <td>4260000</td>\n",
              "      <td>42101000300</td>\n",
              "      <td>4260000-42101000300</td>\n",
              "      <td>3169</td>\n",
              "      <td>6.2</td>\n",
              "      <td>( 5.0,  7.8)</td>\n",
              "      <td>18.2</td>\n",
              "      <td>(17.4, 19.0)</td>\n",
              "      <td>...</td>\n",
              "      <td>(32.3, 35.2)</td>\n",
              "      <td>1.9</td>\n",
              "      <td>( 1.7,  2.2)</td>\n",
              "      <td>6.8</td>\n",
              "      <td>( 4.3, 10.8)</td>\n",
              "      <td>(39.95710584440, -75.1709368581)</td>\n",
              "      <td>-1.576464</td>\n",
              "      <td>POLYGON ((-75.1782048283904 39.9598134132842, ...</td>\n",
              "      <td>1086.0</td>\n",
              "      <td>8.928177</td>\n",
              "    </tr>\n",
              "    <tr>\n",
              "      <th>3</th>\n",
              "      <td>PA</td>\n",
              "      <td>Philadelphia</td>\n",
              "      <td>4260000</td>\n",
              "      <td>42101000401</td>\n",
              "      <td>4260000-42101000401</td>\n",
              "      <td>2125</td>\n",
              "      <td>7.7</td>\n",
              "      <td>( 5.8, 10.1)</td>\n",
              "      <td>19.6</td>\n",
              "      <td>(18.9, 20.5)</td>\n",
              "      <td>...</td>\n",
              "      <td>(34.2, 37.3)</td>\n",
              "      <td>2.5</td>\n",
              "      <td>( 2.3,  2.8)</td>\n",
              "      <td>9.2</td>\n",
              "      <td>( 6.0, 13.1)</td>\n",
              "      <td>(39.95413660830, -75.1765601839)</td>\n",
              "      <td>-1.554901</td>\n",
              "      <td>POLYGON ((-75.1729917788024 39.9546437050483, ...</td>\n",
              "      <td>253.0</td>\n",
              "      <td>6.106719</td>\n",
              "    </tr>\n",
              "    <tr>\n",
              "      <th>4</th>\n",
              "      <td>PA</td>\n",
              "      <td>Philadelphia</td>\n",
              "      <td>4260000</td>\n",
              "      <td>42101000402</td>\n",
              "      <td>4260000-42101000402</td>\n",
              "      <td>3142</td>\n",
              "      <td>5.8</td>\n",
              "      <td>( 4.7,  7.2)</td>\n",
              "      <td>29.0</td>\n",
              "      <td>(27.5, 30.8)</td>\n",
              "      <td>...</td>\n",
              "      <td>(28.7, 31.6)</td>\n",
              "      <td>3.1</td>\n",
              "      <td>( 2.6,  3.7)</td>\n",
              "      <td>6.4</td>\n",
              "      <td>( 3.8, 11.2)</td>\n",
              "      <td>(39.95329732390, -75.1686952355)</td>\n",
              "      <td>0.232113</td>\n",
              "      <td>POLYGON ((-75.1633313650233 39.9533392100125, ...</td>\n",
              "      <td>393.0</td>\n",
              "      <td>5.877303</td>\n",
              "    </tr>\n",
              "  </tbody>\n",
              "</table>\n",
              "<p>5 rows × 67 columns</p>\n",
              "</div>\n",
              "      <button class=\"colab-df-convert\" onclick=\"convertToInteractive('df-9752b491-7394-4fb8-8c5d-0149336c7c5e')\"\n",
              "              title=\"Convert this dataframe to an interactive table.\"\n",
              "              style=\"display:none;\">\n",
              "        \n",
              "  <svg xmlns=\"http://www.w3.org/2000/svg\" height=\"24px\"viewBox=\"0 0 24 24\"\n",
              "       width=\"24px\">\n",
              "    <path d=\"M0 0h24v24H0V0z\" fill=\"none\"/>\n",
              "    <path d=\"M18.56 5.44l.94 2.06.94-2.06 2.06-.94-2.06-.94-.94-2.06-.94 2.06-2.06.94zm-11 1L8.5 8.5l.94-2.06 2.06-.94-2.06-.94L8.5 2.5l-.94 2.06-2.06.94zm10 10l.94 2.06.94-2.06 2.06-.94-2.06-.94-.94-2.06-.94 2.06-2.06.94z\"/><path d=\"M17.41 7.96l-1.37-1.37c-.4-.4-.92-.59-1.43-.59-.52 0-1.04.2-1.43.59L10.3 9.45l-7.72 7.72c-.78.78-.78 2.05 0 2.83L4 21.41c.39.39.9.59 1.41.59.51 0 1.02-.2 1.41-.59l7.78-7.78 2.81-2.81c.8-.78.8-2.07 0-2.86zM5.41 20L4 18.59l7.72-7.72 1.47 1.35L5.41 20z\"/>\n",
              "  </svg>\n",
              "      </button>\n",
              "      \n",
              "  <style>\n",
              "    .colab-df-container {\n",
              "      display:flex;\n",
              "      flex-wrap:wrap;\n",
              "      gap: 12px;\n",
              "    }\n",
              "\n",
              "    .colab-df-convert {\n",
              "      background-color: #E8F0FE;\n",
              "      border: none;\n",
              "      border-radius: 50%;\n",
              "      cursor: pointer;\n",
              "      display: none;\n",
              "      fill: #1967D2;\n",
              "      height: 32px;\n",
              "      padding: 0 0 0 0;\n",
              "      width: 32px;\n",
              "    }\n",
              "\n",
              "    .colab-df-convert:hover {\n",
              "      background-color: #E2EBFA;\n",
              "      box-shadow: 0px 1px 2px rgba(60, 64, 67, 0.3), 0px 1px 3px 1px rgba(60, 64, 67, 0.15);\n",
              "      fill: #174EA6;\n",
              "    }\n",
              "\n",
              "    [theme=dark] .colab-df-convert {\n",
              "      background-color: #3B4455;\n",
              "      fill: #D2E3FC;\n",
              "    }\n",
              "\n",
              "    [theme=dark] .colab-df-convert:hover {\n",
              "      background-color: #434B5C;\n",
              "      box-shadow: 0px 1px 3px 1px rgba(0, 0, 0, 0.15);\n",
              "      filter: drop-shadow(0px 1px 2px rgba(0, 0, 0, 0.3));\n",
              "      fill: #FFFFFF;\n",
              "    }\n",
              "  </style>\n",
              "\n",
              "      <script>\n",
              "        const buttonEl =\n",
              "          document.querySelector('#df-9752b491-7394-4fb8-8c5d-0149336c7c5e button.colab-df-convert');\n",
              "        buttonEl.style.display =\n",
              "          google.colab.kernel.accessAllowed ? 'block' : 'none';\n",
              "\n",
              "        async function convertToInteractive(key) {\n",
              "          const element = document.querySelector('#df-9752b491-7394-4fb8-8c5d-0149336c7c5e');\n",
              "          const dataTable =\n",
              "            await google.colab.kernel.invokeFunction('convertToInteractive',\n",
              "                                                     [key], {});\n",
              "          if (!dataTable) return;\n",
              "\n",
              "          const docLinkHtml = 'Like what you see? Visit the ' +\n",
              "            '<a target=\"_blank\" href=https://colab.research.google.com/notebooks/data_table.ipynb>data table notebook</a>'\n",
              "            + ' to learn more about interactive tables.';\n",
              "          element.innerHTML = '';\n",
              "          dataTable['output_type'] = 'display_data';\n",
              "          await google.colab.output.renderOutput(dataTable, element);\n",
              "          const docLink = document.createElement('div');\n",
              "          docLink.innerHTML = docLinkHtml;\n",
              "          element.appendChild(docLink);\n",
              "        }\n",
              "      </script>\n",
              "    </div>\n",
              "  </div>\n",
              "  "
            ]
          },
          "metadata": {},
          "execution_count": 130
        }
      ]
    },
    {
      "cell_type": "code",
      "source": [
        "#Checking variables in the combined dataset\n",
        "combined_data.info()"
      ],
      "metadata": {
        "id": "vUnkH4LNtdXx",
        "outputId": "8e5806b0-19c8-4c00-a0b3-7e0ea5bc66c0",
        "colab": {
          "base_uri": "https://localhost:8080/"
        }
      },
      "execution_count": null,
      "outputs": [
        {
          "output_type": "stream",
          "name": "stdout",
          "text": [
            "<class 'pandas.core.frame.DataFrame'>\n",
            "RangeIndex: 376 entries, 0 to 375\n",
            "Data columns (total 67 columns):\n",
            " #   Column                  Non-Null Count  Dtype  \n",
            "---  ------                  --------------  -----  \n",
            " 0   StateAbbr               376 non-null    object \n",
            " 1   PlaceName               376 non-null    object \n",
            " 2   PlaceFIPS               376 non-null    int64  \n",
            " 3   TractFIPS               376 non-null    int64  \n",
            " 4   Place_TractID           376 non-null    object \n",
            " 5   Population2010          376 non-null    int64  \n",
            " 6   ACCESS2_CrudePrev       376 non-null    float64\n",
            " 7   ACCESS2_Crude95CI       376 non-null    object \n",
            " 8   ARTHRITIS_CrudePrev     376 non-null    float64\n",
            " 9   ARTHRITIS_Crude95CI     376 non-null    object \n",
            " 10  BINGE_CrudePrev         376 non-null    float64\n",
            " 11  BINGE_Crude95CI         376 non-null    object \n",
            " 12  BPHIGH_CrudePrev        376 non-null    float64\n",
            " 13  BPHIGH_Crude95CI        376 non-null    object \n",
            " 14  BPMED_CrudePrev         376 non-null    float64\n",
            " 15  BPMED_Crude95CI         376 non-null    object \n",
            " 16  CANCER_CrudePrev        376 non-null    float64\n",
            " 17  CANCER_Crude95CI        376 non-null    object \n",
            " 18  CASTHMA_CrudePrev       376 non-null    float64\n",
            " 19  CASTHMA_Crude95CI       376 non-null    object \n",
            " 20  CHD_CrudePrev           376 non-null    float64\n",
            " 21  CHD_Crude95CI           376 non-null    object \n",
            " 22  CHECKUP_CrudePrev       376 non-null    float64\n",
            " 23  CHECKUP_Crude95CI       376 non-null    object \n",
            " 24  CHOLSCREEN_CrudePrev    376 non-null    float64\n",
            " 25  CHOLSCREEN_Crude95CI    376 non-null    object \n",
            " 26  COLON_SCREEN_CrudePrev  376 non-null    float64\n",
            " 27  COLON_SCREEN_Crude95CI  376 non-null    object \n",
            " 28  COPD_CrudePrev          376 non-null    float64\n",
            " 29  COPD_Crude95CI          376 non-null    object \n",
            " 30  COREM_CrudePrev         375 non-null    float64\n",
            " 31  COREM_Crude95CI         375 non-null    object \n",
            " 32  COREW_CrudePrev         375 non-null    float64\n",
            " 33  COREW_Crude95CI         375 non-null    object \n",
            " 34  CSMOKING_CrudePrev      376 non-null    float64\n",
            " 35  CSMOKING_Crude95CI      376 non-null    object \n",
            " 36  DENTAL_CrudePrev        376 non-null    float64\n",
            " 37  DENTAL_Crude95CI        376 non-null    object \n",
            " 38  DIABETES_CrudePrev      376 non-null    float64\n",
            " 39  DIABETES_Crude95CI      376 non-null    object \n",
            " 40  HIGHCHOL_CrudePrev      376 non-null    float64\n",
            " 41  HIGHCHOL_Crude95CI      376 non-null    object \n",
            " 42  KIDNEY_CrudePrev        376 non-null    float64\n",
            " 43  KIDNEY_Crude95CI        376 non-null    object \n",
            " 44  LPA_CrudePrev           376 non-null    float64\n",
            " 45  LPA_Crude95CI           376 non-null    object \n",
            " 46  MAMMOUSE_CrudePrev      376 non-null    float64\n",
            " 47  MAMMOUSE_Crude95CI      376 non-null    object \n",
            " 48  MHLTH_CrudePrev         376 non-null    float64\n",
            " 49  MHLTH_Crude95CI         376 non-null    object \n",
            " 50  OBESITY_CrudePrev       376 non-null    float64\n",
            " 51  OBESITY_Crude95CI       376 non-null    object \n",
            " 52  PAPTEST_CrudePrev       376 non-null    float64\n",
            " 53  PAPTEST_Crude95CI       376 non-null    object \n",
            " 54  PHLTH_CrudePrev         376 non-null    float64\n",
            " 55  PHLTH_Crude95CI         376 non-null    object \n",
            " 56  SLEEP_CrudePrev         376 non-null    float64\n",
            " 57  SLEEP_Crude95CI         376 non-null    object \n",
            " 58  STROKE_CrudePrev        376 non-null    float64\n",
            " 59  STROKE_Crude95CI        376 non-null    object \n",
            " 60  TEETHLOST_CrudePrev     375 non-null    float64\n",
            " 61  TEETHLOST_Crude95CI     375 non-null    object \n",
            " 62  Geolocation             376 non-null    object \n",
            " 63  HVI_SCORE               374 non-null    float64\n",
            " 64  geometry                374 non-null    object \n",
            " 65  num_trees               374 non-null    float64\n",
            " 66  ave_dbh                 374 non-null    float64\n",
            "dtypes: float64(31), int64(3), object(33)\n",
            "memory usage: 196.9+ KB\n"
          ]
        }
      ]
    },
    {
      "cell_type": "code",
      "source": [
        "combined_data.describe()"
      ],
      "metadata": {
        "id": "KXlvg9Yg03On",
        "outputId": "29f46d53-389b-45ff-9709-162be121a845",
        "colab": {
          "base_uri": "https://localhost:8080/",
          "height": 393
        }
      },
      "execution_count": null,
      "outputs": [
        {
          "output_type": "execute_result",
          "data": {
            "text/plain": [
              "       PlaceFIPS     TractFIPS  Population2010  ACCESS2_CrudePrev  \\\n",
              "count      376.0  3.760000e+02      376.000000         376.000000   \n",
              "mean   4260000.0  4.210103e+10     4058.377660          13.434309   \n",
              "std          0.0  9.958006e+04     1625.805143           5.792134   \n",
              "min    4260000.0  4.210100e+10       74.000000           4.100000   \n",
              "25%    4260000.0  4.210101e+10     2889.250000           9.175000   \n",
              "50%    4260000.0  4.210102e+10     3944.500000          12.700000   \n",
              "75%    4260000.0  4.210103e+10     5129.000000          16.200000   \n",
              "max    4260000.0  4.210199e+10     8322.000000          35.300000   \n",
              "\n",
              "       ARTHRITIS_CrudePrev  BINGE_CrudePrev  BPHIGH_CrudePrev  \\\n",
              "count           376.000000       376.000000        376.000000   \n",
              "mean             25.765160        20.179521         34.295479   \n",
              "std               6.111099         4.587412          9.248421   \n",
              "min               6.500000         8.500000         10.800000   \n",
              "25%              22.950000        16.500000         28.800000   \n",
              "50%              26.250000        19.300000         33.300000   \n",
              "75%              29.750000        23.400000         42.350000   \n",
              "max              50.900000        33.600000         56.400000   \n",
              "\n",
              "       BPMED_CrudePrev  CANCER_CrudePrev  CASTHMA_CrudePrev  ...  \\\n",
              "count       376.000000        376.000000         376.000000  ...   \n",
              "mean         74.481383          5.809043          11.589096  ...   \n",
              "std           7.225807          1.830824           1.809077  ...   \n",
              "min          33.500000          1.100000           8.200000  ...   \n",
              "25%          71.900000          4.700000          10.100000  ...   \n",
              "50%          75.300000          5.600000          11.400000  ...   \n",
              "75%          79.425000          6.600000          13.100000  ...   \n",
              "max          89.600000         18.700000          16.300000  ...   \n",
              "\n",
              "       MHLTH_CrudePrev  OBESITY_CrudePrev  PAPTEST_CrudePrev  PHLTH_CrudePrev  \\\n",
              "count       376.000000         376.000000         376.000000       376.000000   \n",
              "mean         16.168617          33.205585          81.397606        14.893085   \n",
              "std           3.726829           8.095460           2.848432         4.398158   \n",
              "min           8.200000          17.400000          65.100000         5.000000   \n",
              "25%          13.400000          26.200000          79.700000        11.875000   \n",
              "50%          16.000000          32.950000          81.600000        14.600000   \n",
              "75%          19.000000          40.600000          83.500000        18.200000   \n",
              "max          25.800000          48.800000          86.000000        24.800000   \n",
              "\n",
              "       SLEEP_CrudePrev  STROKE_CrudePrev  TEETHLOST_CrudePrev   HVI_SCORE  \\\n",
              "count       376.000000        376.000000           375.000000  374.000000   \n",
              "mean         42.241489          4.093883            19.860800    0.013235   \n",
              "std           5.865477          1.734325             8.798686    1.995821   \n",
              "min          28.800000          0.700000             3.800000   -6.188905   \n",
              "25%          37.000000          2.900000            12.600000   -1.365208   \n",
              "50%          42.850000          3.800000            19.000000    0.121218   \n",
              "75%          47.200000          5.200000            26.600000    1.415511   \n",
              "max          52.600000         10.300000            42.400000    5.062507   \n",
              "\n",
              "         num_trees     ave_dbh  \n",
              "count   374.000000  374.000000  \n",
              "mean    388.957219   12.928795  \n",
              "std     478.637155    4.388298  \n",
              "min       5.000000    1.476190  \n",
              "25%     190.250000    9.611777  \n",
              "50%     297.000000   12.735011  \n",
              "75%     463.000000   16.330889  \n",
              "max    8177.000000   23.890026  \n",
              "\n",
              "[8 rows x 34 columns]"
            ],
            "text/html": [
              "\n",
              "  <div id=\"df-f5548dce-bb77-4857-94fb-26cf66b39dd2\">\n",
              "    <div class=\"colab-df-container\">\n",
              "      <div>\n",
              "<style scoped>\n",
              "    .dataframe tbody tr th:only-of-type {\n",
              "        vertical-align: middle;\n",
              "    }\n",
              "\n",
              "    .dataframe tbody tr th {\n",
              "        vertical-align: top;\n",
              "    }\n",
              "\n",
              "    .dataframe thead th {\n",
              "        text-align: right;\n",
              "    }\n",
              "</style>\n",
              "<table border=\"1\" class=\"dataframe\">\n",
              "  <thead>\n",
              "    <tr style=\"text-align: right;\">\n",
              "      <th></th>\n",
              "      <th>PlaceFIPS</th>\n",
              "      <th>TractFIPS</th>\n",
              "      <th>Population2010</th>\n",
              "      <th>ACCESS2_CrudePrev</th>\n",
              "      <th>ARTHRITIS_CrudePrev</th>\n",
              "      <th>BINGE_CrudePrev</th>\n",
              "      <th>BPHIGH_CrudePrev</th>\n",
              "      <th>BPMED_CrudePrev</th>\n",
              "      <th>CANCER_CrudePrev</th>\n",
              "      <th>CASTHMA_CrudePrev</th>\n",
              "      <th>...</th>\n",
              "      <th>MHLTH_CrudePrev</th>\n",
              "      <th>OBESITY_CrudePrev</th>\n",
              "      <th>PAPTEST_CrudePrev</th>\n",
              "      <th>PHLTH_CrudePrev</th>\n",
              "      <th>SLEEP_CrudePrev</th>\n",
              "      <th>STROKE_CrudePrev</th>\n",
              "      <th>TEETHLOST_CrudePrev</th>\n",
              "      <th>HVI_SCORE</th>\n",
              "      <th>num_trees</th>\n",
              "      <th>ave_dbh</th>\n",
              "    </tr>\n",
              "  </thead>\n",
              "  <tbody>\n",
              "    <tr>\n",
              "      <th>count</th>\n",
              "      <td>376.0</td>\n",
              "      <td>3.760000e+02</td>\n",
              "      <td>376.000000</td>\n",
              "      <td>376.000000</td>\n",
              "      <td>376.000000</td>\n",
              "      <td>376.000000</td>\n",
              "      <td>376.000000</td>\n",
              "      <td>376.000000</td>\n",
              "      <td>376.000000</td>\n",
              "      <td>376.000000</td>\n",
              "      <td>...</td>\n",
              "      <td>376.000000</td>\n",
              "      <td>376.000000</td>\n",
              "      <td>376.000000</td>\n",
              "      <td>376.000000</td>\n",
              "      <td>376.000000</td>\n",
              "      <td>376.000000</td>\n",
              "      <td>375.000000</td>\n",
              "      <td>374.000000</td>\n",
              "      <td>374.000000</td>\n",
              "      <td>374.000000</td>\n",
              "    </tr>\n",
              "    <tr>\n",
              "      <th>mean</th>\n",
              "      <td>4260000.0</td>\n",
              "      <td>4.210103e+10</td>\n",
              "      <td>4058.377660</td>\n",
              "      <td>13.434309</td>\n",
              "      <td>25.765160</td>\n",
              "      <td>20.179521</td>\n",
              "      <td>34.295479</td>\n",
              "      <td>74.481383</td>\n",
              "      <td>5.809043</td>\n",
              "      <td>11.589096</td>\n",
              "      <td>...</td>\n",
              "      <td>16.168617</td>\n",
              "      <td>33.205585</td>\n",
              "      <td>81.397606</td>\n",
              "      <td>14.893085</td>\n",
              "      <td>42.241489</td>\n",
              "      <td>4.093883</td>\n",
              "      <td>19.860800</td>\n",
              "      <td>0.013235</td>\n",
              "      <td>388.957219</td>\n",
              "      <td>12.928795</td>\n",
              "    </tr>\n",
              "    <tr>\n",
              "      <th>std</th>\n",
              "      <td>0.0</td>\n",
              "      <td>9.958006e+04</td>\n",
              "      <td>1625.805143</td>\n",
              "      <td>5.792134</td>\n",
              "      <td>6.111099</td>\n",
              "      <td>4.587412</td>\n",
              "      <td>9.248421</td>\n",
              "      <td>7.225807</td>\n",
              "      <td>1.830824</td>\n",
              "      <td>1.809077</td>\n",
              "      <td>...</td>\n",
              "      <td>3.726829</td>\n",
              "      <td>8.095460</td>\n",
              "      <td>2.848432</td>\n",
              "      <td>4.398158</td>\n",
              "      <td>5.865477</td>\n",
              "      <td>1.734325</td>\n",
              "      <td>8.798686</td>\n",
              "      <td>1.995821</td>\n",
              "      <td>478.637155</td>\n",
              "      <td>4.388298</td>\n",
              "    </tr>\n",
              "    <tr>\n",
              "      <th>min</th>\n",
              "      <td>4260000.0</td>\n",
              "      <td>4.210100e+10</td>\n",
              "      <td>74.000000</td>\n",
              "      <td>4.100000</td>\n",
              "      <td>6.500000</td>\n",
              "      <td>8.500000</td>\n",
              "      <td>10.800000</td>\n",
              "      <td>33.500000</td>\n",
              "      <td>1.100000</td>\n",
              "      <td>8.200000</td>\n",
              "      <td>...</td>\n",
              "      <td>8.200000</td>\n",
              "      <td>17.400000</td>\n",
              "      <td>65.100000</td>\n",
              "      <td>5.000000</td>\n",
              "      <td>28.800000</td>\n",
              "      <td>0.700000</td>\n",
              "      <td>3.800000</td>\n",
              "      <td>-6.188905</td>\n",
              "      <td>5.000000</td>\n",
              "      <td>1.476190</td>\n",
              "    </tr>\n",
              "    <tr>\n",
              "      <th>25%</th>\n",
              "      <td>4260000.0</td>\n",
              "      <td>4.210101e+10</td>\n",
              "      <td>2889.250000</td>\n",
              "      <td>9.175000</td>\n",
              "      <td>22.950000</td>\n",
              "      <td>16.500000</td>\n",
              "      <td>28.800000</td>\n",
              "      <td>71.900000</td>\n",
              "      <td>4.700000</td>\n",
              "      <td>10.100000</td>\n",
              "      <td>...</td>\n",
              "      <td>13.400000</td>\n",
              "      <td>26.200000</td>\n",
              "      <td>79.700000</td>\n",
              "      <td>11.875000</td>\n",
              "      <td>37.000000</td>\n",
              "      <td>2.900000</td>\n",
              "      <td>12.600000</td>\n",
              "      <td>-1.365208</td>\n",
              "      <td>190.250000</td>\n",
              "      <td>9.611777</td>\n",
              "    </tr>\n",
              "    <tr>\n",
              "      <th>50%</th>\n",
              "      <td>4260000.0</td>\n",
              "      <td>4.210102e+10</td>\n",
              "      <td>3944.500000</td>\n",
              "      <td>12.700000</td>\n",
              "      <td>26.250000</td>\n",
              "      <td>19.300000</td>\n",
              "      <td>33.300000</td>\n",
              "      <td>75.300000</td>\n",
              "      <td>5.600000</td>\n",
              "      <td>11.400000</td>\n",
              "      <td>...</td>\n",
              "      <td>16.000000</td>\n",
              "      <td>32.950000</td>\n",
              "      <td>81.600000</td>\n",
              "      <td>14.600000</td>\n",
              "      <td>42.850000</td>\n",
              "      <td>3.800000</td>\n",
              "      <td>19.000000</td>\n",
              "      <td>0.121218</td>\n",
              "      <td>297.000000</td>\n",
              "      <td>12.735011</td>\n",
              "    </tr>\n",
              "    <tr>\n",
              "      <th>75%</th>\n",
              "      <td>4260000.0</td>\n",
              "      <td>4.210103e+10</td>\n",
              "      <td>5129.000000</td>\n",
              "      <td>16.200000</td>\n",
              "      <td>29.750000</td>\n",
              "      <td>23.400000</td>\n",
              "      <td>42.350000</td>\n",
              "      <td>79.425000</td>\n",
              "      <td>6.600000</td>\n",
              "      <td>13.100000</td>\n",
              "      <td>...</td>\n",
              "      <td>19.000000</td>\n",
              "      <td>40.600000</td>\n",
              "      <td>83.500000</td>\n",
              "      <td>18.200000</td>\n",
              "      <td>47.200000</td>\n",
              "      <td>5.200000</td>\n",
              "      <td>26.600000</td>\n",
              "      <td>1.415511</td>\n",
              "      <td>463.000000</td>\n",
              "      <td>16.330889</td>\n",
              "    </tr>\n",
              "    <tr>\n",
              "      <th>max</th>\n",
              "      <td>4260000.0</td>\n",
              "      <td>4.210199e+10</td>\n",
              "      <td>8322.000000</td>\n",
              "      <td>35.300000</td>\n",
              "      <td>50.900000</td>\n",
              "      <td>33.600000</td>\n",
              "      <td>56.400000</td>\n",
              "      <td>89.600000</td>\n",
              "      <td>18.700000</td>\n",
              "      <td>16.300000</td>\n",
              "      <td>...</td>\n",
              "      <td>25.800000</td>\n",
              "      <td>48.800000</td>\n",
              "      <td>86.000000</td>\n",
              "      <td>24.800000</td>\n",
              "      <td>52.600000</td>\n",
              "      <td>10.300000</td>\n",
              "      <td>42.400000</td>\n",
              "      <td>5.062507</td>\n",
              "      <td>8177.000000</td>\n",
              "      <td>23.890026</td>\n",
              "    </tr>\n",
              "  </tbody>\n",
              "</table>\n",
              "<p>8 rows × 34 columns</p>\n",
              "</div>\n",
              "      <button class=\"colab-df-convert\" onclick=\"convertToInteractive('df-f5548dce-bb77-4857-94fb-26cf66b39dd2')\"\n",
              "              title=\"Convert this dataframe to an interactive table.\"\n",
              "              style=\"display:none;\">\n",
              "        \n",
              "  <svg xmlns=\"http://www.w3.org/2000/svg\" height=\"24px\"viewBox=\"0 0 24 24\"\n",
              "       width=\"24px\">\n",
              "    <path d=\"M0 0h24v24H0V0z\" fill=\"none\"/>\n",
              "    <path d=\"M18.56 5.44l.94 2.06.94-2.06 2.06-.94-2.06-.94-.94-2.06-.94 2.06-2.06.94zm-11 1L8.5 8.5l.94-2.06 2.06-.94-2.06-.94L8.5 2.5l-.94 2.06-2.06.94zm10 10l.94 2.06.94-2.06 2.06-.94-2.06-.94-.94-2.06-.94 2.06-2.06.94z\"/><path d=\"M17.41 7.96l-1.37-1.37c-.4-.4-.92-.59-1.43-.59-.52 0-1.04.2-1.43.59L10.3 9.45l-7.72 7.72c-.78.78-.78 2.05 0 2.83L4 21.41c.39.39.9.59 1.41.59.51 0 1.02-.2 1.41-.59l7.78-7.78 2.81-2.81c.8-.78.8-2.07 0-2.86zM5.41 20L4 18.59l7.72-7.72 1.47 1.35L5.41 20z\"/>\n",
              "  </svg>\n",
              "      </button>\n",
              "      \n",
              "  <style>\n",
              "    .colab-df-container {\n",
              "      display:flex;\n",
              "      flex-wrap:wrap;\n",
              "      gap: 12px;\n",
              "    }\n",
              "\n",
              "    .colab-df-convert {\n",
              "      background-color: #E8F0FE;\n",
              "      border: none;\n",
              "      border-radius: 50%;\n",
              "      cursor: pointer;\n",
              "      display: none;\n",
              "      fill: #1967D2;\n",
              "      height: 32px;\n",
              "      padding: 0 0 0 0;\n",
              "      width: 32px;\n",
              "    }\n",
              "\n",
              "    .colab-df-convert:hover {\n",
              "      background-color: #E2EBFA;\n",
              "      box-shadow: 0px 1px 2px rgba(60, 64, 67, 0.3), 0px 1px 3px 1px rgba(60, 64, 67, 0.15);\n",
              "      fill: #174EA6;\n",
              "    }\n",
              "\n",
              "    [theme=dark] .colab-df-convert {\n",
              "      background-color: #3B4455;\n",
              "      fill: #D2E3FC;\n",
              "    }\n",
              "\n",
              "    [theme=dark] .colab-df-convert:hover {\n",
              "      background-color: #434B5C;\n",
              "      box-shadow: 0px 1px 3px 1px rgba(0, 0, 0, 0.15);\n",
              "      filter: drop-shadow(0px 1px 2px rgba(0, 0, 0, 0.3));\n",
              "      fill: #FFFFFF;\n",
              "    }\n",
              "  </style>\n",
              "\n",
              "      <script>\n",
              "        const buttonEl =\n",
              "          document.querySelector('#df-f5548dce-bb77-4857-94fb-26cf66b39dd2 button.colab-df-convert');\n",
              "        buttonEl.style.display =\n",
              "          google.colab.kernel.accessAllowed ? 'block' : 'none';\n",
              "\n",
              "        async function convertToInteractive(key) {\n",
              "          const element = document.querySelector('#df-f5548dce-bb77-4857-94fb-26cf66b39dd2');\n",
              "          const dataTable =\n",
              "            await google.colab.kernel.invokeFunction('convertToInteractive',\n",
              "                                                     [key], {});\n",
              "          if (!dataTable) return;\n",
              "\n",
              "          const docLinkHtml = 'Like what you see? Visit the ' +\n",
              "            '<a target=\"_blank\" href=https://colab.research.google.com/notebooks/data_table.ipynb>data table notebook</a>'\n",
              "            + ' to learn more about interactive tables.';\n",
              "          element.innerHTML = '';\n",
              "          dataTable['output_type'] = 'display_data';\n",
              "          await google.colab.output.renderOutput(dataTable, element);\n",
              "          const docLink = document.createElement('div');\n",
              "          docLink.innerHTML = docLinkHtml;\n",
              "          element.appendChild(docLink);\n",
              "        }\n",
              "      </script>\n",
              "    </div>\n",
              "  </div>\n",
              "  "
            ]
          },
          "metadata": {},
          "execution_count": 132
        }
      ]
    },
    {
      "cell_type": "code",
      "source": [
        "#Clipping the variables that will be used in the modelling based on the influence in the modelling\n",
        "combined_1 = combined_data[['Population2010', 'BPHIGH_CrudePrev', 'CANCER_CrudePrev', 'CASTHMA_CrudePrev', 'DIABETES_CrudePrev', 'OBESITY_CrudePrev', 'HVI_SCORE', 'num_trees', 'geometry']]\n",
        "combined_1.head()"
      ],
      "metadata": {
        "id": "Jc_vTUaktihP",
        "outputId": "c3c6f1b9-7d86-4b3a-af0e-5440acee1627",
        "colab": {
          "base_uri": "https://localhost:8080/",
          "height": 206
        }
      },
      "execution_count": null,
      "outputs": [
        {
          "output_type": "execute_result",
          "data": {
            "text/plain": [
              "   Population2010  BPHIGH_CrudePrev  CANCER_CrudePrev  CASTHMA_CrudePrev  \\\n",
              "0            3478              15.6               3.8                8.8   \n",
              "1            2937              28.8               3.6                8.6   \n",
              "2            3169              21.8               5.7                9.0   \n",
              "3            2125              26.3               5.7                8.9   \n",
              "4            3142              31.6              10.7                8.4   \n",
              "\n",
              "   DIABETES_CrudePrev  OBESITY_CrudePrev  HVI_SCORE  num_trees  \\\n",
              "0                 3.8               20.7  -3.477334     1060.0   \n",
              "1                13.4               23.4   1.652408      252.0   \n",
              "2                 6.1               21.4  -1.576464     1086.0   \n",
              "3                 9.2               21.6  -1.554901      253.0   \n",
              "4                 9.0               19.7   0.232113      393.0   \n",
              "\n",
              "                                            geometry  \n",
              "0  POLYGON ((-75.1414721327397 39.9517072267047, ...  \n",
              "1  POLYGON ((-75.162377698504 39.9576545523082, -...  \n",
              "2  POLYGON ((-75.1782048283904 39.9598134132842, ...  \n",
              "3  POLYGON ((-75.1729917788024 39.9546437050483, ...  \n",
              "4  POLYGON ((-75.1633313650233 39.9533392100125, ...  "
            ],
            "text/html": [
              "\n",
              "  <div id=\"df-704ee5c6-c207-43e9-8c76-7f998215af82\">\n",
              "    <div class=\"colab-df-container\">\n",
              "      <div>\n",
              "<style scoped>\n",
              "    .dataframe tbody tr th:only-of-type {\n",
              "        vertical-align: middle;\n",
              "    }\n",
              "\n",
              "    .dataframe tbody tr th {\n",
              "        vertical-align: top;\n",
              "    }\n",
              "\n",
              "    .dataframe thead th {\n",
              "        text-align: right;\n",
              "    }\n",
              "</style>\n",
              "<table border=\"1\" class=\"dataframe\">\n",
              "  <thead>\n",
              "    <tr style=\"text-align: right;\">\n",
              "      <th></th>\n",
              "      <th>Population2010</th>\n",
              "      <th>BPHIGH_CrudePrev</th>\n",
              "      <th>CANCER_CrudePrev</th>\n",
              "      <th>CASTHMA_CrudePrev</th>\n",
              "      <th>DIABETES_CrudePrev</th>\n",
              "      <th>OBESITY_CrudePrev</th>\n",
              "      <th>HVI_SCORE</th>\n",
              "      <th>num_trees</th>\n",
              "      <th>geometry</th>\n",
              "    </tr>\n",
              "  </thead>\n",
              "  <tbody>\n",
              "    <tr>\n",
              "      <th>0</th>\n",
              "      <td>3478</td>\n",
              "      <td>15.6</td>\n",
              "      <td>3.8</td>\n",
              "      <td>8.8</td>\n",
              "      <td>3.8</td>\n",
              "      <td>20.7</td>\n",
              "      <td>-3.477334</td>\n",
              "      <td>1060.0</td>\n",
              "      <td>POLYGON ((-75.1414721327397 39.9517072267047, ...</td>\n",
              "    </tr>\n",
              "    <tr>\n",
              "      <th>1</th>\n",
              "      <td>2937</td>\n",
              "      <td>28.8</td>\n",
              "      <td>3.6</td>\n",
              "      <td>8.6</td>\n",
              "      <td>13.4</td>\n",
              "      <td>23.4</td>\n",
              "      <td>1.652408</td>\n",
              "      <td>252.0</td>\n",
              "      <td>POLYGON ((-75.162377698504 39.9576545523082, -...</td>\n",
              "    </tr>\n",
              "    <tr>\n",
              "      <th>2</th>\n",
              "      <td>3169</td>\n",
              "      <td>21.8</td>\n",
              "      <td>5.7</td>\n",
              "      <td>9.0</td>\n",
              "      <td>6.1</td>\n",
              "      <td>21.4</td>\n",
              "      <td>-1.576464</td>\n",
              "      <td>1086.0</td>\n",
              "      <td>POLYGON ((-75.1782048283904 39.9598134132842, ...</td>\n",
              "    </tr>\n",
              "    <tr>\n",
              "      <th>3</th>\n",
              "      <td>2125</td>\n",
              "      <td>26.3</td>\n",
              "      <td>5.7</td>\n",
              "      <td>8.9</td>\n",
              "      <td>9.2</td>\n",
              "      <td>21.6</td>\n",
              "      <td>-1.554901</td>\n",
              "      <td>253.0</td>\n",
              "      <td>POLYGON ((-75.1729917788024 39.9546437050483, ...</td>\n",
              "    </tr>\n",
              "    <tr>\n",
              "      <th>4</th>\n",
              "      <td>3142</td>\n",
              "      <td>31.6</td>\n",
              "      <td>10.7</td>\n",
              "      <td>8.4</td>\n",
              "      <td>9.0</td>\n",
              "      <td>19.7</td>\n",
              "      <td>0.232113</td>\n",
              "      <td>393.0</td>\n",
              "      <td>POLYGON ((-75.1633313650233 39.9533392100125, ...</td>\n",
              "    </tr>\n",
              "  </tbody>\n",
              "</table>\n",
              "</div>\n",
              "      <button class=\"colab-df-convert\" onclick=\"convertToInteractive('df-704ee5c6-c207-43e9-8c76-7f998215af82')\"\n",
              "              title=\"Convert this dataframe to an interactive table.\"\n",
              "              style=\"display:none;\">\n",
              "        \n",
              "  <svg xmlns=\"http://www.w3.org/2000/svg\" height=\"24px\"viewBox=\"0 0 24 24\"\n",
              "       width=\"24px\">\n",
              "    <path d=\"M0 0h24v24H0V0z\" fill=\"none\"/>\n",
              "    <path d=\"M18.56 5.44l.94 2.06.94-2.06 2.06-.94-2.06-.94-.94-2.06-.94 2.06-2.06.94zm-11 1L8.5 8.5l.94-2.06 2.06-.94-2.06-.94L8.5 2.5l-.94 2.06-2.06.94zm10 10l.94 2.06.94-2.06 2.06-.94-2.06-.94-.94-2.06-.94 2.06-2.06.94z\"/><path d=\"M17.41 7.96l-1.37-1.37c-.4-.4-.92-.59-1.43-.59-.52 0-1.04.2-1.43.59L10.3 9.45l-7.72 7.72c-.78.78-.78 2.05 0 2.83L4 21.41c.39.39.9.59 1.41.59.51 0 1.02-.2 1.41-.59l7.78-7.78 2.81-2.81c.8-.78.8-2.07 0-2.86zM5.41 20L4 18.59l7.72-7.72 1.47 1.35L5.41 20z\"/>\n",
              "  </svg>\n",
              "      </button>\n",
              "      \n",
              "  <style>\n",
              "    .colab-df-container {\n",
              "      display:flex;\n",
              "      flex-wrap:wrap;\n",
              "      gap: 12px;\n",
              "    }\n",
              "\n",
              "    .colab-df-convert {\n",
              "      background-color: #E8F0FE;\n",
              "      border: none;\n",
              "      border-radius: 50%;\n",
              "      cursor: pointer;\n",
              "      display: none;\n",
              "      fill: #1967D2;\n",
              "      height: 32px;\n",
              "      padding: 0 0 0 0;\n",
              "      width: 32px;\n",
              "    }\n",
              "\n",
              "    .colab-df-convert:hover {\n",
              "      background-color: #E2EBFA;\n",
              "      box-shadow: 0px 1px 2px rgba(60, 64, 67, 0.3), 0px 1px 3px 1px rgba(60, 64, 67, 0.15);\n",
              "      fill: #174EA6;\n",
              "    }\n",
              "\n",
              "    [theme=dark] .colab-df-convert {\n",
              "      background-color: #3B4455;\n",
              "      fill: #D2E3FC;\n",
              "    }\n",
              "\n",
              "    [theme=dark] .colab-df-convert:hover {\n",
              "      background-color: #434B5C;\n",
              "      box-shadow: 0px 1px 3px 1px rgba(0, 0, 0, 0.15);\n",
              "      filter: drop-shadow(0px 1px 2px rgba(0, 0, 0, 0.3));\n",
              "      fill: #FFFFFF;\n",
              "    }\n",
              "  </style>\n",
              "\n",
              "      <script>\n",
              "        const buttonEl =\n",
              "          document.querySelector('#df-704ee5c6-c207-43e9-8c76-7f998215af82 button.colab-df-convert');\n",
              "        buttonEl.style.display =\n",
              "          google.colab.kernel.accessAllowed ? 'block' : 'none';\n",
              "\n",
              "        async function convertToInteractive(key) {\n",
              "          const element = document.querySelector('#df-704ee5c6-c207-43e9-8c76-7f998215af82');\n",
              "          const dataTable =\n",
              "            await google.colab.kernel.invokeFunction('convertToInteractive',\n",
              "                                                     [key], {});\n",
              "          if (!dataTable) return;\n",
              "\n",
              "          const docLinkHtml = 'Like what you see? Visit the ' +\n",
              "            '<a target=\"_blank\" href=https://colab.research.google.com/notebooks/data_table.ipynb>data table notebook</a>'\n",
              "            + ' to learn more about interactive tables.';\n",
              "          element.innerHTML = '';\n",
              "          dataTable['output_type'] = 'display_data';\n",
              "          await google.colab.output.renderOutput(dataTable, element);\n",
              "          const docLink = document.createElement('div');\n",
              "          docLink.innerHTML = docLinkHtml;\n",
              "          element.appendChild(docLink);\n",
              "        }\n",
              "      </script>\n",
              "    </div>\n",
              "  </div>\n",
              "  "
            ]
          },
          "metadata": {},
          "execution_count": 133
        }
      ]
    },
    {
      "cell_type": "code",
      "source": [
        "#Dropping NANs\n",
        "combined_1 = combined_1.dropna()"
      ],
      "metadata": {
        "id": "wGL3mdFR_-0W"
      },
      "execution_count": null,
      "outputs": []
    },
    {
      "cell_type": "markdown",
      "source": [
        "**Correlation Model prediction**"
      ],
      "metadata": {
        "id": "dtaDAzok1JHf"
      }
    },
    {
      "cell_type": "code",
      "source": [
        "#Running the correction model\n",
        "plt.imshow(combined_1.corr())\n",
        "plt.xticks(range(len(combined_1.corr())), combined_1.corr().columns, rotation='vertical')\n",
        "plt.yticks(range(len(combined_1.corr())), combined_1.corr().columns)\n",
        "plt.title(\"Correlation of Health Factors (Chronic diseases) with HVI Score and Number of trees\", fontsize = 14, pad=20)\n",
        "plt.colorbar();"
      ],
      "metadata": {
        "id": "AdCDZvM6upEY",
        "outputId": "ea28a0fb-1f2b-47e5-a18b-266f105c540c",
        "colab": {
          "base_uri": "https://localhost:8080/",
          "height": 392
        }
      },
      "execution_count": null,
      "outputs": [
        {
          "output_type": "display_data",
          "data": {
            "text/plain": [
              "<Figure size 432x288 with 2 Axes>"
            ],
            "image/png": "[encoded data removed]"
          },
          "metadata": {
            "needs_background": "light"
          }
        }
      ]
    },
    {
      "cell_type": "markdown",
      "source": [
        "**Figure 13:** Correlation between different health variables, HVI Score and Number of trees. There are two things from this analysis. Firstly, we learn that HVI Scores are associated with low Number of trees. This means that the less the number of trees in the census tract the higher the heating effect. Secondly, we notice that High Blood  Pressure is also associated with lower Number of trees. This indicates that in areas where the trees are fewer, there is higher occurence of Blood Pressure."
      ],
      "metadata": {
        "id": "ocmCssqXvRC_"
      }
    },
    {
      "cell_type": "markdown",
      "source": [
        "**Random Forest Modelling: HVI Score prediction with health variables with number of trees**"
      ],
      "metadata": {
        "id": "SscGV82nwv9_"
      }
    },
    {
      "cell_type": "code",
      "source": [
        "from sklearn.ensemble import RandomForestClassifier\n",
        "#Dropping NANs\n",
        "combined_data = combined_data.dropna()\n",
        "\n",
        "#New column that registers if the HVI is above 0 or not\n",
        "combined_data[\"High_HVI\"] = combined_data['HVI_SCORE'] > 0\n",
        "\n",
        "# -- splitting into subsets\n",
        "sqf_0 = combined_data[combined_data[\"High_HVI\"] == 0]\n",
        "sqf_1 = combined_data[combined_data[\"High_HVI\"] == 1]\n",
        "\n",
        "## -- randomly sub-sample as sqf_0 has the same shape as sqf_1_sub\n",
        "sqf_1_sub = sqf_1.sample(len(sqf_0), random_state=1)\n",
        "\n",
        "# -- concatenate the two (equally sized) sub-sets\n",
        "sqf_bal = pd.concat((sqf_1_sub, sqf_0))\n",
        "\n"
      ],
      "metadata": {
        "id": "IQA12ByMIVth"
      },
      "execution_count": null,
      "outputs": []
    },
    {
      "cell_type": "code",
      "source": [
        "\n",
        "#Splitting sets of data\n",
        "x = sqf_bal[['Population2010', 'BPHIGH_CrudePrev', 'CANCER_CrudePrev', 'CASTHMA_CrudePrev', 'DIABETES_CrudePrev', 'OBESITY_CrudePrev', 'num_trees']]\n",
        "y = sqf_bal[['High_HVI']]\n",
        "\n",
        "X_train, X_test, y_train, y_test = train_test_split(\n",
        "    x, y, test_size=0.3, random_state=1)\n"
      ],
      "metadata": {
        "id": "MY5emqvXwxAX"
      },
      "execution_count": null,
      "outputs": []
    },
    {
      "cell_type": "code",
      "source": [
        "#Running the RF Model\n",
        "#rf = RandomForestRegressor(max_depth=8, random_state=1, n_estimators=500, max_leaf_nodes = 30, min_samples_leaf = 50)\n",
        "rf = RandomForestClassifier(max_depth=3, random_state=1);\n",
        "rf.fit(X_train, y_train);\n",
        "\n",
        "\n",
        "print(\"Accuracy on training data {:.2}\".format(rf.score(X_train, y_train)))\n",
        "print(\"Accuracy on testing data {:.2}\".format(rf.score(X_test, y_test)))"
      ],
      "metadata": {
        "id": "fUiS2lXJxG_f",
        "outputId": "6493e075-5bf6-4794-8069-b7297807733d",
        "colab": {
          "base_uri": "https://localhost:8080/"
        }
      },
      "execution_count": null,
      "outputs": [
        {
          "output_type": "stream",
          "name": "stdout",
          "text": [
            "Accuracy on training data 0.76\n",
            "Accuracy on testing data 0.65\n"
          ]
        },
        {
          "output_type": "stream",
          "name": "stderr",
          "text": [
            "<ipython-input-174-3eee00fc53d0>:4: DataConversionWarning: A column-vector y was passed when a 1d array was expected. Please change the shape of y to (n_samples,), for example using ravel().\n",
            "  rf.fit(X_train, y_train);\n"
          ]
        }
      ]
    },
    {
      "cell_type": "code",
      "source": [
        "#Creating feature names\n",
        "names = list(x.columns.values.tolist())\n",
        "\n",
        "feature_names = np.array(names)\n",
        "\n",
        "feature_names"
      ],
      "metadata": {
        "id": "ZnYOHm9PxeLv",
        "outputId": "98156f90-c256-4c55-bb1e-0eac757b2251",
        "colab": {
          "base_uri": "https://localhost:8080/"
        }
      },
      "execution_count": null,
      "outputs": [
        {
          "output_type": "execute_result",
          "data": {
            "text/plain": [
              "array(['Population2010', 'BPHIGH_CrudePrev', 'CANCER_CrudePrev',\n",
              "       'CASTHMA_CrudePrev', 'DIABETES_CrudePrev', 'OBESITY_CrudePrev',\n",
              "       'num_trees'], dtype='<U18')"
            ]
          },
          "metadata": {},
          "execution_count": 175
        }
      ]
    },
    {
      "cell_type": "code",
      "source": [
        "#Running a RFC feature importance\n",
        "sorted_idx = rf.feature_importances_.argsort();\n",
        "\n",
        "fig, ax = plt.subplots(figsize=(6, 6))\n",
        "\n",
        "plt.barh(feature_names[sorted_idx], rf.feature_importances_[sorted_idx])\n",
        "plt.xlabel(\"Random Forest Feature Importance\")\n",
        "ax.set_title(\"Feature Importance of the Random Forest Classifier\")"
      ],
      "metadata": {
        "id": "EpwCS6Q3xfU3",
        "outputId": "8ee5877a-c1bb-4850-c744-638bff5ba9a0",
        "colab": {
          "base_uri": "https://localhost:8080/",
          "height": 422
        }
      },
      "execution_count": null,
      "outputs": [
        {
          "output_type": "execute_result",
          "data": {
            "text/plain": [
              "Text(0.5, 1.0, 'Feature Importance of the Random Forest Classifier')"
            ]
          },
          "metadata": {},
          "execution_count": 179
        },
        {
          "output_type": "display_data",
          "data": {
            "text/plain": [
              "<Figure size 432x432 with 1 Axes>"
            ],
            "image/png": "[encoded data removed]"
          },
          "metadata": {
            "needs_background": "light"
          }
        }
      ]
    },
    {
      "cell_type": "markdown",
      "source": [
        "**Figure 14** Importance on the prediction of HVI Score above 0 for each input variable (Diseases), with the inclusion of Number of trees. Based on our model analysis, Diabetes, Obesity, Asthma, Blood Preassue, and Number of trees, in that order, are the variables that have highly influence on high HVI Score.  These results indicate that the less the number of trees the more heating effect is experienced in the areas, but chronic desiases have more effect than trees on whether the population of the census tract has a high HVI Score. These results are similar with the correlation analysis done above. "
      ],
      "metadata": {
        "id": "pp4nuKLhx4sg"
      }
    },
    {
      "cell_type": "markdown",
      "source": [
        "**End of Modelling and Analysis** \n",
        "\n",
        "**Data Science is Fun**"
      ],
      "metadata": {
        "id": "80H5ELwr1pNO"
      }
    }
  ]
}