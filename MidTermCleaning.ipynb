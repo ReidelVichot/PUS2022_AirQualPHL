{
  "nbformat": 4,
  "nbformat_minor": 0,
  "metadata": {
    "colab": {
      "provenance": [],
      "authorship_tag": "ABX9TyMntOgmDgDiQ5X31LzLpfiL",
      "include_colab_link": true
    },
    "kernelspec": {
      "name": "python3",
      "display_name": "Python 3"
    },
    "language_info": {
      "name": "python"
    }
  },
  "cells": [
    {
      "cell_type": "markdown",
      "metadata": {
        "id": "view-in-github",
        "colab_type": "text"
      },
      "source": [
        "<a href=\"https://colab.research.google.com/github/ReidelVichot/PUS2022_Heat-TreesPHL/blob/main/MidTermCleaning.ipynb\" target=\"_parent\"><img src=\"https://colab.research.google.com/assets/colab-badge.svg\" alt=\"Open In Colab\"/></a>"
      ]
    },
    {
      "cell_type": "code",
      "execution_count": 214,
      "metadata": {
        "colab": {
          "base_uri": "https://localhost:8080/"
        },
        "id": "JeAXIvoTpq6w",
        "outputId": "b1f0e9a3-39e9-4f66-bbd5-3da7e39728f9"
      },
      "outputs": [
        {
          "output_type": "stream",
          "name": "stdout",
          "text": [
            "Looking in indexes: https://pypi.org/simple, https://us-python.pkg.dev/colab-wheels/public/simple/\n",
            "Requirement already satisfied: geopandas in /usr/local/lib/python3.7/dist-packages (0.10.2)\n",
            "Requirement already satisfied: pyproj>=2.2.0 in /usr/local/lib/python3.7/dist-packages (from geopandas) (3.2.1)\n",
            "Requirement already satisfied: shapely>=1.6 in /usr/local/lib/python3.7/dist-packages (from geopandas) (1.8.5.post1)\n",
            "Requirement already satisfied: fiona>=1.8 in /usr/local/lib/python3.7/dist-packages (from geopandas) (1.8.22)\n",
            "Requirement already satisfied: pandas>=0.25.0 in /usr/local/lib/python3.7/dist-packages (from geopandas) (1.3.5)\n",
            "Requirement already satisfied: attrs>=17 in /usr/local/lib/python3.7/dist-packages (from fiona>=1.8->geopandas) (22.1.0)\n",
            "Requirement already satisfied: click>=4.0 in /usr/local/lib/python3.7/dist-packages (from fiona>=1.8->geopandas) (7.1.2)\n",
            "Requirement already satisfied: click-plugins>=1.0 in /usr/local/lib/python3.7/dist-packages (from fiona>=1.8->geopandas) (1.1.1)\n",
            "Requirement already satisfied: certifi in /usr/local/lib/python3.7/dist-packages (from fiona>=1.8->geopandas) (2022.9.24)\n",
            "Requirement already satisfied: six>=1.7 in /usr/local/lib/python3.7/dist-packages (from fiona>=1.8->geopandas) (1.15.0)\n",
            "Requirement already satisfied: setuptools in /usr/local/lib/python3.7/dist-packages (from fiona>=1.8->geopandas) (57.4.0)\n",
            "Requirement already satisfied: cligj>=0.5 in /usr/local/lib/python3.7/dist-packages (from fiona>=1.8->geopandas) (0.7.2)\n",
            "Requirement already satisfied: munch in /usr/local/lib/python3.7/dist-packages (from fiona>=1.8->geopandas) (2.5.0)\n",
            "Requirement already satisfied: pytz>=2017.3 in /usr/local/lib/python3.7/dist-packages (from pandas>=0.25.0->geopandas) (2022.6)\n",
            "Requirement already satisfied: python-dateutil>=2.7.3 in /usr/local/lib/python3.7/dist-packages (from pandas>=0.25.0->geopandas) (2.8.2)\n",
            "Requirement already satisfied: numpy>=1.17.3 in /usr/local/lib/python3.7/dist-packages (from pandas>=0.25.0->geopandas) (1.21.6)\n"
          ]
        }
      ],
      "source": [
        "!pip install geopandas"
      ]
    },
    {
      "cell_type": "code",
      "source": [
        "import geopandas as gpd\n",
        "import pandas as pd\n",
        "import matplotlib.pyplot as plt\n"
      ],
      "metadata": {
        "id": "S__0PS6qpxo7"
      },
      "execution_count": 215,
      "outputs": []
    },
    {
      "cell_type": "code",
      "source": [
        "heat_original = gpd.GeoDataFrame.from_file(\"https://opendata.arcgis.com/api/v3/datasets/ee1f9ce6aa6f41f08fcdfa5101f203d7_0/downloads/data?format=shp&spatialRefId=4326&where=1%3D1\")\n",
        "trees_original = gpd.GeoDataFrame.from_file(\"https://opendata.arcgis.com/api/v3/datasets/30ef36e9e880468fa74e2d5b18da4cfb_0/downloads/data?format=shp&spatialRefId=4326\")"
      ],
      "metadata": {
        "id": "Mz_Tnuh0y1WL"
      },
      "execution_count": 216,
      "outputs": []
    },
    {
      "cell_type": "code",
      "source": [
        "print(trees_original.shape, heat_original.shape)"
      ],
      "metadata": {
        "colab": {
          "base_uri": "https://localhost:8080/"
        },
        "id": "SH0I4pLi2l4e",
        "outputId": "c40abfe0-76f1-4e28-de0c-335132f5848a"
      },
      "execution_count": 217,
      "outputs": [
        {
          "output_type": "stream",
          "name": "stdout",
          "text": [
            "(152453, 7) (384, 11)\n"
          ]
        }
      ]
    },
    {
      "cell_type": "code",
      "source": [
        "heat = heat_original[[\"GEOID10\", \"HVI_SCORE\", \"geometry\"]].dropna().reset_index()\n",
        "heat.drop(columns=[\"index\"], inplace=True)\n",
        "trees = trees_original[[\"geometry\"]].dropna().reset_index()\n",
        "trees.drop(columns=[\"index\"], inplace=True)\n",
        "print(trees.shape, heat.shape)"
      ],
      "metadata": {
        "colab": {
          "base_uri": "https://localhost:8080/"
        },
        "id": "lvCdRYGEbHG6",
        "outputId": "d216ee42-f966-47c6-954f-e4c26c7048cb"
      },
      "execution_count": 218,
      "outputs": [
        {
          "output_type": "stream",
          "name": "stdout",
          "text": [
            "(152453, 1) (374, 3)\n"
          ]
        }
      ]
    },
    {
      "cell_type": "markdown",
      "source": [
        "the heat data had 10 rows with NAN that were eliminated"
      ],
      "metadata": {
        "id": "4wwO4TdX-eTv"
      }
    },
    {
      "cell_type": "code",
      "source": [
        "'''\n",
        "trees.drop(index=5, axis= 0, inplace= True)\n",
        "trees.reset_index(inplace=True)\n",
        "trees.drop(columns=[\"index\"], inplace=True)\n",
        "'''"
      ],
      "metadata": {
        "id": "tMwPtI9cbSRp",
        "outputId": "aede4889-2156-4e60-f6f9-4397cd4b50b7",
        "colab": {
          "base_uri": "https://localhost:8080/",
          "height": 36
        }
      },
      "execution_count": 219,
      "outputs": [
        {
          "output_type": "execute_result",
          "data": {
            "text/plain": [
              "'\\ntrees.drop(index=5, axis= 0, inplace= True)\\ntrees.reset_index(inplace=True)\\ntrees.drop(columns=[\"index\"], inplace=True)\\n'"
            ],
            "application/vnd.google.colaboratory.intrinsic+json": {
              "type": "string"
            }
          },
          "metadata": {},
          "execution_count": 219
        }
      ]
    },
    {
      "cell_type": "code",
      "source": [
        "#len(trees) 152264"
      ],
      "metadata": {
        "id": "nJweLp3ajrL4"
      },
      "execution_count": 220,
      "outputs": []
    },
    {
      "cell_type": "code",
      "source": [
        "'''\n",
        "heat\n",
        "heat[\"trees\"] = \"\"\n",
        "\n",
        "for i in range(len(heat)):\n",
        "  ct_trees = 0\n",
        "  k=0\n",
        "  s = len(trees)\n",
        "  while k < s:\n",
        "    if heat[\"geometry\"].loc[i].contains(trees[\"geometry\"].loc[k]) == True:\n",
        "      ct_trees = ct_trees + 1\n",
        "      trees.drop(index=k, axis= 0, inplace= True)\n",
        "      trees.reset_index(inplace=True)\n",
        "      trees.drop(columns=[\"index\"], inplace=True)\n",
        "    k = k+1\n",
        "\n",
        "    heat[\"trees\"].loc[i] = ct_trees\n",
        "  print(heat[\"GEOID10\"].loc[i], \" was counted\");\n",
        "  \n",
        "\n",
        "'''\n"
      ],
      "metadata": {
        "colab": {
          "base_uri": "https://localhost:8080/",
          "height": 70
        },
        "id": "fGDXZV3Kq67w",
        "outputId": "1cdc8b81-a475-44eb-c6d4-3d939907b734"
      },
      "execution_count": 221,
      "outputs": [
        {
          "output_type": "execute_result",
          "data": {
            "text/plain": [
              "'\\nheat\\nheat[\"trees\"] = \"\"\\n\\nfor i in range(len(heat)):\\n  ct_trees = 0\\n  k=0\\n  s = len(trees)\\n  while k < s:\\n    if heat[\"geometry\"].loc[i].contains(trees[\"geometry\"].loc[k]) == True:\\n      ct_trees = ct_trees + 1\\n      trees.drop(index=k, axis= 0, inplace= True)\\n      trees.reset_index(inplace=True)\\n      trees.drop(columns=[\"index\"], inplace=True)\\n    k = k+1\\n\\n    heat[\"trees\"].loc[i] = ct_trees\\n  print(heat[\"GEOID10\"].loc[i], \" was counted\");\\n  \\n\\n'"
            ],
            "application/vnd.google.colaboratory.intrinsic+json": {
              "type": "string"
            }
          },
          "metadata": {},
          "execution_count": 221
        }
      ]
    },
    {
      "cell_type": "code",
      "source": [
        "# For some reason that I do not know, the intersect is returning a series \n",
        "array = []\n",
        "for i in trees.index:\n",
        "  array.append(heat[heat.geometry.intersects(\n",
        "        trees.loc[i].geometry)][\"GEOID10\"])\n",
        "\n",
        "geoid = []\n",
        "for i in range(len(array)):\n",
        "  if len(array[i]) == 1:\n",
        "    geoid.append(array[i].values[0])\n",
        "  else:\n",
        "    geoid.append(\"\")\n",
        "\n",
        "trees[\"geoid\"] = geoid"
      ],
      "metadata": {
        "id": "bDLwMo-jsv6G"
      },
      "execution_count": 222,
      "outputs": []
    },
    {
      "cell_type": "code",
      "source": [
        "ct_trees = trees.groupby(\"geoid\").count()\n",
        "ct_trees"
      ],
      "metadata": {
        "id": "u3hBld8W7ZIH",
        "outputId": "827cfc5a-769f-40f3-c97d-37854d48c684",
        "colab": {
          "base_uri": "https://localhost:8080/",
          "height": 455
        }
      },
      "execution_count": 224,
      "outputs": [
        {
          "output_type": "execute_result",
          "data": {
            "text/plain": [
              "             geometry\n",
              "geoid                \n",
              "                 6983\n",
              "42101000100      1060\n",
              "42101000200       252\n",
              "42101000300      1086\n",
              "42101000401       253\n",
              "...               ...\n",
              "42101038900       463\n",
              "42101039000       310\n",
              "42101980000      8177\n",
              "42101980100      1033\n",
              "42101980200       825\n",
              "\n",
              "[375 rows x 1 columns]"
            ],
            "text/html": [
              "\n",
              "  <div id=\"df-4c2bbeb3-839d-45e0-b300-640fd5d273af\">\n",
              "    <div class=\"colab-df-container\">\n",
              "      <div>\n",
              "<style scoped>\n",
              "    .dataframe tbody tr th:only-of-type {\n",
              "        vertical-align: middle;\n",
              "    }\n",
              "\n",
              "    .dataframe tbody tr th {\n",
              "        vertical-align: top;\n",
              "    }\n",
              "\n",
              "    .dataframe thead th {\n",
              "        text-align: right;\n",
              "    }\n",
              "</style>\n",
              "<table border=\"1\" class=\"dataframe\">\n",
              "  <thead>\n",
              "    <tr style=\"text-align: right;\">\n",
              "      <th></th>\n",
              "      <th>geometry</th>\n",
              "    </tr>\n",
              "    <tr>\n",
              "      <th>geoid</th>\n",
              "      <th></th>\n",
              "    </tr>\n",
              "  </thead>\n",
              "  <tbody>\n",
              "    <tr>\n",
              "      <th></th>\n",
              "      <td>6983</td>\n",
              "    </tr>\n",
              "    <tr>\n",
              "      <th>42101000100</th>\n",
              "      <td>1060</td>\n",
              "    </tr>\n",
              "    <tr>\n",
              "      <th>42101000200</th>\n",
              "      <td>252</td>\n",
              "    </tr>\n",
              "    <tr>\n",
              "      <th>42101000300</th>\n",
              "      <td>1086</td>\n",
              "    </tr>\n",
              "    <tr>\n",
              "      <th>42101000401</th>\n",
              "      <td>253</td>\n",
              "    </tr>\n",
              "    <tr>\n",
              "      <th>...</th>\n",
              "      <td>...</td>\n",
              "    </tr>\n",
              "    <tr>\n",
              "      <th>42101038900</th>\n",
              "      <td>463</td>\n",
              "    </tr>\n",
              "    <tr>\n",
              "      <th>42101039000</th>\n",
              "      <td>310</td>\n",
              "    </tr>\n",
              "    <tr>\n",
              "      <th>42101980000</th>\n",
              "      <td>8177</td>\n",
              "    </tr>\n",
              "    <tr>\n",
              "      <th>42101980100</th>\n",
              "      <td>1033</td>\n",
              "    </tr>\n",
              "    <tr>\n",
              "      <th>42101980200</th>\n",
              "      <td>825</td>\n",
              "    </tr>\n",
              "  </tbody>\n",
              "</table>\n",
              "<p>375 rows × 1 columns</p>\n",
              "</div>\n",
              "      <button class=\"colab-df-convert\" onclick=\"convertToInteractive('df-4c2bbeb3-839d-45e0-b300-640fd5d273af')\"\n",
              "              title=\"Convert this dataframe to an interactive table.\"\n",
              "              style=\"display:none;\">\n",
              "        \n",
              "  <svg xmlns=\"http://www.w3.org/2000/svg\" height=\"24px\"viewBox=\"0 0 24 24\"\n",
              "       width=\"24px\">\n",
              "    <path d=\"M0 0h24v24H0V0z\" fill=\"none\"/>\n",
              "    <path d=\"M18.56 5.44l.94 2.06.94-2.06 2.06-.94-2.06-.94-.94-2.06-.94 2.06-2.06.94zm-11 1L8.5 8.5l.94-2.06 2.06-.94-2.06-.94L8.5 2.5l-.94 2.06-2.06.94zm10 10l.94 2.06.94-2.06 2.06-.94-2.06-.94-.94-2.06-.94 2.06-2.06.94z\"/><path d=\"M17.41 7.96l-1.37-1.37c-.4-.4-.92-.59-1.43-.59-.52 0-1.04.2-1.43.59L10.3 9.45l-7.72 7.72c-.78.78-.78 2.05 0 2.83L4 21.41c.39.39.9.59 1.41.59.51 0 1.02-.2 1.41-.59l7.78-7.78 2.81-2.81c.8-.78.8-2.07 0-2.86zM5.41 20L4 18.59l7.72-7.72 1.47 1.35L5.41 20z\"/>\n",
              "  </svg>\n",
              "      </button>\n",
              "      \n",
              "  <style>\n",
              "    .colab-df-container {\n",
              "      display:flex;\n",
              "      flex-wrap:wrap;\n",
              "      gap: 12px;\n",
              "    }\n",
              "\n",
              "    .colab-df-convert {\n",
              "      background-color: #E8F0FE;\n",
              "      border: none;\n",
              "      border-radius: 50%;\n",
              "      cursor: pointer;\n",
              "      display: none;\n",
              "      fill: #1967D2;\n",
              "      height: 32px;\n",
              "      padding: 0 0 0 0;\n",
              "      width: 32px;\n",
              "    }\n",
              "\n",
              "    .colab-df-convert:hover {\n",
              "      background-color: #E2EBFA;\n",
              "      box-shadow: 0px 1px 2px rgba(60, 64, 67, 0.3), 0px 1px 3px 1px rgba(60, 64, 67, 0.15);\n",
              "      fill: #174EA6;\n",
              "    }\n",
              "\n",
              "    [theme=dark] .colab-df-convert {\n",
              "      background-color: #3B4455;\n",
              "      fill: #D2E3FC;\n",
              "    }\n",
              "\n",
              "    [theme=dark] .colab-df-convert:hover {\n",
              "      background-color: #434B5C;\n",
              "      box-shadow: 0px 1px 3px 1px rgba(0, 0, 0, 0.15);\n",
              "      filter: drop-shadow(0px 1px 2px rgba(0, 0, 0, 0.3));\n",
              "      fill: #FFFFFF;\n",
              "    }\n",
              "  </style>\n",
              "\n",
              "      <script>\n",
              "        const buttonEl =\n",
              "          document.querySelector('#df-4c2bbeb3-839d-45e0-b300-640fd5d273af button.colab-df-convert');\n",
              "        buttonEl.style.display =\n",
              "          google.colab.kernel.accessAllowed ? 'block' : 'none';\n",
              "\n",
              "        async function convertToInteractive(key) {\n",
              "          const element = document.querySelector('#df-4c2bbeb3-839d-45e0-b300-640fd5d273af');\n",
              "          const dataTable =\n",
              "            await google.colab.kernel.invokeFunction('convertToInteractive',\n",
              "                                                     [key], {});\n",
              "          if (!dataTable) return;\n",
              "\n",
              "          const docLinkHtml = 'Like what you see? Visit the ' +\n",
              "            '<a target=\"_blank\" href=https://colab.research.google.com/notebooks/data_table.ipynb>data table notebook</a>'\n",
              "            + ' to learn more about interactive tables.';\n",
              "          element.innerHTML = '';\n",
              "          dataTable['output_type'] = 'display_data';\n",
              "          await google.colab.output.renderOutput(dataTable, element);\n",
              "          const docLink = document.createElement('div');\n",
              "          docLink.innerHTML = docLinkHtml;\n",
              "          element.appendChild(docLink);\n",
              "        }\n",
              "      </script>\n",
              "    </div>\n",
              "  </div>\n",
              "  "
            ]
          },
          "metadata": {},
          "execution_count": 224
        }
      ]
    },
    {
      "cell_type": "code",
      "source": [
        "break"
      ],
      "metadata": {
        "id": "wYhZGRQ17Y_H",
        "outputId": "a7a62cfa-7760-4f58-f69d-910eb3c7f0c1",
        "colab": {
          "base_uri": "https://localhost:8080/",
          "height": 96
        }
      },
      "execution_count": 225,
      "outputs": [
        {
          "output_type": "error",
          "ename": "SyntaxError",
          "evalue": "ignored",
          "traceback": [
            "\u001b[0;36m  File \u001b[0;32m\"<ipython-input-225-6aaf1f276005>\"\u001b[0;36m, line \u001b[0;32m4\u001b[0m\n\u001b[0;31mSyntaxError\u001b[0m\u001b[0;31m:\u001b[0m 'break' outside loop\n"
          ]
        }
      ]
    },
    {
      "cell_type": "code",
      "source": [
        "if len(array[4273]) == 1:\n",
        "  \n",
        "  print(\"yes\")"
      ],
      "metadata": {
        "id": "fJvCgrNh10y8"
      },
      "execution_count": null,
      "outputs": []
    },
    {
      "cell_type": "code",
      "source": [
        "len(array[4270])"
      ],
      "metadata": {
        "id": "CC1UCIQM5-Yq"
      },
      "execution_count": null,
      "outputs": []
    },
    {
      "cell_type": "code",
      "source": [
        "heat.crs == trees.crs"
      ],
      "metadata": {
        "id": "n1aZX4qev3O9"
      },
      "execution_count": null,
      "outputs": []
    },
    {
      "cell_type": "code",
      "source": [
        "trees[\"GEOID10\"] = ''\n",
        "# check for each citibike stations to see what CT they are belong to\n",
        "for i in trees.index:\n",
        "    a = heat[heat.geometry.intersects(\n",
        "        trees.loc[i].geometry)][\"GEOID10\"].values[0]\n",
        "    \n",
        "    trees.loc[i,\"GEOID10\"] = a;"
      ],
      "metadata": {
        "id": "Bziv-twSx9W3"
      },
      "execution_count": null,
      "outputs": []
    },
    {
      "cell_type": "code",
      "source": [
        "f, ax = plt.subplots(figsize=(8,8))\n",
        "trees.plot(column='NAME10', alpha=1, linewidth=0.5,\n",
        "              ax=ax, cmap='Paired')"
      ],
      "metadata": {
        "id": "e0q9VIEHeWZp"
      },
      "execution_count": null,
      "outputs": []
    },
    {
      "cell_type": "code",
      "source": [
        "trees[\"NAME10\"].unique()"
      ],
      "metadata": {
        "id": "F7V-lfGjfKUE"
      },
      "execution_count": null,
      "outputs": []
    },
    {
      "cell_type": "code",
      "source": [
        "trees"
      ],
      "metadata": {
        "id": "TXdtHyCjgt7O"
      },
      "execution_count": null,
      "outputs": []
    },
    {
      "cell_type": "code",
      "source": [
        "f, ax = plt.subplots(figsize=(10,10))\n",
        "#ax.set_xlabel(\"feet easting\")\n",
        "#ax.set_ylabel(\"feet northing\")\n",
        "#ct_shape.boundary.plot(ax=ax, alpha=0.5)\n",
        "heat.plot(ax=ax, color=\"None\", edgecolor='k')\n",
        "trees.plot(ax=ax, c='orange', markersize = 0.5);"
      ],
      "metadata": {
        "id": "E4CGHB1WX791"
      },
      "execution_count": null,
      "outputs": []
    },
    {
      "cell_type": "code",
      "source": [
        "trees_original.loc[0].values[0]"
      ],
      "metadata": {
        "id": "pj3pdGHTwJ-b"
      },
      "execution_count": null,
      "outputs": []
    },
    {
      "cell_type": "code",
      "source": [
        "trees[\"GEOID10\"] = ''\n",
        "# check for each citibike stations to see what CT they are belong to\n",
        "for i in trees.index:\n",
        "    a = heat[heat.geometry.intersects(trees.loc[i].geometry)][\"GEOID10\"].values[0]\n",
        "    \n",
        "    trees.loc[i,'GEOID10'] = a\n"
      ],
      "metadata": {
        "id": "MGPseLzicLQW"
      },
      "execution_count": null,
      "outputs": []
    },
    {
      "cell_type": "code",
      "source": [
        "b = heat[\"GEOID10\"] == \"42101035100\"\n",
        "import numpy as np\n",
        "np.where(b)[0]"
      ],
      "metadata": {
        "id": "y4icG4sujO5L"
      },
      "execution_count": null,
      "outputs": []
    },
    {
      "cell_type": "code",
      "source": [
        "heat"
      ],
      "metadata": {
        "id": "Nb_4BrrUjRnW"
      },
      "execution_count": null,
      "outputs": []
    },
    {
      "cell_type": "code",
      "source": [],
      "metadata": {
        "id": "wzmcd5f18U_r"
      },
      "execution_count": null,
      "outputs": []
    }
  ]
}