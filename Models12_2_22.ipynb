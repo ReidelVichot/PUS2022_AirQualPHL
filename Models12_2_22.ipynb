{
  "nbformat": 4,
  "nbformat_minor": 0,
  "metadata": {
    "colab": {
      "provenance": [],
      "include_colab_link": true
    },
    "kernelspec": {
      "name": "python3",
      "display_name": "Python 3"
    },
    "language_info": {
      "name": "python"
    }
  },
  "cells": [
    {
      "cell_type": "markdown",
      "metadata": {
        "id": "view-in-github",
        "colab_type": "text"
      },
      "source": [
        "<a href=\"https://colab.research.google.com/github/ReidelVichot/PUS2022_Heat-TreesPHL/blob/main/Models12_2_22.ipynb\" target=\"_parent\"><img src=\"https://colab.research.google.com/assets/colab-badge.svg\" alt=\"Open In Colab\"/></a>"
      ]
    },
    {
      "cell_type": "markdown",
      "source": [
        "This notebook runs the models for the Heat and Trees project. The notebook uses data that has been previously cleanned in another notbook named cleaning with the most current date. The notebook requires access to the google drive in order to get the clean CSVs. "
      ],
      "metadata": {
        "id": "78hyXpOwnC5w"
      }
    },
    {
      "cell_type": "code",
      "source": [
        "!pip install geopandas"
      ],
      "metadata": {
        "colab": {
          "base_uri": "https://localhost:8080/"
        },
        "id": "aZqy_LdwrehW",
        "outputId": "b44c021b-2420-44f3-9df3-af4ca3d9eb59"
      },
      "execution_count": 1,
      "outputs": [
        {
          "output_type": "stream",
          "name": "stdout",
          "text": [
            "Looking in indexes: https://pypi.org/simple, https://us-python.pkg.dev/colab-wheels/public/simple/\n",
            "Collecting geopandas\n",
            "  Downloading geopandas-0.12.1-py3-none-any.whl (1.1 MB)\n",
            "\u001b[K     |████████████████████████████████| 1.1 MB 10.5 MB/s \n",
            "\u001b[?25hCollecting pyproj>=2.6.1.post1\n",
            "  Downloading pyproj-3.4.0-cp38-cp38-manylinux_2_17_x86_64.manylinux2014_x86_64.whl (7.8 MB)\n",
            "\u001b[K     |████████████████████████████████| 7.8 MB 46.0 MB/s \n",
            "\u001b[?25hRequirement already satisfied: pandas>=1.0.0 in /usr/local/lib/python3.8/dist-packages (from geopandas) (1.3.5)\n",
            "Requirement already satisfied: packaging in /usr/local/lib/python3.8/dist-packages (from geopandas) (21.3)\n",
            "Requirement already satisfied: shapely>=1.7 in /usr/local/lib/python3.8/dist-packages (from geopandas) (1.8.5.post1)\n",
            "Collecting fiona>=1.8\n",
            "  Downloading Fiona-1.8.22-cp38-cp38-manylinux_2_17_x86_64.manylinux2014_x86_64.whl (16.6 MB)\n",
            "\u001b[K     |████████████████████████████████| 16.6 MB 62.1 MB/s \n",
            "\u001b[?25hCollecting click-plugins>=1.0\n",
            "  Downloading click_plugins-1.1.1-py2.py3-none-any.whl (7.5 kB)\n",
            "Requirement already satisfied: click>=4.0 in /usr/local/lib/python3.8/dist-packages (from fiona>=1.8->geopandas) (7.1.2)\n",
            "Requirement already satisfied: setuptools in /usr/local/lib/python3.8/dist-packages (from fiona>=1.8->geopandas) (57.4.0)\n",
            "Collecting cligj>=0.5\n",
            "  Downloading cligj-0.7.2-py3-none-any.whl (7.1 kB)\n",
            "Requirement already satisfied: six>=1.7 in /usr/local/lib/python3.8/dist-packages (from fiona>=1.8->geopandas) (1.15.0)\n",
            "Requirement already satisfied: certifi in /usr/local/lib/python3.8/dist-packages (from fiona>=1.8->geopandas) (2022.9.24)\n",
            "Collecting munch\n",
            "  Downloading munch-2.5.0-py2.py3-none-any.whl (10 kB)\n",
            "Requirement already satisfied: attrs>=17 in /usr/local/lib/python3.8/dist-packages (from fiona>=1.8->geopandas) (22.1.0)\n",
            "Requirement already satisfied: pytz>=2017.3 in /usr/local/lib/python3.8/dist-packages (from pandas>=1.0.0->geopandas) (2022.6)\n",
            "Requirement already satisfied: numpy>=1.17.3 in /usr/local/lib/python3.8/dist-packages (from pandas>=1.0.0->geopandas) (1.21.6)\n",
            "Requirement already satisfied: python-dateutil>=2.7.3 in /usr/local/lib/python3.8/dist-packages (from pandas>=1.0.0->geopandas) (2.8.2)\n",
            "Requirement already satisfied: pyparsing!=3.0.5,>=2.0.2 in /usr/local/lib/python3.8/dist-packages (from packaging->geopandas) (3.0.9)\n",
            "Installing collected packages: munch, cligj, click-plugins, pyproj, fiona, geopandas\n",
            "Successfully installed click-plugins-1.1.1 cligj-0.7.2 fiona-1.8.22 geopandas-0.12.1 munch-2.5.0 pyproj-3.4.0\n"
          ]
        }
      ]
    },
    {
      "cell_type": "code",
      "execution_count": 2,
      "metadata": {
        "id": "o_k3TyRRm0U2",
        "colab": {
          "base_uri": "https://localhost:8080/"
        },
        "outputId": "a1f85c81-216d-4727-a7af-0bfe9aa54a36"
      },
      "outputs": [
        {
          "output_type": "stream",
          "name": "stdout",
          "text": [
            "Mounted at /content/drive\n"
          ]
        }
      ],
      "source": [
        "import geopandas as gpd\n",
        "import pandas as pd\n",
        "import matplotlib.pyplot as plt\n",
        "import numpy as np\n",
        "\n",
        "#connecting to the google drive and getting the data\n",
        "from google.colab import drive\n",
        "drive.mount('/content/drive')"
      ]
    },
    {
      "cell_type": "code",
      "source": [
        "#Files from the drive\n",
        "ct_tree_file = \"/content/drive/MyDrive/Colab Notebooks/ct_trees.csv\"\n",
        "heat_file = \"/content/drive/MyDrive/Colab Notebooks/heat.csv\""
      ],
      "metadata": {
        "id": "lP3yB8O0rQFF"
      },
      "execution_count": 3,
      "outputs": []
    },
    {
      "cell_type": "code",
      "source": [
        "ct_tree = pd.read_csv(ct_tree_file)\n",
        "heat = pd.read_csv(heat_file)"
      ],
      "metadata": {
        "id": "wtvZ2l88scWV"
      },
      "execution_count": 4,
      "outputs": []
    },
    {
      "cell_type": "code",
      "source": [
        "ct_tree"
      ],
      "metadata": {
        "colab": {
          "base_uri": "https://localhost:8080/",
          "height": 424
        },
        "id": "K2Zb8NDjur9f",
        "outputId": "f31196f1-1790-412e-881c-1ff0f04209e3"
      },
      "execution_count": 5,
      "outputs": [
        {
          "output_type": "execute_result",
          "data": {
            "text/plain": [
              "            geoid  num_trees    ave_dbh\n",
              "0             NaN       6983  13.715065\n",
              "1    4.210100e+10       1060   9.975472\n",
              "2    4.210100e+10        252   9.106000\n",
              "3    4.210100e+10       1086   8.928177\n",
              "4    4.210100e+10        253   6.106719\n",
              "..            ...        ...        ...\n",
              "370  4.210104e+10        463  16.328294\n",
              "371  4.210104e+10        310  21.890323\n",
              "372  4.210198e+10       8177  16.799621\n",
              "373  4.210198e+10       1033  21.674103\n",
              "374  4.210198e+10        825  17.225455\n",
              "\n",
              "[375 rows x 3 columns]"
            ],
            "text/html": [
              "\n",
              "  <div id=\"df-e3644e8a-16af-42a1-848e-d28e21391942\">\n",
              "    <div class=\"colab-df-container\">\n",
              "      <div>\n",
              "<style scoped>\n",
              "    .dataframe tbody tr th:only-of-type {\n",
              "        vertical-align: middle;\n",
              "    }\n",
              "\n",
              "    .dataframe tbody tr th {\n",
              "        vertical-align: top;\n",
              "    }\n",
              "\n",
              "    .dataframe thead th {\n",
              "        text-align: right;\n",
              "    }\n",
              "</style>\n",
              "<table border=\"1\" class=\"dataframe\">\n",
              "  <thead>\n",
              "    <tr style=\"text-align: right;\">\n",
              "      <th></th>\n",
              "      <th>geoid</th>\n",
              "      <th>num_trees</th>\n",
              "      <th>ave_dbh</th>\n",
              "    </tr>\n",
              "  </thead>\n",
              "  <tbody>\n",
              "    <tr>\n",
              "      <th>0</th>\n",
              "      <td>NaN</td>\n",
              "      <td>6983</td>\n",
              "      <td>13.715065</td>\n",
              "    </tr>\n",
              "    <tr>\n",
              "      <th>1</th>\n",
              "      <td>4.210100e+10</td>\n",
              "      <td>1060</td>\n",
              "      <td>9.975472</td>\n",
              "    </tr>\n",
              "    <tr>\n",
              "      <th>2</th>\n",
              "      <td>4.210100e+10</td>\n",
              "      <td>252</td>\n",
              "      <td>9.106000</td>\n",
              "    </tr>\n",
              "    <tr>\n",
              "      <th>3</th>\n",
              "      <td>4.210100e+10</td>\n",
              "      <td>1086</td>\n",
              "      <td>8.928177</td>\n",
              "    </tr>\n",
              "    <tr>\n",
              "      <th>4</th>\n",
              "      <td>4.210100e+10</td>\n",
              "      <td>253</td>\n",
              "      <td>6.106719</td>\n",
              "    </tr>\n",
              "    <tr>\n",
              "      <th>...</th>\n",
              "      <td>...</td>\n",
              "      <td>...</td>\n",
              "      <td>...</td>\n",
              "    </tr>\n",
              "    <tr>\n",
              "      <th>370</th>\n",
              "      <td>4.210104e+10</td>\n",
              "      <td>463</td>\n",
              "      <td>16.328294</td>\n",
              "    </tr>\n",
              "    <tr>\n",
              "      <th>371</th>\n",
              "      <td>4.210104e+10</td>\n",
              "      <td>310</td>\n",
              "      <td>21.890323</td>\n",
              "    </tr>\n",
              "    <tr>\n",
              "      <th>372</th>\n",
              "      <td>4.210198e+10</td>\n",
              "      <td>8177</td>\n",
              "      <td>16.799621</td>\n",
              "    </tr>\n",
              "    <tr>\n",
              "      <th>373</th>\n",
              "      <td>4.210198e+10</td>\n",
              "      <td>1033</td>\n",
              "      <td>21.674103</td>\n",
              "    </tr>\n",
              "    <tr>\n",
              "      <th>374</th>\n",
              "      <td>4.210198e+10</td>\n",
              "      <td>825</td>\n",
              "      <td>17.225455</td>\n",
              "    </tr>\n",
              "  </tbody>\n",
              "</table>\n",
              "<p>375 rows × 3 columns</p>\n",
              "</div>\n",
              "      <button class=\"colab-df-convert\" onclick=\"convertToInteractive('df-e3644e8a-16af-42a1-848e-d28e21391942')\"\n",
              "              title=\"Convert this dataframe to an interactive table.\"\n",
              "              style=\"display:none;\">\n",
              "        \n",
              "  <svg xmlns=\"http://www.w3.org/2000/svg\" height=\"24px\"viewBox=\"0 0 24 24\"\n",
              "       width=\"24px\">\n",
              "    <path d=\"M0 0h24v24H0V0z\" fill=\"none\"/>\n",
              "    <path d=\"M18.56 5.44l.94 2.06.94-2.06 2.06-.94-2.06-.94-.94-2.06-.94 2.06-2.06.94zm-11 1L8.5 8.5l.94-2.06 2.06-.94-2.06-.94L8.5 2.5l-.94 2.06-2.06.94zm10 10l.94 2.06.94-2.06 2.06-.94-2.06-.94-.94-2.06-.94 2.06-2.06.94z\"/><path d=\"M17.41 7.96l-1.37-1.37c-.4-.4-.92-.59-1.43-.59-.52 0-1.04.2-1.43.59L10.3 9.45l-7.72 7.72c-.78.78-.78 2.05 0 2.83L4 21.41c.39.39.9.59 1.41.59.51 0 1.02-.2 1.41-.59l7.78-7.78 2.81-2.81c.8-.78.8-2.07 0-2.86zM5.41 20L4 18.59l7.72-7.72 1.47 1.35L5.41 20z\"/>\n",
              "  </svg>\n",
              "      </button>\n",
              "      \n",
              "  <style>\n",
              "    .colab-df-container {\n",
              "      display:flex;\n",
              "      flex-wrap:wrap;\n",
              "      gap: 12px;\n",
              "    }\n",
              "\n",
              "    .colab-df-convert {\n",
              "      background-color: #E8F0FE;\n",
              "      border: none;\n",
              "      border-radius: 50%;\n",
              "      cursor: pointer;\n",
              "      display: none;\n",
              "      fill: #1967D2;\n",
              "      height: 32px;\n",
              "      padding: 0 0 0 0;\n",
              "      width: 32px;\n",
              "    }\n",
              "\n",
              "    .colab-df-convert:hover {\n",
              "      background-color: #E2EBFA;\n",
              "      box-shadow: 0px 1px 2px rgba(60, 64, 67, 0.3), 0px 1px 3px 1px rgba(60, 64, 67, 0.15);\n",
              "      fill: #174EA6;\n",
              "    }\n",
              "\n",
              "    [theme=dark] .colab-df-convert {\n",
              "      background-color: #3B4455;\n",
              "      fill: #D2E3FC;\n",
              "    }\n",
              "\n",
              "    [theme=dark] .colab-df-convert:hover {\n",
              "      background-color: #434B5C;\n",
              "      box-shadow: 0px 1px 3px 1px rgba(0, 0, 0, 0.15);\n",
              "      filter: drop-shadow(0px 1px 2px rgba(0, 0, 0, 0.3));\n",
              "      fill: #FFFFFF;\n",
              "    }\n",
              "  </style>\n",
              "\n",
              "      <script>\n",
              "        const buttonEl =\n",
              "          document.querySelector('#df-e3644e8a-16af-42a1-848e-d28e21391942 button.colab-df-convert');\n",
              "        buttonEl.style.display =\n",
              "          google.colab.kernel.accessAllowed ? 'block' : 'none';\n",
              "\n",
              "        async function convertToInteractive(key) {\n",
              "          const element = document.querySelector('#df-e3644e8a-16af-42a1-848e-d28e21391942');\n",
              "          const dataTable =\n",
              "            await google.colab.kernel.invokeFunction('convertToInteractive',\n",
              "                                                     [key], {});\n",
              "          if (!dataTable) return;\n",
              "\n",
              "          const docLinkHtml = 'Like what you see? Visit the ' +\n",
              "            '<a target=\"_blank\" href=https://colab.research.google.com/notebooks/data_table.ipynb>data table notebook</a>'\n",
              "            + ' to learn more about interactive tables.';\n",
              "          element.innerHTML = '';\n",
              "          dataTable['output_type'] = 'display_data';\n",
              "          await google.colab.output.renderOutput(dataTable, element);\n",
              "          const docLink = document.createElement('div');\n",
              "          docLink.innerHTML = docLinkHtml;\n",
              "          element.appendChild(docLink);\n",
              "        }\n",
              "      </script>\n",
              "    </div>\n",
              "  </div>\n",
              "  "
            ]
          },
          "metadata": {},
          "execution_count": 5
        }
      ]
    },
    {
      "cell_type": "code",
      "source": [
        "heat"
      ],
      "metadata": {
        "colab": {
          "base_uri": "https://localhost:8080/",
          "height": 424
        },
        "id": "nXHtx1LTuwGk",
        "outputId": "cfda5c8f-ee85-498a-b3cd-a17df26f96f7"
      },
      "execution_count": 6,
      "outputs": [
        {
          "output_type": "execute_result",
          "data": {
            "text/plain": [
              "     Unnamed: 0      GEOID10  HVI_SCORE  \\\n",
              "0             0  42101019000   0.935255   \n",
              "1             1  42101019100   2.963969   \n",
              "2             2  42101019200   2.676547   \n",
              "3             3  42101019700   3.156173   \n",
              "4             4  42101019800   2.885302   \n",
              "..          ...          ...        ...   \n",
              "369         369  42101036203  -1.626316   \n",
              "370         370  42101035302  -0.934188   \n",
              "371         371  42101036201  -1.094011   \n",
              "372         372  42101036302  -1.194634   \n",
              "373         373  42101036900  -3.214504   \n",
              "\n",
              "                                              geometry  num_trees    ave_dbh  \n",
              "0    POLYGON ((-75.0949037530549 40.0104860796399, ...        192  14.661458  \n",
              "1    POLYGON ((-75.1071537566382 40.0167360797785, ...        430  19.905750  \n",
              "2    POLYGON ((-75.1075956511127 39.9996716549479, ...        320  10.568750  \n",
              "3    POLYGON ((-75.1358598309214 40.0119913037377, ...        195  14.174359  \n",
              "4    POLYGON ((-75.1367161109815 40.0080297688381, ...        188  14.486631  \n",
              "..                                                 ...        ...        ...  \n",
              "369  POLYGON ((-74.9648847150604 40.0772810971776, ...        291  13.536082  \n",
              "370  POLYGON ((-74.9875706652257 40.0758346996955, ...        168   1.476190  \n",
              "371  POLYGON ((-74.9849887222353 40.0745340963154, ...        161  15.776398  \n",
              "372  POLYGON ((-74.9798960441206 40.0938200532625, ...         76  17.210526  \n",
              "373  POLYGON ((-75.1894670636636 39.9452540077135, ...        694   6.449568  \n",
              "\n",
              "[374 rows x 6 columns]"
            ],
            "text/html": [
              "\n",
              "  <div id=\"df-0821bb65-1382-43e7-b7a8-761a010c713e\">\n",
              "    <div class=\"colab-df-container\">\n",
              "      <div>\n",
              "<style scoped>\n",
              "    .dataframe tbody tr th:only-of-type {\n",
              "        vertical-align: middle;\n",
              "    }\n",
              "\n",
              "    .dataframe tbody tr th {\n",
              "        vertical-align: top;\n",
              "    }\n",
              "\n",
              "    .dataframe thead th {\n",
              "        text-align: right;\n",
              "    }\n",
              "</style>\n",
              "<table border=\"1\" class=\"dataframe\">\n",
              "  <thead>\n",
              "    <tr style=\"text-align: right;\">\n",
              "      <th></th>\n",
              "      <th>Unnamed: 0</th>\n",
              "      <th>GEOID10</th>\n",
              "      <th>HVI_SCORE</th>\n",
              "      <th>geometry</th>\n",
              "      <th>num_trees</th>\n",
              "      <th>ave_dbh</th>\n",
              "    </tr>\n",
              "  </thead>\n",
              "  <tbody>\n",
              "    <tr>\n",
              "      <th>0</th>\n",
              "      <td>0</td>\n",
              "      <td>42101019000</td>\n",
              "      <td>0.935255</td>\n",
              "      <td>POLYGON ((-75.0949037530549 40.0104860796399, ...</td>\n",
              "      <td>192</td>\n",
              "      <td>14.661458</td>\n",
              "    </tr>\n",
              "    <tr>\n",
              "      <th>1</th>\n",
              "      <td>1</td>\n",
              "      <td>42101019100</td>\n",
              "      <td>2.963969</td>\n",
              "      <td>POLYGON ((-75.1071537566382 40.0167360797785, ...</td>\n",
              "      <td>430</td>\n",
              "      <td>19.905750</td>\n",
              "    </tr>\n",
              "    <tr>\n",
              "      <th>2</th>\n",
              "      <td>2</td>\n",
              "      <td>42101019200</td>\n",
              "      <td>2.676547</td>\n",
              "      <td>POLYGON ((-75.1075956511127 39.9996716549479, ...</td>\n",
              "      <td>320</td>\n",
              "      <td>10.568750</td>\n",
              "    </tr>\n",
              "    <tr>\n",
              "      <th>3</th>\n",
              "      <td>3</td>\n",
              "      <td>42101019700</td>\n",
              "      <td>3.156173</td>\n",
              "      <td>POLYGON ((-75.1358598309214 40.0119913037377, ...</td>\n",
              "      <td>195</td>\n",
              "      <td>14.174359</td>\n",
              "    </tr>\n",
              "    <tr>\n",
              "      <th>4</th>\n",
              "      <td>4</td>\n",
              "      <td>42101019800</td>\n",
              "      <td>2.885302</td>\n",
              "      <td>POLYGON ((-75.1367161109815 40.0080297688381, ...</td>\n",
              "      <td>188</td>\n",
              "      <td>14.486631</td>\n",
              "    </tr>\n",
              "    <tr>\n",
              "      <th>...</th>\n",
              "      <td>...</td>\n",
              "      <td>...</td>\n",
              "      <td>...</td>\n",
              "      <td>...</td>\n",
              "      <td>...</td>\n",
              "      <td>...</td>\n",
              "    </tr>\n",
              "    <tr>\n",
              "      <th>369</th>\n",
              "      <td>369</td>\n",
              "      <td>42101036203</td>\n",
              "      <td>-1.626316</td>\n",
              "      <td>POLYGON ((-74.9648847150604 40.0772810971776, ...</td>\n",
              "      <td>291</td>\n",
              "      <td>13.536082</td>\n",
              "    </tr>\n",
              "    <tr>\n",
              "      <th>370</th>\n",
              "      <td>370</td>\n",
              "      <td>42101035302</td>\n",
              "      <td>-0.934188</td>\n",
              "      <td>POLYGON ((-74.9875706652257 40.0758346996955, ...</td>\n",
              "      <td>168</td>\n",
              "      <td>1.476190</td>\n",
              "    </tr>\n",
              "    <tr>\n",
              "      <th>371</th>\n",
              "      <td>371</td>\n",
              "      <td>42101036201</td>\n",
              "      <td>-1.094011</td>\n",
              "      <td>POLYGON ((-74.9849887222353 40.0745340963154, ...</td>\n",
              "      <td>161</td>\n",
              "      <td>15.776398</td>\n",
              "    </tr>\n",
              "    <tr>\n",
              "      <th>372</th>\n",
              "      <td>372</td>\n",
              "      <td>42101036302</td>\n",
              "      <td>-1.194634</td>\n",
              "      <td>POLYGON ((-74.9798960441206 40.0938200532625, ...</td>\n",
              "      <td>76</td>\n",
              "      <td>17.210526</td>\n",
              "    </tr>\n",
              "    <tr>\n",
              "      <th>373</th>\n",
              "      <td>373</td>\n",
              "      <td>42101036900</td>\n",
              "      <td>-3.214504</td>\n",
              "      <td>POLYGON ((-75.1894670636636 39.9452540077135, ...</td>\n",
              "      <td>694</td>\n",
              "      <td>6.449568</td>\n",
              "    </tr>\n",
              "  </tbody>\n",
              "</table>\n",
              "<p>374 rows × 6 columns</p>\n",
              "</div>\n",
              "      <button class=\"colab-df-convert\" onclick=\"convertToInteractive('df-0821bb65-1382-43e7-b7a8-761a010c713e')\"\n",
              "              title=\"Convert this dataframe to an interactive table.\"\n",
              "              style=\"display:none;\">\n",
              "        \n",
              "  <svg xmlns=\"http://www.w3.org/2000/svg\" height=\"24px\"viewBox=\"0 0 24 24\"\n",
              "       width=\"24px\">\n",
              "    <path d=\"M0 0h24v24H0V0z\" fill=\"none\"/>\n",
              "    <path d=\"M18.56 5.44l.94 2.06.94-2.06 2.06-.94-2.06-.94-.94-2.06-.94 2.06-2.06.94zm-11 1L8.5 8.5l.94-2.06 2.06-.94-2.06-.94L8.5 2.5l-.94 2.06-2.06.94zm10 10l.94 2.06.94-2.06 2.06-.94-2.06-.94-.94-2.06-.94 2.06-2.06.94z\"/><path d=\"M17.41 7.96l-1.37-1.37c-.4-.4-.92-.59-1.43-.59-.52 0-1.04.2-1.43.59L10.3 9.45l-7.72 7.72c-.78.78-.78 2.05 0 2.83L4 21.41c.39.39.9.59 1.41.59.51 0 1.02-.2 1.41-.59l7.78-7.78 2.81-2.81c.8-.78.8-2.07 0-2.86zM5.41 20L4 18.59l7.72-7.72 1.47 1.35L5.41 20z\"/>\n",
              "  </svg>\n",
              "      </button>\n",
              "      \n",
              "  <style>\n",
              "    .colab-df-container {\n",
              "      display:flex;\n",
              "      flex-wrap:wrap;\n",
              "      gap: 12px;\n",
              "    }\n",
              "\n",
              "    .colab-df-convert {\n",
              "      background-color: #E8F0FE;\n",
              "      border: none;\n",
              "      border-radius: 50%;\n",
              "      cursor: pointer;\n",
              "      display: none;\n",
              "      fill: #1967D2;\n",
              "      height: 32px;\n",
              "      padding: 0 0 0 0;\n",
              "      width: 32px;\n",
              "    }\n",
              "\n",
              "    .colab-df-convert:hover {\n",
              "      background-color: #E2EBFA;\n",
              "      box-shadow: 0px 1px 2px rgba(60, 64, 67, 0.3), 0px 1px 3px 1px rgba(60, 64, 67, 0.15);\n",
              "      fill: #174EA6;\n",
              "    }\n",
              "\n",
              "    [theme=dark] .colab-df-convert {\n",
              "      background-color: #3B4455;\n",
              "      fill: #D2E3FC;\n",
              "    }\n",
              "\n",
              "    [theme=dark] .colab-df-convert:hover {\n",
              "      background-color: #434B5C;\n",
              "      box-shadow: 0px 1px 3px 1px rgba(0, 0, 0, 0.15);\n",
              "      filter: drop-shadow(0px 1px 2px rgba(0, 0, 0, 0.3));\n",
              "      fill: #FFFFFF;\n",
              "    }\n",
              "  </style>\n",
              "\n",
              "      <script>\n",
              "        const buttonEl =\n",
              "          document.querySelector('#df-0821bb65-1382-43e7-b7a8-761a010c713e button.colab-df-convert');\n",
              "        buttonEl.style.display =\n",
              "          google.colab.kernel.accessAllowed ? 'block' : 'none';\n",
              "\n",
              "        async function convertToInteractive(key) {\n",
              "          const element = document.querySelector('#df-0821bb65-1382-43e7-b7a8-761a010c713e');\n",
              "          const dataTable =\n",
              "            await google.colab.kernel.invokeFunction('convertToInteractive',\n",
              "                                                     [key], {});\n",
              "          if (!dataTable) return;\n",
              "\n",
              "          const docLinkHtml = 'Like what you see? Visit the ' +\n",
              "            '<a target=\"_blank\" href=https://colab.research.google.com/notebooks/data_table.ipynb>data table notebook</a>'\n",
              "            + ' to learn more about interactive tables.';\n",
              "          element.innerHTML = '';\n",
              "          dataTable['output_type'] = 'display_data';\n",
              "          await google.colab.output.renderOutput(dataTable, element);\n",
              "          const docLink = document.createElement('div');\n",
              "          docLink.innerHTML = docLinkHtml;\n",
              "          element.appendChild(docLink);\n",
              "        }\n",
              "      </script>\n",
              "    </div>\n",
              "  </div>\n",
              "  "
            ]
          },
          "metadata": {},
          "execution_count": 6
        }
      ]
    },
    {
      "cell_type": "code",
      "source": [
        "heat.info()"
      ],
      "metadata": {
        "colab": {
          "base_uri": "https://localhost:8080/"
        },
        "id": "X1wG9-SNu1Vl",
        "outputId": "4184a111-706c-4338-d36a-dcaae771566a"
      },
      "execution_count": 7,
      "outputs": [
        {
          "output_type": "stream",
          "name": "stdout",
          "text": [
            "<class 'pandas.core.frame.DataFrame'>\n",
            "RangeIndex: 374 entries, 0 to 373\n",
            "Data columns (total 6 columns):\n",
            " #   Column      Non-Null Count  Dtype  \n",
            "---  ------      --------------  -----  \n",
            " 0   Unnamed: 0  374 non-null    int64  \n",
            " 1   GEOID10     374 non-null    int64  \n",
            " 2   HVI_SCORE   374 non-null    float64\n",
            " 3   geometry    374 non-null    object \n",
            " 4   num_trees   374 non-null    int64  \n",
            " 5   ave_dbh     374 non-null    float64\n",
            "dtypes: float64(2), int64(3), object(1)\n",
            "memory usage: 17.7+ KB\n"
          ]
        }
      ]
    },
    {
      "cell_type": "code",
      "source": [
        "ax = heat.plot(\"num_trees\", \"HVI_SCORE\", kind=\"scatter\")\n",
        "ax.set_xlabel(\"num_trees\");"
      ],
      "metadata": {
        "colab": {
          "base_uri": "https://localhost:8080/",
          "height": 280
        },
        "id": "qLdrvih6u6_t",
        "outputId": "26199317-7a39-4b9a-f64b-b7808d94dbad"
      },
      "execution_count": 8,
      "outputs": [
        {
          "output_type": "display_data",
          "data": {
            "text/plain": [
              "<Figure size 432x288 with 1 Axes>"
            ],
            "image/png": "[encoded data removed]"
          },
          "metadata": {
            "needs_background": "light"
          }
        }
      ]
    },
    {
      "cell_type": "code",
      "source": [
        "import numpy as np\n",
        "\n",
        "heat[\"log_num_trees\"] = np.log10(heat.num_trees)\n",
        "ax = heat.plot(\"log_num_trees\", \"HVI_SCORE\", kind=\"scatter\")\n",
        "ax.set_xlabel(\"num_trees (log scale)\");"
      ],
      "metadata": {
        "colab": {
          "base_uri": "https://localhost:8080/",
          "height": 280
        },
        "id": "x323NPHHDCXj",
        "outputId": "29af9104-1ae2-4689-c464-43e4ca5db9e4"
      },
      "execution_count": 9,
      "outputs": [
        {
          "output_type": "display_data",
          "data": {
            "text/plain": [
              "<Figure size 432x288 with 1 Axes>"
            ],
            "image/png": "[encoded data removed]"
          },
          "metadata": {
            "needs_background": "light"
          }
        }
      ]
    },
    {
      "cell_type": "code",
      "source": [
        "ax = heat.plot(\"ave_dbh\", \"HVI_SCORE\", kind=\"scatter\")\n",
        "ax.set_xlabel(\"ave_dbh\");"
      ],
      "metadata": {
        "colab": {
          "base_uri": "https://localhost:8080/",
          "height": 280
        },
        "id": "UluPW1vXEfna",
        "outputId": "6a41f49f-6026-47c2-bb28-7273f074eb92"
      },
      "execution_count": 10,
      "outputs": [
        {
          "output_type": "display_data",
          "data": {
            "text/plain": [
              "<Figure size 432x288 with 1 Axes>"
            ],
            "image/png": "[encoded data removed]"
          },
          "metadata": {
            "needs_background": "light"
          }
        }
      ]
    },
    {
      "cell_type": "code",
      "source": [
        "heat[\"log_ave_dbh\"] = np.log10(heat.ave_dbh)\n",
        "ax = heat.plot(\"log_ave_dbh\", \"HVI_SCORE\", kind=\"scatter\")\n",
        "ax.set_xlabel(\"ave_dbh (log scale)\");"
      ],
      "metadata": {
        "colab": {
          "base_uri": "https://localhost:8080/",
          "height": 280
        },
        "id": "-cs2vlmPE0kd",
        "outputId": "0e16169b-ce95-40f1-9144-43d38ef7c409"
      },
      "execution_count": 11,
      "outputs": [
        {
          "output_type": "display_data",
          "data": {
            "text/plain": [
              "<Figure size 432x288 with 1 Axes>"
            ],
            "image/png": "[encoded data removed]"
          },
          "metadata": {
            "needs_background": "light"
          }
        }
      ]
    },
    {
      "cell_type": "code",
      "source": [
        "heat[\"dbh_trees\"] = heat[\"ave_dbh\"] * heat[\"num_trees\"]\n",
        "heat"
      ],
      "metadata": {
        "colab": {
          "base_uri": "https://localhost:8080/",
          "height": 424
        },
        "id": "nCBGqignFJzs",
        "outputId": "5d3d26b5-0f0a-4065-a4c2-d61a0f99157f"
      },
      "execution_count": 12,
      "outputs": [
        {
          "output_type": "execute_result",
          "data": {
            "text/plain": [
              "     Unnamed: 0      GEOID10  HVI_SCORE  \\\n",
              "0             0  42101019000   0.935255   \n",
              "1             1  42101019100   2.963969   \n",
              "2             2  42101019200   2.676547   \n",
              "3             3  42101019700   3.156173   \n",
              "4             4  42101019800   2.885302   \n",
              "..          ...          ...        ...   \n",
              "369         369  42101036203  -1.626316   \n",
              "370         370  42101035302  -0.934188   \n",
              "371         371  42101036201  -1.094011   \n",
              "372         372  42101036302  -1.194634   \n",
              "373         373  42101036900  -3.214504   \n",
              "\n",
              "                                              geometry  num_trees    ave_dbh  \\\n",
              "0    POLYGON ((-75.0949037530549 40.0104860796399, ...        192  14.661458   \n",
              "1    POLYGON ((-75.1071537566382 40.0167360797785, ...        430  19.905750   \n",
              "2    POLYGON ((-75.1075956511127 39.9996716549479, ...        320  10.568750   \n",
              "3    POLYGON ((-75.1358598309214 40.0119913037377, ...        195  14.174359   \n",
              "4    POLYGON ((-75.1367161109815 40.0080297688381, ...        188  14.486631   \n",
              "..                                                 ...        ...        ...   \n",
              "369  POLYGON ((-74.9648847150604 40.0772810971776, ...        291  13.536082   \n",
              "370  POLYGON ((-74.9875706652257 40.0758346996955, ...        168   1.476190   \n",
              "371  POLYGON ((-74.9849887222353 40.0745340963154, ...        161  15.776398   \n",
              "372  POLYGON ((-74.9798960441206 40.0938200532625, ...         76  17.210526   \n",
              "373  POLYGON ((-75.1894670636636 39.9452540077135, ...        694   6.449568   \n",
              "\n",
              "     log_num_trees  log_ave_dbh    dbh_trees  \n",
              "0         2.283301     1.166177  2815.000000  \n",
              "1         2.633468     1.298979  8559.472589  \n",
              "2         2.505150     1.024024  3382.000000  \n",
              "3         2.290035     1.151503  2764.000000  \n",
              "4         2.274158     1.160967  2723.486631  \n",
              "..             ...          ...          ...  \n",
              "369       2.463893     1.131493  3939.000000  \n",
              "370       2.225309     0.169142   248.000000  \n",
              "371       2.206826     1.198008  2540.000000  \n",
              "372       1.880814     1.235794  1308.000000  \n",
              "373       2.841359     0.809531  4476.000000  \n",
              "\n",
              "[374 rows x 9 columns]"
            ],
            "text/html": [
              "\n",
              "  <div id=\"df-d072dc45-9a7f-42ae-938a-5744ea3921f7\">\n",
              "    <div class=\"colab-df-container\">\n",
              "      <div>\n",
              "<style scoped>\n",
              "    .dataframe tbody tr th:only-of-type {\n",
              "        vertical-align: middle;\n",
              "    }\n",
              "\n",
              "    .dataframe tbody tr th {\n",
              "        vertical-align: top;\n",
              "    }\n",
              "\n",
              "    .dataframe thead th {\n",
              "        text-align: right;\n",
              "    }\n",
              "</style>\n",
              "<table border=\"1\" class=\"dataframe\">\n",
              "  <thead>\n",
              "    <tr style=\"text-align: right;\">\n",
              "      <th></th>\n",
              "      <th>Unnamed: 0</th>\n",
              "      <th>GEOID10</th>\n",
              "      <th>HVI_SCORE</th>\n",
              "      <th>geometry</th>\n",
              "      <th>num_trees</th>\n",
              "      <th>ave_dbh</th>\n",
              "      <th>log_num_trees</th>\n",
              "      <th>log_ave_dbh</th>\n",
              "      <th>dbh_trees</th>\n",
              "    </tr>\n",
              "  </thead>\n",
              "  <tbody>\n",
              "    <tr>\n",
              "      <th>0</th>\n",
              "      <td>0</td>\n",
              "      <td>42101019000</td>\n",
              "      <td>0.935255</td>\n",
              "      <td>POLYGON ((-75.0949037530549 40.0104860796399, ...</td>\n",
              "      <td>192</td>\n",
              "      <td>14.661458</td>\n",
              "      <td>2.283301</td>\n",
              "      <td>1.166177</td>\n",
              "      <td>2815.000000</td>\n",
              "    </tr>\n",
              "    <tr>\n",
              "      <th>1</th>\n",
              "      <td>1</td>\n",
              "      <td>42101019100</td>\n",
              "      <td>2.963969</td>\n",
              "      <td>POLYGON ((-75.1071537566382 40.0167360797785, ...</td>\n",
              "      <td>430</td>\n",
              "      <td>19.905750</td>\n",
              "      <td>2.633468</td>\n",
              "      <td>1.298979</td>\n",
              "      <td>8559.472589</td>\n",
              "    </tr>\n",
              "    <tr>\n",
              "      <th>2</th>\n",
              "      <td>2</td>\n",
              "      <td>42101019200</td>\n",
              "      <td>2.676547</td>\n",
              "      <td>POLYGON ((-75.1075956511127 39.9996716549479, ...</td>\n",
              "      <td>320</td>\n",
              "      <td>10.568750</td>\n",
              "      <td>2.505150</td>\n",
              "      <td>1.024024</td>\n",
              "      <td>3382.000000</td>\n",
              "    </tr>\n",
              "    <tr>\n",
              "      <th>3</th>\n",
              "      <td>3</td>\n",
              "      <td>42101019700</td>\n",
              "      <td>3.156173</td>\n",
              "      <td>POLYGON ((-75.1358598309214 40.0119913037377, ...</td>\n",
              "      <td>195</td>\n",
              "      <td>14.174359</td>\n",
              "      <td>2.290035</td>\n",
              "      <td>1.151503</td>\n",
              "      <td>2764.000000</td>\n",
              "    </tr>\n",
              "    <tr>\n",
              "      <th>4</th>\n",
              "      <td>4</td>\n",
              "      <td>42101019800</td>\n",
              "      <td>2.885302</td>\n",
              "      <td>POLYGON ((-75.1367161109815 40.0080297688381, ...</td>\n",
              "      <td>188</td>\n",
              "      <td>14.486631</td>\n",
              "      <td>2.274158</td>\n",
              "      <td>1.160967</td>\n",
              "      <td>2723.486631</td>\n",
              "    </tr>\n",
              "    <tr>\n",
              "      <th>...</th>\n",
              "      <td>...</td>\n",
              "      <td>...</td>\n",
              "      <td>...</td>\n",
              "      <td>...</td>\n",
              "      <td>...</td>\n",
              "      <td>...</td>\n",
              "      <td>...</td>\n",
              "      <td>...</td>\n",
              "      <td>...</td>\n",
              "    </tr>\n",
              "    <tr>\n",
              "      <th>369</th>\n",
              "      <td>369</td>\n",
              "      <td>42101036203</td>\n",
              "      <td>-1.626316</td>\n",
              "      <td>POLYGON ((-74.9648847150604 40.0772810971776, ...</td>\n",
              "      <td>291</td>\n",
              "      <td>13.536082</td>\n",
              "      <td>2.463893</td>\n",
              "      <td>1.131493</td>\n",
              "      <td>3939.000000</td>\n",
              "    </tr>\n",
              "    <tr>\n",
              "      <th>370</th>\n",
              "      <td>370</td>\n",
              "      <td>42101035302</td>\n",
              "      <td>-0.934188</td>\n",
              "      <td>POLYGON ((-74.9875706652257 40.0758346996955, ...</td>\n",
              "      <td>168</td>\n",
              "      <td>1.476190</td>\n",
              "      <td>2.225309</td>\n",
              "      <td>0.169142</td>\n",
              "      <td>248.000000</td>\n",
              "    </tr>\n",
              "    <tr>\n",
              "      <th>371</th>\n",
              "      <td>371</td>\n",
              "      <td>42101036201</td>\n",
              "      <td>-1.094011</td>\n",
              "      <td>POLYGON ((-74.9849887222353 40.0745340963154, ...</td>\n",
              "      <td>161</td>\n",
              "      <td>15.776398</td>\n",
              "      <td>2.206826</td>\n",
              "      <td>1.198008</td>\n",
              "      <td>2540.000000</td>\n",
              "    </tr>\n",
              "    <tr>\n",
              "      <th>372</th>\n",
              "      <td>372</td>\n",
              "      <td>42101036302</td>\n",
              "      <td>-1.194634</td>\n",
              "      <td>POLYGON ((-74.9798960441206 40.0938200532625, ...</td>\n",
              "      <td>76</td>\n",
              "      <td>17.210526</td>\n",
              "      <td>1.880814</td>\n",
              "      <td>1.235794</td>\n",
              "      <td>1308.000000</td>\n",
              "    </tr>\n",
              "    <tr>\n",
              "      <th>373</th>\n",
              "      <td>373</td>\n",
              "      <td>42101036900</td>\n",
              "      <td>-3.214504</td>\n",
              "      <td>POLYGON ((-75.1894670636636 39.9452540077135, ...</td>\n",
              "      <td>694</td>\n",
              "      <td>6.449568</td>\n",
              "      <td>2.841359</td>\n",
              "      <td>0.809531</td>\n",
              "      <td>4476.000000</td>\n",
              "    </tr>\n",
              "  </tbody>\n",
              "</table>\n",
              "<p>374 rows × 9 columns</p>\n",
              "</div>\n",
              "      <button class=\"colab-df-convert\" onclick=\"convertToInteractive('df-d072dc45-9a7f-42ae-938a-5744ea3921f7')\"\n",
              "              title=\"Convert this dataframe to an interactive table.\"\n",
              "              style=\"display:none;\">\n",
              "        \n",
              "  <svg xmlns=\"http://www.w3.org/2000/svg\" height=\"24px\"viewBox=\"0 0 24 24\"\n",
              "       width=\"24px\">\n",
              "    <path d=\"M0 0h24v24H0V0z\" fill=\"none\"/>\n",
              "    <path d=\"M18.56 5.44l.94 2.06.94-2.06 2.06-.94-2.06-.94-.94-2.06-.94 2.06-2.06.94zm-11 1L8.5 8.5l.94-2.06 2.06-.94-2.06-.94L8.5 2.5l-.94 2.06-2.06.94zm10 10l.94 2.06.94-2.06 2.06-.94-2.06-.94-.94-2.06-.94 2.06-2.06.94z\"/><path d=\"M17.41 7.96l-1.37-1.37c-.4-.4-.92-.59-1.43-.59-.52 0-1.04.2-1.43.59L10.3 9.45l-7.72 7.72c-.78.78-.78 2.05 0 2.83L4 21.41c.39.39.9.59 1.41.59.51 0 1.02-.2 1.41-.59l7.78-7.78 2.81-2.81c.8-.78.8-2.07 0-2.86zM5.41 20L4 18.59l7.72-7.72 1.47 1.35L5.41 20z\"/>\n",
              "  </svg>\n",
              "      </button>\n",
              "      \n",
              "  <style>\n",
              "    .colab-df-container {\n",
              "      display:flex;\n",
              "      flex-wrap:wrap;\n",
              "      gap: 12px;\n",
              "    }\n",
              "\n",
              "    .colab-df-convert {\n",
              "      background-color: #E8F0FE;\n",
              "      border: none;\n",
              "      border-radius: 50%;\n",
              "      cursor: pointer;\n",
              "      display: none;\n",
              "      fill: #1967D2;\n",
              "      height: 32px;\n",
              "      padding: 0 0 0 0;\n",
              "      width: 32px;\n",
              "    }\n",
              "\n",
              "    .colab-df-convert:hover {\n",
              "      background-color: #E2EBFA;\n",
              "      box-shadow: 0px 1px 2px rgba(60, 64, 67, 0.3), 0px 1px 3px 1px rgba(60, 64, 67, 0.15);\n",
              "      fill: #174EA6;\n",
              "    }\n",
              "\n",
              "    [theme=dark] .colab-df-convert {\n",
              "      background-color: #3B4455;\n",
              "      fill: #D2E3FC;\n",
              "    }\n",
              "\n",
              "    [theme=dark] .colab-df-convert:hover {\n",
              "      background-color: #434B5C;\n",
              "      box-shadow: 0px 1px 3px 1px rgba(0, 0, 0, 0.15);\n",
              "      filter: drop-shadow(0px 1px 2px rgba(0, 0, 0, 0.3));\n",
              "      fill: #FFFFFF;\n",
              "    }\n",
              "  </style>\n",
              "\n",
              "      <script>\n",
              "        const buttonEl =\n",
              "          document.querySelector('#df-d072dc45-9a7f-42ae-938a-5744ea3921f7 button.colab-df-convert');\n",
              "        buttonEl.style.display =\n",
              "          google.colab.kernel.accessAllowed ? 'block' : 'none';\n",
              "\n",
              "        async function convertToInteractive(key) {\n",
              "          const element = document.querySelector('#df-d072dc45-9a7f-42ae-938a-5744ea3921f7');\n",
              "          const dataTable =\n",
              "            await google.colab.kernel.invokeFunction('convertToInteractive',\n",
              "                                                     [key], {});\n",
              "          if (!dataTable) return;\n",
              "\n",
              "          const docLinkHtml = 'Like what you see? Visit the ' +\n",
              "            '<a target=\"_blank\" href=https://colab.research.google.com/notebooks/data_table.ipynb>data table notebook</a>'\n",
              "            + ' to learn more about interactive tables.';\n",
              "          element.innerHTML = '';\n",
              "          dataTable['output_type'] = 'display_data';\n",
              "          await google.colab.output.renderOutput(dataTable, element);\n",
              "          const docLink = document.createElement('div');\n",
              "          docLink.innerHTML = docLinkHtml;\n",
              "          element.appendChild(docLink);\n",
              "        }\n",
              "      </script>\n",
              "    </div>\n",
              "  </div>\n",
              "  "
            ]
          },
          "metadata": {},
          "execution_count": 12
        }
      ]
    },
    {
      "cell_type": "code",
      "source": [
        "ax = heat.plot(\"dbh_trees\", \"HVI_SCORE\", kind=\"scatter\")\n",
        "ax.set_xlabel(\"dbh_trees\");"
      ],
      "metadata": {
        "colab": {
          "base_uri": "https://localhost:8080/",
          "height": 280
        },
        "id": "nyAKx_0HFrV0",
        "outputId": "d3e8515f-ee48-4615-fa86-62fcbd45c309"
      },
      "execution_count": 13,
      "outputs": [
        {
          "output_type": "display_data",
          "data": {
            "text/plain": [
              "<Figure size 432x288 with 1 Axes>"
            ],
            "image/png": "[encoded data removed]"
          },
          "metadata": {
            "needs_background": "light"
          }
        }
      ]
    },
    {
      "cell_type": "code",
      "source": [
        "heat[\"log_dbh_trees\"] = np.log10(heat.dbh_trees)\n",
        "ax = heat.plot(\"log_dbh_trees\", \"HVI_SCORE\", kind=\"scatter\")\n",
        "ax.set_xlabel(\"dbh_trees (log scale)\");"
      ],
      "metadata": {
        "colab": {
          "base_uri": "https://localhost:8080/",
          "height": 280
        },
        "id": "lxVoz4WRF5BV",
        "outputId": "29e9c1c6-964e-46ab-bf44-59256e7684db"
      },
      "execution_count": 14,
      "outputs": [
        {
          "output_type": "display_data",
          "data": {
            "text/plain": [
              "<Figure size 432x288 with 1 Axes>"
            ],
            "image/png": "[encoded data removed]"
          },
          "metadata": {
            "needs_background": "light"
          }
        }
      ]
    },
    {
      "cell_type": "code",
      "source": [
        "import seaborn as sns\n",
        "sns.regplot(heat['log_dbh_trees'], heat['HVI_SCORE']);"
      ],
      "metadata": {
        "colab": {
          "base_uri": "https://localhost:8080/",
          "height": 335
        },
        "id": "Q07ZDDO_GmZI",
        "outputId": "7c3fb2d5-6b89-4ecb-e4a2-0fccdb02f1b2"
      },
      "execution_count": 15,
      "outputs": [
        {
          "output_type": "stream",
          "name": "stderr",
          "text": [
            "/usr/local/lib/python3.8/dist-packages/seaborn/_decorators.py:36: FutureWarning: Pass the following variables as keyword args: x, y. From version 0.12, the only valid positional argument will be `data`, and passing other arguments without an explicit keyword will result in an error or misinterpretation.\n",
            "  warnings.warn(\n"
          ]
        },
        {
          "output_type": "display_data",
          "data": {
            "text/plain": [
              "<Figure size 432x288 with 1 Axes>"
            ],
            "image/png": "[encoded data removed]"
          },
          "metadata": {
            "needs_background": "light"
          }
        }
      ]
    },
    {
      "cell_type": "code",
      "source": [
        "import seaborn as sns\n",
        "new = heat[heat['dbh_trees']<20000]\n",
        "\n",
        "sns.regplot(new[\"dbh_trees\"], new['HVI_SCORE']);"
      ],
      "metadata": {
        "colab": {
          "base_uri": "https://localhost:8080/",
          "height": 335
        },
        "id": "DL9LwqMRO1In",
        "outputId": "afbbc883-d132-436a-8cad-185affb68959"
      },
      "execution_count": 16,
      "outputs": [
        {
          "output_type": "stream",
          "name": "stderr",
          "text": [
            "/usr/local/lib/python3.8/dist-packages/seaborn/_decorators.py:36: FutureWarning: Pass the following variables as keyword args: x, y. From version 0.12, the only valid positional argument will be `data`, and passing other arguments without an explicit keyword will result in an error or misinterpretation.\n",
            "  warnings.warn(\n"
          ]
        },
        {
          "output_type": "display_data",
          "data": {
            "text/plain": [
              "<Figure size 432x288 with 1 Axes>"
            ],
            "image/png": "[encoded data removed]"
          },
          "metadata": {
            "needs_background": "light"
          }
        }
      ]
    },
    {
      "cell_type": "code",
      "source": [
        "\n",
        "import statsmodels.api as sma\n",
        "X = sma.add_constant(heat[\"ave_dbh\"])\n",
        "result = sma.OLS(endog=heat[\"HVI_SCORE\"], exog=X).fit()\n"
      ],
      "metadata": {
        "id": "vprSPO0mzsEO",
        "outputId": "d58db8e6-ca1f-451f-d7d6-e2c4a71f664c",
        "colab": {
          "base_uri": "https://localhost:8080/"
        }
      },
      "execution_count": 19,
      "outputs": [
        {
          "output_type": "stream",
          "name": "stderr",
          "text": [
            "/usr/local/lib/python3.8/dist-packages/statsmodels/tsa/tsatools.py:142: FutureWarning: In a future version of pandas all arguments of concat except for the argument 'objs' will be keyword-only\n",
            "  x = pd.concat(x[::order], 1)\n"
          ]
        }
      ]
    },
    {
      "cell_type": "code",
      "source": [
        "result.summary()"
      ],
      "metadata": {
        "id": "apVGk6GS8EKv",
        "outputId": "73b44093-c9a9-4bda-97f1-107d8de9235a",
        "colab": {
          "base_uri": "https://localhost:8080/",
          "height": 486
        }
      },
      "execution_count": 21,
      "outputs": [
        {
          "output_type": "execute_result",
          "data": {
            "text/plain": [
              "<class 'statsmodels.iolib.summary.Summary'>\n",
              "\"\"\"\n",
              "                            OLS Regression Results                            \n",
              "==============================================================================\n",
              "Dep. Variable:              HVI_SCORE   R-squared:                       0.081\n",
              "Model:                            OLS   Adj. R-squared:                  0.078\n",
              "Method:                 Least Squares   F-statistic:                     32.69\n",
              "Date:                Sat, 03 Dec 2022   Prob (F-statistic):           2.22e-08\n",
              "Time:                        03:03:45   Log-Likelihood:                -772.89\n",
              "No. Observations:                 374   AIC:                             1550.\n",
              "Df Residuals:                     372   BIC:                             1558.\n",
              "Df Model:                           1                                         \n",
              "Covariance Type:            nonrobust                                         \n",
              "==============================================================================\n",
              "                 coef    std err          t      P>|t|      [0.025      0.975]\n",
              "------------------------------------------------------------------------------\n",
              "const          0.3801      0.118      3.220      0.001       0.148       0.612\n",
              "dbh_trees  -7.338e-05   1.28e-05     -5.718      0.000   -9.86e-05   -4.81e-05\n",
              "==============================================================================\n",
              "Omnibus:                        4.802   Durbin-Watson:                   1.192\n",
              "Prob(Omnibus):                  0.091   Jarque-Bera (JB):                3.286\n",
              "Skew:                          -0.042   Prob(JB):                        0.193\n",
              "Kurtosis:                       2.549   Cond. No.                     1.10e+04\n",
              "==============================================================================\n",
              "\n",
              "Notes:\n",
              "[1] Standard Errors assume that the covariance matrix of the errors is correctly specified.\n",
              "[2] The condition number is large, 1.1e+04. This might indicate that there are\n",
              "strong multicollinearity or other numerical problems.\n",
              "\"\"\""
            ],
            "text/html": [
              "<table class=\"simpletable\">\n",
              "<caption>OLS Regression Results</caption>\n",
              "<tr>\n",
              "  <th>Dep. Variable:</th>        <td>HVI_SCORE</td>    <th>  R-squared:         </th> <td>   0.081</td>\n",
              "</tr>\n",
              "<tr>\n",
              "  <th>Model:</th>                   <td>OLS</td>       <th>  Adj. R-squared:    </th> <td>   0.078</td>\n",
              "</tr>\n",
              "<tr>\n",
              "  <th>Method:</th>             <td>Least Squares</td>  <th>  F-statistic:       </th> <td>   32.69</td>\n",
              "</tr>\n",
              "<tr>\n",
              "  <th>Date:</th>             <td>Sat, 03 Dec 2022</td> <th>  Prob (F-statistic):</th> <td>2.22e-08</td>\n",
              "</tr>\n",
              "<tr>\n",
              "  <th>Time:</th>                 <td>03:03:45</td>     <th>  Log-Likelihood:    </th> <td> -772.89</td>\n",
              "</tr>\n",
              "<tr>\n",
              "  <th>No. Observations:</th>      <td>   374</td>      <th>  AIC:               </th> <td>   1550.</td>\n",
              "</tr>\n",
              "<tr>\n",
              "  <th>Df Residuals:</th>          <td>   372</td>      <th>  BIC:               </th> <td>   1558.</td>\n",
              "</tr>\n",
              "<tr>\n",
              "  <th>Df Model:</th>              <td>     1</td>      <th>                     </th>     <td> </td>   \n",
              "</tr>\n",
              "<tr>\n",
              "  <th>Covariance Type:</th>      <td>nonrobust</td>    <th>                     </th>     <td> </td>   \n",
              "</tr>\n",
              "</table>\n",
              "<table class=\"simpletable\">\n",
              "<tr>\n",
              "      <td></td>         <th>coef</th>     <th>std err</th>      <th>t</th>      <th>P>|t|</th>  <th>[0.025</th>    <th>0.975]</th>  \n",
              "</tr>\n",
              "<tr>\n",
              "  <th>const</th>     <td>    0.3801</td> <td>    0.118</td> <td>    3.220</td> <td> 0.001</td> <td>    0.148</td> <td>    0.612</td>\n",
              "</tr>\n",
              "<tr>\n",
              "  <th>dbh_trees</th> <td>-7.338e-05</td> <td> 1.28e-05</td> <td>   -5.718</td> <td> 0.000</td> <td>-9.86e-05</td> <td>-4.81e-05</td>\n",
              "</tr>\n",
              "</table>\n",
              "<table class=\"simpletable\">\n",
              "<tr>\n",
              "  <th>Omnibus:</th>       <td> 4.802</td> <th>  Durbin-Watson:     </th> <td>   1.192</td>\n",
              "</tr>\n",
              "<tr>\n",
              "  <th>Prob(Omnibus):</th> <td> 0.091</td> <th>  Jarque-Bera (JB):  </th> <td>   3.286</td>\n",
              "</tr>\n",
              "<tr>\n",
              "  <th>Skew:</th>          <td>-0.042</td> <th>  Prob(JB):          </th> <td>   0.193</td>\n",
              "</tr>\n",
              "<tr>\n",
              "  <th>Kurtosis:</th>      <td> 2.549</td> <th>  Cond. No.          </th> <td>1.10e+04</td>\n",
              "</tr>\n",
              "</table><br/><br/>Notes:<br/>[1] Standard Errors assume that the covariance matrix of the errors is correctly specified.<br/>[2] The condition number is large, 1.1e+04. This might indicate that there are<br/>strong multicollinearity or other numerical problems."
            ]
          },
          "metadata": {},
          "execution_count": 21
        }
      ]
    },
    {
      "cell_type": "code",
      "source": [
        "X"
      ],
      "metadata": {
        "id": "DO8dHTZj8H8h",
        "outputId": "03d17af2-b7fc-4975-f454-fdd65fbbb2d4",
        "colab": {
          "base_uri": "https://localhost:8080/",
          "height": 424
        }
      },
      "execution_count": 22,
      "outputs": [
        {
          "output_type": "execute_result",
          "data": {
            "text/plain": [
              "     const    dbh_trees\n",
              "0      1.0  2815.000000\n",
              "1      1.0  8559.472589\n",
              "2      1.0  3382.000000\n",
              "3      1.0  2764.000000\n",
              "4      1.0  2723.486631\n",
              "..     ...          ...\n",
              "369    1.0  3939.000000\n",
              "370    1.0   248.000000\n",
              "371    1.0  2540.000000\n",
              "372    1.0  1308.000000\n",
              "373    1.0  4476.000000\n",
              "\n",
              "[374 rows x 2 columns]"
            ],
            "text/html": [
              "\n",
              "  <div id=\"df-6737d248-5a76-4d5c-93c1-8287d2910314\">\n",
              "    <div class=\"colab-df-container\">\n",
              "      <div>\n",
              "<style scoped>\n",
              "    .dataframe tbody tr th:only-of-type {\n",
              "        vertical-align: middle;\n",
              "    }\n",
              "\n",
              "    .dataframe tbody tr th {\n",
              "        vertical-align: top;\n",
              "    }\n",
              "\n",
              "    .dataframe thead th {\n",
              "        text-align: right;\n",
              "    }\n",
              "</style>\n",
              "<table border=\"1\" class=\"dataframe\">\n",
              "  <thead>\n",
              "    <tr style=\"text-align: right;\">\n",
              "      <th></th>\n",
              "      <th>const</th>\n",
              "      <th>dbh_trees</th>\n",
              "    </tr>\n",
              "  </thead>\n",
              "  <tbody>\n",
              "    <tr>\n",
              "      <th>0</th>\n",
              "      <td>1.0</td>\n",
              "      <td>2815.000000</td>\n",
              "    </tr>\n",
              "    <tr>\n",
              "      <th>1</th>\n",
              "      <td>1.0</td>\n",
              "      <td>8559.472589</td>\n",
              "    </tr>\n",
              "    <tr>\n",
              "      <th>2</th>\n",
              "      <td>1.0</td>\n",
              "      <td>3382.000000</td>\n",
              "    </tr>\n",
              "    <tr>\n",
              "      <th>3</th>\n",
              "      <td>1.0</td>\n",
              "      <td>2764.000000</td>\n",
              "    </tr>\n",
              "    <tr>\n",
              "      <th>4</th>\n",
              "      <td>1.0</td>\n",
              "      <td>2723.486631</td>\n",
              "    </tr>\n",
              "    <tr>\n",
              "      <th>...</th>\n",
              "      <td>...</td>\n",
              "      <td>...</td>\n",
              "    </tr>\n",
              "    <tr>\n",
              "      <th>369</th>\n",
              "      <td>1.0</td>\n",
              "      <td>3939.000000</td>\n",
              "    </tr>\n",
              "    <tr>\n",
              "      <th>370</th>\n",
              "      <td>1.0</td>\n",
              "      <td>248.000000</td>\n",
              "    </tr>\n",
              "    <tr>\n",
              "      <th>371</th>\n",
              "      <td>1.0</td>\n",
              "      <td>2540.000000</td>\n",
              "    </tr>\n",
              "    <tr>\n",
              "      <th>372</th>\n",
              "      <td>1.0</td>\n",
              "      <td>1308.000000</td>\n",
              "    </tr>\n",
              "    <tr>\n",
              "      <th>373</th>\n",
              "      <td>1.0</td>\n",
              "      <td>4476.000000</td>\n",
              "    </tr>\n",
              "  </tbody>\n",
              "</table>\n",
              "<p>374 rows × 2 columns</p>\n",
              "</div>\n",
              "      <button class=\"colab-df-convert\" onclick=\"convertToInteractive('df-6737d248-5a76-4d5c-93c1-8287d2910314')\"\n",
              "              title=\"Convert this dataframe to an interactive table.\"\n",
              "              style=\"display:none;\">\n",
              "        \n",
              "  <svg xmlns=\"http://www.w3.org/2000/svg\" height=\"24px\"viewBox=\"0 0 24 24\"\n",
              "       width=\"24px\">\n",
              "    <path d=\"M0 0h24v24H0V0z\" fill=\"none\"/>\n",
              "    <path d=\"M18.56 5.44l.94 2.06.94-2.06 2.06-.94-2.06-.94-.94-2.06-.94 2.06-2.06.94zm-11 1L8.5 8.5l.94-2.06 2.06-.94-2.06-.94L8.5 2.5l-.94 2.06-2.06.94zm10 10l.94 2.06.94-2.06 2.06-.94-2.06-.94-.94-2.06-.94 2.06-2.06.94z\"/><path d=\"M17.41 7.96l-1.37-1.37c-.4-.4-.92-.59-1.43-.59-.52 0-1.04.2-1.43.59L10.3 9.45l-7.72 7.72c-.78.78-.78 2.05 0 2.83L4 21.41c.39.39.9.59 1.41.59.51 0 1.02-.2 1.41-.59l7.78-7.78 2.81-2.81c.8-.78.8-2.07 0-2.86zM5.41 20L4 18.59l7.72-7.72 1.47 1.35L5.41 20z\"/>\n",
              "  </svg>\n",
              "      </button>\n",
              "      \n",
              "  <style>\n",
              "    .colab-df-container {\n",
              "      display:flex;\n",
              "      flex-wrap:wrap;\n",
              "      gap: 12px;\n",
              "    }\n",
              "\n",
              "    .colab-df-convert {\n",
              "      background-color: #E8F0FE;\n",
              "      border: none;\n",
              "      border-radius: 50%;\n",
              "      cursor: pointer;\n",
              "      display: none;\n",
              "      fill: #1967D2;\n",
              "      height: 32px;\n",
              "      padding: 0 0 0 0;\n",
              "      width: 32px;\n",
              "    }\n",
              "\n",
              "    .colab-df-convert:hover {\n",
              "      background-color: #E2EBFA;\n",
              "      box-shadow: 0px 1px 2px rgba(60, 64, 67, 0.3), 0px 1px 3px 1px rgba(60, 64, 67, 0.15);\n",
              "      fill: #174EA6;\n",
              "    }\n",
              "\n",
              "    [theme=dark] .colab-df-convert {\n",
              "      background-color: #3B4455;\n",
              "      fill: #D2E3FC;\n",
              "    }\n",
              "\n",
              "    [theme=dark] .colab-df-convert:hover {\n",
              "      background-color: #434B5C;\n",
              "      box-shadow: 0px 1px 3px 1px rgba(0, 0, 0, 0.15);\n",
              "      filter: drop-shadow(0px 1px 2px rgba(0, 0, 0, 0.3));\n",
              "      fill: #FFFFFF;\n",
              "    }\n",
              "  </style>\n",
              "\n",
              "      <script>\n",
              "        const buttonEl =\n",
              "          document.querySelector('#df-6737d248-5a76-4d5c-93c1-8287d2910314 button.colab-df-convert');\n",
              "        buttonEl.style.display =\n",
              "          google.colab.kernel.accessAllowed ? 'block' : 'none';\n",
              "\n",
              "        async function convertToInteractive(key) {\n",
              "          const element = document.querySelector('#df-6737d248-5a76-4d5c-93c1-8287d2910314');\n",
              "          const dataTable =\n",
              "            await google.colab.kernel.invokeFunction('convertToInteractive',\n",
              "                                                     [key], {});\n",
              "          if (!dataTable) return;\n",
              "\n",
              "          const docLinkHtml = 'Like what you see? Visit the ' +\n",
              "            '<a target=\"_blank\" href=https://colab.research.google.com/notebooks/data_table.ipynb>data table notebook</a>'\n",
              "            + ' to learn more about interactive tables.';\n",
              "          element.innerHTML = '';\n",
              "          dataTable['output_type'] = 'display_data';\n",
              "          await google.colab.output.renderOutput(dataTable, element);\n",
              "          const docLink = document.createElement('div');\n",
              "          docLink.innerHTML = docLinkHtml;\n",
              "          element.appendChild(docLink);\n",
              "        }\n",
              "      </script>\n",
              "    </div>\n",
              "  </div>\n",
              "  "
            ]
          },
          "metadata": {},
          "execution_count": 22
        }
      ]
    },
    {
      "cell_type": "code",
      "source": [
        "import numpy as np\n",
        "from sklearn.linear_model import LinearRegression\n",
        "\n",
        "X = heat[['ave_dbh', 'num_trees']].values\n",
        "y = heat[[\"HVI_SCORE\"]].values\n",
        "\n",
        "reg = LinearRegression().fit(X,y)\n",
        "reg.score(X,y)"
      ],
      "metadata": {
        "id": "i0nG4QaV8d_c",
        "outputId": "2072338b-2513-43a0-cc20-4cba2191577b",
        "colab": {
          "base_uri": "https://localhost:8080/"
        }
      },
      "execution_count": 39,
      "outputs": [
        {
          "output_type": "execute_result",
          "data": {
            "text/plain": [
              "0.1109468053920648"
            ]
          },
          "metadata": {},
          "execution_count": 39
        }
      ]
    },
    {
      "cell_type": "code",
      "source": [
        "reg.coef_"
      ],
      "metadata": {
        "id": "Y2-8-YaOHD7u",
        "outputId": "1bb26f9a-bcfe-4207-e440-7994f7396660",
        "colab": {
          "base_uri": "https://localhost:8080/"
        }
      },
      "execution_count": 40,
      "outputs": [
        {
          "output_type": "execute_result",
          "data": {
            "text/plain": [
              "array([[ 0.01089403, -0.00138394]])"
            ]
          },
          "metadata": {},
          "execution_count": 40
        }
      ]
    },
    {
      "cell_type": "code",
      "source": [
        "reg.intercept_"
      ],
      "metadata": {
        "id": "Mc-9aJ_sHMRK",
        "outputId": "aadfad7d-e6ca-44a6-c44d-6619715324d2",
        "colab": {
          "base_uri": "https://localhost:8080/"
        }
      },
      "execution_count": 41,
      "outputs": [
        {
          "output_type": "execute_result",
          "data": {
            "text/plain": [
              "array([0.41068175])"
            ]
          },
          "metadata": {},
          "execution_count": 41
        }
      ]
    },
    {
      "cell_type": "code",
      "source": [
        "import numpy as np\n",
        "from sklearn.linear_model import LinearRegression\n",
        "\n",
        "X = heat[['num_trees']].values\n",
        "y = heat[[\"HVI_SCORE\"]].values\n",
        "\n",
        "reg = LinearRegression().fit(X,y)\n",
        "reg.score(X,y)"
      ],
      "metadata": {
        "id": "ptimbXHRK0S_",
        "outputId": "f8b51649-c7fc-4caa-ab93-da4207ff3bff",
        "colab": {
          "base_uri": "https://localhost:8080/"
        }
      },
      "execution_count": 43,
      "outputs": [
        {
          "output_type": "execute_result",
          "data": {
            "text/plain": [
              "0.11037315883795362"
            ]
          },
          "metadata": {},
          "execution_count": 43
        }
      ]
    },
    {
      "cell_type": "code",
      "source": [
        "reg.get_params()"
      ],
      "metadata": {
        "id": "rHV2-rgnLI7I",
        "outputId": "341c6ee0-8a38-4c02-d841-ac5e613ec66f",
        "colab": {
          "base_uri": "https://localhost:8080/"
        }
      },
      "execution_count": 45,
      "outputs": [
        {
          "output_type": "execute_result",
          "data": {
            "text/plain": [
              "{'copy_X': True,\n",
              " 'fit_intercept': True,\n",
              " 'n_jobs': None,\n",
              " 'normalize': 'deprecated',\n",
              " 'positive': False}"
            ]
          },
          "metadata": {},
          "execution_count": 45
        }
      ]
    },
    {
      "cell_type": "code",
      "source": [
        "reg.score(X,y,sample_weight=None)"
      ],
      "metadata": {
        "id": "LET8wDexLbmW",
        "outputId": "8c3660fb-6e35-4e6f-eff1-59eee510d41a",
        "colab": {
          "base_uri": "https://localhost:8080/"
        }
      },
      "execution_count": 47,
      "outputs": [
        {
          "output_type": "execute_result",
          "data": {
            "text/plain": [
              "0.11037315883795362"
            ]
          },
          "metadata": {},
          "execution_count": 47
        }
      ]
    },
    {
      "cell_type": "code",
      "source": [
        "X = heat[['log_dbh_trees', 'HVI_SCORE']].values\n",
        "y = heat[[\"HVI_SCORE\"]].values\n",
        "#heat['HVI_SCORE'].values"
      ],
      "metadata": {
        "id": "jehXVhXCFgZm"
      },
      "execution_count": 30,
      "outputs": []
    },
    {
      "cell_type": "markdown",
      "source": [],
      "metadata": {
        "id": "zkJVCrcsFWfY"
      }
    }
  ]
}