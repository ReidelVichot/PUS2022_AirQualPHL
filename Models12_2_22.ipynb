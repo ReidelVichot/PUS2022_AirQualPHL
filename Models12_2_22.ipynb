{
  "nbformat": 4,
  "nbformat_minor": 0,
  "metadata": {
    "colab": {
      "provenance": [],
      "authorship_tag": "ABX9TyMRf6HfkIPeU0sScTYI7jec",
      "include_colab_link": true
    },
    "kernelspec": {
      "name": "python3",
      "display_name": "Python 3"
    },
    "language_info": {
      "name": "python"
    }
  },
  "cells": [
    {
      "cell_type": "markdown",
      "metadata": {
        "id": "view-in-github",
        "colab_type": "text"
      },
      "source": [
        "<a href=\"https://colab.research.google.com/github/ReidelVichot/PUS2022_Heat-TreesPHL/blob/main/Models12_2_22.ipynb\" target=\"_parent\"><img src=\"https://colab.research.google.com/assets/colab-badge.svg\" alt=\"Open In Colab\"/></a>"
      ]
    },
    {
      "cell_type": "markdown",
      "source": [
        "This notebook runs the models for the Heat and Trees project. The notebook uses data that has been previously cleanned in another notbook named cleaning with the most current date. The notebook requires access to the google drive in order to get the clean CSVs. "
      ],
      "metadata": {
        "id": "78hyXpOwnC5w"
      }
    },
    {
      "cell_type": "code",
      "execution_count": null,
      "metadata": {
        "id": "o_k3TyRRm0U2"
      },
      "outputs": [],
      "source": []
    }
  ]
}