{
  "nbformat": 4,
  "nbformat_minor": 0,
  "metadata": {
    "colab": {
      "provenance": [],
      "include_colab_link": true
    },
    "kernelspec": {
      "name": "python3",
      "display_name": "Python 3"
    },
    "language_info": {
      "name": "python"
    }
  },
  "cells": [
    {
      "cell_type": "markdown",
      "metadata": {
        "id": "view-in-github",
        "colab_type": "text"
      },
      "source": [
        "<a href=\"https://colab.research.google.com/github/ReidelVichot/PUS2022_Heat-TreesPHL/blob/main/Regressions_12_3.ipynb\" target=\"_parent\"><img src=\"https://colab.research.google.com/assets/colab-badge.svg\" alt=\"Open In Colab\"/></a>"
      ]
    },
    {
      "cell_type": "code",
      "source": [
        "!pip install geopandas"
      ],
      "metadata": {
        "id": "ThXtGHUc3Hl8",
        "outputId": "5a6b56b4-3721-4d31-fa56-d535f64885a5",
        "colab": {
          "base_uri": "https://localhost:8080/"
        }
      },
      "execution_count": 15,
      "outputs": [
        {
          "output_type": "stream",
          "name": "stdout",
          "text": [
            "Looking in indexes: https://pypi.org/simple, https://us-python.pkg.dev/colab-wheels/public/simple/\n",
            "Requirement already satisfied: geopandas in /usr/local/lib/python3.8/dist-packages (0.12.1)\n",
            "Requirement already satisfied: fiona>=1.8 in /usr/local/lib/python3.8/dist-packages (from geopandas) (1.8.22)\n",
            "Requirement already satisfied: packaging in /usr/local/lib/python3.8/dist-packages (from geopandas) (21.3)\n",
            "Requirement already satisfied: pyproj>=2.6.1.post1 in /usr/local/lib/python3.8/dist-packages (from geopandas) (3.4.0)\n",
            "Requirement already satisfied: pandas>=1.0.0 in /usr/local/lib/python3.8/dist-packages (from geopandas) (1.3.5)\n",
            "Requirement already satisfied: shapely>=1.7 in /usr/local/lib/python3.8/dist-packages (from geopandas) (1.8.5.post1)\n",
            "Requirement already satisfied: attrs>=17 in /usr/local/lib/python3.8/dist-packages (from fiona>=1.8->geopandas) (22.1.0)\n",
            "Requirement already satisfied: cligj>=0.5 in /usr/local/lib/python3.8/dist-packages (from fiona>=1.8->geopandas) (0.7.2)\n",
            "Requirement already satisfied: click-plugins>=1.0 in /usr/local/lib/python3.8/dist-packages (from fiona>=1.8->geopandas) (1.1.1)\n",
            "Requirement already satisfied: click>=4.0 in /usr/local/lib/python3.8/dist-packages (from fiona>=1.8->geopandas) (7.1.2)\n",
            "Requirement already satisfied: certifi in /usr/local/lib/python3.8/dist-packages (from fiona>=1.8->geopandas) (2022.9.24)\n",
            "Requirement already satisfied: munch in /usr/local/lib/python3.8/dist-packages (from fiona>=1.8->geopandas) (2.5.0)\n",
            "Requirement already satisfied: setuptools in /usr/local/lib/python3.8/dist-packages (from fiona>=1.8->geopandas) (57.4.0)\n",
            "Requirement already satisfied: six>=1.7 in /usr/local/lib/python3.8/dist-packages (from fiona>=1.8->geopandas) (1.15.0)\n",
            "Requirement already satisfied: numpy>=1.17.3 in /usr/local/lib/python3.8/dist-packages (from pandas>=1.0.0->geopandas) (1.21.6)\n",
            "Requirement already satisfied: pytz>=2017.3 in /usr/local/lib/python3.8/dist-packages (from pandas>=1.0.0->geopandas) (2022.6)\n",
            "Requirement already satisfied: python-dateutil>=2.7.3 in /usr/local/lib/python3.8/dist-packages (from pandas>=1.0.0->geopandas) (2.8.2)\n",
            "Requirement already satisfied: pyparsing!=3.0.5,>=2.0.2 in /usr/local/lib/python3.8/dist-packages (from packaging->geopandas) (3.0.9)\n"
          ]
        }
      ]
    },
    {
      "cell_type": "code",
      "execution_count": 16,
      "metadata": {
        "id": "gfr_BidW2626",
        "outputId": "288d1a90-4502-459b-9be6-fa9dd67e0247",
        "colab": {
          "base_uri": "https://localhost:8080/"
        }
      },
      "outputs": [
        {
          "output_type": "stream",
          "name": "stdout",
          "text": [
            "Drive already mounted at /content/drive; to attempt to forcibly remount, call drive.mount(\"/content/drive\", force_remount=True).\n"
          ]
        }
      ],
      "source": [
        "import geopandas as gpd\n",
        "import pandas as pd\n",
        "import matplotlib.pyplot as plt\n",
        "import numpy as np\n",
        "\n",
        "#connecting to the google drive and getting the data\n",
        "from google.colab import drive\n",
        "drive.mount('/content/drive')\n",
        "\n",
        "#Files from the drive\n",
        "ct_tree_file = \"/content/drive/MyDrive/Colab Notebooks/ct_trees.csv\"\n",
        "heat_file = \"/content/drive/MyDrive/Colab Notebooks/heat.csv\"\n",
        "\n",
        "ct_tree = pd.read_csv(ct_tree_file)\n",
        "heat = pd.read_csv(heat_file)\n"
      ]
    },
    {
      "cell_type": "code",
      "source": [
        "heat"
      ],
      "metadata": {
        "id": "kQYqvmmd3YZX",
        "outputId": "1ea6ed74-142d-4627-829c-9e8e31aded1c",
        "colab": {
          "base_uri": "https://localhost:8080/",
          "height": 424
        }
      },
      "execution_count": 17,
      "outputs": [
        {
          "output_type": "execute_result",
          "data": {
            "text/plain": [
              "         GEOID10  HVI_SCORE  \\\n",
              "0    42101019000   0.935255   \n",
              "1    42101019100   2.963969   \n",
              "2    42101019200   2.676547   \n",
              "3    42101019700   3.156173   \n",
              "4    42101019800   2.885302   \n",
              "..           ...        ...   \n",
              "369  42101036203  -1.626316   \n",
              "370  42101035302  -0.934188   \n",
              "371  42101036201  -1.094011   \n",
              "372  42101036302  -1.194634   \n",
              "373  42101036900  -3.214504   \n",
              "\n",
              "                                              geometry  num_trees    ave_dbh  \n",
              "0    POLYGON ((-75.0949037530549 40.0104860796399, ...        192  14.661458  \n",
              "1    POLYGON ((-75.1071537566382 40.0167360797785, ...        430  19.905750  \n",
              "2    POLYGON ((-75.1075956511127 39.9996716549479, ...        320  10.568750  \n",
              "3    POLYGON ((-75.1358598309214 40.0119913037377, ...        195  14.174359  \n",
              "4    POLYGON ((-75.1367161109815 40.0080297688381, ...        188  14.486631  \n",
              "..                                                 ...        ...        ...  \n",
              "369  POLYGON ((-74.9648847150604 40.0772810971776, ...        291  13.536082  \n",
              "370  POLYGON ((-74.9875706652257 40.0758346996955, ...        168   1.476190  \n",
              "371  POLYGON ((-74.9849887222353 40.0745340963154, ...        161  15.776398  \n",
              "372  POLYGON ((-74.9798960441206 40.0938200532625, ...         76  17.210526  \n",
              "373  POLYGON ((-75.1894670636636 39.9452540077135, ...        694   6.449568  \n",
              "\n",
              "[374 rows x 5 columns]"
            ],
            "text/html": [
              "\n",
              "  <div id=\"df-8321aaa0-3ea5-4d33-b093-2cd7a680a87b\">\n",
              "    <div class=\"colab-df-container\">\n",
              "      <div>\n",
              "<style scoped>\n",
              "    .dataframe tbody tr th:only-of-type {\n",
              "        vertical-align: middle;\n",
              "    }\n",
              "\n",
              "    .dataframe tbody tr th {\n",
              "        vertical-align: top;\n",
              "    }\n",
              "\n",
              "    .dataframe thead th {\n",
              "        text-align: right;\n",
              "    }\n",
              "</style>\n",
              "<table border=\"1\" class=\"dataframe\">\n",
              "  <thead>\n",
              "    <tr style=\"text-align: right;\">\n",
              "      <th></th>\n",
              "      <th>GEOID10</th>\n",
              "      <th>HVI_SCORE</th>\n",
              "      <th>geometry</th>\n",
              "      <th>num_trees</th>\n",
              "      <th>ave_dbh</th>\n",
              "    </tr>\n",
              "  </thead>\n",
              "  <tbody>\n",
              "    <tr>\n",
              "      <th>0</th>\n",
              "      <td>42101019000</td>\n",
              "      <td>0.935255</td>\n",
              "      <td>POLYGON ((-75.0949037530549 40.0104860796399, ...</td>\n",
              "      <td>192</td>\n",
              "      <td>14.661458</td>\n",
              "    </tr>\n",
              "    <tr>\n",
              "      <th>1</th>\n",
              "      <td>42101019100</td>\n",
              "      <td>2.963969</td>\n",
              "      <td>POLYGON ((-75.1071537566382 40.0167360797785, ...</td>\n",
              "      <td>430</td>\n",
              "      <td>19.905750</td>\n",
              "    </tr>\n",
              "    <tr>\n",
              "      <th>2</th>\n",
              "      <td>42101019200</td>\n",
              "      <td>2.676547</td>\n",
              "      <td>POLYGON ((-75.1075956511127 39.9996716549479, ...</td>\n",
              "      <td>320</td>\n",
              "      <td>10.568750</td>\n",
              "    </tr>\n",
              "    <tr>\n",
              "      <th>3</th>\n",
              "      <td>42101019700</td>\n",
              "      <td>3.156173</td>\n",
              "      <td>POLYGON ((-75.1358598309214 40.0119913037377, ...</td>\n",
              "      <td>195</td>\n",
              "      <td>14.174359</td>\n",
              "    </tr>\n",
              "    <tr>\n",
              "      <th>4</th>\n",
              "      <td>42101019800</td>\n",
              "      <td>2.885302</td>\n",
              "      <td>POLYGON ((-75.1367161109815 40.0080297688381, ...</td>\n",
              "      <td>188</td>\n",
              "      <td>14.486631</td>\n",
              "    </tr>\n",
              "    <tr>\n",
              "      <th>...</th>\n",
              "      <td>...</td>\n",
              "      <td>...</td>\n",
              "      <td>...</td>\n",
              "      <td>...</td>\n",
              "      <td>...</td>\n",
              "    </tr>\n",
              "    <tr>\n",
              "      <th>369</th>\n",
              "      <td>42101036203</td>\n",
              "      <td>-1.626316</td>\n",
              "      <td>POLYGON ((-74.9648847150604 40.0772810971776, ...</td>\n",
              "      <td>291</td>\n",
              "      <td>13.536082</td>\n",
              "    </tr>\n",
              "    <tr>\n",
              "      <th>370</th>\n",
              "      <td>42101035302</td>\n",
              "      <td>-0.934188</td>\n",
              "      <td>POLYGON ((-74.9875706652257 40.0758346996955, ...</td>\n",
              "      <td>168</td>\n",
              "      <td>1.476190</td>\n",
              "    </tr>\n",
              "    <tr>\n",
              "      <th>371</th>\n",
              "      <td>42101036201</td>\n",
              "      <td>-1.094011</td>\n",
              "      <td>POLYGON ((-74.9849887222353 40.0745340963154, ...</td>\n",
              "      <td>161</td>\n",
              "      <td>15.776398</td>\n",
              "    </tr>\n",
              "    <tr>\n",
              "      <th>372</th>\n",
              "      <td>42101036302</td>\n",
              "      <td>-1.194634</td>\n",
              "      <td>POLYGON ((-74.9798960441206 40.0938200532625, ...</td>\n",
              "      <td>76</td>\n",
              "      <td>17.210526</td>\n",
              "    </tr>\n",
              "    <tr>\n",
              "      <th>373</th>\n",
              "      <td>42101036900</td>\n",
              "      <td>-3.214504</td>\n",
              "      <td>POLYGON ((-75.1894670636636 39.9452540077135, ...</td>\n",
              "      <td>694</td>\n",
              "      <td>6.449568</td>\n",
              "    </tr>\n",
              "  </tbody>\n",
              "</table>\n",
              "<p>374 rows × 5 columns</p>\n",
              "</div>\n",
              "      <button class=\"colab-df-convert\" onclick=\"convertToInteractive('df-8321aaa0-3ea5-4d33-b093-2cd7a680a87b')\"\n",
              "              title=\"Convert this dataframe to an interactive table.\"\n",
              "              style=\"display:none;\">\n",
              "        \n",
              "  <svg xmlns=\"http://www.w3.org/2000/svg\" height=\"24px\"viewBox=\"0 0 24 24\"\n",
              "       width=\"24px\">\n",
              "    <path d=\"M0 0h24v24H0V0z\" fill=\"none\"/>\n",
              "    <path d=\"M18.56 5.44l.94 2.06.94-2.06 2.06-.94-2.06-.94-.94-2.06-.94 2.06-2.06.94zm-11 1L8.5 8.5l.94-2.06 2.06-.94-2.06-.94L8.5 2.5l-.94 2.06-2.06.94zm10 10l.94 2.06.94-2.06 2.06-.94-2.06-.94-.94-2.06-.94 2.06-2.06.94z\"/><path d=\"M17.41 7.96l-1.37-1.37c-.4-.4-.92-.59-1.43-.59-.52 0-1.04.2-1.43.59L10.3 9.45l-7.72 7.72c-.78.78-.78 2.05 0 2.83L4 21.41c.39.39.9.59 1.41.59.51 0 1.02-.2 1.41-.59l7.78-7.78 2.81-2.81c.8-.78.8-2.07 0-2.86zM5.41 20L4 18.59l7.72-7.72 1.47 1.35L5.41 20z\"/>\n",
              "  </svg>\n",
              "      </button>\n",
              "      \n",
              "  <style>\n",
              "    .colab-df-container {\n",
              "      display:flex;\n",
              "      flex-wrap:wrap;\n",
              "      gap: 12px;\n",
              "    }\n",
              "\n",
              "    .colab-df-convert {\n",
              "      background-color: #E8F0FE;\n",
              "      border: none;\n",
              "      border-radius: 50%;\n",
              "      cursor: pointer;\n",
              "      display: none;\n",
              "      fill: #1967D2;\n",
              "      height: 32px;\n",
              "      padding: 0 0 0 0;\n",
              "      width: 32px;\n",
              "    }\n",
              "\n",
              "    .colab-df-convert:hover {\n",
              "      background-color: #E2EBFA;\n",
              "      box-shadow: 0px 1px 2px rgba(60, 64, 67, 0.3), 0px 1px 3px 1px rgba(60, 64, 67, 0.15);\n",
              "      fill: #174EA6;\n",
              "    }\n",
              "\n",
              "    [theme=dark] .colab-df-convert {\n",
              "      background-color: #3B4455;\n",
              "      fill: #D2E3FC;\n",
              "    }\n",
              "\n",
              "    [theme=dark] .colab-df-convert:hover {\n",
              "      background-color: #434B5C;\n",
              "      box-shadow: 0px 1px 3px 1px rgba(0, 0, 0, 0.15);\n",
              "      filter: drop-shadow(0px 1px 2px rgba(0, 0, 0, 0.3));\n",
              "      fill: #FFFFFF;\n",
              "    }\n",
              "  </style>\n",
              "\n",
              "      <script>\n",
              "        const buttonEl =\n",
              "          document.querySelector('#df-8321aaa0-3ea5-4d33-b093-2cd7a680a87b button.colab-df-convert');\n",
              "        buttonEl.style.display =\n",
              "          google.colab.kernel.accessAllowed ? 'block' : 'none';\n",
              "\n",
              "        async function convertToInteractive(key) {\n",
              "          const element = document.querySelector('#df-8321aaa0-3ea5-4d33-b093-2cd7a680a87b');\n",
              "          const dataTable =\n",
              "            await google.colab.kernel.invokeFunction('convertToInteractive',\n",
              "                                                     [key], {});\n",
              "          if (!dataTable) return;\n",
              "\n",
              "          const docLinkHtml = 'Like what you see? Visit the ' +\n",
              "            '<a target=\"_blank\" href=https://colab.research.google.com/notebooks/data_table.ipynb>data table notebook</a>'\n",
              "            + ' to learn more about interactive tables.';\n",
              "          element.innerHTML = '';\n",
              "          dataTable['output_type'] = 'display_data';\n",
              "          await google.colab.output.renderOutput(dataTable, element);\n",
              "          const docLink = document.createElement('div');\n",
              "          docLink.innerHTML = docLinkHtml;\n",
              "          element.appendChild(docLink);\n",
              "        }\n",
              "      </script>\n",
              "    </div>\n",
              "  </div>\n",
              "  "
            ]
          },
          "metadata": {},
          "execution_count": 17
        }
      ]
    },
    {
      "cell_type": "code",
      "source": [
        "ct_tree"
      ],
      "metadata": {
        "id": "zyQzfrAs3ZS8",
        "outputId": "f77bad4b-ac63-4dcf-c1ff-e80ec4e1daaa",
        "colab": {
          "base_uri": "https://localhost:8080/",
          "height": 424
        }
      },
      "execution_count": 18,
      "outputs": [
        {
          "output_type": "execute_result",
          "data": {
            "text/plain": [
              "            geoid  num_trees    ave_dbh\n",
              "0             NaN       6983  13.715065\n",
              "1    4.210100e+10       1060   9.975472\n",
              "2    4.210100e+10        252   9.106000\n",
              "3    4.210100e+10       1086   8.928177\n",
              "4    4.210100e+10        253   6.106719\n",
              "..            ...        ...        ...\n",
              "370  4.210104e+10        463  16.328294\n",
              "371  4.210104e+10        310  21.890323\n",
              "372  4.210198e+10       8177  16.799621\n",
              "373  4.210198e+10       1033  21.674103\n",
              "374  4.210198e+10        825  17.225455\n",
              "\n",
              "[375 rows x 3 columns]"
            ],
            "text/html": [
              "\n",
              "  <div id=\"df-40fbf2e0-b8d6-4ef0-b311-d92fc84060c9\">\n",
              "    <div class=\"colab-df-container\">\n",
              "      <div>\n",
              "<style scoped>\n",
              "    .dataframe tbody tr th:only-of-type {\n",
              "        vertical-align: middle;\n",
              "    }\n",
              "\n",
              "    .dataframe tbody tr th {\n",
              "        vertical-align: top;\n",
              "    }\n",
              "\n",
              "    .dataframe thead th {\n",
              "        text-align: right;\n",
              "    }\n",
              "</style>\n",
              "<table border=\"1\" class=\"dataframe\">\n",
              "  <thead>\n",
              "    <tr style=\"text-align: right;\">\n",
              "      <th></th>\n",
              "      <th>geoid</th>\n",
              "      <th>num_trees</th>\n",
              "      <th>ave_dbh</th>\n",
              "    </tr>\n",
              "  </thead>\n",
              "  <tbody>\n",
              "    <tr>\n",
              "      <th>0</th>\n",
              "      <td>NaN</td>\n",
              "      <td>6983</td>\n",
              "      <td>13.715065</td>\n",
              "    </tr>\n",
              "    <tr>\n",
              "      <th>1</th>\n",
              "      <td>4.210100e+10</td>\n",
              "      <td>1060</td>\n",
              "      <td>9.975472</td>\n",
              "    </tr>\n",
              "    <tr>\n",
              "      <th>2</th>\n",
              "      <td>4.210100e+10</td>\n",
              "      <td>252</td>\n",
              "      <td>9.106000</td>\n",
              "    </tr>\n",
              "    <tr>\n",
              "      <th>3</th>\n",
              "      <td>4.210100e+10</td>\n",
              "      <td>1086</td>\n",
              "      <td>8.928177</td>\n",
              "    </tr>\n",
              "    <tr>\n",
              "      <th>4</th>\n",
              "      <td>4.210100e+10</td>\n",
              "      <td>253</td>\n",
              "      <td>6.106719</td>\n",
              "    </tr>\n",
              "    <tr>\n",
              "      <th>...</th>\n",
              "      <td>...</td>\n",
              "      <td>...</td>\n",
              "      <td>...</td>\n",
              "    </tr>\n",
              "    <tr>\n",
              "      <th>370</th>\n",
              "      <td>4.210104e+10</td>\n",
              "      <td>463</td>\n",
              "      <td>16.328294</td>\n",
              "    </tr>\n",
              "    <tr>\n",
              "      <th>371</th>\n",
              "      <td>4.210104e+10</td>\n",
              "      <td>310</td>\n",
              "      <td>21.890323</td>\n",
              "    </tr>\n",
              "    <tr>\n",
              "      <th>372</th>\n",
              "      <td>4.210198e+10</td>\n",
              "      <td>8177</td>\n",
              "      <td>16.799621</td>\n",
              "    </tr>\n",
              "    <tr>\n",
              "      <th>373</th>\n",
              "      <td>4.210198e+10</td>\n",
              "      <td>1033</td>\n",
              "      <td>21.674103</td>\n",
              "    </tr>\n",
              "    <tr>\n",
              "      <th>374</th>\n",
              "      <td>4.210198e+10</td>\n",
              "      <td>825</td>\n",
              "      <td>17.225455</td>\n",
              "    </tr>\n",
              "  </tbody>\n",
              "</table>\n",
              "<p>375 rows × 3 columns</p>\n",
              "</div>\n",
              "      <button class=\"colab-df-convert\" onclick=\"convertToInteractive('df-40fbf2e0-b8d6-4ef0-b311-d92fc84060c9')\"\n",
              "              title=\"Convert this dataframe to an interactive table.\"\n",
              "              style=\"display:none;\">\n",
              "        \n",
              "  <svg xmlns=\"http://www.w3.org/2000/svg\" height=\"24px\"viewBox=\"0 0 24 24\"\n",
              "       width=\"24px\">\n",
              "    <path d=\"M0 0h24v24H0V0z\" fill=\"none\"/>\n",
              "    <path d=\"M18.56 5.44l.94 2.06.94-2.06 2.06-.94-2.06-.94-.94-2.06-.94 2.06-2.06.94zm-11 1L8.5 8.5l.94-2.06 2.06-.94-2.06-.94L8.5 2.5l-.94 2.06-2.06.94zm10 10l.94 2.06.94-2.06 2.06-.94-2.06-.94-.94-2.06-.94 2.06-2.06.94z\"/><path d=\"M17.41 7.96l-1.37-1.37c-.4-.4-.92-.59-1.43-.59-.52 0-1.04.2-1.43.59L10.3 9.45l-7.72 7.72c-.78.78-.78 2.05 0 2.83L4 21.41c.39.39.9.59 1.41.59.51 0 1.02-.2 1.41-.59l7.78-7.78 2.81-2.81c.8-.78.8-2.07 0-2.86zM5.41 20L4 18.59l7.72-7.72 1.47 1.35L5.41 20z\"/>\n",
              "  </svg>\n",
              "      </button>\n",
              "      \n",
              "  <style>\n",
              "    .colab-df-container {\n",
              "      display:flex;\n",
              "      flex-wrap:wrap;\n",
              "      gap: 12px;\n",
              "    }\n",
              "\n",
              "    .colab-df-convert {\n",
              "      background-color: #E8F0FE;\n",
              "      border: none;\n",
              "      border-radius: 50%;\n",
              "      cursor: pointer;\n",
              "      display: none;\n",
              "      fill: #1967D2;\n",
              "      height: 32px;\n",
              "      padding: 0 0 0 0;\n",
              "      width: 32px;\n",
              "    }\n",
              "\n",
              "    .colab-df-convert:hover {\n",
              "      background-color: #E2EBFA;\n",
              "      box-shadow: 0px 1px 2px rgba(60, 64, 67, 0.3), 0px 1px 3px 1px rgba(60, 64, 67, 0.15);\n",
              "      fill: #174EA6;\n",
              "    }\n",
              "\n",
              "    [theme=dark] .colab-df-convert {\n",
              "      background-color: #3B4455;\n",
              "      fill: #D2E3FC;\n",
              "    }\n",
              "\n",
              "    [theme=dark] .colab-df-convert:hover {\n",
              "      background-color: #434B5C;\n",
              "      box-shadow: 0px 1px 3px 1px rgba(0, 0, 0, 0.15);\n",
              "      filter: drop-shadow(0px 1px 2px rgba(0, 0, 0, 0.3));\n",
              "      fill: #FFFFFF;\n",
              "    }\n",
              "  </style>\n",
              "\n",
              "      <script>\n",
              "        const buttonEl =\n",
              "          document.querySelector('#df-40fbf2e0-b8d6-4ef0-b311-d92fc84060c9 button.colab-df-convert');\n",
              "        buttonEl.style.display =\n",
              "          google.colab.kernel.accessAllowed ? 'block' : 'none';\n",
              "\n",
              "        async function convertToInteractive(key) {\n",
              "          const element = document.querySelector('#df-40fbf2e0-b8d6-4ef0-b311-d92fc84060c9');\n",
              "          const dataTable =\n",
              "            await google.colab.kernel.invokeFunction('convertToInteractive',\n",
              "                                                     [key], {});\n",
              "          if (!dataTable) return;\n",
              "\n",
              "          const docLinkHtml = 'Like what you see? Visit the ' +\n",
              "            '<a target=\"_blank\" href=https://colab.research.google.com/notebooks/data_table.ipynb>data table notebook</a>'\n",
              "            + ' to learn more about interactive tables.';\n",
              "          element.innerHTML = '';\n",
              "          dataTable['output_type'] = 'display_data';\n",
              "          await google.colab.output.renderOutput(dataTable, element);\n",
              "          const docLink = document.createElement('div');\n",
              "          docLink.innerHTML = docLinkHtml;\n",
              "          element.appendChild(docLink);\n",
              "        }\n",
              "      </script>\n",
              "    </div>\n",
              "  </div>\n",
              "  "
            ]
          },
          "metadata": {},
          "execution_count": 18
        }
      ]
    },
    {
      "cell_type": "code",
      "source": [],
      "metadata": {
        "id": "M-EomAWY53jp"
      },
      "execution_count": 18,
      "outputs": []
    },
    {
      "cell_type": "code",
      "source": [
        "ax = heat.plot(\"num_trees\", \"HVI_SCORE\", kind=\"scatter\")\n",
        "ax.set_xlabel(\"num_trees\");"
      ],
      "metadata": {
        "id": "qLdrvih6u6_t",
        "outputId": "2a2b1043-d7c6-4e5f-996f-f3f977e7a895",
        "colab": {
          "base_uri": "https://localhost:8080/",
          "height": 280
        }
      },
      "execution_count": 19,
      "outputs": [
        {
          "output_type": "display_data",
          "data": {
            "text/plain": [
              "<Figure size 432x288 with 1 Axes>"
            ],
            "image/png": "[encoded data removed]"
          },
          "metadata": {
            "needs_background": "light"
          }
        }
      ]
    },
    {
      "cell_type": "code",
      "source": [
        "import numpy as np\n",
        "\n",
        "heat[\"log_num_trees\"] = np.log10(heat.num_trees)\n",
        "ax = heat.plot(\"log_num_trees\", \"HVI_SCORE\", kind=\"scatter\")\n",
        "ax.set_xlabel(\"num_trees (log scale)\");"
      ],
      "metadata": {
        "id": "x323NPHHDCXj",
        "outputId": "98997eff-3ccd-4a52-96c2-76184669083f",
        "colab": {
          "base_uri": "https://localhost:8080/",
          "height": 280
        }
      },
      "execution_count": 20,
      "outputs": [
        {
          "output_type": "display_data",
          "data": {
            "text/plain": [
              "<Figure size 432x288 with 1 Axes>"
            ],
            "image/png": "[encoded data removed]"
          },
          "metadata": {
            "needs_background": "light"
          }
        }
      ]
    },
    {
      "cell_type": "code",
      "source": [
        "ax = heat.plot(\"ave_dbh\", \"HVI_SCORE\", kind=\"scatter\")\n",
        "ax.set_xlabel(\"ave_dbh\");"
      ],
      "metadata": {
        "id": "UluPW1vXEfna",
        "outputId": "e90289b7-2a77-457e-fa8d-1961a2e11a6a",
        "colab": {
          "base_uri": "https://localhost:8080/",
          "height": 280
        }
      },
      "execution_count": 21,
      "outputs": [
        {
          "output_type": "display_data",
          "data": {
            "text/plain": [
              "<Figure size 432x288 with 1 Axes>"
            ],
            "image/png": "[encoded data removed]"
          },
          "metadata": {
            "needs_background": "light"
          }
        }
      ]
    },
    {
      "cell_type": "code",
      "source": [
        "heat[\"log_ave_dbh\"] = np.log10(heat.ave_dbh)\n",
        "ax = heat.plot(\"log_ave_dbh\", \"HVI_SCORE\", kind=\"scatter\")\n",
        "ax.set_xlabel(\"ave_dbh (log scale)\");"
      ],
      "metadata": {
        "id": "-cs2vlmPE0kd",
        "outputId": "947e83a9-79cc-4df5-a4ab-6535b24221e5",
        "colab": {
          "base_uri": "https://localhost:8080/",
          "height": 280
        }
      },
      "execution_count": 22,
      "outputs": [
        {
          "output_type": "display_data",
          "data": {
            "text/plain": [
              "<Figure size 432x288 with 1 Axes>"
            ],
            "image/png": "[encoded data removed]"
          },
          "metadata": {
            "needs_background": "light"
          }
        }
      ]
    },
    {
      "cell_type": "code",
      "source": [
        "heat[\"dbh_trees\"] = heat[\"ave_dbh\"] * heat[\"num_trees\"]\n",
        "heat"
      ],
      "metadata": {
        "id": "nCBGqignFJzs",
        "outputId": "1462ef26-f4fc-4b78-b2e8-d8db71676e13",
        "colab": {
          "base_uri": "https://localhost:8080/",
          "height": 424
        }
      },
      "execution_count": 23,
      "outputs": [
        {
          "output_type": "execute_result",
          "data": {
            "text/plain": [
              "         GEOID10  HVI_SCORE  \\\n",
              "0    42101019000   0.935255   \n",
              "1    42101019100   2.963969   \n",
              "2    42101019200   2.676547   \n",
              "3    42101019700   3.156173   \n",
              "4    42101019800   2.885302   \n",
              "..           ...        ...   \n",
              "369  42101036203  -1.626316   \n",
              "370  42101035302  -0.934188   \n",
              "371  42101036201  -1.094011   \n",
              "372  42101036302  -1.194634   \n",
              "373  42101036900  -3.214504   \n",
              "\n",
              "                                              geometry  num_trees    ave_dbh  \\\n",
              "0    POLYGON ((-75.0949037530549 40.0104860796399, ...        192  14.661458   \n",
              "1    POLYGON ((-75.1071537566382 40.0167360797785, ...        430  19.905750   \n",
              "2    POLYGON ((-75.1075956511127 39.9996716549479, ...        320  10.568750   \n",
              "3    POLYGON ((-75.1358598309214 40.0119913037377, ...        195  14.174359   \n",
              "4    POLYGON ((-75.1367161109815 40.0080297688381, ...        188  14.486631   \n",
              "..                                                 ...        ...        ...   \n",
              "369  POLYGON ((-74.9648847150604 40.0772810971776, ...        291  13.536082   \n",
              "370  POLYGON ((-74.9875706652257 40.0758346996955, ...        168   1.476190   \n",
              "371  POLYGON ((-74.9849887222353 40.0745340963154, ...        161  15.776398   \n",
              "372  POLYGON ((-74.9798960441206 40.0938200532625, ...         76  17.210526   \n",
              "373  POLYGON ((-75.1894670636636 39.9452540077135, ...        694   6.449568   \n",
              "\n",
              "     log_num_trees  log_ave_dbh    dbh_trees  \n",
              "0         2.283301     1.166177  2815.000000  \n",
              "1         2.633468     1.298979  8559.472589  \n",
              "2         2.505150     1.024024  3382.000000  \n",
              "3         2.290035     1.151503  2764.000000  \n",
              "4         2.274158     1.160967  2723.486631  \n",
              "..             ...          ...          ...  \n",
              "369       2.463893     1.131493  3939.000000  \n",
              "370       2.225309     0.169142   248.000000  \n",
              "371       2.206826     1.198008  2540.000000  \n",
              "372       1.880814     1.235794  1308.000000  \n",
              "373       2.841359     0.809531  4476.000000  \n",
              "\n",
              "[374 rows x 8 columns]"
            ],
            "text/html": [
              "\n",
              "  <div id=\"df-16bb5800-81de-4e4e-bef6-d181660af6df\">\n",
              "    <div class=\"colab-df-container\">\n",
              "      <div>\n",
              "<style scoped>\n",
              "    .dataframe tbody tr th:only-of-type {\n",
              "        vertical-align: middle;\n",
              "    }\n",
              "\n",
              "    .dataframe tbody tr th {\n",
              "        vertical-align: top;\n",
              "    }\n",
              "\n",
              "    .dataframe thead th {\n",
              "        text-align: right;\n",
              "    }\n",
              "</style>\n",
              "<table border=\"1\" class=\"dataframe\">\n",
              "  <thead>\n",
              "    <tr style=\"text-align: right;\">\n",
              "      <th></th>\n",
              "      <th>GEOID10</th>\n",
              "      <th>HVI_SCORE</th>\n",
              "      <th>geometry</th>\n",
              "      <th>num_trees</th>\n",
              "      <th>ave_dbh</th>\n",
              "      <th>log_num_trees</th>\n",
              "      <th>log_ave_dbh</th>\n",
              "      <th>dbh_trees</th>\n",
              "    </tr>\n",
              "  </thead>\n",
              "  <tbody>\n",
              "    <tr>\n",
              "      <th>0</th>\n",
              "      <td>42101019000</td>\n",
              "      <td>0.935255</td>\n",
              "      <td>POLYGON ((-75.0949037530549 40.0104860796399, ...</td>\n",
              "      <td>192</td>\n",
              "      <td>14.661458</td>\n",
              "      <td>2.283301</td>\n",
              "      <td>1.166177</td>\n",
              "      <td>2815.000000</td>\n",
              "    </tr>\n",
              "    <tr>\n",
              "      <th>1</th>\n",
              "      <td>42101019100</td>\n",
              "      <td>2.963969</td>\n",
              "      <td>POLYGON ((-75.1071537566382 40.0167360797785, ...</td>\n",
              "      <td>430</td>\n",
              "      <td>19.905750</td>\n",
              "      <td>2.633468</td>\n",
              "      <td>1.298979</td>\n",
              "      <td>8559.472589</td>\n",
              "    </tr>\n",
              "    <tr>\n",
              "      <th>2</th>\n",
              "      <td>42101019200</td>\n",
              "      <td>2.676547</td>\n",
              "      <td>POLYGON ((-75.1075956511127 39.9996716549479, ...</td>\n",
              "      <td>320</td>\n",
              "      <td>10.568750</td>\n",
              "      <td>2.505150</td>\n",
              "      <td>1.024024</td>\n",
              "      <td>3382.000000</td>\n",
              "    </tr>\n",
              "    <tr>\n",
              "      <th>3</th>\n",
              "      <td>42101019700</td>\n",
              "      <td>3.156173</td>\n",
              "      <td>POLYGON ((-75.1358598309214 40.0119913037377, ...</td>\n",
              "      <td>195</td>\n",
              "      <td>14.174359</td>\n",
              "      <td>2.290035</td>\n",
              "      <td>1.151503</td>\n",
              "      <td>2764.000000</td>\n",
              "    </tr>\n",
              "    <tr>\n",
              "      <th>4</th>\n",
              "      <td>42101019800</td>\n",
              "      <td>2.885302</td>\n",
              "      <td>POLYGON ((-75.1367161109815 40.0080297688381, ...</td>\n",
              "      <td>188</td>\n",
              "      <td>14.486631</td>\n",
              "      <td>2.274158</td>\n",
              "      <td>1.160967</td>\n",
              "      <td>2723.486631</td>\n",
              "    </tr>\n",
              "    <tr>\n",
              "      <th>...</th>\n",
              "      <td>...</td>\n",
              "      <td>...</td>\n",
              "      <td>...</td>\n",
              "      <td>...</td>\n",
              "      <td>...</td>\n",
              "      <td>...</td>\n",
              "      <td>...</td>\n",
              "      <td>...</td>\n",
              "    </tr>\n",
              "    <tr>\n",
              "      <th>369</th>\n",
              "      <td>42101036203</td>\n",
              "      <td>-1.626316</td>\n",
              "      <td>POLYGON ((-74.9648847150604 40.0772810971776, ...</td>\n",
              "      <td>291</td>\n",
              "      <td>13.536082</td>\n",
              "      <td>2.463893</td>\n",
              "      <td>1.131493</td>\n",
              "      <td>3939.000000</td>\n",
              "    </tr>\n",
              "    <tr>\n",
              "      <th>370</th>\n",
              "      <td>42101035302</td>\n",
              "      <td>-0.934188</td>\n",
              "      <td>POLYGON ((-74.9875706652257 40.0758346996955, ...</td>\n",
              "      <td>168</td>\n",
              "      <td>1.476190</td>\n",
              "      <td>2.225309</td>\n",
              "      <td>0.169142</td>\n",
              "      <td>248.000000</td>\n",
              "    </tr>\n",
              "    <tr>\n",
              "      <th>371</th>\n",
              "      <td>42101036201</td>\n",
              "      <td>-1.094011</td>\n",
              "      <td>POLYGON ((-74.9849887222353 40.0745340963154, ...</td>\n",
              "      <td>161</td>\n",
              "      <td>15.776398</td>\n",
              "      <td>2.206826</td>\n",
              "      <td>1.198008</td>\n",
              "      <td>2540.000000</td>\n",
              "    </tr>\n",
              "    <tr>\n",
              "      <th>372</th>\n",
              "      <td>42101036302</td>\n",
              "      <td>-1.194634</td>\n",
              "      <td>POLYGON ((-74.9798960441206 40.0938200532625, ...</td>\n",
              "      <td>76</td>\n",
              "      <td>17.210526</td>\n",
              "      <td>1.880814</td>\n",
              "      <td>1.235794</td>\n",
              "      <td>1308.000000</td>\n",
              "    </tr>\n",
              "    <tr>\n",
              "      <th>373</th>\n",
              "      <td>42101036900</td>\n",
              "      <td>-3.214504</td>\n",
              "      <td>POLYGON ((-75.1894670636636 39.9452540077135, ...</td>\n",
              "      <td>694</td>\n",
              "      <td>6.449568</td>\n",
              "      <td>2.841359</td>\n",
              "      <td>0.809531</td>\n",
              "      <td>4476.000000</td>\n",
              "    </tr>\n",
              "  </tbody>\n",
              "</table>\n",
              "<p>374 rows × 8 columns</p>\n",
              "</div>\n",
              "      <button class=\"colab-df-convert\" onclick=\"convertToInteractive('df-16bb5800-81de-4e4e-bef6-d181660af6df')\"\n",
              "              title=\"Convert this dataframe to an interactive table.\"\n",
              "              style=\"display:none;\">\n",
              "        \n",
              "  <svg xmlns=\"http://www.w3.org/2000/svg\" height=\"24px\"viewBox=\"0 0 24 24\"\n",
              "       width=\"24px\">\n",
              "    <path d=\"M0 0h24v24H0V0z\" fill=\"none\"/>\n",
              "    <path d=\"M18.56 5.44l.94 2.06.94-2.06 2.06-.94-2.06-.94-.94-2.06-.94 2.06-2.06.94zm-11 1L8.5 8.5l.94-2.06 2.06-.94-2.06-.94L8.5 2.5l-.94 2.06-2.06.94zm10 10l.94 2.06.94-2.06 2.06-.94-2.06-.94-.94-2.06-.94 2.06-2.06.94z\"/><path d=\"M17.41 7.96l-1.37-1.37c-.4-.4-.92-.59-1.43-.59-.52 0-1.04.2-1.43.59L10.3 9.45l-7.72 7.72c-.78.78-.78 2.05 0 2.83L4 21.41c.39.39.9.59 1.41.59.51 0 1.02-.2 1.41-.59l7.78-7.78 2.81-2.81c.8-.78.8-2.07 0-2.86zM5.41 20L4 18.59l7.72-7.72 1.47 1.35L5.41 20z\"/>\n",
              "  </svg>\n",
              "      </button>\n",
              "      \n",
              "  <style>\n",
              "    .colab-df-container {\n",
              "      display:flex;\n",
              "      flex-wrap:wrap;\n",
              "      gap: 12px;\n",
              "    }\n",
              "\n",
              "    .colab-df-convert {\n",
              "      background-color: #E8F0FE;\n",
              "      border: none;\n",
              "      border-radius: 50%;\n",
              "      cursor: pointer;\n",
              "      display: none;\n",
              "      fill: #1967D2;\n",
              "      height: 32px;\n",
              "      padding: 0 0 0 0;\n",
              "      width: 32px;\n",
              "    }\n",
              "\n",
              "    .colab-df-convert:hover {\n",
              "      background-color: #E2EBFA;\n",
              "      box-shadow: 0px 1px 2px rgba(60, 64, 67, 0.3), 0px 1px 3px 1px rgba(60, 64, 67, 0.15);\n",
              "      fill: #174EA6;\n",
              "    }\n",
              "\n",
              "    [theme=dark] .colab-df-convert {\n",
              "      background-color: #3B4455;\n",
              "      fill: #D2E3FC;\n",
              "    }\n",
              "\n",
              "    [theme=dark] .colab-df-convert:hover {\n",
              "      background-color: #434B5C;\n",
              "      box-shadow: 0px 1px 3px 1px rgba(0, 0, 0, 0.15);\n",
              "      filter: drop-shadow(0px 1px 2px rgba(0, 0, 0, 0.3));\n",
              "      fill: #FFFFFF;\n",
              "    }\n",
              "  </style>\n",
              "\n",
              "      <script>\n",
              "        const buttonEl =\n",
              "          document.querySelector('#df-16bb5800-81de-4e4e-bef6-d181660af6df button.colab-df-convert');\n",
              "        buttonEl.style.display =\n",
              "          google.colab.kernel.accessAllowed ? 'block' : 'none';\n",
              "\n",
              "        async function convertToInteractive(key) {\n",
              "          const element = document.querySelector('#df-16bb5800-81de-4e4e-bef6-d181660af6df');\n",
              "          const dataTable =\n",
              "            await google.colab.kernel.invokeFunction('convertToInteractive',\n",
              "                                                     [key], {});\n",
              "          if (!dataTable) return;\n",
              "\n",
              "          const docLinkHtml = 'Like what you see? Visit the ' +\n",
              "            '<a target=\"_blank\" href=https://colab.research.google.com/notebooks/data_table.ipynb>data table notebook</a>'\n",
              "            + ' to learn more about interactive tables.';\n",
              "          element.innerHTML = '';\n",
              "          dataTable['output_type'] = 'display_data';\n",
              "          await google.colab.output.renderOutput(dataTable, element);\n",
              "          const docLink = document.createElement('div');\n",
              "          docLink.innerHTML = docLinkHtml;\n",
              "          element.appendChild(docLink);\n",
              "        }\n",
              "      </script>\n",
              "    </div>\n",
              "  </div>\n",
              "  "
            ]
          },
          "metadata": {},
          "execution_count": 23
        }
      ]
    },
    {
      "cell_type": "code",
      "source": [
        "ax = heat.plot(\"dbh_trees\", \"HVI_SCORE\", kind=\"scatter\")\n",
        "ax.set_xlabel(\"dbh_trees\");"
      ],
      "metadata": {
        "id": "nyAKx_0HFrV0",
        "outputId": "1b4a3bcf-d8d5-4a12-c920-00e947bb3763",
        "colab": {
          "base_uri": "https://localhost:8080/",
          "height": 280
        }
      },
      "execution_count": 24,
      "outputs": [
        {
          "output_type": "display_data",
          "data": {
            "text/plain": [
              "<Figure size 432x288 with 1 Axes>"
            ],
            "image/png": "[encoded data removed]"
          },
          "metadata": {
            "needs_background": "light"
          }
        }
      ]
    },
    {
      "cell_type": "code",
      "source": [
        "heat[\"log_dbh_trees\"] = np.log10(heat.dbh_trees)\n",
        "ax = heat.plot(\"log_dbh_trees\", \"HVI_SCORE\", kind=\"scatter\")\n",
        "ax.set_xlabel(\"dbh_trees (log scale)\");"
      ],
      "metadata": {
        "id": "lxVoz4WRF5BV",
        "outputId": "e38e7e70-56e2-4c52-e9dd-ce632fff4d85",
        "colab": {
          "base_uri": "https://localhost:8080/",
          "height": 280
        }
      },
      "execution_count": 25,
      "outputs": [
        {
          "output_type": "display_data",
          "data": {
            "text/plain": [
              "<Figure size 432x288 with 1 Axes>"
            ],
            "image/png": "[encoded data removed]"
          },
          "metadata": {
            "needs_background": "light"
          }
        }
      ]
    },
    {
      "cell_type": "code",
      "source": [
        "import seaborn as sns\n",
        "sns.regplot(heat['log_dbh_trees'], heat['HVI_SCORE']);"
      ],
      "metadata": {
        "id": "Q07ZDDO_GmZI",
        "outputId": "42aa92ec-ee30-420c-a298-003525bcd562",
        "colab": {
          "base_uri": "https://localhost:8080/",
          "height": 335
        }
      },
      "execution_count": 26,
      "outputs": [
        {
          "output_type": "stream",
          "name": "stderr",
          "text": [
            "/usr/local/lib/python3.8/dist-packages/seaborn/_decorators.py:36: FutureWarning: Pass the following variables as keyword args: x, y. From version 0.12, the only valid positional argument will be `data`, and passing other arguments without an explicit keyword will result in an error or misinterpretation.\n",
            "  warnings.warn(\n"
          ]
        },
        {
          "output_type": "display_data",
          "data": {
            "text/plain": [
              "<Figure size 432x288 with 1 Axes>"
            ],
            "image/png": "[encoded data removed]"
          },
          "metadata": {
            "needs_background": "light"
          }
        }
      ]
    },
    {
      "cell_type": "code",
      "source": [
        "import seaborn as sns\n",
        "new = heat[heat['dbh_trees']<20000]\n",
        "\n",
        "sns.regplot(new[\"dbh_trees\"], new['HVI_SCORE']);"
      ],
      "metadata": {
        "id": "DL9LwqMRO1In",
        "outputId": "da956db0-4717-478a-dd61-2016923e7a29",
        "colab": {
          "base_uri": "https://localhost:8080/",
          "height": 335
        }
      },
      "execution_count": 27,
      "outputs": [
        {
          "output_type": "stream",
          "name": "stderr",
          "text": [
            "/usr/local/lib/python3.8/dist-packages/seaborn/_decorators.py:36: FutureWarning: Pass the following variables as keyword args: x, y. From version 0.12, the only valid positional argument will be `data`, and passing other arguments without an explicit keyword will result in an error or misinterpretation.\n",
            "  warnings.warn(\n"
          ]
        },
        {
          "output_type": "display_data",
          "data": {
            "text/plain": [
              "<Figure size 432x288 with 1 Axes>"
            ],
            "image/png": "[encoded data removed]"
          },
          "metadata": {
            "needs_background": "light"
          }
        }
      ]
    },
    {
      "cell_type": "code",
      "source": [
        "\n",
        "import statsmodels.api as sma\n",
        "X = sma.add_constant(heat[\"ave_dbh\"])\n",
        "result = sma.OLS(endog=heat[\"HVI_SCORE\"], exog=X).fit()\n"
      ],
      "metadata": {
        "id": "vprSPO0mzsEO",
        "outputId": "d4873e30-1042-45a4-c05b-f5de8a3c7af9",
        "colab": {
          "base_uri": "https://localhost:8080/"
        }
      },
      "execution_count": 28,
      "outputs": [
        {
          "output_type": "stream",
          "name": "stderr",
          "text": [
            "/usr/local/lib/python3.8/dist-packages/statsmodels/tsa/tsatools.py:142: FutureWarning: In a future version of pandas all arguments of concat except for the argument 'objs' will be keyword-only\n",
            "  x = pd.concat(x[::order], 1)\n"
          ]
        }
      ]
    },
    {
      "cell_type": "code",
      "source": [
        "result.summary()"
      ],
      "metadata": {
        "id": "apVGk6GS8EKv",
        "outputId": "9e54c973-0992-44c8-df3c-b978b9b21e13",
        "colab": {
          "base_uri": "https://localhost:8080/",
          "height": 452
        }
      },
      "execution_count": 29,
      "outputs": [
        {
          "output_type": "execute_result",
          "data": {
            "text/plain": [
              "<class 'statsmodels.iolib.summary.Summary'>\n",
              "\"\"\"\n",
              "                            OLS Regression Results                            \n",
              "==============================================================================\n",
              "Dep. Variable:              HVI_SCORE   R-squared:                       0.001\n",
              "Model:                            OLS   Adj. R-squared:                 -0.002\n",
              "Method:                 Least Squares   F-statistic:                    0.3025\n",
              "Date:                Sat, 03 Dec 2022   Prob (F-statistic):              0.583\n",
              "Time:                        17:25:33   Log-Likelihood:                -788.49\n",
              "No. Observations:                 374   AIC:                             1581.\n",
              "Df Residuals:                     372   BIC:                             1589.\n",
              "Df Model:                           1                                         \n",
              "Covariance Type:            nonrobust                                         \n",
              "==============================================================================\n",
              "                 coef    std err          t      P>|t|      [0.025      0.975]\n",
              "------------------------------------------------------------------------------\n",
              "const         -0.1544      0.322     -0.480      0.632      -0.787       0.478\n",
              "ave_dbh        0.0130      0.024      0.550      0.583      -0.033       0.059\n",
              "==============================================================================\n",
              "Omnibus:                        2.419   Durbin-Watson:                   1.195\n",
              "Prob(Omnibus):                  0.298   Jarque-Bera (JB):                2.181\n",
              "Skew:                          -0.099   Prob(JB):                        0.336\n",
              "Kurtosis:                       2.682   Cond. No.                         42.7\n",
              "==============================================================================\n",
              "\n",
              "Notes:\n",
              "[1] Standard Errors assume that the covariance matrix of the errors is correctly specified.\n",
              "\"\"\""
            ],
            "text/html": [
              "<table class=\"simpletable\">\n",
              "<caption>OLS Regression Results</caption>\n",
              "<tr>\n",
              "  <th>Dep. Variable:</th>        <td>HVI_SCORE</td>    <th>  R-squared:         </th> <td>   0.001</td>\n",
              "</tr>\n",
              "<tr>\n",
              "  <th>Model:</th>                   <td>OLS</td>       <th>  Adj. R-squared:    </th> <td>  -0.002</td>\n",
              "</tr>\n",
              "<tr>\n",
              "  <th>Method:</th>             <td>Least Squares</td>  <th>  F-statistic:       </th> <td>  0.3025</td>\n",
              "</tr>\n",
              "<tr>\n",
              "  <th>Date:</th>             <td>Sat, 03 Dec 2022</td> <th>  Prob (F-statistic):</th>  <td> 0.583</td> \n",
              "</tr>\n",
              "<tr>\n",
              "  <th>Time:</th>                 <td>17:25:33</td>     <th>  Log-Likelihood:    </th> <td> -788.49</td>\n",
              "</tr>\n",
              "<tr>\n",
              "  <th>No. Observations:</th>      <td>   374</td>      <th>  AIC:               </th> <td>   1581.</td>\n",
              "</tr>\n",
              "<tr>\n",
              "  <th>Df Residuals:</th>          <td>   372</td>      <th>  BIC:               </th> <td>   1589.</td>\n",
              "</tr>\n",
              "<tr>\n",
              "  <th>Df Model:</th>              <td>     1</td>      <th>                     </th>     <td> </td>   \n",
              "</tr>\n",
              "<tr>\n",
              "  <th>Covariance Type:</th>      <td>nonrobust</td>    <th>                     </th>     <td> </td>   \n",
              "</tr>\n",
              "</table>\n",
              "<table class=\"simpletable\">\n",
              "<tr>\n",
              "     <td></td>        <th>coef</th>     <th>std err</th>      <th>t</th>      <th>P>|t|</th>  <th>[0.025</th>    <th>0.975]</th>  \n",
              "</tr>\n",
              "<tr>\n",
              "  <th>const</th>   <td>   -0.1544</td> <td>    0.322</td> <td>   -0.480</td> <td> 0.632</td> <td>   -0.787</td> <td>    0.478</td>\n",
              "</tr>\n",
              "<tr>\n",
              "  <th>ave_dbh</th> <td>    0.0130</td> <td>    0.024</td> <td>    0.550</td> <td> 0.583</td> <td>   -0.033</td> <td>    0.059</td>\n",
              "</tr>\n",
              "</table>\n",
              "<table class=\"simpletable\">\n",
              "<tr>\n",
              "  <th>Omnibus:</th>       <td> 2.419</td> <th>  Durbin-Watson:     </th> <td>   1.195</td>\n",
              "</tr>\n",
              "<tr>\n",
              "  <th>Prob(Omnibus):</th> <td> 0.298</td> <th>  Jarque-Bera (JB):  </th> <td>   2.181</td>\n",
              "</tr>\n",
              "<tr>\n",
              "  <th>Skew:</th>          <td>-0.099</td> <th>  Prob(JB):          </th> <td>   0.336</td>\n",
              "</tr>\n",
              "<tr>\n",
              "  <th>Kurtosis:</th>      <td> 2.682</td> <th>  Cond. No.          </th> <td>    42.7</td>\n",
              "</tr>\n",
              "</table><br/><br/>Notes:<br/>[1] Standard Errors assume that the covariance matrix of the errors is correctly specified."
            ]
          },
          "metadata": {},
          "execution_count": 29
        }
      ]
    },
    {
      "cell_type": "code",
      "source": [
        "X"
      ],
      "metadata": {
        "id": "DO8dHTZj8H8h",
        "outputId": "236a26fe-5ab7-45ac-e880-c285da2efd83",
        "colab": {
          "base_uri": "https://localhost:8080/",
          "height": 424
        }
      },
      "execution_count": 30,
      "outputs": [
        {
          "output_type": "execute_result",
          "data": {
            "text/plain": [
              "     const    ave_dbh\n",
              "0      1.0  14.661458\n",
              "1      1.0  19.905750\n",
              "2      1.0  10.568750\n",
              "3      1.0  14.174359\n",
              "4      1.0  14.486631\n",
              "..     ...        ...\n",
              "369    1.0  13.536082\n",
              "370    1.0   1.476190\n",
              "371    1.0  15.776398\n",
              "372    1.0  17.210526\n",
              "373    1.0   6.449568\n",
              "\n",
              "[374 rows x 2 columns]"
            ],
            "text/html": [
              "\n",
              "  <div id=\"df-79b18824-da74-4235-871c-125d8772e805\">\n",
              "    <div class=\"colab-df-container\">\n",
              "      <div>\n",
              "<style scoped>\n",
              "    .dataframe tbody tr th:only-of-type {\n",
              "        vertical-align: middle;\n",
              "    }\n",
              "\n",
              "    .dataframe tbody tr th {\n",
              "        vertical-align: top;\n",
              "    }\n",
              "\n",
              "    .dataframe thead th {\n",
              "        text-align: right;\n",
              "    }\n",
              "</style>\n",
              "<table border=\"1\" class=\"dataframe\">\n",
              "  <thead>\n",
              "    <tr style=\"text-align: right;\">\n",
              "      <th></th>\n",
              "      <th>const</th>\n",
              "      <th>ave_dbh</th>\n",
              "    </tr>\n",
              "  </thead>\n",
              "  <tbody>\n",
              "    <tr>\n",
              "      <th>0</th>\n",
              "      <td>1.0</td>\n",
              "      <td>14.661458</td>\n",
              "    </tr>\n",
              "    <tr>\n",
              "      <th>1</th>\n",
              "      <td>1.0</td>\n",
              "      <td>19.905750</td>\n",
              "    </tr>\n",
              "    <tr>\n",
              "      <th>2</th>\n",
              "      <td>1.0</td>\n",
              "      <td>10.568750</td>\n",
              "    </tr>\n",
              "    <tr>\n",
              "      <th>3</th>\n",
              "      <td>1.0</td>\n",
              "      <td>14.174359</td>\n",
              "    </tr>\n",
              "    <tr>\n",
              "      <th>4</th>\n",
              "      <td>1.0</td>\n",
              "      <td>14.486631</td>\n",
              "    </tr>\n",
              "    <tr>\n",
              "      <th>...</th>\n",
              "      <td>...</td>\n",
              "      <td>...</td>\n",
              "    </tr>\n",
              "    <tr>\n",
              "      <th>369</th>\n",
              "      <td>1.0</td>\n",
              "      <td>13.536082</td>\n",
              "    </tr>\n",
              "    <tr>\n",
              "      <th>370</th>\n",
              "      <td>1.0</td>\n",
              "      <td>1.476190</td>\n",
              "    </tr>\n",
              "    <tr>\n",
              "      <th>371</th>\n",
              "      <td>1.0</td>\n",
              "      <td>15.776398</td>\n",
              "    </tr>\n",
              "    <tr>\n",
              "      <th>372</th>\n",
              "      <td>1.0</td>\n",
              "      <td>17.210526</td>\n",
              "    </tr>\n",
              "    <tr>\n",
              "      <th>373</th>\n",
              "      <td>1.0</td>\n",
              "      <td>6.449568</td>\n",
              "    </tr>\n",
              "  </tbody>\n",
              "</table>\n",
              "<p>374 rows × 2 columns</p>\n",
              "</div>\n",
              "      <button class=\"colab-df-convert\" onclick=\"convertToInteractive('df-79b18824-da74-4235-871c-125d8772e805')\"\n",
              "              title=\"Convert this dataframe to an interactive table.\"\n",
              "              style=\"display:none;\">\n",
              "        \n",
              "  <svg xmlns=\"http://www.w3.org/2000/svg\" height=\"24px\"viewBox=\"0 0 24 24\"\n",
              "       width=\"24px\">\n",
              "    <path d=\"M0 0h24v24H0V0z\" fill=\"none\"/>\n",
              "    <path d=\"M18.56 5.44l.94 2.06.94-2.06 2.06-.94-2.06-.94-.94-2.06-.94 2.06-2.06.94zm-11 1L8.5 8.5l.94-2.06 2.06-.94-2.06-.94L8.5 2.5l-.94 2.06-2.06.94zm10 10l.94 2.06.94-2.06 2.06-.94-2.06-.94-.94-2.06-.94 2.06-2.06.94z\"/><path d=\"M17.41 7.96l-1.37-1.37c-.4-.4-.92-.59-1.43-.59-.52 0-1.04.2-1.43.59L10.3 9.45l-7.72 7.72c-.78.78-.78 2.05 0 2.83L4 21.41c.39.39.9.59 1.41.59.51 0 1.02-.2 1.41-.59l7.78-7.78 2.81-2.81c.8-.78.8-2.07 0-2.86zM5.41 20L4 18.59l7.72-7.72 1.47 1.35L5.41 20z\"/>\n",
              "  </svg>\n",
              "      </button>\n",
              "      \n",
              "  <style>\n",
              "    .colab-df-container {\n",
              "      display:flex;\n",
              "      flex-wrap:wrap;\n",
              "      gap: 12px;\n",
              "    }\n",
              "\n",
              "    .colab-df-convert {\n",
              "      background-color: #E8F0FE;\n",
              "      border: none;\n",
              "      border-radius: 50%;\n",
              "      cursor: pointer;\n",
              "      display: none;\n",
              "      fill: #1967D2;\n",
              "      height: 32px;\n",
              "      padding: 0 0 0 0;\n",
              "      width: 32px;\n",
              "    }\n",
              "\n",
              "    .colab-df-convert:hover {\n",
              "      background-color: #E2EBFA;\n",
              "      box-shadow: 0px 1px 2px rgba(60, 64, 67, 0.3), 0px 1px 3px 1px rgba(60, 64, 67, 0.15);\n",
              "      fill: #174EA6;\n",
              "    }\n",
              "\n",
              "    [theme=dark] .colab-df-convert {\n",
              "      background-color: #3B4455;\n",
              "      fill: #D2E3FC;\n",
              "    }\n",
              "\n",
              "    [theme=dark] .colab-df-convert:hover {\n",
              "      background-color: #434B5C;\n",
              "      box-shadow: 0px 1px 3px 1px rgba(0, 0, 0, 0.15);\n",
              "      filter: drop-shadow(0px 1px 2px rgba(0, 0, 0, 0.3));\n",
              "      fill: #FFFFFF;\n",
              "    }\n",
              "  </style>\n",
              "\n",
              "      <script>\n",
              "        const buttonEl =\n",
              "          document.querySelector('#df-79b18824-da74-4235-871c-125d8772e805 button.colab-df-convert');\n",
              "        buttonEl.style.display =\n",
              "          google.colab.kernel.accessAllowed ? 'block' : 'none';\n",
              "\n",
              "        async function convertToInteractive(key) {\n",
              "          const element = document.querySelector('#df-79b18824-da74-4235-871c-125d8772e805');\n",
              "          const dataTable =\n",
              "            await google.colab.kernel.invokeFunction('convertToInteractive',\n",
              "                                                     [key], {});\n",
              "          if (!dataTable) return;\n",
              "\n",
              "          const docLinkHtml = 'Like what you see? Visit the ' +\n",
              "            '<a target=\"_blank\" href=https://colab.research.google.com/notebooks/data_table.ipynb>data table notebook</a>'\n",
              "            + ' to learn more about interactive tables.';\n",
              "          element.innerHTML = '';\n",
              "          dataTable['output_type'] = 'display_data';\n",
              "          await google.colab.output.renderOutput(dataTable, element);\n",
              "          const docLink = document.createElement('div');\n",
              "          docLink.innerHTML = docLinkHtml;\n",
              "          element.appendChild(docLink);\n",
              "        }\n",
              "      </script>\n",
              "    </div>\n",
              "  </div>\n",
              "  "
            ]
          },
          "metadata": {},
          "execution_count": 30
        }
      ]
    },
    {
      "cell_type": "code",
      "source": [
        "import numpy as np\n",
        "from sklearn.linear_model import LinearRegression\n",
        "\n",
        "X = heat[['ave_dbh', 'num_trees']].values\n",
        "y = heat[[\"HVI_SCORE\"]].values\n",
        "\n",
        "reg = LinearRegression().fit(X,y)\n",
        "reg.score(X,y)"
      ],
      "metadata": {
        "id": "i0nG4QaV8d_c",
        "outputId": "625fe02e-dcc5-4285-853f-2936db39e72e",
        "colab": {
          "base_uri": "https://localhost:8080/"
        }
      },
      "execution_count": 31,
      "outputs": [
        {
          "output_type": "execute_result",
          "data": {
            "text/plain": [
              "0.1109468053920648"
            ]
          },
          "metadata": {},
          "execution_count": 31
        }
      ]
    },
    {
      "cell_type": "code",
      "source": [
        "reg.coef_"
      ],
      "metadata": {
        "id": "Y2-8-YaOHD7u",
        "outputId": "dc8e16e8-22d8-4d49-a634-0b1579f39557",
        "colab": {
          "base_uri": "https://localhost:8080/"
        }
      },
      "execution_count": 32,
      "outputs": [
        {
          "output_type": "execute_result",
          "data": {
            "text/plain": [
              "array([[ 0.01089403, -0.00138394]])"
            ]
          },
          "metadata": {},
          "execution_count": 32
        }
      ]
    },
    {
      "cell_type": "code",
      "source": [
        "reg.intercept_"
      ],
      "metadata": {
        "id": "Mc-9aJ_sHMRK",
        "outputId": "fa87b3f0-7a24-49b8-d0a4-af10707b8436",
        "colab": {
          "base_uri": "https://localhost:8080/"
        }
      },
      "execution_count": 33,
      "outputs": [
        {
          "output_type": "execute_result",
          "data": {
            "text/plain": [
              "array([0.41068175])"
            ]
          },
          "metadata": {},
          "execution_count": 33
        }
      ]
    },
    {
      "cell_type": "code",
      "source": [
        "import numpy as np\n",
        "from sklearn.linear_model import LinearRegression\n",
        "\n",
        "X = heat[['num_trees']].values\n",
        "y = heat[[\"HVI_SCORE\"]].values\n",
        "\n",
        "reg = LinearRegression().fit(X,y)\n",
        "reg.score(X,y)"
      ],
      "metadata": {
        "id": "ptimbXHRK0S_",
        "outputId": "b2f89480-c3fa-480e-c26e-d77d515867a9",
        "colab": {
          "base_uri": "https://localhost:8080/"
        }
      },
      "execution_count": 34,
      "outputs": [
        {
          "output_type": "execute_result",
          "data": {
            "text/plain": [
              "0.11037315883795362"
            ]
          },
          "metadata": {},
          "execution_count": 34
        }
      ]
    },
    {
      "cell_type": "code",
      "source": [
        "reg.get_params()"
      ],
      "metadata": {
        "id": "rHV2-rgnLI7I",
        "outputId": "cb95be4b-f9b8-478d-d5f2-06f329717bc7",
        "colab": {
          "base_uri": "https://localhost:8080/"
        }
      },
      "execution_count": 35,
      "outputs": [
        {
          "output_type": "execute_result",
          "data": {
            "text/plain": [
              "{'copy_X': True,\n",
              " 'fit_intercept': True,\n",
              " 'n_jobs': None,\n",
              " 'normalize': 'deprecated',\n",
              " 'positive': False}"
            ]
          },
          "metadata": {},
          "execution_count": 35
        }
      ]
    },
    {
      "cell_type": "code",
      "source": [
        "reg.score(X,y,sample_weight=None)"
      ],
      "metadata": {
        "id": "LET8wDexLbmW",
        "outputId": "15fe026a-00b0-4367-8451-7736830336f5",
        "colab": {
          "base_uri": "https://localhost:8080/"
        }
      },
      "execution_count": 36,
      "outputs": [
        {
          "output_type": "execute_result",
          "data": {
            "text/plain": [
              "0.11037315883795362"
            ]
          },
          "metadata": {},
          "execution_count": 36
        }
      ]
    },
    {
      "cell_type": "code",
      "source": [
        "X = heat[['log_dbh_trees', 'HVI_SCORE']].values\n",
        "y = heat[[\"HVI_SCORE\"]].values\n",
        "#heat['HVI_SCORE'].values"
      ],
      "metadata": {
        "id": "jehXVhXCFgZm"
      },
      "execution_count": 37,
      "outputs": []
    }
  ]
}